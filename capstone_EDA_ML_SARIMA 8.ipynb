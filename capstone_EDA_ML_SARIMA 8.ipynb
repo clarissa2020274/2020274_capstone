{
 "cells": [
  {
   "cell_type": "markdown",
   "id": "b575321b",
   "metadata": {},
   "source": [
    "## MSc Data Analytics - Capstone Project \n",
    "\n",
    "## Predictive Insights in the Coffee Market: Time Series Models for forecasting of coffee in the commodity stock market\n",
    "\n",
    "Student id: 2020274 Clarissa Cardoso\n",
    "\n",
    "\n",
    "### Introduction\n",
    "\n",
    "This capstone project aims to apply different time series models to forecast the prices of coffee in the commodity stock market. Central to this analysis is the ICO Composite Indicator Price (I-CIP), which is a critical benchmark reflecting global coffee market trends. Accurate forecasting of the I-CIP is vital for stakeholders throughout the coffee industry, from producers to investors. The data utilized in this project is sourced from the International Coffee Organization's (ICO) Public Market Information, which provides the I-CIP values free of charge. \n",
    "\n",
    "For the early stages of this experimentation, 1 year worth of data was available to collect, from 01Feb23 to 29Feb24.\n",
    "\n",
    "#### Objectives:\n",
    "\n",
    "- Model Building: Develop and evaluate various time series forecasting models to predict future values of the I-CIP.\n",
    "- Model Assessment: Assess the effectiveness and accuracy of different modeling techniques to capture the dynamic nature of the coffee market.\n",
    "\n",
    "\n",
    "#### Methodology:\n",
    "\n",
    "Between March and April: \n",
    "- Data Collection: gather historical I-CIP data from reliable sources, (spanning multiple years to capture a comprehensive view of market trends. but at least 1 year of data which is available for the time being) \n",
    "- Data Preprocessing: clean and preprocess the data, handling missing values, outliers, data imputation (?) to consistency for modelling\n",
    "- Exploratory Data Analysis (EDA): conduct exploratory analysis to gain insights into the underlying patterns, seasonality, and trends present in the I-CIP data.\n",
    "\n",
    "<br>\n",
    "April/24\n",
    "   \n",
    "- Model Development: build and train various time series forecasting models, including traditional statistical models (e.g., ARIMA/Sarima) and machine learning algorithms (e.g., LSTM neural networks).\n",
    "- Model Evaluation: evaluate the performance of each model using appropriate metrics, such as mean absolute error (MAE) and root mean squared error (RMSE), to determine their predictive accuracy.\n",
    "- Forecasting: generate forecasts for future I-CIP values using the best-performing model(s) and visualize the results to facilitate interpretation and decision-making. \n",
    "    - 5 days = 1 week\n",
    "    - 21 days = 1 month\n",
    "    - 63 days = 3 months (1 quarter)\n",
    "\n",
    "\n",
    "<br>\n",
    "<br>\n",
    "<br><br>\n",
    "<br>\n",
    "<br>\n",
    "<br>\n",
    "<br>\n",
    "<br>\n",
    "<br>\n",
    "\n",
    "\n",
    "\n",
    "\n",
    "\n",
    "\n",
    "       \n",
    "  <mark> considering the I-CIP values are a weighted average of 4 main types of beans commercialised(Colombian Milds,  Other Milds,  Brazilian Naturals, Robustas), how would the diffenret weights present during the eda, and how they could affect the final icip values? </mark>\n",
    "\n",
    "### MODEL EVALUATION METRICS\n",
    "\n",
    "\n",
    "<i>\"To go further with model selection, you will need to define a metric to evaluate your models. A very often used model in forecasting is the Mean Squared Error. This metric measures the error at each point in time and takes the square of it. The average of those squared errors is called the Mean Squared Error. An often-used alternative is the Root Mean Squared Error: the square root of the Mean Squared Error. Another frequently used metric is the Mean Absolute Error: rather than taking the square of each error, it takes the absolute value here. The Mean Absolute Percent Error is a variation on this where the Absolute Error at each point in time is expressed as a percentage of the actual value. This yields a metric that is a percentage, which is very easy to interpret.\" (Joos Korstanje, 2023) <i/>https://neptune.ai/blog/select-model-for-time-series-prediction-task\n",
    "    \n",
    "\n",
    "- MAE\n",
    "- MAPE\n",
    "- RMSE\n",
    "\n",
    "Both mae and rmse are dependent on the scaling of data, meaning all features must be in the same scale, but both are the most common metrics for evalutating model efficiency. For regression problems rmse is the standard metric because it provides a direct way to compare different models and is sensitive to larger errors which is the metric decided to be the main one analysed in this project. MApe on the other hand allows to compare models even if they are in different scales, giving a clear percentage measure for accuracy. Althoough sometimes rmse might get skwed if actual values are really small, which can obscure the error perception and affect final evaluations. "
   ]
  },
  {
   "cell_type": "markdown",
   "id": "66369665",
   "metadata": {},
   "source": [
    "#### Importing required libraries for the project"
   ]
  },
  {
   "cell_type": "code",
   "execution_count": 1,
   "id": "bafbdfd4",
   "metadata": {},
   "outputs": [
    {
     "name": "stdout",
     "output_type": "stream",
     "text": [
      "Keras version: 2.10.0\n",
      "TensorFlow version: 2.10.0\n"
     ]
    }
   ],
   "source": [
    "import keras\n",
    "import tensorflow as tf\n",
    "\n",
    "print(\"Keras version:\", keras.__version__)\n",
    "print(\"TensorFlow version:\", tf.__version__)\n",
    "\n",
    "## The kernel appears to have died. It will restart automatically. \n",
    "## cheking if keras/tensorflow are correclty installed "
   ]
  },
  {
   "cell_type": "code",
   "execution_count": 2,
   "id": "3cbc7b55",
   "metadata": {},
   "outputs": [],
   "source": [
    "#importing libraries\n",
    "import warnings\n",
    "warnings.filterwarnings(\"ignore\")\n",
    "\n",
    "import pandas as pd #dataframes \n",
    "import numpy as np #linear algebra\n",
    "import seaborn as sns #visualization\n",
    "sns.set(color_codes=True)\n",
    "\n",
    "\n",
    "import plotly.express as px\n",
    "import plotly.graph_objects as go\n",
    "\n",
    "\n",
    "import scipy.stats as stats #statistical resources\n",
    "\n",
    "import matplotlib.pyplot as plt #visualisation \n",
    "%matplotlib inline \n",
    "\n",
    "\n",
    "from matplotlib import colors\n",
    "from matplotlib.ticker import PercentFormatter\n",
    "import matplotlib as mpl\n",
    "\n",
    "from sklearn.model_selection import train_test_split # importing function to split the data training and test.\n",
    "from sklearn.preprocessing import MinMaxScaler # Import the MinMaxScaler module from sklearn.preprocessing library\n",
    "from sklearn.linear_model import LinearRegression # importing to performe linear regression. \n",
    "from sklearn.metrics import make_scorer, r2_score # Importing from Metrics module\n",
    "from sklearn.preprocessing import StandardScaler # standardize the data\n",
    "from sklearn import metrics # Metrics module from scikit-learn\n",
    "from sklearn.model_selection import GridSearchCV # importing for hyperparameter tunning\n",
    "from sklearn.metrics import mean_squared_error # importing mse\n",
    "from scipy.stats import shapiro\n",
    "\n",
    "from sklearn.preprocessing import MinMaxScaler\n",
    "from keras.models import Sequential #last update in python causing dead kernel wehn importing keras functions?\n",
    "from keras.layers import Dense, LSTM, Dropout, GRU, Bidirectional\n",
    "from keras.optimizers import SGD\n",
    "import math\n",
    "from math import sqrt\n",
    "from sklearn.metrics import mean_squared_error,mean_absolute_error\n",
    "from sklearn.metrics import mean_absolute_percentage_error\n",
    "from scipy.interpolate import interp1d\n",
    "\n",
    "from sklearn.tree import DecisionTreeRegressor\n",
    "from sklearn.ensemble import RandomForestRegressor\n",
    "from sklearn.svm import SVR\n",
    "from sklearn.ensemble import GradientBoostingRegressor\n",
    "from sklearn.linear_model import LinearRegression\n",
    "\n",
    "import statsmodels.api as sm\n",
    "from statsmodels.tsa.seasonal import seasonal_decompose\n",
    "from statsmodels.tsa.stattools import acf, pacf\n",
    "from statsmodels.graphics.tsaplots import plot_acf, plot_pacf\n"
   ]
  },
  {
   "cell_type": "code",
   "execution_count": null,
   "id": "a34f9102",
   "metadata": {},
   "outputs": [],
   "source": [
    "\n"
   ]
  },
  {
   "cell_type": "markdown",
   "id": "bc991536",
   "metadata": {},
   "source": [
    "### Importing files from os directory"
   ]
  },
  {
   "cell_type": "code",
   "execution_count": 3,
   "id": "6cddbc8c",
   "metadata": {},
   "outputs": [
    {
     "data": {
      "text/plain": [
       "['I-CIP_August_2023.csv',\n",
       " 'I-CIP_September_2023.csv',\n",
       " '.DS_Store',\n",
       " 'I-CIP_April_2023.csv',\n",
       " 'I-CIP_March_2023.csv',\n",
       " 'I-CIP_November_2023.csv',\n",
       " 'I-CIP_Febuary_2024.csv',\n",
       " 'I-CIP_January_2024.csv',\n",
       " 'I-CIP_Febuary_2023.csv',\n",
       " 'I-CIP_October_2023.csv',\n",
       " 'I-CIP_June_2023.csv',\n",
       " 'I-CIP_July_2023.csv',\n",
       " 'I-CIP_December_2023.csv',\n",
       " 'I-CIP_May_2023.csv']"
      ]
     },
     "execution_count": 3,
     "metadata": {},
     "output_type": "execute_result"
    }
   ],
   "source": [
    "import os\n",
    "# Listing all the files in the folder\n",
    "os.listdir(\"icip_2023\") \n",
    "\n",
    "## folder contains the free data available in ICO's website, contains data from Feb/23 to Feb/24"
   ]
  },
  {
   "cell_type": "markdown",
   "id": "57fc6f91",
   "metadata": {},
   "source": [
    "Files are not in cronological orders, will affect the loop for calling the separate csv's, and cant import them  at the same time to concat them in one single dataframe?\n",
    "\n",
    "this means the position of each file in the list is as: \n",
    "\n",
    "1. 'I-CIP_August_2023.csv', [0]\n",
    "2.  'I-CIP_September_2023.csv',[1]\n",
    "3. '.DS_Store',[not considered]\n",
    "4. 'I-CIP_April_2023.csv',[2]\n",
    "5. 'I-CIP_March_2023.csv',[3]\n",
    "6. 'I-CIP_November_2023.csv',[4]\n",
    "7. 'I-CIP_Febuary_2024.csv',[5] \n",
    " \n",
    "\n",
    "....\n",
    " \n"
   ]
  },
  {
   "cell_type": "code",
   "execution_count": 4,
   "id": "a22dab0e",
   "metadata": {},
   "outputs": [],
   "source": [
    "#create for loop to import csv files from the folder with less comands.\n",
    "\n",
    "# create an empty list to store dfs\n",
    "dataframes = []\n",
    "\n",
    "# path to folder where csv files are (in this case same directory)\n",
    "folder_path = \"icip_2023\"\n",
    "\n",
    "for file in os.listdir(folder_path):\n",
    "    if file.endswith(\".csv\"): #consider only csv files, ignore .DS_Store\n",
    "        file_path = os.path.join(folder_path, file) #  Construct the full file path\n",
    "        dataframes.append(pd.read_csv(file_path)) # Read the CSV file and append it to the list"
   ]
  },
  {
   "cell_type": "code",
   "execution_count": 5,
   "id": "d7d43f38",
   "metadata": {},
   "outputs": [
    {
     "data": {
      "text/plain": [
       "13"
      ]
     },
     "execution_count": 5,
     "metadata": {},
     "output_type": "execute_result"
    }
   ],
   "source": [
    "#check the lenght of the directory, how many files exist in the folder\n",
    "len(dataframes)"
   ]
  },
  {
   "cell_type": "markdown",
   "id": "39a9324a",
   "metadata": {},
   "source": [
    "#### Chcking the heading of the files to undertand how features are allocated in this first stage"
   ]
  },
  {
   "cell_type": "code",
   "execution_count": 6,
   "id": "dab5e970",
   "metadata": {},
   "outputs": [
    {
     "data": {
      "text/html": [
       "<div>\n",
       "<style scoped>\n",
       "    .dataframe tbody tr th:only-of-type {\n",
       "        vertical-align: middle;\n",
       "    }\n",
       "\n",
       "    .dataframe tbody tr th {\n",
       "        vertical-align: top;\n",
       "    }\n",
       "\n",
       "    .dataframe thead th {\n",
       "        text-align: right;\n",
       "    }\n",
       "</style>\n",
       "<table border=\"1\" class=\"dataframe\">\n",
       "  <thead>\n",
       "    <tr style=\"text-align: right;\">\n",
       "      <th></th>\n",
       "      <th>Unnamed: 0</th>\n",
       "      <th>Unnamed: 1</th>\n",
       "      <th>Colombian</th>\n",
       "      <th>Unnamed: 3</th>\n",
       "      <th>Brazilian</th>\n",
       "      <th>Unnamed: 5</th>\n",
       "    </tr>\n",
       "  </thead>\n",
       "  <tbody>\n",
       "    <tr>\n",
       "      <th>0</th>\n",
       "      <td>NaN</td>\n",
       "      <td>I-CIP</td>\n",
       "      <td>NaN</td>\n",
       "      <td>Other Milds</td>\n",
       "      <td>NaN</td>\n",
       "      <td>Robustas</td>\n",
       "    </tr>\n",
       "    <tr>\n",
       "      <th>1</th>\n",
       "      <td>NaN</td>\n",
       "      <td>NaN</td>\n",
       "      <td>Milds</td>\n",
       "      <td>NaN</td>\n",
       "      <td>Naturals</td>\n",
       "      <td>NaN</td>\n",
       "    </tr>\n",
       "    <tr>\n",
       "      <th>2</th>\n",
       "      <td>01-Jun</td>\n",
       "      <td>173.56</td>\n",
       "      <td>220.40</td>\n",
       "      <td>215.27</td>\n",
       "      <td>181.78</td>\n",
       "      <td>126.54</td>\n",
       "    </tr>\n",
       "    <tr>\n",
       "      <th>3</th>\n",
       "      <td>02-Jun</td>\n",
       "      <td>175.62</td>\n",
       "      <td>222.41</td>\n",
       "      <td>216.73</td>\n",
       "      <td>181.98</td>\n",
       "      <td>130.57</td>\n",
       "    </tr>\n",
       "    <tr>\n",
       "      <th>4</th>\n",
       "      <td>05-Jun</td>\n",
       "      <td>173.15</td>\n",
       "      <td>219.54</td>\n",
       "      <td>213.37</td>\n",
       "      <td>180.94</td>\n",
       "      <td>127.53</td>\n",
       "    </tr>\n",
       "  </tbody>\n",
       "</table>\n",
       "</div>"
      ],
      "text/plain": [
       "  Unnamed: 0 Unnamed: 1 Colombian   Unnamed: 3 Brazilian Unnamed: 5\n",
       "0        NaN      I-CIP       NaN  Other Milds       NaN   Robustas\n",
       "1        NaN        NaN     Milds          NaN  Naturals        NaN\n",
       "2     01-Jun     173.56    220.40       215.27    181.78     126.54\n",
       "3     02-Jun     175.62    222.41       216.73    181.98     130.57\n",
       "4     05-Jun     173.15    219.54       213.37    180.94     127.53"
      ]
     },
     "execution_count": 6,
     "metadata": {},
     "output_type": "execute_result"
    }
   ],
   "source": [
    "#check if order of files correspond with the directory list, testing if loop is working\n",
    "dataframes[9].head()"
   ]
  },
  {
   "cell_type": "code",
   "execution_count": 7,
   "id": "8a9e34be",
   "metadata": {},
   "outputs": [],
   "source": [
    "#define a variable name for each dataset to facilitate data manipulation\n",
    "\n",
    "feb24= dataframes[5]"
   ]
  },
  {
   "cell_type": "code",
   "execution_count": 8,
   "id": "98b70e11",
   "metadata": {},
   "outputs": [
    {
     "name": "stdout",
     "output_type": "stream",
     "text": [
      "<class 'pandas.core.frame.DataFrame'>\n",
      "RangeIndex: 23 entries, 0 to 22\n",
      "Data columns (total 6 columns):\n",
      " #   Column      Non-Null Count  Dtype \n",
      "---  ------      --------------  ----- \n",
      " 0   Unnamed: 0  21 non-null     object\n",
      " 1   Unnamed: 1  22 non-null     object\n",
      " 2   Colombian   22 non-null     object\n",
      " 3   Unnamed: 3  22 non-null     object\n",
      " 4   Brazilian   22 non-null     object\n",
      " 5   Unnamed: 5  22 non-null     object\n",
      "dtypes: object(6)\n",
      "memory usage: 1.2+ KB\n",
      "(23, 6)\n",
      "Unnamed: 0    2\n",
      "Unnamed: 1    1\n",
      "Colombian     1\n",
      "Unnamed: 3    1\n",
      "Brazilian     1\n",
      "Unnamed: 5    1\n",
      "dtype: int64\n"
     ]
    },
    {
     "data": {
      "text/html": [
       "<div>\n",
       "<style scoped>\n",
       "    .dataframe tbody tr th:only-of-type {\n",
       "        vertical-align: middle;\n",
       "    }\n",
       "\n",
       "    .dataframe tbody tr th {\n",
       "        vertical-align: top;\n",
       "    }\n",
       "\n",
       "    .dataframe thead th {\n",
       "        text-align: right;\n",
       "    }\n",
       "</style>\n",
       "<table border=\"1\" class=\"dataframe\">\n",
       "  <thead>\n",
       "    <tr style=\"text-align: right;\">\n",
       "      <th></th>\n",
       "      <th>Unnamed: 0</th>\n",
       "      <th>Unnamed: 1</th>\n",
       "      <th>Colombian</th>\n",
       "      <th>Unnamed: 3</th>\n",
       "      <th>Brazilian</th>\n",
       "      <th>Unnamed: 5</th>\n",
       "    </tr>\n",
       "  </thead>\n",
       "  <tbody>\n",
       "    <tr>\n",
       "      <th>0</th>\n",
       "      <td>NaN</td>\n",
       "      <td>I-CIP</td>\n",
       "      <td>NaN</td>\n",
       "      <td>Other Milds</td>\n",
       "      <td>NaN</td>\n",
       "      <td>Robustas</td>\n",
       "    </tr>\n",
       "    <tr>\n",
       "      <th>1</th>\n",
       "      <td>NaN</td>\n",
       "      <td>NaN</td>\n",
       "      <td>Milds</td>\n",
       "      <td>NaN</td>\n",
       "      <td>Naturals</td>\n",
       "      <td>NaN</td>\n",
       "    </tr>\n",
       "    <tr>\n",
       "      <th>2</th>\n",
       "      <td>01-Feb</td>\n",
       "      <td>185.24</td>\n",
       "      <td>213.15</td>\n",
       "      <td>212.01</td>\n",
       "      <td>190.15</td>\n",
       "      <td>156.09</td>\n",
       "    </tr>\n",
       "    <tr>\n",
       "      <th>3</th>\n",
       "      <td>02-Feb</td>\n",
       "      <td>183.69</td>\n",
       "      <td>212.32</td>\n",
       "      <td>212.94</td>\n",
       "      <td>188.41</td>\n",
       "      <td>153.01</td>\n",
       "    </tr>\n",
       "    <tr>\n",
       "      <th>4</th>\n",
       "      <td>05-Feb</td>\n",
       "      <td>180.93</td>\n",
       "      <td>210.11</td>\n",
       "      <td>209.12</td>\n",
       "      <td>185.69</td>\n",
       "      <td>150.65</td>\n",
       "    </tr>\n",
       "  </tbody>\n",
       "</table>\n",
       "</div>"
      ],
      "text/plain": [
       "  Unnamed: 0 Unnamed: 1 Colombian   Unnamed: 3 Brazilian Unnamed: 5\n",
       "0        NaN      I-CIP       NaN  Other Milds       NaN   Robustas\n",
       "1        NaN        NaN     Milds          NaN  Naturals        NaN\n",
       "2     01-Feb     185.24    213.15       212.01    190.15     156.09\n",
       "3     02-Feb     183.69    212.32       212.94    188.41     153.01\n",
       "4     05-Feb     180.93    210.11       209.12    185.69     150.65"
      ]
     },
     "execution_count": 8,
     "metadata": {},
     "output_type": "execute_result"
    }
   ],
   "source": [
    "#cheack first 5 rows of last dataset in the file corresponds to the most recent values from feb24\n",
    "\n",
    "feb24.info()\n",
    "print(feb24.shape)\n",
    "print(feb24.isnull().sum())\n",
    "feb24.head()"
   ]
  },
  {
   "cell_type": "markdown",
   "id": "adf3d217",
   "metadata": {},
   "source": [
    "importing a random dataset to see how the columsn are presented and try to undersand the data structure in place: a messy header and real data starts fromm third row.\n",
    "\n",
    "First thing to adjust: collumn names and remove NaN values from second row.\n",
    "- from the basic info function we can see the dates are not in correct format (need to convert to DD-MM-AAAA instead of 01-Feb) and all the values are not in int/float format, they are objects.\n",
    "\n",
    "I want to combine bthe data from all csv files into a single dataframe for data manipulation but when importing them as panda df, need to make other adjustments - glob?? (https://stackabuse.com/bytes/importing-multiple-csv-files-into-a-single-dataframe-using-pandas-in-python/)\n",
    "\n",
    "Common Errors as stated by Saturn Cloud (https://saturncloud.io/blog/loading-multiple-csv-files-from-a-folder-into-one-dataframe-a-comprehensive-guide/#1) \n",
    "\n",
    "    Incorrect file path: Not setting the working directory correctly or providing an invalid path to the folder containing the CSV files.\n",
    "\n",
    "    Column mismatch: Assuming all files have the same column names and order. This can lead to errors when merging DataFrames with different structures.\n",
    "\n",
    "\n"
   ]
  },
  {
   "cell_type": "markdown",
   "id": "21de48d9",
   "metadata": {},
   "source": [
    "### Combining all months into the same dataframe\n"
   ]
  },
  {
   "cell_type": "code",
   "execution_count": 9,
   "id": "9834a330",
   "metadata": {},
   "outputs": [
    {
     "name": "stdout",
     "output_type": "stream",
     "text": [
      "    Unnamed: 0 Unnamed: 1 Colombian   Unnamed: 3 Brazilian Unnamed: 5  \\\n",
      "0          NaN      I-CIP       NaN  Other Milds       NaN   Robustas   \n",
      "1          NaN        NaN     Milds          NaN  Naturals        NaN   \n",
      "2       01-Aug     161.70    196.62       197.67    164.03     127.08   \n",
      "3       02-Aug     163.62    198.66       199.72    166.00     128.82   \n",
      "4       03-Aug     161.68    196.28       197.32    163.52     127.77   \n",
      "..         ...        ...       ...          ...       ...        ...   \n",
      "300     25-May        NaN    222.17       217.37    182.38     123.94   \n",
      "301     26-May        NaN    220.39       215.81    180.94     123.98   \n",
      "302     29-May        NaN    220.52       215.05    181.73     124.68   \n",
      "303     30-May        NaN    215.91       210.53    177.23     124.47   \n",
      "304     31-May        NaN    216.84       211.48    178.19     124.45   \n",
      "\n",
      "    ICO Composite  \n",
      "0             NaN  \n",
      "1             NaN  \n",
      "2             NaN  \n",
      "3             NaN  \n",
      "4             NaN  \n",
      "..            ...  \n",
      "300        173.46  \n",
      "301        172.49  \n",
      "302        172.84  \n",
      "303        169.87  \n",
      "304        170.47  \n",
      "\n",
      "[305 rows x 7 columns]\n"
     ]
    }
   ],
   "source": [
    "\n",
    "        \n",
    "### # Concatenate all DataFrames into a single DataFrame and remove null values\n",
    "###merged_df = pd.concat(dataframes, ignore_index=True, dropna=True) could not include dropna in the same line because \n",
    "## concat function doesnt alow this method\n",
    "\n",
    "\n",
    "# Concatenate all DataFrames into a single DataFrame\n",
    "merged_df = pd.concat(dataframes, ignore_index=True)\n",
    "\n",
    "# Remove null values from the concatenated DataFrame\n",
    "#merged_df.dropna(inplace=True) this function removed all values, leaving an emppty df. \n",
    "\n",
    "# Display the merged DataFrame\n",
    "print(merged_df)"
   ]
  },
  {
   "cell_type": "markdown",
   "id": "de18631a",
   "metadata": {},
   "source": [
    "setting dropna=True, any rows with null values will be removed from the concatenated DataFrame. However this function caused an empty dataframe? Also, the files are still not in cronological order, so need to find a way to import them in the correct order. When we remove the dropna function from the merged_df, at the same time the values get misplaced into a new column, which is also not adequate for manipulation."
   ]
  },
  {
   "cell_type": "code",
   "execution_count": 10,
   "id": "a7aee7de",
   "metadata": {},
   "outputs": [
    {
     "data": {
      "text/html": [
       "<div>\n",
       "<style scoped>\n",
       "    .dataframe tbody tr th:only-of-type {\n",
       "        vertical-align: middle;\n",
       "    }\n",
       "\n",
       "    .dataframe tbody tr th {\n",
       "        vertical-align: top;\n",
       "    }\n",
       "\n",
       "    .dataframe thead th {\n",
       "        text-align: right;\n",
       "    }\n",
       "</style>\n",
       "<table border=\"1\" class=\"dataframe\">\n",
       "  <thead>\n",
       "    <tr style=\"text-align: right;\">\n",
       "      <th></th>\n",
       "      <th>Unnamed: 0</th>\n",
       "      <th>Unnamed: 1</th>\n",
       "      <th>Colombian</th>\n",
       "      <th>Unnamed: 3</th>\n",
       "      <th>Brazilian</th>\n",
       "      <th>Unnamed: 5</th>\n",
       "      <th>ICO Composite</th>\n",
       "    </tr>\n",
       "  </thead>\n",
       "  <tbody>\n",
       "    <tr>\n",
       "      <th>0</th>\n",
       "      <td>NaN</td>\n",
       "      <td>I-CIP</td>\n",
       "      <td>NaN</td>\n",
       "      <td>Other Milds</td>\n",
       "      <td>NaN</td>\n",
       "      <td>Robustas</td>\n",
       "      <td>NaN</td>\n",
       "    </tr>\n",
       "    <tr>\n",
       "      <th>1</th>\n",
       "      <td>NaN</td>\n",
       "      <td>NaN</td>\n",
       "      <td>Milds</td>\n",
       "      <td>NaN</td>\n",
       "      <td>Naturals</td>\n",
       "      <td>NaN</td>\n",
       "      <td>NaN</td>\n",
       "    </tr>\n",
       "    <tr>\n",
       "      <th>2</th>\n",
       "      <td>01-Aug</td>\n",
       "      <td>161.70</td>\n",
       "      <td>196.62</td>\n",
       "      <td>197.67</td>\n",
       "      <td>164.03</td>\n",
       "      <td>127.08</td>\n",
       "      <td>NaN</td>\n",
       "    </tr>\n",
       "    <tr>\n",
       "      <th>3</th>\n",
       "      <td>02-Aug</td>\n",
       "      <td>163.62</td>\n",
       "      <td>198.66</td>\n",
       "      <td>199.72</td>\n",
       "      <td>166.00</td>\n",
       "      <td>128.82</td>\n",
       "      <td>NaN</td>\n",
       "    </tr>\n",
       "    <tr>\n",
       "      <th>4</th>\n",
       "      <td>03-Aug</td>\n",
       "      <td>161.68</td>\n",
       "      <td>196.28</td>\n",
       "      <td>197.32</td>\n",
       "      <td>163.52</td>\n",
       "      <td>127.77</td>\n",
       "      <td>NaN</td>\n",
       "    </tr>\n",
       "  </tbody>\n",
       "</table>\n",
       "</div>"
      ],
      "text/plain": [
       "  Unnamed: 0 Unnamed: 1 Colombian   Unnamed: 3 Brazilian Unnamed: 5  \\\n",
       "0        NaN      I-CIP       NaN  Other Milds       NaN   Robustas   \n",
       "1        NaN        NaN     Milds          NaN  Naturals        NaN   \n",
       "2     01-Aug     161.70    196.62       197.67    164.03     127.08   \n",
       "3     02-Aug     163.62    198.66       199.72    166.00     128.82   \n",
       "4     03-Aug     161.68    196.28       197.32    163.52     127.77   \n",
       "\n",
       "  ICO Composite  \n",
       "0           NaN  \n",
       "1           NaN  \n",
       "2           NaN  \n",
       "3           NaN  \n",
       "4           NaN  "
      ]
     },
     "execution_count": 10,
     "metadata": {},
     "output_type": "execute_result"
    }
   ],
   "source": [
    "merged_df.head()"
   ]
  },
  {
   "cell_type": "code",
   "execution_count": 11,
   "id": "7491bc96",
   "metadata": {
    "scrolled": true
   },
   "outputs": [
    {
     "data": {
      "text/html": [
       "<div>\n",
       "<style scoped>\n",
       "    .dataframe tbody tr th:only-of-type {\n",
       "        vertical-align: middle;\n",
       "    }\n",
       "\n",
       "    .dataframe tbody tr th {\n",
       "        vertical-align: top;\n",
       "    }\n",
       "\n",
       "    .dataframe thead th {\n",
       "        text-align: right;\n",
       "    }\n",
       "</style>\n",
       "<table border=\"1\" class=\"dataframe\">\n",
       "  <thead>\n",
       "    <tr style=\"text-align: right;\">\n",
       "      <th></th>\n",
       "      <th>Unnamed: 0</th>\n",
       "      <th>Unnamed: 1</th>\n",
       "      <th>Colombian</th>\n",
       "      <th>Unnamed: 3</th>\n",
       "      <th>Brazilian</th>\n",
       "      <th>Unnamed: 5</th>\n",
       "      <th>ICO Composite</th>\n",
       "    </tr>\n",
       "  </thead>\n",
       "  <tbody>\n",
       "    <tr>\n",
       "      <th>300</th>\n",
       "      <td>25-May</td>\n",
       "      <td>NaN</td>\n",
       "      <td>222.17</td>\n",
       "      <td>217.37</td>\n",
       "      <td>182.38</td>\n",
       "      <td>123.94</td>\n",
       "      <td>173.46</td>\n",
       "    </tr>\n",
       "    <tr>\n",
       "      <th>301</th>\n",
       "      <td>26-May</td>\n",
       "      <td>NaN</td>\n",
       "      <td>220.39</td>\n",
       "      <td>215.81</td>\n",
       "      <td>180.94</td>\n",
       "      <td>123.98</td>\n",
       "      <td>172.49</td>\n",
       "    </tr>\n",
       "    <tr>\n",
       "      <th>302</th>\n",
       "      <td>29-May</td>\n",
       "      <td>NaN</td>\n",
       "      <td>220.52</td>\n",
       "      <td>215.05</td>\n",
       "      <td>181.73</td>\n",
       "      <td>124.68</td>\n",
       "      <td>172.84</td>\n",
       "    </tr>\n",
       "    <tr>\n",
       "      <th>303</th>\n",
       "      <td>30-May</td>\n",
       "      <td>NaN</td>\n",
       "      <td>215.91</td>\n",
       "      <td>210.53</td>\n",
       "      <td>177.23</td>\n",
       "      <td>124.47</td>\n",
       "      <td>169.87</td>\n",
       "    </tr>\n",
       "    <tr>\n",
       "      <th>304</th>\n",
       "      <td>31-May</td>\n",
       "      <td>NaN</td>\n",
       "      <td>216.84</td>\n",
       "      <td>211.48</td>\n",
       "      <td>178.19</td>\n",
       "      <td>124.45</td>\n",
       "      <td>170.47</td>\n",
       "    </tr>\n",
       "  </tbody>\n",
       "</table>\n",
       "</div>"
      ],
      "text/plain": [
       "    Unnamed: 0 Unnamed: 1 Colombian Unnamed: 3 Brazilian Unnamed: 5  \\\n",
       "300     25-May        NaN    222.17     217.37    182.38     123.94   \n",
       "301     26-May        NaN    220.39     215.81    180.94     123.98   \n",
       "302     29-May        NaN    220.52     215.05    181.73     124.68   \n",
       "303     30-May        NaN    215.91     210.53    177.23     124.47   \n",
       "304     31-May        NaN    216.84     211.48    178.19     124.45   \n",
       "\n",
       "    ICO Composite  \n",
       "300        173.46  \n",
       "301        172.49  \n",
       "302        172.84  \n",
       "303        169.87  \n",
       "304        170.47  "
      ]
     },
     "execution_count": 11,
     "metadata": {},
     "output_type": "execute_result"
    }
   ],
   "source": [
    "merged_df.tail()"
   ]
  },
  {
   "cell_type": "markdown",
   "id": "462331f0",
   "metadata": {},
   "source": [
    "Before continuing, ill try to first rename the columns and remove the NaN values in each dataframe separately, to ensure all dfs will be in the same shape to facilitate concatenation, also might be easier to import them in the correct order once this is done?\n"
   ]
  },
  {
   "cell_type": "code",
   "execution_count": 12,
   "id": "5f33f6b2",
   "metadata": {},
   "outputs": [],
   "source": [
    "# Define a list of new column names\n",
    "new_column_names = {'Unnamed: 0': 'date', \n",
    "                    'Unnamed: 1': 'I-CIP', 'Colombian':'colombian_milds', \n",
    "                    'Unnamed: 3':'other_milds', 'Brazilian':'brazilian_nat', 'Unnamed: 5':'robustas'}\n",
    "\n",
    "\n",
    "# Apply changes to each DataFrame separately\n",
    "for df in dataframes:\n",
    "    # Rename columns\n",
    "    df.rename(columns=new_column_names, inplace=True)\n",
    "    \n",
    "    # Remove NaN values\n",
    "  #  df.dropna(inplace=True) this one makes all dataframes empty again."
   ]
  },
  {
   "cell_type": "code",
   "execution_count": 13,
   "id": "23078a1c",
   "metadata": {},
   "outputs": [
    {
     "name": "stdout",
     "output_type": "stream",
     "text": [
      "13\n"
     ]
    }
   ],
   "source": [
    "print(len(dataframes)) #check is list is not empty anymore"
   ]
  },
  {
   "cell_type": "code",
   "execution_count": 14,
   "id": "31e26f33",
   "metadata": {},
   "outputs": [
    {
     "name": "stdout",
     "output_type": "stream",
     "text": [
      "     date   I-CIP colombian_milds  other_milds brazilian_nat  robustas\n",
      "0     NaN   I-CIP             NaN  Other Milds           NaN  Robustas\n",
      "1     NaN     NaN           Milds          NaN      Naturals       NaN\n",
      "2  01-Sep  152.36          184.05       183.14        151.88    124.26\n",
      "3  04-Sep  152.01          183.75       182.60        151.43    124.09\n",
      "4  05-Sep  153.02          185.15       184.01        152.88    124.34\n",
      "     date      ICO Composite colombian_milds  other_milds brazilian_nat  \\\n",
      "0     NaN                NaN             NaN  Other Milds           NaN   \n",
      "1     NaN  Indicator (I-CIP)           Milds          NaN      Naturals   \n",
      "2  03-Apr             168.87          222.30       219.78        183.11   \n",
      "3  04-Apr             168.14          220.82       218.29        181.52   \n",
      "4  05-Apr             172.44          225.91       223.38        186.70   \n",
      "\n",
      "   robustas  \n",
      "0  Robustas  \n",
      "1       NaN  \n",
      "2    109.10  \n",
      "3    109.80  \n",
      "4    112.63  \n",
      "     date   I-CIP colombian_milds  other_milds brazilian_nat  robustas\n",
      "0     NaN   I-CIP             NaN  Other Milds           NaN  Robustas\n",
      "1     NaN     NaN           Milds          NaN      Naturals       NaN\n",
      "2  01-Nov  153.32          187.15       186.58        158.95    117.80\n",
      "3  02-Nov  155.03          190.74       190.54        161.85    116.54\n",
      "4  03-Nov  158.78          195.65       195.36        166.62    118.39\n",
      "     date   I-CIP colombian_milds  other_milds brazilian_nat  robustas\n",
      "0     NaN   I-CIP             NaN  Other Milds           NaN  Robustas\n",
      "1     NaN     NaN           Milds          NaN      Naturals       NaN\n",
      "2  02-Oct  149.79          181.92       180.08        150.53    120.77\n",
      "3  03-Oct  149.70          182.18       181.70        151.47    118.69\n",
      "4  04-Oct  147.74          179.76       179.29        148.98    117.60\n",
      "     date   I-CIP colombian_milds  other_milds brazilian_nat  robustas\n",
      "0     NaN   I-CIP             NaN  Other Milds           NaN  Robustas\n",
      "1     NaN     NaN           Milds          NaN      Naturals       NaN\n",
      "2  02-Jan  173.95          208.89       201.15        183.73    138.03\n",
      "3  03-Jan  171.08          205.50       197.88        180.48    135.88\n",
      "4  04-Jan  171.33          204.94       197.38        179.98    137.48\n",
      "     date      ICO Composite colombian_milds  other_milds brazilian_nat  \\\n",
      "0     NaN                NaN             NaN  Other Milds           NaN   \n",
      "1     NaN  Indicator (I-CIP)           Milds          NaN      Naturals   \n",
      "2  01-Mar             175.93          234.63       230.69        195.40   \n",
      "3  02-Mar             175.08          232.62       229.73        193.63   \n",
      "4  03-Mar             172.26          228.55       225.58        189.86   \n",
      "\n",
      "   robustas  \n",
      "0  Robustas  \n",
      "1       NaN  \n",
      "2    107.65  \n",
      "3    108.05  \n",
      "4    107.25  \n",
      "     date   I-CIP colombian_milds  other_milds brazilian_nat  robustas\n",
      "0     NaN   I-CIP             NaN  Other Milds           NaN  Robustas\n",
      "1     NaN     NaN           Milds          NaN      Naturals       NaN\n",
      "2  03-Jul  158.99          191.18       194.33        160.53    126.33\n",
      "3  04-Jul  157.96          190.30       192.50        159.48    125.71\n",
      "4  05-Jul  156.73          188.75       190.96        157.96    125.04\n"
     ]
    }
   ],
   "source": [
    "## can see the changes were applied and that also all dfs follow the same pattern of having NaN values on the \n",
    "## first 2 rows, so i can either perfom a similar loop to drop these rows and merge them in the correct order?\n",
    "print(dataframes[1].head())\n",
    "print(dataframes[2].head())\n",
    "print(dataframes[4].head())\n",
    "print(dataframes[8].head())\n",
    "print(dataframes[6].head())\n",
    "print(dataframes[3].head())\n",
    "print(dataframes[10].head())"
   ]
  },
  {
   "cell_type": "code",
   "execution_count": 15,
   "id": "23382209",
   "metadata": {},
   "outputs": [],
   "source": [
    "# Drop the first two rows in each DataFrame that contain NaN\n",
    "for df in dataframes:\n",
    "    df.drop(df.index[:2], inplace=True)"
   ]
  },
  {
   "cell_type": "code",
   "execution_count": 16,
   "id": "068780c0",
   "metadata": {},
   "outputs": [
    {
     "name": "stdout",
     "output_type": "stream",
     "text": [
      "     date   I-CIP colombian_milds other_milds brazilian_nat robustas\n",
      "2  01-Sep  152.36          184.05      183.14        151.88   124.26\n",
      "3  04-Sep  152.01          183.75      182.60        151.43   124.09\n",
      "4  05-Sep  153.02          185.15      184.01        152.88   124.34\n",
      "5  06-Sep  153.39          186.34      185.01        154.83   122.74\n",
      "6  07-Sep  151.58          181.98      185.21        151.52   121.88\n",
      "     date ICO Composite colombian_milds other_milds brazilian_nat robustas\n",
      "2  03-Apr        168.87          222.30      219.78        183.11   109.10\n",
      "3  04-Apr        168.14          220.82      218.29        181.52   109.80\n",
      "4  05-Apr        172.44          225.91      223.38        186.70   112.63\n",
      "5  06-Apr        173.75          228.43      225.90        189.30   111.71\n",
      "6  07-Apr        173.96          228.72      226.04        189.39   112.03\n",
      "     date   I-CIP colombian_milds other_milds brazilian_nat robustas\n",
      "2  01-Nov  153.32          187.15      186.58        158.95   117.80\n",
      "3  02-Nov  155.03          190.74      190.54        161.85   116.54\n",
      "4  03-Nov  158.78          195.65      195.36        166.62   118.39\n",
      "5  06-Nov  160.85          197.74      196.72        169.55   120.13\n",
      "6  07-Nov  158.56          195.45      193.93        167.43   118.00\n",
      "     date   I-CIP colombian_milds other_milds brazilian_nat robustas\n",
      "2  02-Oct  149.79          181.92      180.08        150.53   120.77\n",
      "3  03-Oct  149.70          182.18      181.70        151.47   118.69\n",
      "4  04-Oct  147.74          179.76      179.29        148.98   117.60\n",
      "5  05-Oct  146.94          178.82      178.34        148.08   117.02\n",
      "6  06-Oct  146.31          178.96      178.06        147.66   115.76\n"
     ]
    }
   ],
   "source": [
    "#print test across different months to see changes\n",
    "print(dataframes[1].head())\n",
    "print(dataframes[2].head())\n",
    "print(dataframes[4].head())\n",
    "print(dataframes[8].head())"
   ]
  },
  {
   "cell_type": "code",
   "execution_count": 17,
   "id": "e0cc754a",
   "metadata": {},
   "outputs": [],
   "source": [
    "#define a variable name for each dataset to facilitate data manipulation\n",
    "# but now for each month, give them a variable so i can concat them in the correct order\n",
    "# might be a but extra work but the lambda function didnt work even after renaming the original files and adding '_'\n",
    "# also the natsorted library was not enabled in my machine\n",
    "feb24= dataframes[5]\n",
    "jan24=dataframes[6]\n",
    "dec23=dataframes[11]\n",
    "nov23=dataframes[4]\n",
    "oct23=dataframes[8]\n",
    "sep23=dataframes[1]\n",
    "aug23=dataframes[0]\n",
    "jul23=dataframes[10]\n",
    "jun23=dataframes[9]\n",
    "may23=dataframes[12]\n",
    "apr23=dataframes[2]\n",
    "mar23=dataframes[3]\n",
    "feb23=dataframes[7]"
   ]
  },
  {
   "cell_type": "code",
   "execution_count": 18,
   "id": "88469916",
   "metadata": {
    "scrolled": true
   },
   "outputs": [
    {
     "name": "stdout",
     "output_type": "stream",
     "text": [
      "[      date   I-CIP colombian_milds other_milds brazilian_nat robustas\n",
      "2   01-Aug  161.70          196.62      197.67        164.03   127.08\n",
      "3   02-Aug  163.62          198.66      199.72        166.00   128.82\n",
      "4   03-Aug  161.68          196.28      197.32        163.52   127.77\n",
      "5   04-Aug  158.15          192.33      192.15        159.20   126.01\n",
      "6   07-Aug  160.76          194.43      194.65        161.75   128.91\n",
      "7   08-Aug  160.03          192.70      193.63        160.61   129.03\n",
      "8   09-Aug  158.62          191.14      191.37        158.39   128.88\n",
      "9   10-Aug  158.26          191.29      191.28        158.61   127.69\n",
      "10  11-Aug  155.96          188.35      187.47        155.31   127.33\n",
      "11  14-Aug  151.31          183.40      182.46        149.96   123.60\n",
      "12  15-Aug  150.92          182.53      181.59        149.34   123.86\n",
      "13  16-Aug  149.07          181.45      180.49        147.98   120.90\n",
      "14  17-Aug  149.34          181.10      179.23        148.87   121.72\n",
      "15  18-Aug  149.68          182.11      180.25        150.84   120.04\n",
      "16  21-Aug  149.24          182.32      180.89        148.95   120.00\n",
      "17  22-Aug  148.79          181.47      180.03        148.03   120.34\n",
      "18  23-Aug  151.67          185.26      183.83        151.92   121.49\n",
      "19  24-Aug  152.10          185.63      184.19        152.31   122.02\n",
      "20  25-Aug  152.00          184.84      183.00        151.94   123.02\n",
      "21  28-Aug  151.74          184.64      182.71        151.07   123.29\n",
      "22  29-Aug  151.91          184.32      182.39        151.38   123.77\n",
      "23  30-Aug  154.29          186.68      184.75        153.84   126.12\n",
      "24  31-Aug  153.30          186.06      183.78        153.34   124.55,       date   I-CIP colombian_milds other_milds brazilian_nat robustas\n",
      "2   01-Sep  152.36          184.05      183.14        151.88   124.26\n",
      "3   04-Sep  152.01          183.75      182.60        151.43   124.09\n",
      "4   05-Sep  153.02          185.15      184.01        152.88   124.34\n",
      "5   06-Sep  153.39          186.34      185.01        154.83   122.74\n",
      "6   07-Sep  151.58          181.98      185.21        151.52   121.88\n",
      "7   08-Sep  152.04          181.26      185.59        152.47   122.36\n",
      "8   11-Sep  153.74          185.04      189.44        152.93   123.18\n",
      "9   12-Sep  150.94          184.28      183.25        152.22   119.88\n",
      "10  13-Sep  152.74          184.26      183.24        152.21   124.90\n",
      "11  14-Sep  154.44          186.05      184.66        155.03   125.78\n",
      "12  15-Sep  158.24          190.93      189.22        159.70   128.01\n",
      "13  18-Sep  158.65          191.43      189.45        159.55   128.98\n",
      "14  19-Sep  160.17          193.12      190.07        164.20   128.28\n",
      "15  20-Sep  158.22          190.64      187.59        161.94   127.07\n",
      "16  21-Sep  155.82          188.14      185.01        159.29   125.03\n",
      "17  22-Sep  153.36          184.41      181.06        155.44   125.06\n",
      "18  25-Sep  150.18          180.90      177.36        150.13   124.14\n",
      "19  26-Sep  150.00          182.87      179.33        152.12   120.09\n",
      "20  27-Sep  148.99          181.29      177.75        150.58   120.06\n",
      "21  28-Sep  148.06          179.54      175.90        148.74   120.76\n",
      "22  29-Sep  147.86          179.10      174.97        148.86   120.76,       date ICO Composite colombian_milds other_milds brazilian_nat robustas\n",
      "2   03-Apr        168.87          222.30      219.78        183.11   109.10\n",
      "3   04-Apr        168.14          220.82      218.29        181.52   109.80\n",
      "4   05-Apr        172.44          225.91      223.38        186.70   112.63\n",
      "5   06-Apr        173.75          228.43      225.90        189.30   111.71\n",
      "6   07-Apr        173.96          228.72      226.04        189.39   112.03\n",
      "7   10-Apr        173.40          227.43      222.16        190.05   112.60\n",
      "8   11-Apr        179.29          235.03      229.75        197.69   115.44\n",
      "9   12-Apr        179.00          234.75      229.47        197.15   115.34\n",
      "10  13-Apr        183.83          240.61      235.34        203.28   118.10\n",
      "11  14-Apr        180.36          237.82      231.78        198.06   115.97\n",
      "12  17-Apr        185.15          244.82      238.76        204.94   116.94\n",
      "13  18-Apr        187.29          249.04      242.71        207.45   117.02\n",
      "14  19-Apr        185.76          246.40      240.08        204.95   117.34\n",
      "15  20-Apr        181.56          238.76      233.44        199.24   117.00\n",
      "16  21-Apr        179.72          236.74      229.90        196.29   117.18\n",
      "17  24-Apr        182.56          238.97      231.42        199.34   120.80\n",
      "18  25-Apr        179.09          234.11      227.05        194.06   119.88\n",
      "19  26-Apr        180.06          236.41      229.34        195.77   118.99\n",
      "20  27-Apr        181.22          239.16      233.03        197.51   117.65\n",
      "21  28-Apr        176.00          230.89      223.51        189.33   118.50,       date ICO Composite colombian_milds other_milds brazilian_nat robustas\n",
      "2   01-Mar        175.93          234.63      230.69        195.40   107.65\n",
      "3   02-Mar        175.08          232.62      229.73        193.63   108.05\n",
      "4   03-Mar        172.26          228.55      225.58        189.86   107.25\n",
      "5   06-Mar        173.04          228.40      229.01        190.63   106.78\n",
      "6   07-Mar        174.83          232.32      228.06        195.15   107.13\n",
      "7   08-Mar        171.66          227.12      222.86        189.90   107.59\n",
      "8   09-Mar        170.11          224.55      220.75        187.12   107.78\n",
      "9   10-Mar        171.96          227.72      223.46        190.66   107.24\n",
      "10  13-Mar        171.67          228.93      224.33        190.82   105.38\n",
      "11  14-Mar        167.97          223.86      220.89        185.08   103.73\n",
      "12  15-Mar        166.16          220.97      219.35        182.30   102.96\n",
      "13  16-Mar        171.76          228.32      226.25        190.18   105.26\n",
      "14  17-Mar        168.56          224.74      221.82        186.67   103.17\n",
      "15  20-Mar        169.55          226.27      224.07        187.20   103.65\n",
      "16  21-Mar        171.41          227.74      226.09        188.54   105.97\n",
      "17  22-Mar        169.11          224.45      222.25        185.80   105.28\n",
      "18  23-Mar        167.31          221.34      219.14        182.64   105.86\n",
      "19  24-Mar        171.17          225.63      222.88        187.42   108.85\n",
      "20  27-Mar        169.80          223.03      220.86        184.35   109.74\n",
      "21  28-Mar        166.69          219.80      216.67        182.12   106.56\n",
      "22  29-Mar        164.36          216.02      212.89        178.45   106.69\n",
      "23  30-Mar        164.99          216.34      212.69        178.79   108.16\n",
      "24  31-Mar        165.37          216.93      213.87        178.63   108.48,       date   I-CIP colombian_milds other_milds brazilian_nat robustas\n",
      "2   01-Nov  153.32          187.15      186.58        158.95   117.80\n",
      "3   02-Nov  155.03          190.74      190.54        161.85   116.54\n",
      "4   03-Nov  158.78          195.65      195.36        166.62   118.39\n",
      "5   06-Nov  160.85          197.74      196.72        169.55   120.13\n",
      "6   07-Nov  158.56          195.45      193.93        167.43   118.00\n",
      "7   08-Nov  160.75          197.96      196.44        169.96   119.59\n",
      "8   09-Nov  163.10          199.49      200.62        172.37   121.09\n",
      "9   10-Nov  160.07          194.85      196.07        168.56   120.18\n",
      "10  13-Nov  163.10          197.45      198.68        171.20   123.91\n",
      "11  14-Nov  162.65          195.76      199.56        170.99   122.89\n",
      "12  15-Nov  166.38          199.44      203.23        174.72   126.67\n",
      "13  16-Nov  164.19          195.73      199.71        170.75   127.30\n",
      "14  17-Nov  160.39          192.26      194.30        166.19   124.98\n",
      "15  20-Nov  162.99          197.01      198.90        170.21   124.48\n",
      "16  21-Nov  161.01          194.52      196.41        167.83   123.33\n",
      "17  22-Nov  161.77          194.84      196.75        168.15   124.86\n",
      "18  23-Nov  161.52          194.95      196.85        168.30   123.94\n",
      "19  24-Nov  161.73          193.27      195.32        167.51   126.65\n",
      "20  27-Nov  160.85          193.54      195.59        167.98   123.55\n",
      "21  28-Nov  163.41          197.53      199.58        171.88   123.64\n",
      "22  29-Nov  163.15          197.27      199.33        171.72   123.30\n",
      "23  30-Nov  169.99          206.20      207.56        180.84   126.65,       date   I-CIP colombian_milds other_milds brazilian_nat robustas\n",
      "2   01-Feb  185.24          213.15      212.01        190.15   156.09\n",
      "3   02-Feb  183.69          212.32      212.94        188.41   153.01\n",
      "4   05-Feb  180.93          210.11      209.12        185.69   150.65\n",
      "5   06-Feb  180.65          208.72      207.73        184.41   152.25\n",
      "6   07-Feb  182.67          210.75      210.53        187.07   153.27\n",
      "7   08-Feb  181.62          209.01      208.65        185.68   153.22\n",
      "8   09-Feb  187.07          214.58      215.14        191.21   157.98\n",
      "9   12-Feb  186.76          214.42      214.67        191.90   156.83\n",
      "10  13-Feb  184.47          211.53      211.79        188.97   155.65\n",
      "11  14-Feb  179.87          206.31      206.57        183.73   152.16\n",
      "12  15-Feb  181.84          208.63      208.90        186.19   153.38\n",
      "13  16-Feb  183.01          210.82      210.13        187.06   154.43\n",
      "14  19-Feb  183.39          210.72      209.88        186.88   155.84\n",
      "15  20-Feb  182.73          210.52      209.69        186.90   154.16\n",
      "16  21-Feb  184.10          211.97      211.14        188.16   155.55\n",
      "17  22-Feb  180.02          207.20      206.37        183.38   152.69\n",
      "18  23-Feb  177.80          204.48      202.46        183.74   149.40\n",
      "19  26-Feb  177.48          204.12      202.11        183.48   149.08\n",
      "20  27-Feb  180.23          207.11      205.10        186.34   151.51\n",
      "21  28-Feb  179.12          206.01      204.00        185.39   150.23\n",
      "22  29-Feb  180.11          207.67      205.52        186.73   150.40,       date   I-CIP colombian_milds other_milds brazilian_nat robustas\n",
      "2   02-Jan  173.95          208.89      201.15        183.73   138.03\n",
      "3   03-Jan  171.08          205.50      197.88        180.48   135.88\n",
      "4   04-Jan  171.33          204.94      197.38        179.98   137.48\n",
      "5   05-Jan  173.51          205.05      204.73        180.40   138.84\n",
      "6   08-Jan  173.84          203.56      203.25        178.94   142.38\n",
      "7   09-Jan  174.82          205.16      204.10        178.79   144.22\n",
      "8   10-Jan  173.12          202.19      201.12        175.94   144.66\n",
      "9   11-Jan  173.57          203.32      202.24        176.42   144.46\n",
      "10  12-Jan  171.94          200.72      199.54        173.97   144.49\n",
      "11  15-Jan  171.54          200.46      198.34        171.42   146.37\n",
      "12  16-Jan  173.83          203.76      201.63        173.87   147.61\n",
      "13  17-Jan  173.16          198.96      196.83        169.91   153.56\n",
      "14  18-Jan  172.37          199.91      197.80        170.84   149.66\n",
      "15  19-Jan  176.29          204.72      202.60        175.74   151.94\n",
      "16  22-Jan  179.20          209.12      206.98        179.28   152.96\n",
      "17  23-Jan  180.39          209.52      207.39        180.52   154.82\n",
      "18  24-Jan  180.51          208.94      206.81        179.94   156.19\n",
      "19  25-Jan  181.17          205.30      203.66        182.59   158.78\n",
      "20  26-Jan  183.39          210.83      209.93        188.33   154.50\n",
      "21  29-Jan  181.43          207.61      206.71        184.99   154.88\n",
      "22  30-Jan  184.94          212.12      210.83        188.99   157.30\n",
      "23  31-Jan  185.54          213.00      211.71        190.01   157.28,       date ICO Composite colombian_milds other_milds brazilian_nat robustas\n",
      "2   01-Feb        171.43          235.92      223.22        191.65   102.31\n",
      "3   02-Feb        172.50          237.34      226.26        192.86   102.00\n",
      "4   03-Feb        169.47          232.24      221.86        188.61   101.52\n",
      "5   06-Feb        171.29          235.17      224.80        190.77   102.02\n",
      "6   07-Feb        172.14          235.65      226.72        191.92   102.10\n",
      "7   08-Feb        171.23          234.06      225.13        190.38   102.35\n",
      "8   09-Feb        169.89          232.17      223.54        188.61   101.71\n",
      "9   10-Feb        170.31          233.38      223.14        189.73   101.76\n",
      "10  13-Feb        171.50          235.34      224.91        191.24   102.06\n",
      "11  14-Feb        175.86          241.56      231.13        197.28   103.26\n",
      "12  15-Feb        171.73          235.53      225.11        191.36   102.43\n",
      "13  16-Feb        173.91          238.50      228.08        194.25   103.26\n",
      "14  17-Feb        177.59          242.86      233.37        199.53   104.40\n",
      "15  20-Feb        177.67          241.26      235.07        198.15   105.35\n",
      "16  21-Feb        180.49          245.25      239.04        202.09   106.15\n",
      "17  22-Feb        183.85          248.76      242.56        205.62   109.23\n",
      "18  23-Feb        180.91          245.20      238.99        202.07   107.37\n",
      "19  24-Feb        178.96          242.39      234.37        200.55   106.89\n",
      "20  27-Feb        177.25          237.56      233.63        198.41   106.04\n",
      "21  28-Feb        177.42          237.60      233.67        198.53   106.38,       date   I-CIP colombian_milds other_milds brazilian_nat robustas\n",
      "2   02-Oct  149.79          181.92      180.08        150.53   120.77\n",
      "3   03-Oct  149.70          182.18      181.70        151.47   118.69\n",
      "4   04-Oct  147.74          179.76      179.29        148.98   117.60\n",
      "5   05-Oct  146.94          178.82      178.34        148.08   117.02\n",
      "6   06-Oct  146.31          178.96      178.06        147.66   115.76\n",
      "7   09-Oct  145.99          179.19      178.28        147.83   114.50\n",
      "8   10-Oct  146.56          180.19      178.44        149.11   114.57\n",
      "9   11-Oct  146.67          180.45      178.70        149.44   114.34\n",
      "10  12-Oct  148.04          181.33      180.36        151.56   115.05\n",
      "11  13-Oct  151.63          186.34      185.38        156.54   116.13\n",
      "12  16-Oct  151.27          185.47      183.02        156.40   116.94\n",
      "13  17-Oct  152.31          186.54      184.52        157.77   117.42\n",
      "14  18-Oct  153.43          187.69      185.68        159.03   118.36\n",
      "15  19-Oct  156.83          191.64      189.46        162.79   121.06\n",
      "16  20-Oct  158.06          193.94      189.24        162.09   124.44\n",
      "17  23-Oct  159.06          194.47      189.78        162.58   126.30\n",
      "18  24-Oct  160.09          196.75      192.05        164.88   125.10\n",
      "19  25-Oct  156.33          191.59      186.89        159.61   123.92\n",
      "20  26-Oct  155.16          190.00      186.25        159.03   122.09\n",
      "21  27-Oct  152.80          186.82      185.25        156.92   118.98\n",
      "22  30-Oct  151.53          185.44      184.85        156.36   116.63\n",
      "23  31-Oct  156.42          191.91      191.31        162.85   118.70,       date   I-CIP colombian_milds other_milds brazilian_nat robustas\n",
      "2   01-Jun  173.56          220.40      215.27        181.78   126.54\n",
      "3   02-Jun  175.62          222.41      216.73        181.98   130.57\n",
      "4   05-Jun  173.15          219.54      213.37        180.94   127.53\n",
      "5   06-Jun  173.15          219.16      213.00        180.76   128.02\n",
      "6   07-Jun  175.07          220.99      214.83        182.43   130.23\n",
      "7   08-Jun  182.04          229.28      223.64        190.98   134.34\n",
      "8   09-Jun  179.50          225.81      220.00        187.74   133.33\n",
      "9   12-Jun  173.84          221.41      202.86        183.35   132.88\n",
      "10  13-Jun  172.00          217.97      200.08        180.41   133.04\n",
      "11  14-Jun  172.69          219.24      200.95        181.55   133.05\n",
      "12  15-Jun  175.65          222.14      203.95        184.49   136.04\n",
      "13  16-Jun  175.05          214.62      213.99        179.90   134.96\n",
      "14  19-Jun  175.87          214.81      214.19        180.23   136.77\n",
      "15  20-Jun  172.62          210.23      209.61        175.59   135.96\n",
      "16  21-Jun  169.37          206.24      205.61        171.37   134.21\n",
      "17  22-Jun  168.54          203.27      203.67        169.93   135.26\n",
      "18  23-Jun  164.52          197.85      198.71        165.22   132.87\n",
      "19  26-Jun  165.89          197.36      200.34        166.67   134.64\n",
      "20  27-Jun  166.90          199.16      202.16        168.49   134.21\n",
      "21  28-Jun  162.42          194.41      197.43        163.78   130.15\n",
      "22  29-Jun  161.53          193.48      197.41        163.90   127.90\n",
      "23  30-Jun  158.47          190.86      194.67        161.12   124.26,       date   I-CIP colombian_milds other_milds brazilian_nat robustas\n",
      "2   03-Jul  158.99          191.18      194.33        160.53   126.33\n",
      "3   04-Jul  157.96          190.30      192.50        159.48   125.71\n",
      "4   05-Jul  156.73          188.75      190.96        157.96   125.04\n",
      "5   06-Jul  158.40          190.83      194.17        160.35   125.04\n",
      "6   07-Jul  160.41          191.03      194.12        160.87   130.14\n",
      "7   10-Jul  158.91          189.78      192.80        159.18   128.62\n",
      "8   11-Jul  158.38          188.20      192.17        158.66   128.48\n",
      "9   12-Jul  157.66          187.74      191.70        158.27   127.24\n",
      "10  13-Jul  157.77          188.56      192.25        158.34   126.91\n",
      "11  14-Jul  158.78          191.68      192.64        160.18   126.87\n",
      "12  17-Jul  155.65          185.96      188.74        154.32   127.37\n",
      "13  18-Jul  155.86          186.61      189.37        154.94   126.86\n",
      "14  19-Jul  156.37          185.87      188.65        154.20   129.57\n",
      "15  20-Jul  157.24          188.62      191.39        157.11   126.96\n",
      "16  21-Jul  160.78          192.70      196.20        160.83   129.43\n",
      "17  24-Jul  162.40          194.16      196.72        162.19   131.99\n",
      "18  25-Jul  162.64          194.32      197.83        162.81   131.41\n",
      "19  26-Jul  161.64          195.44      198.95        163.92   126.65\n",
      "20  27-Jul  160.86          193.80      197.31        162.25   127.42\n",
      "21  28-Jul  157.48          190.12      192.76        158.82   124.87\n",
      "22  31-Jul  161.54          196.63      197.82        164.25   126.34,       date   I-CIP colombian_milds other_milds brazilian_nat robustas\n",
      "2   01-Dec  169.76          206.59      207.96        181.33   125.25\n",
      "3   04-Dec  166.36          202.16      202.67        176.13   124.84\n",
      "4   05-Dec  170.09          205.22      207.59        180.95   127.15\n",
      "5   06-Dec  163.92          196.87      199.24        172.53   124.92\n",
      "6   07-Dec  166.00          198.87      201.78        175.25   126.22\n",
      "7   08-Dec  166.47          202.09      202.12        174.54   126.85\n",
      "8   11-Dec  172.54          208.28      208.59        183.27   130.37\n",
      "9   12-Dec  173.43          208.39      207.51        181.93   134.57\n",
      "10  13-Dec  176.27          211.46      210.57        184.96   137.03\n",
      "11  14-Dec  178.03          213.57      212.69        187.21   138.06\n",
      "12  15-Dec  177.64          213.25      210.93        185.90   139.25\n",
      "13  18-Dec  178.13          213.00      212.24        186.81   139.14\n",
      "14  19-Dec  186.04          222.92      221.99        196.55   143.72\n",
      "15  20-Dec  179.29          212.47      212.69        188.00   141.25\n",
      "16  21-Dec  182.08          215.14      215.35        190.51   144.39\n",
      "17  22-Dec  179.35          213.48      214.25        189.34   139.01\n",
      "18  27-Dec  183.23          220.13      219.18        194.22   140.50\n",
      "19  28-Dec  184.85          219.64      219.27        195.21   144.27\n",
      "20  29-Dec  176.93          209.82      209.45        185.25   139.82,       date ICO Composite colombian_milds other_milds brazilian_nat robustas\n",
      "2   01-May        177.95          235.04      229.65        191.36   117.23\n",
      "3   02-May        175.97          230.40      223.63        188.63   119.11\n",
      "4   03-May        175.29          229.69      220.54        189.04   118.92\n",
      "5   04-May        173.83          227.42      218.35        186.84   118.80\n",
      "6   05-May        176.70          231.73      222.26        190.60   119.81\n",
      "7   08-May        174.88          228.33      219.66        187.89   119.74\n",
      "8   09-May        176.98          230.24      222.27        190.38   121.26\n",
      "9   10-May        177.07          229.77      221.85        189.96   122.27\n",
      "10  11-May        172.76          225.71      217.79        185.24   118.10\n",
      "11  12-May        173.40          225.63      217.51        185.58   119.76\n",
      "12  15-May        178.10          231.41      223.92        191.69   121.89\n",
      "13  16-May        176.87          228.83      221.74        188.65   123.23\n",
      "14  17-May        177.43          228.18      221.08        188.07   125.88\n",
      "15  18-May        177.22          228.33      220.78        188.12   125.38\n",
      "16  19-May        179.19          230.60      223.24        191.04   126.14\n",
      "17  22-May        178.98          228.34      223.64        188.46   128.32\n",
      "18  23-May        176.88          226.71      222.01        186.86   125.35\n",
      "19  24-May        177.51          227.32      222.63        187.51   125.99\n",
      "20  25-May        173.46          222.17      217.37        182.38   123.94\n",
      "21  26-May        172.49          220.39      215.81        180.94   123.98\n",
      "22  29-May        172.84          220.52      215.05        181.73   124.68\n",
      "23  30-May        169.87          215.91      210.53        177.23   124.47\n",
      "24  31-May        170.47          216.84      211.48        178.19   124.45]\n"
     ]
    }
   ],
   "source": [
    "print(dataframes)\n",
    "\n"
   ]
  },
  {
   "cell_type": "markdown",
   "id": "50217210",
   "metadata": {},
   "source": [
    "#another issue was identified from the original data here\n",
    "the first 4 months contain a different column lables for the icip prices, probably somne changes in the way data was collected initially or some changes in ICO's processing techniques, and the merged.df added a column with  missing values in place for the 'ghost' feature, it seems to have 2 diffent names for the price column  even after i renamed the collumns in previuos lines (ICO Composite and I-CIP). So before i merge them toghether in cronolgical order, ill adjust these features. Or could i just merge the dfs without the labels?\n",
    "\n",
    "\n",
    "Another issue here is the fact that the date format is not in the correct format, as mentioned above. So the idea is to adjust this in each file separetly before merging them togheter in the correct order, because when i first tried to add the YYYY/MM/DD altogether after merging the files in sequence, the values from feb 23 and feb 24 all returned as 2023 (probably should have given other parameters to consider, since this is the only month that repeates. the months between march and jan only appear one time each. \n",
    "\n",
    "\n",
    "      \n",
    "         \n",
    "\n"
   ]
  },
  {
   "cell_type": "code",
   "execution_count": null,
   "id": "d9b65553",
   "metadata": {},
   "outputs": [],
   "source": []
  },
  {
   "cell_type": "code",
   "execution_count": null,
   "id": "eb0b0889",
   "metadata": {},
   "outputs": [],
   "source": []
  },
  {
   "cell_type": "code",
   "execution_count": 19,
   "id": "5815f96c",
   "metadata": {},
   "outputs": [],
   "source": [
    "# this function will hopefuly change the dates from i.e: '01-Jul' to '2023-07-01' \n",
    "\n",
    "def transform_date(df, year):\n",
    "    # Define a dictionary mapping month abbreviations to their respective numbers\n",
    "    month_mapping = {\n",
    "        'Jan': '01', 'Feb': '02', 'Mar': '03', 'Apr': '04',\n",
    "        'May': '05', 'Jun': '06', 'Jul': '07', 'Aug': '08',\n",
    "        'Sep': '09', 'Oct': '10', 'Nov': '11', 'Dec': '12'\n",
    "    }\n",
    "\n",
    "    # Apply the transformation to the 'date' column\n",
    "    df['date'] = df['date'].apply(lambda x: '-'.join([str(year), month_mapping[x.split('-')[1]], x.split('-')[0]]))\n",
    "\n",
    "    # Convert the 'date' column to datetime format\n",
    "    df['date'] = pd.to_datetime(df['date'], format='%Y-%m-%d')\n",
    "\n",
    "    return df\n",
    "\n",
    "# Example usage:\n",
    "# Assuming 'df' is your DataFrame for a specific month and '2023' is the year\n",
    "# transformed_df = transform_date(df, 2023)"
   ]
  },
  {
   "cell_type": "code",
   "execution_count": 20,
   "id": "0e5f8435",
   "metadata": {},
   "outputs": [
    {
     "name": "stdout",
     "output_type": "stream",
     "text": [
      "        date ICO Composite colombian_milds other_milds brazilian_nat robustas\n",
      "2 2023-02-01        171.43          235.92      223.22        191.65   102.31\n",
      "3 2023-02-02        172.50          237.34      226.26        192.86   102.00\n",
      "4 2023-02-03        169.47          232.24      221.86        188.61   101.52\n",
      "5 2023-02-06        171.29          235.17      224.80        190.77   102.02\n",
      "6 2023-02-07        172.14          235.65      226.72        191.92   102.10\n"
     ]
    }
   ],
   "source": [
    "#testing if function is working\n",
    "feb23 = transform_date(feb23, 2023)\n",
    "print(feb23.head())"
   ]
  },
  {
   "cell_type": "markdown",
   "id": "bf069264",
   "metadata": {},
   "source": []
  },
  {
   "cell_type": "code",
   "execution_count": 21,
   "id": "c8720d46",
   "metadata": {},
   "outputs": [],
   "source": [
    "# apply transform_date to all files\n",
    "feb24= transform_date(feb24, 2024)\n",
    "jan24=transform_date(jan24, 2024)\n",
    "dec23=transform_date(dec23, 2023)\n",
    "nov23=transform_date(nov23, 2023)\n",
    "oct23=transform_date(oct23, 2023)\n",
    "sep23=transform_date(sep23, 2023)\n",
    "aug23=transform_date(aug23, 2023)\n",
    "jul23=transform_date(jul23, 2023)\n",
    "jun23=transform_date(jun23, 2023)\n",
    "may23=transform_date(may23, 2023)\n",
    "apr23=transform_date(apr23, 2023)\n",
    "mar23=transform_date(mar23, 2023)"
   ]
  },
  {
   "cell_type": "code",
   "execution_count": null,
   "id": "e9bcf752",
   "metadata": {},
   "outputs": [],
   "source": []
  },
  {
   "cell_type": "code",
   "execution_count": null,
   "id": "e9476f66",
   "metadata": {},
   "outputs": [],
   "source": []
  },
  {
   "cell_type": "code",
   "execution_count": 22,
   "id": "fa6400d4",
   "metadata": {},
   "outputs": [
    {
     "data": {
      "text/html": [
       "<div>\n",
       "<style scoped>\n",
       "    .dataframe tbody tr th:only-of-type {\n",
       "        vertical-align: middle;\n",
       "    }\n",
       "\n",
       "    .dataframe tbody tr th {\n",
       "        vertical-align: top;\n",
       "    }\n",
       "\n",
       "    .dataframe thead th {\n",
       "        text-align: right;\n",
       "    }\n",
       "</style>\n",
       "<table border=\"1\" class=\"dataframe\">\n",
       "  <thead>\n",
       "    <tr style=\"text-align: right;\">\n",
       "      <th></th>\n",
       "      <th>date</th>\n",
       "      <th>ICO Composite</th>\n",
       "      <th>colombian_milds</th>\n",
       "      <th>other_milds</th>\n",
       "      <th>brazilian_nat</th>\n",
       "      <th>robustas</th>\n",
       "      <th>I-CIP</th>\n",
       "    </tr>\n",
       "  </thead>\n",
       "  <tbody>\n",
       "    <tr>\n",
       "      <th>0</th>\n",
       "      <td>2023-02-01</td>\n",
       "      <td>171.43</td>\n",
       "      <td>235.92</td>\n",
       "      <td>223.22</td>\n",
       "      <td>191.65</td>\n",
       "      <td>102.31</td>\n",
       "      <td>NaN</td>\n",
       "    </tr>\n",
       "    <tr>\n",
       "      <th>1</th>\n",
       "      <td>2023-02-02</td>\n",
       "      <td>172.50</td>\n",
       "      <td>237.34</td>\n",
       "      <td>226.26</td>\n",
       "      <td>192.86</td>\n",
       "      <td>102.00</td>\n",
       "      <td>NaN</td>\n",
       "    </tr>\n",
       "    <tr>\n",
       "      <th>2</th>\n",
       "      <td>2023-02-03</td>\n",
       "      <td>169.47</td>\n",
       "      <td>232.24</td>\n",
       "      <td>221.86</td>\n",
       "      <td>188.61</td>\n",
       "      <td>101.52</td>\n",
       "      <td>NaN</td>\n",
       "    </tr>\n",
       "    <tr>\n",
       "      <th>3</th>\n",
       "      <td>2023-02-06</td>\n",
       "      <td>171.29</td>\n",
       "      <td>235.17</td>\n",
       "      <td>224.80</td>\n",
       "      <td>190.77</td>\n",
       "      <td>102.02</td>\n",
       "      <td>NaN</td>\n",
       "    </tr>\n",
       "    <tr>\n",
       "      <th>4</th>\n",
       "      <td>2023-02-07</td>\n",
       "      <td>172.14</td>\n",
       "      <td>235.65</td>\n",
       "      <td>226.72</td>\n",
       "      <td>191.92</td>\n",
       "      <td>102.10</td>\n",
       "      <td>NaN</td>\n",
       "    </tr>\n",
       "    <tr>\n",
       "      <th>...</th>\n",
       "      <td>...</td>\n",
       "      <td>...</td>\n",
       "      <td>...</td>\n",
       "      <td>...</td>\n",
       "      <td>...</td>\n",
       "      <td>...</td>\n",
       "      <td>...</td>\n",
       "    </tr>\n",
       "    <tr>\n",
       "      <th>274</th>\n",
       "      <td>2024-02-23</td>\n",
       "      <td>NaN</td>\n",
       "      <td>204.48</td>\n",
       "      <td>202.46</td>\n",
       "      <td>183.74</td>\n",
       "      <td>149.40</td>\n",
       "      <td>177.80</td>\n",
       "    </tr>\n",
       "    <tr>\n",
       "      <th>275</th>\n",
       "      <td>2024-02-26</td>\n",
       "      <td>NaN</td>\n",
       "      <td>204.12</td>\n",
       "      <td>202.11</td>\n",
       "      <td>183.48</td>\n",
       "      <td>149.08</td>\n",
       "      <td>177.48</td>\n",
       "    </tr>\n",
       "    <tr>\n",
       "      <th>276</th>\n",
       "      <td>2024-02-27</td>\n",
       "      <td>NaN</td>\n",
       "      <td>207.11</td>\n",
       "      <td>205.10</td>\n",
       "      <td>186.34</td>\n",
       "      <td>151.51</td>\n",
       "      <td>180.23</td>\n",
       "    </tr>\n",
       "    <tr>\n",
       "      <th>277</th>\n",
       "      <td>2024-02-28</td>\n",
       "      <td>NaN</td>\n",
       "      <td>206.01</td>\n",
       "      <td>204.00</td>\n",
       "      <td>185.39</td>\n",
       "      <td>150.23</td>\n",
       "      <td>179.12</td>\n",
       "    </tr>\n",
       "    <tr>\n",
       "      <th>278</th>\n",
       "      <td>2024-02-29</td>\n",
       "      <td>NaN</td>\n",
       "      <td>207.67</td>\n",
       "      <td>205.52</td>\n",
       "      <td>186.73</td>\n",
       "      <td>150.40</td>\n",
       "      <td>180.11</td>\n",
       "    </tr>\n",
       "  </tbody>\n",
       "</table>\n",
       "<p>279 rows × 7 columns</p>\n",
       "</div>"
      ],
      "text/plain": [
       "          date ICO Composite colombian_milds other_milds brazilian_nat  \\\n",
       "0   2023-02-01        171.43          235.92      223.22        191.65   \n",
       "1   2023-02-02        172.50          237.34      226.26        192.86   \n",
       "2   2023-02-03        169.47          232.24      221.86        188.61   \n",
       "3   2023-02-06        171.29          235.17      224.80        190.77   \n",
       "4   2023-02-07        172.14          235.65      226.72        191.92   \n",
       "..         ...           ...             ...         ...           ...   \n",
       "274 2024-02-23           NaN          204.48      202.46        183.74   \n",
       "275 2024-02-26           NaN          204.12      202.11        183.48   \n",
       "276 2024-02-27           NaN          207.11      205.10        186.34   \n",
       "277 2024-02-28           NaN          206.01      204.00        185.39   \n",
       "278 2024-02-29           NaN          207.67      205.52        186.73   \n",
       "\n",
       "    robustas   I-CIP  \n",
       "0     102.31     NaN  \n",
       "1     102.00     NaN  \n",
       "2     101.52     NaN  \n",
       "3     102.02     NaN  \n",
       "4     102.10     NaN  \n",
       "..       ...     ...  \n",
       "274   149.40  177.80  \n",
       "275   149.08  177.48  \n",
       "276   151.51  180.23  \n",
       "277   150.23  179.12  \n",
       "278   150.40  180.11  \n",
       "\n",
       "[279 rows x 7 columns]"
      ]
     },
     "execution_count": 22,
     "metadata": {},
     "output_type": "execute_result"
    }
   ],
   "source": [
    "# Define the list of DataFrames in the desired order\n",
    "dfs_in_order = [feb23, mar23, apr23, may23, jun23, jul23, aug23, sep23, oct23, nov23, dec23, jan24, feb24]\n",
    "\n",
    "# Concatenate the DataFrames\n",
    "merged_df = pd.concat(dfs_in_order,ignore_index=True)\n",
    "\n",
    "# Display the merged DataFrame\n",
    "merged_df"
   ]
  },
  {
   "cell_type": "code",
   "execution_count": 23,
   "id": "a893e16e",
   "metadata": {},
   "outputs": [
    {
     "name": "stdout",
     "output_type": "stream",
     "text": [
      "          date   I-CIP colombian_milds other_milds brazilian_nat robustas\n",
      "0   2023-02-01  171.43          235.92      223.22        191.65   102.31\n",
      "1   2023-02-02  172.50          237.34      226.26        192.86   102.00\n",
      "2   2023-02-03  169.47          232.24      221.86        188.61   101.52\n",
      "3   2023-02-06  171.29          235.17      224.80        190.77   102.02\n",
      "4   2023-02-07  172.14          235.65      226.72        191.92   102.10\n",
      "..         ...     ...             ...         ...           ...      ...\n",
      "274 2024-02-23  177.80          204.48      202.46        183.74   149.40\n",
      "275 2024-02-26  177.48          204.12      202.11        183.48   149.08\n",
      "276 2024-02-27  180.23          207.11      205.10        186.34   151.51\n",
      "277 2024-02-28  179.12          206.01      204.00        185.39   150.23\n",
      "278 2024-02-29  180.11          207.67      205.52        186.73   150.40\n",
      "\n",
      "[279 rows x 6 columns]\n"
     ]
    }
   ],
   "source": [
    "# Rename columns of the first four DataFrames to match the later DataFrames\n",
    "feb23.rename(columns={'Unnamed: 0': 'date', 'ICO Composite': 'I-CIP'}, inplace=True)\n",
    "mar23.rename(columns={'Unnamed: 0': 'date', 'ICO Composite': 'I-CIP'}, inplace=True)\n",
    "apr23.rename(columns={'Unnamed: 0': 'date', 'ICO Composite': 'I-CIP'}, inplace=True)\n",
    "may23.rename(columns={'Unnamed: 0': 'date', 'ICO Composite': 'I-CIP'}, inplace=True)\n",
    "\n",
    "# Concatenate the DataFrames in the desired order\n",
    "merged_df = pd.concat([feb23, mar23, apr23, may23, jun23, jul23, aug23, sep23, oct23, nov23, dec23, jan24, feb24], ignore_index=True)\n",
    "\n",
    "# Display the merged DataFrame\n",
    "print(merged_df)"
   ]
  },
  {
   "cell_type": "markdown",
   "id": "720b8a0e",
   "metadata": {},
   "source": [
    "## EDA\n",
    "\n",
    "Perfom some basic eda to see how the data is presented after the merge\n",
    "However, when looking at the .info output, before obtaining any sort of relevant eda i need to make the correct conversions for datatypes that can be used foer forecasting. It was also noted that having the dates as 01-Feb is not at all helpfull, so first need to add the year to facilitate the conversion https://pandas.pydata.org/docs/user_guide/timeseries.html It also does not consider the year of each datapoint. \n",
    "\n"
   ]
  },
  {
   "cell_type": "code",
   "execution_count": 24,
   "id": "893a058a",
   "metadata": {},
   "outputs": [
    {
     "name": "stdout",
     "output_type": "stream",
     "text": [
      "<class 'pandas.core.frame.DataFrame'>\n",
      "RangeIndex: 279 entries, 0 to 278\n",
      "Data columns (total 6 columns):\n",
      " #   Column           Non-Null Count  Dtype         \n",
      "---  ------           --------------  -----         \n",
      " 0   date             279 non-null    datetime64[ns]\n",
      " 1   I-CIP            279 non-null    object        \n",
      " 2   colombian_milds  279 non-null    object        \n",
      " 3   other_milds      279 non-null    object        \n",
      " 4   brazilian_nat    279 non-null    object        \n",
      " 5   robustas         279 non-null    object        \n",
      "dtypes: datetime64[ns](1), object(5)\n",
      "memory usage: 13.2+ KB\n",
      "None\n"
     ]
    },
    {
     "data": {
      "text/html": [
       "<div>\n",
       "<style scoped>\n",
       "    .dataframe tbody tr th:only-of-type {\n",
       "        vertical-align: middle;\n",
       "    }\n",
       "\n",
       "    .dataframe tbody tr th {\n",
       "        vertical-align: top;\n",
       "    }\n",
       "\n",
       "    .dataframe thead th {\n",
       "        text-align: right;\n",
       "    }\n",
       "</style>\n",
       "<table border=\"1\" class=\"dataframe\">\n",
       "  <thead>\n",
       "    <tr style=\"text-align: right;\">\n",
       "      <th></th>\n",
       "      <th>date</th>\n",
       "      <th>I-CIP</th>\n",
       "      <th>colombian_milds</th>\n",
       "      <th>other_milds</th>\n",
       "      <th>brazilian_nat</th>\n",
       "      <th>robustas</th>\n",
       "    </tr>\n",
       "  </thead>\n",
       "  <tbody>\n",
       "    <tr>\n",
       "      <th>count</th>\n",
       "      <td>279</td>\n",
       "      <td>279</td>\n",
       "      <td>279</td>\n",
       "      <td>279</td>\n",
       "      <td>279</td>\n",
       "      <td>279</td>\n",
       "    </tr>\n",
       "    <tr>\n",
       "      <th>unique</th>\n",
       "      <td>279</td>\n",
       "      <td>270</td>\n",
       "      <td>274</td>\n",
       "      <td>273</td>\n",
       "      <td>272</td>\n",
       "      <td>267</td>\n",
       "    </tr>\n",
       "    <tr>\n",
       "      <th>top</th>\n",
       "      <td>2023-02-01 00:00:00</td>\n",
       "      <td>173.84</td>\n",
       "      <td>192.70</td>\n",
       "      <td>212.69</td>\n",
       "      <td>180.94</td>\n",
       "      <td>126.65</td>\n",
       "    </tr>\n",
       "    <tr>\n",
       "      <th>freq</th>\n",
       "      <td>1</td>\n",
       "      <td>2</td>\n",
       "      <td>2</td>\n",
       "      <td>3</td>\n",
       "      <td>2</td>\n",
       "      <td>3</td>\n",
       "    </tr>\n",
       "    <tr>\n",
       "      <th>first</th>\n",
       "      <td>2023-02-01 00:00:00</td>\n",
       "      <td>NaN</td>\n",
       "      <td>NaN</td>\n",
       "      <td>NaN</td>\n",
       "      <td>NaN</td>\n",
       "      <td>NaN</td>\n",
       "    </tr>\n",
       "    <tr>\n",
       "      <th>last</th>\n",
       "      <td>2024-02-29 00:00:00</td>\n",
       "      <td>NaN</td>\n",
       "      <td>NaN</td>\n",
       "      <td>NaN</td>\n",
       "      <td>NaN</td>\n",
       "      <td>NaN</td>\n",
       "    </tr>\n",
       "  </tbody>\n",
       "</table>\n",
       "</div>"
      ],
      "text/plain": [
       "                       date   I-CIP colombian_milds other_milds brazilian_nat  \\\n",
       "count                   279     279             279         279           279   \n",
       "unique                  279     270             274         273           272   \n",
       "top     2023-02-01 00:00:00  173.84          192.70      212.69        180.94   \n",
       "freq                      1       2               2           3             2   \n",
       "first   2023-02-01 00:00:00     NaN             NaN         NaN           NaN   \n",
       "last    2024-02-29 00:00:00     NaN             NaN         NaN           NaN   \n",
       "\n",
       "       robustas  \n",
       "count       279  \n",
       "unique      267  \n",
       "top      126.65  \n",
       "freq          3  \n",
       "first       NaN  \n",
       "last        NaN  "
      ]
     },
     "execution_count": 24,
     "metadata": {},
     "output_type": "execute_result"
    }
   ],
   "source": [
    "# Summary Statistics\n",
    "print(merged_df.info())\n",
    "merged_df.describe()"
   ]
  },
  {
   "cell_type": "code",
   "execution_count": 25,
   "id": "28b17e77",
   "metadata": {},
   "outputs": [
    {
     "name": "stdout",
     "output_type": "stream",
     "text": [
      "date               datetime64[ns]\n",
      "I-CIP                     float64\n",
      "colombian_milds           float64\n",
      "other_milds               float64\n",
      "brazilian_nat             float64\n",
      "robustas                  float64\n",
      "dtype: object\n"
     ]
    }
   ],
   "source": [
    "# Convert numerical columns to numeric type\n",
    "\n",
    "#merged_df['date'] = pd.to_datetime(merged_df['date']) \n",
    "\n",
    "merged_df['I-CIP'] = pd.to_numeric(merged_df['I-CIP'])\n",
    "merged_df['colombian_milds'] = pd.to_numeric(merged_df['colombian_milds'])\n",
    "merged_df['other_milds'] = pd.to_numeric(merged_df['other_milds'])\n",
    "merged_df['brazilian_nat'] = pd.to_numeric(merged_df['brazilian_nat'])\n",
    "merged_df['robustas'] = pd.to_numeric(merged_df['robustas'])\n",
    "\n",
    "# Confirm the data types after conversion\n",
    "print(merged_df.dtypes)"
   ]
  },
  {
   "cell_type": "code",
   "execution_count": 26,
   "id": "d6570ee2",
   "metadata": {},
   "outputs": [
    {
     "data": {
      "text/html": [
       "<div>\n",
       "<style scoped>\n",
       "    .dataframe tbody tr th:only-of-type {\n",
       "        vertical-align: middle;\n",
       "    }\n",
       "\n",
       "    .dataframe tbody tr th {\n",
       "        vertical-align: top;\n",
       "    }\n",
       "\n",
       "    .dataframe thead th {\n",
       "        text-align: right;\n",
       "    }\n",
       "</style>\n",
       "<table border=\"1\" class=\"dataframe\">\n",
       "  <thead>\n",
       "    <tr style=\"text-align: right;\">\n",
       "      <th></th>\n",
       "      <th>date</th>\n",
       "      <th>I-CIP</th>\n",
       "      <th>colombian_milds</th>\n",
       "      <th>other_milds</th>\n",
       "      <th>brazilian_nat</th>\n",
       "      <th>robustas</th>\n",
       "    </tr>\n",
       "  </thead>\n",
       "  <tbody>\n",
       "    <tr>\n",
       "      <th>0</th>\n",
       "      <td>2023-02-01</td>\n",
       "      <td>171.43</td>\n",
       "      <td>235.92</td>\n",
       "      <td>223.22</td>\n",
       "      <td>191.65</td>\n",
       "      <td>102.31</td>\n",
       "    </tr>\n",
       "    <tr>\n",
       "      <th>1</th>\n",
       "      <td>2023-02-02</td>\n",
       "      <td>172.50</td>\n",
       "      <td>237.34</td>\n",
       "      <td>226.26</td>\n",
       "      <td>192.86</td>\n",
       "      <td>102.00</td>\n",
       "    </tr>\n",
       "    <tr>\n",
       "      <th>2</th>\n",
       "      <td>2023-02-03</td>\n",
       "      <td>169.47</td>\n",
       "      <td>232.24</td>\n",
       "      <td>221.86</td>\n",
       "      <td>188.61</td>\n",
       "      <td>101.52</td>\n",
       "    </tr>\n",
       "    <tr>\n",
       "      <th>3</th>\n",
       "      <td>2023-02-06</td>\n",
       "      <td>171.29</td>\n",
       "      <td>235.17</td>\n",
       "      <td>224.80</td>\n",
       "      <td>190.77</td>\n",
       "      <td>102.02</td>\n",
       "    </tr>\n",
       "    <tr>\n",
       "      <th>4</th>\n",
       "      <td>2023-02-07</td>\n",
       "      <td>172.14</td>\n",
       "      <td>235.65</td>\n",
       "      <td>226.72</td>\n",
       "      <td>191.92</td>\n",
       "      <td>102.10</td>\n",
       "    </tr>\n",
       "    <tr>\n",
       "      <th>5</th>\n",
       "      <td>2023-02-08</td>\n",
       "      <td>171.23</td>\n",
       "      <td>234.06</td>\n",
       "      <td>225.13</td>\n",
       "      <td>190.38</td>\n",
       "      <td>102.35</td>\n",
       "    </tr>\n",
       "    <tr>\n",
       "      <th>6</th>\n",
       "      <td>2023-02-09</td>\n",
       "      <td>169.89</td>\n",
       "      <td>232.17</td>\n",
       "      <td>223.54</td>\n",
       "      <td>188.61</td>\n",
       "      <td>101.71</td>\n",
       "    </tr>\n",
       "    <tr>\n",
       "      <th>7</th>\n",
       "      <td>2023-02-10</td>\n",
       "      <td>170.31</td>\n",
       "      <td>233.38</td>\n",
       "      <td>223.14</td>\n",
       "      <td>189.73</td>\n",
       "      <td>101.76</td>\n",
       "    </tr>\n",
       "    <tr>\n",
       "      <th>8</th>\n",
       "      <td>2023-02-13</td>\n",
       "      <td>171.50</td>\n",
       "      <td>235.34</td>\n",
       "      <td>224.91</td>\n",
       "      <td>191.24</td>\n",
       "      <td>102.06</td>\n",
       "    </tr>\n",
       "    <tr>\n",
       "      <th>9</th>\n",
       "      <td>2023-02-14</td>\n",
       "      <td>175.86</td>\n",
       "      <td>241.56</td>\n",
       "      <td>231.13</td>\n",
       "      <td>197.28</td>\n",
       "      <td>103.26</td>\n",
       "    </tr>\n",
       "  </tbody>\n",
       "</table>\n",
       "</div>"
      ],
      "text/plain": [
       "        date   I-CIP  colombian_milds  other_milds  brazilian_nat  robustas\n",
       "0 2023-02-01  171.43           235.92       223.22         191.65    102.31\n",
       "1 2023-02-02  172.50           237.34       226.26         192.86    102.00\n",
       "2 2023-02-03  169.47           232.24       221.86         188.61    101.52\n",
       "3 2023-02-06  171.29           235.17       224.80         190.77    102.02\n",
       "4 2023-02-07  172.14           235.65       226.72         191.92    102.10\n",
       "5 2023-02-08  171.23           234.06       225.13         190.38    102.35\n",
       "6 2023-02-09  169.89           232.17       223.54         188.61    101.71\n",
       "7 2023-02-10  170.31           233.38       223.14         189.73    101.76\n",
       "8 2023-02-13  171.50           235.34       224.91         191.24    102.06\n",
       "9 2023-02-14  175.86           241.56       231.13         197.28    103.26"
      ]
     },
     "execution_count": 26,
     "metadata": {},
     "output_type": "execute_result"
    }
   ],
   "source": [
    "merged_df.head(10)"
   ]
  },
  {
   "cell_type": "code",
   "execution_count": 27,
   "id": "e5c8b019",
   "metadata": {},
   "outputs": [
    {
     "name": "stdout",
     "output_type": "stream",
     "text": [
      "          date   I-CIP  colombian_milds  other_milds  brazilian_nat  robustas\n",
      "274 2024-02-23  177.80           204.48       202.46         183.74    149.40\n",
      "275 2024-02-26  177.48           204.12       202.11         183.48    149.08\n",
      "276 2024-02-27  180.23           207.11       205.10         186.34    151.51\n",
      "277 2024-02-28  179.12           206.01       204.00         185.39    150.23\n",
      "278 2024-02-29  180.11           207.67       205.52         186.73    150.40\n",
      "(279, 6)\n"
     ]
    }
   ],
   "source": [
    "print(merged_df.tail())\n",
    "print(merged_df.shape)"
   ]
  },
  {
   "cell_type": "code",
   "execution_count": 28,
   "id": "0ea4a800",
   "metadata": {},
   "outputs": [
    {
     "data": {
      "text/html": [
       "<div>\n",
       "<style scoped>\n",
       "    .dataframe tbody tr th:only-of-type {\n",
       "        vertical-align: middle;\n",
       "    }\n",
       "\n",
       "    .dataframe tbody tr th {\n",
       "        vertical-align: top;\n",
       "    }\n",
       "\n",
       "    .dataframe thead th {\n",
       "        text-align: right;\n",
       "    }\n",
       "</style>\n",
       "<table border=\"1\" class=\"dataframe\">\n",
       "  <thead>\n",
       "    <tr style=\"text-align: right;\">\n",
       "      <th></th>\n",
       "      <th>I-CIP</th>\n",
       "      <th>colombian_milds</th>\n",
       "      <th>other_milds</th>\n",
       "      <th>brazilian_nat</th>\n",
       "      <th>robustas</th>\n",
       "    </tr>\n",
       "  </thead>\n",
       "  <tbody>\n",
       "    <tr>\n",
       "      <th>count</th>\n",
       "      <td>279.000000</td>\n",
       "      <td>279.000000</td>\n",
       "      <td>279.000000</td>\n",
       "      <td>279.000000</td>\n",
       "      <td>279.000000</td>\n",
       "    </tr>\n",
       "    <tr>\n",
       "      <th>mean</th>\n",
       "      <td>167.806344</td>\n",
       "      <td>208.039391</td>\n",
       "      <td>205.646452</td>\n",
       "      <td>175.466631</td>\n",
       "      <td>125.725233</td>\n",
       "    </tr>\n",
       "    <tr>\n",
       "      <th>std</th>\n",
       "      <td>10.987927</td>\n",
       "      <td>18.839311</td>\n",
       "      <td>16.566665</td>\n",
       "      <td>15.712895</td>\n",
       "      <td>14.122864</td>\n",
       "    </tr>\n",
       "    <tr>\n",
       "      <th>min</th>\n",
       "      <td>145.990000</td>\n",
       "      <td>178.820000</td>\n",
       "      <td>174.970000</td>\n",
       "      <td>147.660000</td>\n",
       "      <td>101.520000</td>\n",
       "    </tr>\n",
       "    <tr>\n",
       "      <th>25%</th>\n",
       "      <td>158.515000</td>\n",
       "      <td>191.510000</td>\n",
       "      <td>192.210000</td>\n",
       "      <td>160.720000</td>\n",
       "      <td>117.625000</td>\n",
       "    </tr>\n",
       "    <tr>\n",
       "      <th>50%</th>\n",
       "      <td>170.110000</td>\n",
       "      <td>206.310000</td>\n",
       "      <td>204.100000</td>\n",
       "      <td>179.980000</td>\n",
       "      <td>124.470000</td>\n",
       "    </tr>\n",
       "    <tr>\n",
       "      <th>75%</th>\n",
       "      <td>176.955000</td>\n",
       "      <td>225.185000</td>\n",
       "      <td>220.645000</td>\n",
       "      <td>188.370000</td>\n",
       "      <td>131.700000</td>\n",
       "    </tr>\n",
       "    <tr>\n",
       "      <th>max</th>\n",
       "      <td>187.290000</td>\n",
       "      <td>249.040000</td>\n",
       "      <td>242.710000</td>\n",
       "      <td>207.450000</td>\n",
       "      <td>158.780000</td>\n",
       "    </tr>\n",
       "  </tbody>\n",
       "</table>\n",
       "</div>"
      ],
      "text/plain": [
       "            I-CIP  colombian_milds  other_milds  brazilian_nat    robustas\n",
       "count  279.000000       279.000000   279.000000     279.000000  279.000000\n",
       "mean   167.806344       208.039391   205.646452     175.466631  125.725233\n",
       "std     10.987927        18.839311    16.566665      15.712895   14.122864\n",
       "min    145.990000       178.820000   174.970000     147.660000  101.520000\n",
       "25%    158.515000       191.510000   192.210000     160.720000  117.625000\n",
       "50%    170.110000       206.310000   204.100000     179.980000  124.470000\n",
       "75%    176.955000       225.185000   220.645000     188.370000  131.700000\n",
       "max    187.290000       249.040000   242.710000     207.450000  158.780000"
      ]
     },
     "execution_count": 28,
     "metadata": {},
     "output_type": "execute_result"
    }
   ],
   "source": [
    "merged_df.describe()"
   ]
  },
  {
   "cell_type": "markdown",
   "id": "8d8a7a3b",
   "metadata": {},
   "source": [
    " Considering the ICIP values, we have 279 data points showing the prices of the I-CIP. On average, the price is about 167.80 usd. The prices range from as low as 145.99usd to as high as 187.29usd showing some flutctuation over the 1 year of data collected so far. Most of the prices (from the 25th to the 75th percentile) fall between 158.51usd and 176.95usd, with the median of 170 usd. This suggests that while the majority of prices are clustered around the average, there are some higher-priced outliers."
   ]
  },
  {
   "cell_type": "code",
   "execution_count": null,
   "id": "91a4ba9d",
   "metadata": {
    "scrolled": false
   },
   "outputs": [
    {
     "data": {
      "image/png": "[encoded data removed]",
      "text/plain": [
       "<Figure size 640x480 with 1 Axes>"
      ]
     },
     "metadata": {},
     "output_type": "display_data"
    },
    {
     "data": {
      "image/png": "[encoded data removed]",
      "text/plain": [
       "<Figure size 640x480 with 1 Axes>"
      ]
     },
     "metadata": {},
     "output_type": "display_data"
    },
    {
     "data": {
      "image/png": "[encoded data removed]",
      "text/plain": [
       "<Figure size 640x480 with 1 Axes>"
      ]
     },
     "metadata": {},
     "output_type": "display_data"
    }
   ],
   "source": [
    "for column in merged_df.columns:\n",
    "    plt.plot(merged_df[column])\n",
    "    plt.title(column)\n",
    "    plt.show()\n",
    "# tranform date column to correct datetime type and make it as index!"
   ]
  },
  {
   "cell_type": "code",
   "execution_count": null,
   "id": "c0e5dcfd",
   "metadata": {},
   "outputs": [],
   "source": [
    "import matplotlib.pyplot as plt\n",
    "\n",
    "# Iterate over columns and plot each one on the same graph\n",
    "plt.figure(figsize=(10, 6))\n",
    "for column in merged_df.columns:\n",
    "    if column != 'date':  # Exclude 'date' column from plotting\n",
    "        plt.plot(merged_df['date'], merged_df[column], label=column)\n",
    "\n",
    "# Add labels and legend\n",
    "plt.xlabel('Date')\n",
    "plt.ylabel('Values')\n",
    "plt.title('Line Graph of Column Values')\n",
    "plt.legend()\n",
    "\n",
    "# Show plot\n",
    "plt.show()"
   ]
  },
  {
   "cell_type": "code",
   "execution_count": null,
   "id": "53335711",
   "metadata": {},
   "outputs": [],
   "source": [
    "#date feature mmust be the index!\n",
    "\n",
    "#create new variable for merged_df and reseting date as the index for building time series in later stages\n",
    "# Set 'date' column as index\n",
    "merged_df.set_index('date', inplace=True)\n",
    "\n",
    "#print output\n",
    "icip_df = merged_df\n",
    "print(icip_df.head())"
   ]
  },
  {
   "cell_type": "code",
   "execution_count": null,
   "id": "3708fb8f",
   "metadata": {
    "scrolled": false
   },
   "outputs": [],
   "source": [
    "icip_df.info()"
   ]
  },
  {
   "cell_type": "markdown",
   "id": "534384a4",
   "metadata": {},
   "source": [
    "### Checkin for Missing Values \n"
   ]
  },
  {
   "cell_type": "code",
   "execution_count": null,
   "id": "a5ab0aa5",
   "metadata": {},
   "outputs": [],
   "source": [
    "icip_df.isna().sum()"
   ]
  },
  {
   "cell_type": "code",
   "execution_count": null,
   "id": "f83553bf",
   "metadata": {},
   "outputs": [],
   "source": [
    "sns.boxplot(data=icip_df, orient='v', palette='Set2')\n",
    "plt.title('Boxplot by Variable')\n",
    "plt.ylabel('Value')\n",
    "plt.xticks(rotation=45)\n",
    "plt.show()"
   ]
  },
  {
   "cell_type": "markdown",
   "id": "d716001e",
   "metadata": {},
   "source": [
    " 'I-CIP' has the narrowest interquartile range, indicating less variability in its values compared to the other categories. 'Robustas' not only has an outlier but also has the lowest median value and seems to have the most variability. 'Colombian_milds' and 'other_milds' have similar medians, but 'colombian_milds' displays a wider interquartile range, suggesting greater variability. The 'brazilian_nat' has its median below the 'colombian_milds' and 'other_milds', but above 'I-CIP' and 'robustas'."
   ]
  },
  {
   "cell_type": "code",
   "execution_count": null,
   "id": "e44628e2",
   "metadata": {},
   "outputs": [],
   "source": [
    "import plotly.graph_objects as go\n",
    "\n",
    "# Define colors from the Set2 palette\n",
    "colors = ['#66c2a5', '#fc8d62', '#8da0cb', '#e78ac3', '#a6d854']\n",
    "\n",
    "# Create boxplot traces\n",
    "box_traces = []\n",
    "for i, column in enumerate(icip_df.columns):\n",
    "    box_trace = go.Box(y=icip_df[column], name=column, marker=dict(color=colors[i]))\n",
    "    box_traces.append(box_trace)\n",
    "\n",
    "# Create layout\n",
    "layout = go.Layout(title='Boxplot by Variable', yaxis=dict(title='Value'), xaxis=dict(title='Variable'))\n",
    "\n",
    "# Create figure\n",
    "fig = go.Figure(data=box_traces, layout=layout)\n",
    "\n",
    "# Show plot\n",
    "fig.show()"
   ]
  },
  {
   "cell_type": "code",
   "execution_count": null,
   "id": "240d6e62",
   "metadata": {},
   "outputs": [],
   "source": [
    "# Bar plot\n",
    "plt.figure(figsize=(10, 6))\n",
    "icip_df.mean().plot(kind='bar', color='skyblue')\n",
    "plt.title('Mean Values of Variables')\n",
    "plt.xlabel('Variables')\n",
    "plt.ylabel('Mean')\n",
    "plt.xticks(rotation=45)\n",
    "plt.show()"
   ]
  },
  {
   "cell_type": "markdown",
   "id": "2034802a",
   "metadata": {},
   "source": [
    "### Checking Normality and Outliers\n",
    "\n",
    "- Outliers: Data points significantly distant from the mean or outside the IQR.\n",
    "- Z-score: Measures distance from the mean in terms of standard deviations.\n",
    "- Interquartile Range (IQR): Indicates the spread of the middle 50% of the data.\n",
    "\n",
    "Outliers can affect the analysis in many ways. They can skew your data and affect the mean and standard deviation, making it difficult to obtain accurate estimates. Outliers can also affect the regression line and lead to incorrect predictions. Therefore, it is crucial to identify and exclude outliers before conducting any analysis.\n",
    "\n",
    "For the sake of this experient, at least at this fisrt stage only the I-CIP values will be considered for now. (however, i could also only attempt to forescast with one of the beans from the composite price: the \n",
    "So ill store the values on a separate datframe and check for distribution and outliers only with this feature.\n",
    "\n",
    "\n",
    "Other things to consider:\n",
    "\n",
    " When dealing with stock prices and index prices, considering the frequency is an important attribute. In this case, using a frequency of 'B' for Business days, we must also include the holidays? but then which ones are considered by the ico to formulate this prices and how can i check the effects of them in the closing prices? \n",
    " \n",
    "On Priya Lingutla' tutorial, she mentions a way to also include the holidays in the analysis. Her project was based on sales demand using fb prophet, but for stock prices I am not entirely sure how the data could be affecte, since we use only closing prices for the predictions. Once the pirce is close it s https://github.com/priyalingutla/30-Days-Of-Data/blob/main/DAY%201%20Forecasting%20%2330daysofdata.ipynb\n",
    " \n",
    "   \n",
    "   \"Futures contracts are financial derivatives that obligate the buyer to purchase an asset (in this case, coffee) or the seller to sell an asset at a predetermined future date and price. In the case of coffee futures, the price is typically determined based on various factors such as <b>supply and demand dynamics, weather conditions affecting coffee production, geopolitical events, and market sentiment<b/>.\"\n",
    "    \n",
    " As of 20/mar - To gather more historical data on the icip values further back 22 on, i still dont have an answer from cct or ico, but there is a way to access yahoo finance api to collect the data from Brazilian naturals (arabica beans) https://finance.yahoo.com/quote/KCK24.NYB // https://www.nasdaq.com/articles/arabica-coffee-under-pressure-from-weakness-in-the-brazilian-real\n",
    "        "
   ]
  },
  {
   "cell_type": "code",
   "execution_count": null,
   "id": "33bdafcf",
   "metadata": {},
   "outputs": [],
   "source": [
    "# Create a new DataFrame with only the 'date' and 'I-CIP' columns\n",
    "price_df = icip_df[['I-CIP']].copy()\n",
    "\n",
    "# Display the first few rows of the new DataFrame\n",
    "print(price_df.head())\n",
    "\n",
    "# Save the new DataFrame to a CSV file\n",
    "price_df.to_csv('icip_prices.csv', index=False)\n",
    "\n",
    "\n",
    "# To avoid having to repeatedly pull data using the Pandas data reader. \n",
    "#store new organised data in chronological order!"
   ]
  },
  {
   "cell_type": "code",
   "execution_count": null,
   "id": "4b76b5ff",
   "metadata": {},
   "outputs": [],
   "source": [
    "price_df.info()"
   ]
  },
  {
   "cell_type": "code",
   "execution_count": null,
   "id": "0860bf34",
   "metadata": {
    "scrolled": false
   },
   "outputs": [],
   "source": [
    "\n",
    "\n",
    "# Create histogram\n",
    "fig = px.histogram(price_df, x='I-CIP', nbins=30) #changing the number of bins makes the curve clearer, 10, 20 were also used\n",
    "\n",
    "# Update layout\n",
    "fig.update_layout(\n",
    "    title='I-CIP Histogram',\n",
    "    xaxis_title='Price',\n",
    "    yaxis_title='Frequency'\n",
    ")\n",
    "\n",
    "# Show plot\n",
    "fig.show()"
   ]
  },
  {
   "cell_type": "code",
   "execution_count": null,
   "id": "102c8617",
   "metadata": {},
   "outputs": [],
   "source": [
    "# Changing some of the aesthetics... adding in a kernel desnity estimate:\n",
    "ax = sns.histplot(price_df['I-CIP'], kde=True, color ='green')\n",
    "ax.set(xlabel='i-cip',\n",
    "       ylabel='Frequency',\n",
    "       title =\"ICO Composite Prices  Histogram\")"
   ]
  },
  {
   "cell_type": "markdown",
   "id": "283db95e",
   "metadata": {},
   "source": [
    "From the histogram above, we can see the data doensnt show a normal distribution of values, the graph below a kde is added to the plot to make it even clearer. The Bimodal distribution indicates the presence of two distinct groups within the dataset, each with its own central tendency. (two populations in the sample)\n",
    "<br>\n",
    "<br>\n",
    "\n",
    "This often suggests that this dataset may be influenced by two different underlying processes or conditions.  In terms of comodity markets, for example,  a distribution like this one might reflect different market dynamics or consumption patterns across two separate seasons or market segments. \n",
    " <br>\n",
    " The next step is to consider whether these modes represent meaningful segments that require additional analysis or modeling strategies. By fitting a <b>Gaussian Mixture Model</b> or exploring the data's skewness and kurtosis, we can dive deeper into understanding the characteristics of these subgroups, which can give more insight son how to proceed to tailoring the forecasting models. \n",
    "\n",
    "\n"
   ]
  },
  {
   "cell_type": "code",
   "execution_count": null,
   "id": "b41d2eaf",
   "metadata": {},
   "outputs": [],
   "source": [
    "\n",
    "# Create a figure with two subplots to check for distribution\n",
    "fig, axs = plt.subplots(1, 2, figsize=(12, 4))\n",
    "\n",
    "# Plot histogram of icip prices in the first subplot\n",
    "axs[0].hist(price_df['I-CIP'], bins=10)\n",
    "axs[0].set_title('Histogram of I-CIP values')\n",
    "axs[0].set_xlabel('Value')\n",
    "axs[0].set_ylabel('Frequency')\n",
    "\n",
    "# Plot probability plot of prices in the second subplot\n",
    "stats.probplot(price_df['I-CIP'], dist='norm', plot=axs[1])\n",
    "axs[1].set_title('Probability Plot of Values')\n",
    "\n",
    "# Adjust the layout to avoid overlapping titles and labels\n",
    "plt.tight_layout()\n",
    "\n",
    "# Show the plots\n",
    "plt.show()"
   ]
  },
  {
   "cell_type": "markdown",
   "id": "851907dc",
   "metadata": {},
   "source": [
    "the data shows some characteristics of a normal distribution but with potential signs of bimodality and the presence of outliers or heavy tails. This can often happen in real-world data where multiple factors contribute to the observed values, which can lead to more complex distributions deviating from the ideally normal dist. "
   ]
  },
  {
   "cell_type": "code",
   "execution_count": null,
   "id": "0ad4f1f8",
   "metadata": {},
   "outputs": [],
   "source": [
    "\n",
    "from scipy.stats import skew, kurtosis\n",
    "from sklearn.mixture import GaussianMixture\n",
    "\n",
    "# Visual Inspection\n",
    "plt.hist(price_df['I-CIP'], bins=30, alpha=0.5, color='blue', density=True)\n",
    "price_df['I-CIP'].plot(kind='density', color='green')\n",
    "plt.title('Histogram and Density Plot')\n",
    "plt.show()\n",
    "\n",
    "# Check skewness and kurtosis\n",
    "data_skewness = skew(price_df['I-CIP'])\n",
    "data_kurtosis = kurtosis(price_df['I-CIP'])\n",
    "print(f\"Skewness: {data_skewness}\")\n",
    "print(f\"Kurtosis: {data_kurtosis}\")\n",
    "\n",
    "# Fitting a Gaussian Mixture Model\n",
    "gmm = GaussianMixture(n_components=2, random_state=0).fit(np.expand_dims(price_df['I-CIP'], 1))\n",
    "gmm_scores = gmm.score_samples(np.expand_dims(price_df['I-CIP'], 1))\n",
    "\n",
    "print(f\"GMM Converged: {gmm.converged_}\") # Check if the algorithm has converged\n",
    "print(f\"GMM Weights: {gmm.weights_}\") # Gives the weights of the two components\n",
    "\n",
    "# Plotting the GMM results\n",
    "plt.hist(price_df['I-CIP'], bins=30, alpha=0.5, color='blue', density=True)\n",
    "plt.plot(np.linspace(min(price_df['I-CIP']), max(price_df['I-CIP']), len(gmm_scores)), np.exp(gmm_scores), color='red')\n",
    "plt.title('Histogram with GMM-estimated Density')\n",
    "plt.show()"
   ]
  },
  {
   "cell_type": "markdown",
   "id": "29366ad6",
   "metadata": {},
   "source": [
    "- Skewness: negatively skewed data ( -0.23), suggests the asymmetry in the data is not very pronounced but says the left tail is sligly longer the right one. \n",
    "\n",
    "- Kurtosis: also a negative value of -1.1 that indicates that the distribution is flatter than a normal distribution with a lower peak. It also implies that the tails of the distribution are thinner, resulting in fewer extreme values (outliers) than you would expect in a normal distribution.\n",
    "\n",
    "\n",
    "\n",
    "- GMM: captures the nuances of the data distribution better than a single Gaussian distribution would, reinforcing the idea that multiple subpopulations exist within the data. From the plot above, a multimodal distribution can be identified, marked by the multiple peaks in the histogram and the complex shape of the GMM density curve. This suggests that the data is derived from several subgroups rather than a single source, as highlighted by the density curve's multiple turning points that map out the various modes or even clusters within the data. https://scikit-learn.org/stable/modules/mixture.html#variational-bayesian-gaussian-mixture\n"
   ]
  },
  {
   "cell_type": "code",
   "execution_count": null,
   "id": "4b71ae49",
   "metadata": {},
   "outputs": [],
   "source": [
    "# Calculate Z-score for each data point\n",
    "price_df['I-CIP_Zscore'] = (price_df['I-CIP'] - price_df['I-CIP'].mean()) / price_df['I-CIP'].std()\n",
    "\n",
    "# Define threshold for outlier detection (e.g., Z-score > 3 or < -3)\n",
    "outlier_threshold = 3\n",
    "\n",
    "# Filter outliers based on the threshold\n",
    "outliers = price_df[np.abs(price_df['I-CIP_Zscore']) > outlier_threshold]\n",
    "\n",
    "# Create scatter plot\n",
    "plt.figure(figsize=(10, 6))\n",
    "sns.scatterplot(x='date', y='I-CIP', data=price_df, label='Data points')\n",
    "sns.scatterplot(x='date', y='I-CIP', data=outliers, color='red', label='Outliers')\n",
    "plt.title('Scatter Plot of I-CIP Prices with Outliers')\n",
    "plt.xlabel('Date')\n",
    "plt.ylabel('I-CIP Price')\n",
    "plt.legend()\n",
    "plt.xticks(rotation=45)\n",
    "plt.show()"
   ]
  },
  {
   "cell_type": "markdown",
   "id": "32538a57",
   "metadata": {},
   "source": [
    "The dataset contains 279 observations, ranging between February 1, 2023, to February 29, 2024.\n",
    "It consists of 5 columns, all of which are now numeric (float64 dtype) and a DatetimeIndex\n",
    "There are no missing values in any of the columns in the present dataframe.\n",
    "\n",
    "However, if we consider the entire range of days between the fisrt and last day, there is a considerable gapof over 100 days for the continious period in the index. The values are presumably collected between mon-fri, so it does not include weekends and/or holidays to the original dataframe. \n",
    "<br>\n",
    "<br>\n",
    "<br>\n",
    "Considering the ICO uses usd for their commercial practices, only the US holidays would be considered to be added to the dataset. using pandas libary 'holidays' the missing dates can be found. this is important before aplying forecasting models because they require a sequencial order of index to predict future values, and even our dataset doenst display missing values, there are actual dates missing from the datacollection. \n",
    "\n"
   ]
  },
  {
   "cell_type": "code",
   "execution_count": null,
   "id": "00f194a6",
   "metadata": {},
   "outputs": [],
   "source": [
    "## Checking how many days are present in the dataset\n",
    "\n",
    "print(f'Dataframe contains prices between {icip_df.index.min()} {icip_df.index.max()}')\n",
    "print(f'Total Days = {icip_df.index.max() - icip_df.index.min()} days')"
   ]
  },
  {
   "cell_type": "code",
   "execution_count": null,
   "id": "23d101c4",
   "metadata": {},
   "outputs": [],
   "source": [
    "price_df.head()"
   ]
  },
  {
   "cell_type": "code",
   "execution_count": null,
   "id": "e2467398",
   "metadata": {
    "scrolled": false
   },
   "outputs": [],
   "source": [
    "icip_df.head()"
   ]
  },
  {
   "cell_type": "markdown",
   "id": "049cbbe8",
   "metadata": {},
   "source": [
    "### Checking montly seasonality\n",
    "\n",
    "These boxplots can help to visualize how each month behaves across the year we have data. "
   ]
  },
  {
   "cell_type": "code",
   "execution_count": null,
   "id": "26a3a903",
   "metadata": {},
   "outputs": [],
   "source": [
    "#\n",
    "#\n",
    "#icip_df.index = pd.to_datetime(icip_df.index)\n",
    "\n",
    "# Extract year and month from the index\n",
    "icip_df['year'] = icip_df.index.year\n",
    "icip_df['month'] = icip_df.index.month_name().str[:3]  # This will give you the three-letter month abbreviation.\n",
    "\n",
    "# Now 'icip_df' will have 'year' and 'month' columns with the respective year and three-letter month abbreviation."
   ]
  },
  {
   "cell_type": "code",
   "execution_count": null,
   "id": "52a51b24",
   "metadata": {
    "scrolled": false
   },
   "outputs": [],
   "source": [
    "#adding month column\n",
    "#icip_df['month'] = icip_df.date.dt.month\n",
    "\n",
    "# Draw Plot\n",
    "plt.figure(figsize=(12, 7), dpi=80)\n",
    "sns.boxplot(x='month', y='I-CIP', data=icip_df)\n",
    "\n",
    "# Set Title\n",
    "plt.title('Month-wise Box Plot of I-CIP Prices of 2023\\n(The Seasonality)', fontsize=18)\n",
    "\n",
    "# Show the plot\n",
    "plt.show()"
   ]
  },
  {
   "cell_type": "markdown",
   "id": "f1dd67ed",
   "metadata": {},
   "source": [
    "When comparing across months, the distribution of prices in the later months (like November and December) differs from the earlier months (such as February and March), which could imply changes in market conditions or supply and demand dynamics throughout the year.\n",
    "\n",
    "- Price Volatility: The varying heights of the boxes indicate that price volatility changes throughout the year. Some months, like February, March, and April, show greater variability in I-CIP prices, while others, such as August and September, appear more stable.\n",
    "\n",
    "- Outliers: There are a few outliers, particularly in months like September and November. These could indicate unusual market events or data anomalies.\n",
    "- The medians of the boxes show a cyclical pattern, suggesting that I-CIP prices may have a seasonal component, with certain months typically having higher or lower prices."
   ]
  },
  {
   "cell_type": "markdown",
   "id": "6c987660",
   "metadata": {},
   "source": []
  },
  {
   "cell_type": "code",
   "execution_count": null,
   "id": "b32cc193",
   "metadata": {},
   "outputs": [],
   "source": [
    "icip_df.head()"
   ]
  },
  {
   "cell_type": "markdown",
   "id": "b8d4bbfe",
   "metadata": {},
   "source": [
    "## Decomposing data for Seasonality and Trend \n",
    "\n",
    " For a series to be classified as stationary, it should not exhibit a trend. From thw visualisations above, we can assume there is a positive trend at the first half of the graph, with a sharp decrease in the end of the dataset.  \"Predicting future values is easier with a stationary series, enhancing the precision of statistical models. Thus, for effective predictions, ensuring stationarity is crucial.\" https://www.analyticsvidhya.com/blog/2018/09/an-introduction-to-non-stationary-time-series-in-python/\n",
    "\n",
    "The first part of the next code will consists of a lineplot to visualize the time series data of how the values change over time. Next is performed a seasonal decomposition for each column in the DataFrame. It iterates over each column, decomposes the time series into trend, seasonal, and residual/noise components using the seasonal decompose function from statsmodels, and plots the decomposed components. This helps in understanding the underlying patterns and trends in the data.\n",
    "\n",
    "\"Decomposition provides a useful abstract model for thinking about time series generally and for better understanding problems during time series analysis and forecasting.\" Brownlee,2020 https://machinelearningmastery.com/decompose-time-series-data-trend-seasonality/\n",
    "\n",
    "\"Decomposition is the process of breaking down a time series into its constituent components, typically trend, seasonality, and residual (noise). Trend represents the long-term movement or directionality of the data, seasonality captures periodic fluctuations, and residual represents random fluctuations or noise. Decomposition helps understanding the underlying patterns in the data before modeling and forecasting\" Dey, 2024 (https://medium.com/@roshmitadey/time-series-decomposition-62cbf31ab65e)\n",
    "Bonaros, 2021 (https://towardsdatascience.com/time-series-decomposition-in-python-8acac385a5b2)\n",
    "\n",
    "Finally, the last part of the code returns the autocorrelation function (ACF) and partial autocorrelation function (PACF) plots for each column in the DataFrame. \n",
    "Each plot gives us insights about the autocorrelation and partial autocorrelation at different lags, to help identify the order of autoregressive (AR) and moving average (MA) terms for time series modeling.\n",
    "\n",
    "\n",
    "Other ways to decompose data for timeseries models, (advanced tecniques for more complex, irregular or non-stationary data)\n",
    "- Seasonal and Trend decomposition using Loess (STL)\n",
    "- Wavelet Decomposition\n",
    "- Singular Spectrum Analysis (SSA):\n",
    "\n",
    "(Dey, 2024)"
   ]
  },
  {
   "cell_type": "code",
   "execution_count": null,
   "id": "12767885",
   "metadata": {},
   "outputs": [],
   "source": [
    "#checking the versions of keras and tensorflow for this notebook\n",
    "# anaconda needs to be set on base(root)!!!! (do not use anaconda3\n",
    "#otherwise kernel will die while running)\n",
    "import keras\n",
    "import tensorflow as tf\n",
    "\n",
    "print(\"Keras version:\", keras.__version__)\n",
    "print(\"TensorFlow version:\", tf.__version__)"
   ]
  },
  {
   "cell_type": "markdown",
   "id": "7cdfec38",
   "metadata": {},
   "source": [
    "### Visualizing the time series for Coffee prices"
   ]
  },
  {
   "cell_type": "code",
   "execution_count": null,
   "id": "159e1e4d",
   "metadata": {
    "scrolled": false
   },
   "outputs": [],
   "source": [
    "\n",
    "# Initially had the seasonal deco and ACF of all columns gathered in the same code, \n",
    "#ended up being too crowded/poluted and hard to comprehend. They are marked as comments bellow. \n",
    "\n",
    "# Visualize how values change over time\n",
    "price_df['I-CIP'].plot(figsize=(12, 6))\n",
    "plt.title('Time Series Data')\n",
    "plt.xlabel('Date')\n",
    "plt.ylabel('Value')\n",
    "plt.show()\n",
    "\n",
    "# Seasonal decomposition\n",
    "#for column in icip_df.columns:\n",
    " #   decomposition = seasonal_decompose(icip_df[column], model='additive', period=5)\n",
    "  #  decomposition.plot()\n",
    "   # plt.suptitle(f'{column} Decomposition')\n",
    "    #plt.tight_layout()  # Add this line to adjust subplot parameters\n",
    "    #plt.show()\n",
    "\n",
    "# ACF and PACF plots\n",
    "#for column in icip_df.columns:\n",
    " #   fig, ax = plt.subplots(2, 1, figsize=(10, 6))\n",
    "  #  plot_acf(icip_df[column], ax=ax[0], lags=40)\n",
    "   # plot_pacf(icip_df[column], ax=ax[1], lags=40)\n",
    "    #ax[0].set_title(f'ACF and PACF for {column}')\n",
    "    #plt.tight_layout()  # Add this line to adjust subplot parameters\n",
    "    #plt.show()"
   ]
  },
  {
   "cell_type": "markdown",
   "id": "92546909",
   "metadata": {},
   "source": [
    "From the timeseries plot above, overall we can see most of the features folow a similar pattern. The 'robustas' feature, however not only has the lowest values compared to other beans but it also display a unusiul pattern at least at the begining of the year (many unknown reasons for that... a- not being in harvest season; b- the assumption there are less farms producing this beans because historically is cheaper and dont have a substantial demand as the natural beans, bringing less return to farmers and therephore a smaller volume being traded on the markets, c- stereotype that robusta beans are less 'noble' than natural and often times are not considered for the speciality coffee parameters because of 'less flavou notes or weaker tasting profiles?')\n",
    "The robustas line show a steady but modest increase until july where its pattern atarts to match with the other beans, with slight ups and downs  until nov23 where the curve finds a cresent point follwed bya sharp (?) descrease in mid january .\n",
    "\n",
    "\n",
    "\n",
    "For this next line will extract the I-CIP column for shorten the analysis, at least in the early stage. Having a separate df containing data only from the date and icip values to start a more simple version to prepare the data for modeling. \n",
    "\n",
    "- Using autoregressor models and compare simple regression models (linear, logaritimc, lasso) to LSTM or other deep learning model in later sections in this notebook.\n",
    "\n"
   ]
  },
  {
   "cell_type": "markdown",
   "id": "d12e6d92",
   "metadata": {},
   "source": [
    "### Seasonal decomposition for each column\n",
    "\n",
    "\n",
    "\n",
    "Seasonal decomposition using moving averages.\n",
    "\n",
    "\n",
    "https://www.statsmodels.org/dev/generated/statsmodels.tsa.seasonal.seasonal_decompose.html#statsmodels.tsa.seasonal.seasonal_decompose-parameters\n"
   ]
  },
  {
   "cell_type": "code",
   "execution_count": null,
   "id": "bb3a6be7",
   "metadata": {
    "scrolled": false
   },
   "outputs": [],
   "source": [
    "# Assuming 'icip_df' is your dataframe and it has a DatetimeIndex.\n",
    "columns = ['I-CIP', 'colombian_milds', 'other_milds', 'brazilian_nat', 'robustas']\n",
    "\n",
    "for column in columns:\n",
    "    decomposition = seasonal_decompose(icip_df[column], model='additive', period=5)\n",
    "    \n",
    "    # Plotting the decomposition\n",
    "    fig, (ax1, ax2, ax3, ax4) = plt.subplots(4, 1, figsize=(10, 8))\n",
    "    decomposition.observed.plot(ax=ax1)\n",
    "    ax1.set_ylabel('Observed')\n",
    "    decomposition.trend.plot(ax=ax2)\n",
    "    ax2.set_ylabel('Trend')\n",
    "    decomposition.seasonal.plot(ax=ax3)\n",
    "    ax3.set_ylabel('Seasonal')\n",
    "    decomposition.resid.plot(ax=ax4)\n",
    "    ax4.set_ylabel('Residual')\n",
    "\n",
    "    plt.suptitle(f'{column} Decomposition with period = 5')\n",
    "    plt.tight_layout()  # Adjust subplot parameters\n",
    "    plt.show()"
   ]
  },
  {
   "cell_type": "markdown",
   "id": "5ce48c54",
   "metadata": {},
   "source": [
    "\n",
    "\n",
    "Seasonal Decomposition with multiple periods of 1(daily)/5(weekly)/12/30/60    (180/360 not possible because dataset is too small)\n",
    "and different models (additive or multiplicative)\n",
    "\n",
    "Multiplicative Model as \n",
    "A multiplicative model suggests that the components are multiplied together, as stated by Brawlee (2020) https://machinelearningmastery.com/decompose-time-series-data-trend-seasonality/\n",
    "\n",
    "<i> y(t) = Level * Trend * Seasonality * Noise </i>\n",
    "\n",
    "- A multiplicative model is nonlinear, such as quadratic or exponential. Changes increase or decrease over time.\n",
    "\n",
    "- A nonlinear trend is a curved line.\n",
    "\n",
    "- A non-linear seasonality has an increasing or decreasing frequency and/or amplitude over time.\n",
    "\n",
    "As we are dealing with real data, it can usually be affected by different trends over a set time, in this case for icip prices, we first notice a positive trend followed by a negative trend between may-sep, with another increase after oct23, showing a tendency to a more cyclical pattern. \n",
    "\n",
    "To extract the trend and seasonality factor from the I-CIP prices isolated from the rest of the dataset to get more detail only from the composite index will consider 3 different periods assuming the business days lags: \n",
    "\n",
    "\n",
    "- 63 for Quarterly \n",
    "- 21 for montly  *(assuming a 5-day week and no public holidays)*\n",
    "- 5 for weekly\n",
    "\n",
    "These periods dictate how the seasonal component of the decomposition is calculated, where each period represents the length of the cycle the seasonality is measured.\n",
    "\n",
    "Given the nature of the dataset (containig values of 281 days) is not possible to decmpose for longer periods simply for the lack of data from continous/longer periods. "
   ]
  },
  {
   "cell_type": "code",
   "execution_count": null,
   "id": "a2239e02",
   "metadata": {
    "scrolled": false
   },
   "outputs": [],
   "source": [
    "# Seasonal decompositions with different periods.\n",
    "\n",
    "periods = [63, 21, 5]  # Quartely, Monthly and Weekly (considering business days)\n",
    "# Function to generate the plots for all periods.\n",
    "for period in periods:\n",
    "    decompositions = seasonal_decompose(icip_df['I-CIP'], model='additive', period=period)\n",
    "\n",
    "    # Plotting the components of the decomposition\n",
    "    plt.rcParams.update({'figure.figsize': (8,8)})\n",
    "    print(f\"Seasonal Decomposition with Period = {period}\")\n",
    "    decompositions.plot()\n",
    "    plt.show()"
   ]
  },
  {
   "cell_type": "markdown",
   "id": "398d3901",
   "metadata": {},
   "source": [
    "### I-CIP decompose with multiplicative model\n"
   ]
  },
  {
   "cell_type": "code",
   "execution_count": null,
   "id": "d4c33e70",
   "metadata": {},
   "outputs": [],
   "source": [
    "# Perform seasonal decomposition with different parameters\n",
    "decomposition = seasonal_decompose(icip_df['I-CIP'], model='multiplicative', period=21)#montly\n",
    "decomposition.plot()\n",
    "plt.suptitle( 'Decomposition of I-CIP values period = 21')\n",
    "plt.tight_layout()  # Add this line to adjust subplot parameters\n",
    "plt.show()\n"
   ]
  },
  {
   "cell_type": "markdown",
   "id": "363e03f6",
   "metadata": {},
   "source": [
    "No apparent trend is identified comparing per month (20 business days), however there is a high seaonal effect on the monthly data. This could be connected with the behavious observed in the early graphs, where we see higher prices in the first months of the year and a significant decline from june to october and the again a sutle increase in the prices at the end of the year. Both the weekly and montly osci;lations mark the volatility present in real data, specially in stock market analisis this presents a set of chalanges to obtain better predictions.\n",
    "\n",
    "\n",
    "As for the residuals, observing the weekly behaviour there is only white noise, not following any partern, while monthly we see a different behaviour, in a constant pattern (1), less noise in the multiplicative model - using a period of 20 the trend is going up and down, cant really understand the undelyng trend is in the dataset due to the fluctuation.\n",
    "\n"
   ]
  },
  {
   "cell_type": "markdown",
   "id": "445d5d23",
   "metadata": {},
   "source": [
    "### Decomposition with a period of 5 (weekly for business days)"
   ]
  },
  {
   "cell_type": "code",
   "execution_count": null,
   "id": "3571f6f7",
   "metadata": {},
   "outputs": [],
   "source": [
    "result = seasonal_decompose(icip_df['I-CIP'], model='multiplicative', period=5) #weekly\n",
    "\n",
    "# Plot the original and decomposed components\n",
    "plt.figure(figsize=(12, 8))\n",
    "\n",
    "\n",
    "\n",
    "\n",
    "plt.subplot(4, 1, 1)\n",
    "plt.plot(icip_df['I-CIP'], label='Original')\n",
    "plt.legend()\n",
    "\n",
    "plt.subplot(4, 1, 2)\n",
    "plt.plot(result.trend, label='Trend')\n",
    "plt.legend()\n",
    "\n",
    "plt.subplot(4, 1, 3)\n",
    "plt.plot(result.seasonal, label='Seasonal')\n",
    "plt.legend()\n",
    "\n",
    "plt.subplot(4, 1, 4)\n",
    "plt.plot(result.resid, label='Residual')\n",
    "plt.legend()\n",
    "\n",
    "plt.suptitle( 'Decomposition of I-CIP values period = 5')\n",
    "plt.tight_layout()\n",
    "plt.show()"
   ]
  },
  {
   "cell_type": "code",
   "execution_count": null,
   "id": "e14d4261",
   "metadata": {},
   "outputs": [],
   "source": []
  },
  {
   "cell_type": "markdown",
   "id": "3bbdc1ec",
   "metadata": {},
   "source": [
    "### Decomposition with a period of 1 (daily)\n",
    "\n",
    "In a well-defined seasonal decomposition, the period should reflect the actual cyclicity in the data. \n",
    "\n",
    "For instance:\n",
    "\n",
    "- For daily data with a weekly pattern, the period should be 7 (days in a week) => (5 in business days)\n",
    "\n",
    "In this case, having a period=1 doesnt translate into much info, because it consider each observation as a cycle\n",
    "This can lead to a meaningless decomposition and is typically not used for timeseries, because it would suggest that every single data point represents a complete cycle, which eliminates the concept of seasonality.\n",
    "\n",
    "https://towardsdatascience.com/time-series-from-scratch-decomposing-time-series-data-7b7ad0c30fe7\n",
    "https://machinelearningmastery.com/decompose-time-series-data-trend-seasonality/\n"
   ]
  },
  {
   "cell_type": "code",
   "execution_count": null,
   "id": "e4d88c7d",
   "metadata": {},
   "outputs": [],
   "source": [
    "result = seasonal_decompose(icip_df['I-CIP'], model='multiplicative', period=1) #daily\n",
    "\n",
    "# Plot the original and decomposed components\n",
    "plt.figure(figsize=(12, 8))\n",
    "\n",
    "plt.subplot(4, 1, 1)\n",
    "plt.plot(icip_df['I-CIP'], label='Original')\n",
    "plt.legend()\n",
    "\n",
    "plt.subplot(4, 1, 2)\n",
    "plt.plot(result.trend, label='Trend')\n",
    "plt.legend()\n",
    "\n",
    "plt.subplot(4, 1, 3)\n",
    "plt.plot(result.seasonal, label='Seasonal')\n",
    "plt.legend()\n",
    "\n",
    "plt.subplot(4, 1, 4)\n",
    "plt.plot(result.resid, label='Residual')\n",
    "plt.legend()\n",
    "\n",
    "plt.suptitle( 'Decomposition of I-CIP values period = 1')\n",
    "plt.tight_layout()\n",
    "plt.show()"
   ]
  },
  {
   "cell_type": "markdown",
   "id": "b51e0403",
   "metadata": {},
   "source": [
    "- No aparent trend or seasonality considering daily lags. "
   ]
  },
  {
   "cell_type": "markdown",
   "id": "688412ea",
   "metadata": {},
   "source": [
    "### Decomposition with a period of 21 (montly business days)\n",
    "\n",
    " from the seasonal section of graph, it  seems to be present a **regular fluctuation in coffee prices with peaks and troughs that repeat every 21 days** \n",
    " \n",
    " in terms of residuals,  if there are significant patterns in the residuals, it could indicate that some aspects of seasonality or trend have not been fully captured by the model. (residulas: the more random the \"better\" = more white noise\n",
    "\n",
    "\n",
    "\n",
    "\"Residual: These are the irregularities or 'noise' that cannot be attributed to the trend or seasonality. It represents the randomness or irregular occurrences in the data after removing the trend and seasonal components. Ideally, the residuals should not show any pattern (be white noise) if the model has captured all the systematic information in the data.\" https://towardsdatascience.com/time-series-decomposition-8f39432f78f9#:~:text=Compute%20the%20seasonal%20component%2C%20S,%2F(TR)%20for%20multiplicative%20model.\n",
    "\n",
    "\n",
    "\n"
   ]
  },
  {
   "cell_type": "code",
   "execution_count": null,
   "id": "af9faf27",
   "metadata": {
    "scrolled": false
   },
   "outputs": [],
   "source": [
    "result = seasonal_decompose(icip_df['I-CIP'], model='multiplicative', period=21) #montly BD\n",
    "\n",
    "# Plot the original and decomposed components\n",
    "plt.figure(figsize=(12, 8))\n",
    "\n",
    "plt.subplot(4, 1, 1)\n",
    "plt.plot(icip_df['I-CIP'], label='Original')\n",
    "plt.legend()\n",
    "\n",
    "plt.subplot(4, 1, 2)\n",
    "plt.plot(result.trend, label='Trend')\n",
    "plt.legend()\n",
    "\n",
    "plt.subplot(4, 1, 3)\n",
    "plt.plot(result.seasonal, label='Seasonal')\n",
    "plt.legend()\n",
    "\n",
    "plt.subplot(4, 1, 4)\n",
    "plt.plot(result.resid, label='Residual')\n",
    "plt.legend()\n",
    "\n",
    "\n",
    "plt.suptitle( 'Decomposition of I-CIP values period = 21')\n",
    "plt.tight_layout()\n",
    "plt.show()"
   ]
  },
  {
   "cell_type": "code",
   "execution_count": null,
   "id": "dbaf3316",
   "metadata": {},
   "outputs": [],
   "source": [
    "icip_df['I-CIP'].info()"
   ]
  },
  {
   "cell_type": "code",
   "execution_count": null,
   "id": "96dd9925",
   "metadata": {},
   "outputs": [],
   "source": [
    "%whos pd.Series"
   ]
  },
  {
   "cell_type": "markdown",
   "id": "e957b533",
   "metadata": {},
   "source": [
    "Decomposition with a period of 63 (quartely)"
   ]
  },
  {
   "cell_type": "code",
   "execution_count": null,
   "id": "996534ef",
   "metadata": {},
   "outputs": [],
   "source": [
    "result = seasonal_decompose(icip_df['I-CIP'], model='multiplicative', period=63) #Quarterly\n",
    "\n",
    "# Plot the original and decomposed components\n",
    "plt.figure(figsize=(12, 8))\n",
    "\n",
    "plt.subplot(4, 1, 1)\n",
    "plt.plot(icip_df['I-CIP'], label='Original')\n",
    "plt.legend()\n",
    "\n",
    "plt.subplot(4, 1, 2)\n",
    "plt.plot(result.trend, label='Trend')\n",
    "plt.legend()\n",
    "\n",
    "plt.subplot(4, 1, 3)\n",
    "plt.plot(result.seasonal, label='Seasonal')\n",
    "plt.legend()\n",
    "\n",
    "plt.subplot(4, 1, 4)\n",
    "plt.plot(result.resid, label='Residual')\n",
    "plt.legend()\n",
    "\n",
    "\n",
    "\n",
    "plt.suptitle( 'Decomposition of I-CIP values period = 63')\n",
    "plt.tight_layout()\n",
    "plt.show()"
   ]
  },
  {
   "cell_type": "code",
   "execution_count": null,
   "id": "20e006aa",
   "metadata": {},
   "outputs": [],
   "source": [
    "# Using statmodels: Subtracting the Trend Component.\n",
    "\n",
    "# Ensure the index is set correctly as a datetime index\n",
    "icip_df.index = pd.to_datetime(icip_df.index)\n",
    "\n",
    "# Now decompose with the known period\n",
    "result_mul = seasonal_decompose(icip_df['I-CIP'], model='multiplicative', period=5, extrapolate_trend='freq')\n",
    "\n",
    "# Subtract the trend from the original data to detrend\n",
    "detrended = icip_df['I-CIP'] - result_mul.trend\n",
    "\n",
    "# Now you can plot the detrended data\n",
    "plt.figure(figsize=(12, 6))\n",
    "plt.plot(detrended, label='Detrended Data')\n",
    "plt.title('I-CIP prices detrended by subtracting the trend component')\n",
    "plt.legend()\n",
    "plt.show()"
   ]
  },
  {
   "cell_type": "code",
   "execution_count": null,
   "id": "1a4d12d4",
   "metadata": {},
   "outputs": [],
   "source": [
    "detrended.describe()"
   ]
  },
  {
   "cell_type": "code",
   "execution_count": null,
   "id": "7e316881",
   "metadata": {},
   "outputs": [],
   "source": []
  },
  {
   "cell_type": "code",
   "execution_count": null,
   "id": "eec02bf6",
   "metadata": {},
   "outputs": [],
   "source": [
    "# Subtracting the Trend Component.\n",
    "\n",
    "# \n",
    "# Perform seasonal decomposition\n",
    "result_mul = seasonal_decompose(icip_df['I-CIP'], model='multiplicative', period=5, extrapolate_trend='freq')\n",
    "\n",
    "# Deseasonalize\n",
    "deseasonalized = icip_df['I-CIP'] / result_mul.seasonal\n",
    "\n",
    "# Plot the deseasonalized data\n",
    "plt.figure(figsize=(12, 6))\n",
    "plt.plot(deseasonalized, label='Deseasonalized Data')\n",
    "plt.title('I-CIP values Deseasonalized', fontsize=16)\n",
    "plt.legend()\n",
    "plt.show()"
   ]
  },
  {
   "cell_type": "markdown",
   "id": "76d517c8",
   "metadata": {},
   "source": [
    "seems to not have changed at all in the pattern from the original data? \n",
    "\n",
    "literature says i showld add a log values/ differenciated to have a better detrending pattern,\n"
   ]
  },
  {
   "cell_type": "code",
   "execution_count": null,
   "id": "7f424e2b",
   "metadata": {},
   "outputs": [],
   "source": [
    "deseasonalized.head()"
   ]
  },
  {
   "cell_type": "code",
   "execution_count": null,
   "id": "37b7dc3f",
   "metadata": {
    "scrolled": false
   },
   "outputs": [],
   "source": [
    "# Plot the data\n",
    "deseasonalized.plot(figsize=(14, 7))\n",
    "plt.title('Time Series Data')\n",
    "plt.show()\n",
    "\n",
    "# Perform a seasonal decomposition to infer potential seasonality\n",
    "result = seasonal_decompose(deseasonalized, model='multiplicative', period=5)\n",
    "result.seasonal.plot(figsize=(14, 7))\n",
    "plt.title('Seasonal Decomposition - Seasonality Component')\n",
    "plt.show()\n",
    "\n",
    "# ACF and PACF plots\n",
    "plot_acf(deseasonalized.dropna(), lags=40)  # Adjust lags as needed\n",
    "plt.title('Autocorrelation Function')\n",
    "plt.show()\n",
    "\n",
    "plot_pacf(deseasonalized.dropna(), lags=40, method='ywm')  # Adjust lags as needed and use method='ywm' to avoid statistical issues\n",
    "plt.title('Partial Autocorrelation Function')\n",
    "plt.show()"
   ]
  },
  {
   "cell_type": "code",
   "execution_count": null,
   "id": "ea9de525",
   "metadata": {},
   "outputs": [],
   "source": [
    "icip_df"
   ]
  },
  {
   "cell_type": "markdown",
   "id": "134746bd",
   "metadata": {},
   "source": [
    "## Lag plots\n",
    "\n",
    "understanding the entropy of icip prices and how correlated they are\n"
   ]
  },
  {
   "cell_type": "code",
   "execution_count": null,
   "id": "ab55a2ae",
   "metadata": {},
   "outputs": [],
   "source": [
    "from pandas.plotting import lag_plot\n",
    "plt.rcParams.update({'ytick.left' : False, 'axes.titlepad':10})\n",
    "\n",
    "lp = icip_df['I-CIP']\n",
    "\n",
    "# Plot\n",
    "fig, axes = plt.subplots(1, 4, figsize=(10,3), sharex=True, sharey=True, dpi=100)\n",
    "for i, ax in enumerate(axes.flatten()[:4]):\n",
    "    lag_plot(lp, lag=i+1, ax=ax, c='firebrick')\n",
    "    ax.set_title('Lag ' + str(i+1))\n",
    "\n",
    "    \n",
    "fig.suptitle('Lag Plots of I-CIP prices \\n(Points get wide and scattered with increasing lag -> lesser correlation)\\n', y=1.15)    \n",
    "\n",
    "plt.show"
   ]
  },
  {
   "cell_type": "markdown",
   "id": "d5892e15",
   "metadata": {},
   "source": [
    "the scatter plot above shows the relationship between observations and their lags.\n",
    "<br> \"as the lag increases, the correlation between the time series and its lags generally decreases.\"\n",
    "\n",
    "Some sort of autocorrelation in the data is visible in lag 1, (t+1). A strong linear relationship indicates a high correlation between an observation and its immediate predecessor.  a similar pattern is observed in lag2, with a few datapoints begining to get apart. Lags 3 and 4 are already more spreaded, meaning the correlation between values is also decreasing as the interval between lags grow. \n"
   ]
  },
  {
   "cell_type": "code",
   "execution_count": null,
   "id": "e216e5bc",
   "metadata": {},
   "outputs": [],
   "source": [
    " from pandas.plotting import lag_plot\n",
    "\n",
    "# Define the number of lags for 1 month\n",
    "number_of_lags = 21\n",
    "\n",
    "# Create subplots with 3 columns\n",
    "fig, axes = plt.subplots(nrows=7, ncols=3, figsize=(15, 20))\n",
    "\n",
    "# Flatten the axes array for easy iteration\n",
    "axes = axes.flatten()\n",
    "\n",
    "# Generate a lag plot for each lag\n",
    "for i in range(1, number_of_lags + 1):\n",
    "    lag_plot(icip_df['I-CIP'], lag=i, ax=axes[i-1])\n",
    "    axes[i-1].set_title(f'Lag {i}')\n",
    "\n",
    "# Adjust layout to prevent overlapping\n",
    "plt.tight_layout()\n",
    "plt.show()"
   ]
  },
  {
   "cell_type": "markdown",
   "id": "fc3191ed",
   "metadata": {},
   "source": [
    "## Rolling average / Rolling standard deviation \n",
    "\n",
    "Rolling Mean:\n",
    "The rolling mean is the average of the previous observation window, where the window consists of a series of values from the time series data. Compute the mean for each ordered window. This can significantly help minimize noise in time series data."
   ]
  },
  {
   "cell_type": "code",
   "execution_count": null,
   "id": "6ed8ca3c",
   "metadata": {},
   "outputs": [],
   "source": [
    "## Rolling Statistics at different periods\n",
    "window_sizes = [5, 21, 63]  # A week, a month, a quarter,  (approximately)\n",
    "data_close = icip_df['I-CIP']  \n",
    "\n",
    "for window in window_sizes:\n",
    "    rolling_mean = icip_df['I-CIP'].rolling(window=window).mean()\n",
    "    rolling_std = icip_df['I-CIP'].rolling(window=window).std()\n",
    "    \n",
    "    plt.figure(figsize=(14, 5))\n",
    "    plt.plot(icip_df['I-CIP'].index, icip_df['I-CIP'], label='Original')\n",
    "    plt.plot(rolling_mean.index, rolling_mean, label=f'Rolling Mean (window={window})')\n",
    "    plt.plot(rolling_std.index, rolling_std, label=f'Rolling Std Dev (window={window})')\n",
    "    plt.title(f'Rolling Mean and Standard Deviation (window size = {window})')\n",
    "    plt.legend()\n",
    "    plt.show()"
   ]
  },
  {
   "cell_type": "markdown",
   "id": "fd0f2824",
   "metadata": {},
   "source": [
    "From the roling statistics plot with 5, 21 and 63 as windows, it seems that the series exhibits some periodicity, as the rolling mean with larger windows captures a smoother trend over time.\n",
    "\n",
    "<i> The choice of window size can greatly affect the rolling statistics. \n",
    " Smaller windows will follow the original series more closely, and capture short-term trends, while the larger windows will smooth out the series more, showing long-term trends. \n",
    "    \n",
    "- If the rolling standard deviation changes significantly over time, this is an indication of **heteroscedasticity** (??????), which might need to be addressed. in this case, with a window of 5, the green line representing std has a smaller variance as compared to higher windows, but overall the volatility is not extremetly high. Altough when we look at the 63 window (3month period), the roling standard deviatios shows a slight curve between july/sept 23 and then agina at jan 24. "
   ]
  },
  {
   "cell_type": "code",
   "execution_count": null,
   "id": "ad871827",
   "metadata": {},
   "outputs": [],
   "source": []
  },
  {
   "cell_type": "markdown",
   "id": "a784991a",
   "metadata": {},
   "source": [
    "#### Granger Causality test to estimate forecastbility\n",
    "\n",
    "Granger causality is based on prediction and does not necessarily imply a true causal relationship. <mark>it basically calculates the prediction of how easy it is to forecast next values (??)<mark/>\n",
    "\n",
    "For GC test data must be stationary. If the data series have trends or unit roots, the results of the Granger causality tests can be misleading, requering different steps before aplying it (ie: make it stationary by differenciating)\n",
    "<br>\n",
    "\n",
    "based on the relatively hogh p-values for each of the lags analysed (0.38 and p=0.46), there is no evidence to reject the null hypothesis, and it can be said that there is no statistical evidence of Granger causality from the tested lags of the first time series to the second time series."
   ]
  },
  {
   "cell_type": "code",
   "execution_count": null,
   "id": "0a8b37dd",
   "metadata": {},
   "outputs": [],
   "source": [
    "from statsmodels.tsa.stattools import grangercausalitytests\n",
    "#df = pd.read_csv('https://raw.githubusercontent.com/selva86/datasets/master/a10.csv', parse_dates=['date'])\n",
    "icip_df['month'] = icip_df.index.month\n",
    "grangercausalitytests(icip_df[['I-CIP', 'month']], maxlag=2)"
   ]
  },
  {
   "cell_type": "markdown",
   "id": "2d97a3e7",
   "metadata": {},
   "source": [
    "### Seasonal decomposeof I-CIP prices for a period = 22\n"
   ]
  },
  {
   "cell_type": "code",
   "execution_count": null,
   "id": "ac4785ab",
   "metadata": {
    "scrolled": false
   },
   "outputs": [],
   "source": [
    "# Plot the data\n",
    "icip_df['I-CIP'].plot(figsize=(14, 7))\n",
    "plt.title('Time Series Data')\n",
    "plt.show()\n",
    "\n",
    "# Perform a seasonal decomposition to infer potential seasonality\n",
    "result = seasonal_decompose(icip_df['I-CIP'], model='multiplicative', period=22)  # Change to 'multiplicative' if that model fits better\n",
    "result.seasonal.plot(figsize=(14, 7))\n",
    "plt.title('Seasonal Decomposition - Seasonality Component')\n",
    "plt.show()\n",
    "\n",
    "# ACF and PACF plots\n",
    "plot_acf(icip_df['I-CIP'].dropna(), lags=40)  # Adjust lags as needed\n",
    "plt.title('Autocorrelation Function')\n",
    "plt.show()\n",
    "\n",
    "plot_pacf(icip_df['I-CIP'].dropna(), lags=40, method='ywm')  # Adjust lags as needed and use method='ywm' to avoid statistical issues\n",
    "plt.title('Partial Autocorrelation Function')\n",
    "plt.show()"
   ]
  },
  {
   "cell_type": "markdown",
   "id": "9be867ae",
   "metadata": {},
   "source": [
    "**SEASONALITY PLOT** useful for understanding the repetitive patterns at regular intervals over time. \n",
    "The seasonality component obtained from decomposition shows clear regular spikes, suggesting some form of seasonality in the original data. <mark> <i> is there a way to find specific cycles wihthin the data?? <mark/> <i/>\n",
    "\n",
    "on the acf plot, on the other hand, doesnt show any clear apikes, but a gradual decline as the lags increase. \n",
    "    \n",
    "    This coulbe an indicative that ARIMA may not be the most suited model to apply, as seen later, that is why the forecasting results are not the most adequate."
   ]
  },
  {
   "cell_type": "code",
   "execution_count": null,
   "id": "a9e6b86b",
   "metadata": {},
   "outputs": [],
   "source": []
  },
  {
   "cell_type": "markdown",
   "id": "6ea88270",
   "metadata": {},
   "source": [
    "### Seasonal decomposeof I-CIP prices for a period = 63 (quartely)\n"
   ]
  },
  {
   "cell_type": "code",
   "execution_count": null,
   "id": "4adeec04",
   "metadata": {
    "scrolled": false
   },
   "outputs": [],
   "source": [
    "# Plot the data\n",
    "icip_df['I-CIP'].plot(figsize=(14, 7))\n",
    "plt.title('Time Series Data')\n",
    "plt.show()\n",
    "\n",
    "# Perform a seasonal decomposition to infer potential seasonality\n",
    "result = seasonal_decompose(icip_df['I-CIP'], model='multiplicative', period=63)  # Change to 'multiplicative' if that model fits better\n",
    "result.seasonal.plot(figsize=(14, 7))\n",
    "plt.title('Seasonal Decomposition - Seasonality Component')\n",
    "plt.show()\n",
    "\n",
    "# ACF and PACF plots\n",
    "plot_acf(icip_df['I-CIP'].dropna(), lags=63)  # Adjust lags as needed\n",
    "plt.title('Autocorrelation Function')\n",
    "plt.show()\n",
    "\n",
    "plot_pacf(icip_df['I-CIP'].dropna(), lags=63, method='ywm')  # Adjust lags as needed and use method='ywm' to avoid statistical issues\n",
    "plt.title('Partial Autocorrelation Function')\n",
    "plt.show()"
   ]
  },
  {
   "cell_type": "markdown",
   "id": "aa4a3916",
   "metadata": {},
   "source": [
    ". The lack of sharp cutoffs or distinct drops at specific lags for the ACF plot can suggest that there might not be a strong seasonal pattern with a fixed and short seasonal period, or the seasonality could be of a non-standard form which doesn't align neatly with the chosen lag intervals.\n",
    "\n",
    "\n",
    "- The PACF plot is a little bit more direct in helping to determine the order of autoregressive terms (p) in ARIMA models. there's a significant spike at lag 1, and then it quickly falls into the confidence interval which would typically suggest an AR(1) process. However, there are no other significant spikes at higher lags that stand out, which suggests that an ARIMA model with a simple AR(1) term may be appropriate for this series. \n",
    "\n",
    "thisngs to still consider: \n",
    "\n",
    "Differencing to remove the trend and make the series stationary before applying ACF and PACF.\n",
    "Using a non-seasonal ARIMA model based on the ACF and PACF plots.\n",
    "Exploring models that can capture long-term cycles or trends more effectively, such as ARIMA with a drift term, or using a different approach such as Holt-Winters exponential smoothing if a seasonal period can be more clearly identified.\n",
    "Investigating non-time series-based models, like machine learning regression models that can capture complex patterns and cycles in the data without the need for explicitly defining the seasonality period."
   ]
  },
  {
   "cell_type": "code",
   "execution_count": null,
   "id": "91b91436",
   "metadata": {},
   "outputs": [],
   "source": []
  },
  {
   "cell_type": "markdown",
   "id": "e7c62f49",
   "metadata": {},
   "source": [
    "###  autocorrelation\n",
    "\n",
    "- The distance between peaks or troughs can give you an indication of the length of the seasonal cycle.\n",
    "- The gradual decline from 1 at lag 0 indicates how the correlation between the values decreases as the lags increase\n",
    "- The significant negative autocorrelation at higher lags could be due to the ??? complex seasonal pattern? \n",
    "\n",
    "\n",
    "As a complement to the plot above to reiterate the lack of a defined trend, but the high inlfuence of seasonality. ?"
   ]
  },
  {
   "cell_type": "code",
   "execution_count": null,
   "id": "6e8e8e1a",
   "metadata": {},
   "outputs": [],
   "source": [
    "from pandas.plotting import autocorrelation_plot\n",
    "#df = pd.read_csv('https://raw.githubusercontent.com/selva86/datasets/master/a10.csv')\n",
    "\n",
    "# Draw Plot\n",
    "plt.rcParams.update({'figure.figsize':(9,5), 'figure.dpi':120})\n",
    "autocorrelation_plot(icip_df['I-CIP'].tolist())"
   ]
  },
  {
   "cell_type": "markdown",
   "id": "cec79622",
   "metadata": {},
   "source": [
    "### Statistical tests for Seasonality\n"
   ]
  },
  {
   "cell_type": "code",
   "execution_count": null,
   "id": "82989acf",
   "metadata": {},
   "outputs": [],
   "source": [
    "\n",
    "\n",
    "# using daily data and interested in montly seasonality\n",
    "decomp = seasonal_decompose(price_df['I-CIP'], model='multiplicative', period=63)\n",
    "\n",
    "# Plotting the seasonal component\n",
    "decomp.seasonal.plot()\n",
    "plt.title('Seasonal Decomposition - Seasonality Component')\n",
    "plt.show()"
   ]
  },
  {
   "cell_type": "code",
   "execution_count": null,
   "id": "1583da08",
   "metadata": {},
   "outputs": [],
   "source": []
  },
  {
   "cell_type": "code",
   "execution_count": null,
   "id": "63299bf4",
   "metadata": {},
   "outputs": [],
   "source": []
  },
  {
   "cell_type": "code",
   "execution_count": null,
   "id": "4aae5c7c",
   "metadata": {},
   "outputs": [],
   "source": []
  },
  {
   "cell_type": "markdown",
   "id": "706db660",
   "metadata": {},
   "source": [
    "## Fourier Analysis (identify dominant cycles, if any):\n",
    "The Fourier transform can help remove noise by transforming time series data into the frequency domain, allowing us to filter out noise frequencies. Then, the Fourier inverse transform is applied to obtain the time series after filtering\n",
    "https://medium.com/@tubelwj/guide-to-time-series-data-pre-processing-methods-0a6df7ee054f"
   ]
  },
  {
   "cell_type": "code",
   "execution_count": null,
   "id": "9733eb88",
   "metadata": {},
   "outputs": [],
   "source": [
    "# Perform a Fourier transform\n",
    "fft_result = np.fft.rfft(price_df['I-CIP'])\n",
    "frequencies = np.fft.rfftfreq(len(price_df['I-CIP']), d=1)  # d is the sample spacing\n",
    "\n",
    "# Plotting the power spectrum\n",
    "power_spectrum = np.abs(fft_result)\n",
    "plt.plot(frequencies, power_spectrum)\n",
    "plt.title('Fourier Analysis - Power Spectrum')\n",
    "plt.xlabel('Frequency')\n",
    "plt.ylabel('Amplitude')\n",
    "plt.show()"
   ]
  },
  {
   "cell_type": "markdown",
   "id": "5cabfed6",
   "metadata": {},
   "source": [
    " #### Ljung-Box Q Test:\n",
    " \n",
    " Autocorrelation is significant, as indicated by the Ljung-Box Q test. It implies that past values are predictive of future values, which is an essential characteristic to include in any forecasting model. \n",
    " The **p-value of 0.0** reinforces the interpretation  from the Seasonality Component plot, indicating that there's a true seasonal pattern in the data."
   ]
  },
  {
   "cell_type": "code",
   "execution_count": null,
   "id": "7a77c64d",
   "metadata": {},
   "outputs": [],
   "source": [
    "from statsmodels.stats.diagnostic import acorr_ljungbox\n",
    "\n",
    "# Let's test for autocorrelation up to 22 lags, which should cover up to montly seasonality\n",
    "ljung_box_result = acorr_ljungbox(price_df['I-CIP'], lags=[22], return_df=True)\n",
    "print(ljung_box_result)"
   ]
  },
  {
   "cell_type": "code",
   "execution_count": null,
   "id": "c462376d",
   "metadata": {},
   "outputs": [],
   "source": [
    "from statsmodels.stats.diagnostic import acorr_ljungbox\n",
    "\n",
    "# Let's test for autocorrelation up to 5 lags, which should cover up to weekly seasonality\n",
    "ljung_box_result = acorr_ljungbox(price_df['I-CIP'], lags=[5], return_df=True)\n",
    "print(ljung_box_result)"
   ]
  },
  {
   "cell_type": "code",
   "execution_count": null,
   "id": "fdf140b3",
   "metadata": {},
   "outputs": [],
   "source": [
    "from statsmodels.stats.diagnostic import acorr_ljungbox\n",
    "\n",
    "# Let's test for autocorrelation up to 22 lags, which should cover up to montly seasonality\n",
    "ljung_box_result = acorr_ljungbox(price_df['I-CIP'], lags=[63], return_df=True)\n",
    "print(ljung_box_result)"
   ]
  },
  {
   "cell_type": "markdown",
   "id": "1b343fed",
   "metadata": {},
   "source": [
    "## Using Business Days as Lags for ACF and PACF\n",
    "\n",
    "Using a lag of 5 to capture the weekly patterns, the correlation vaires between 0.75 to 1 which is a considerable high correlation. It menas the observations tend to repeat with a consistent time interval of five business days.\n",
    "\n",
    "Different lags were used for interpretation, 3,  15 and 30. Where the 15 lags also showed a high correlation between the icip values (between 0.7 and 1), however when tried with 30 the gap between them increased to 0.5 and 1while with only 3 lags it was not possible to get much variance. Since the nature of the data is presented from mon-fri, the optmal lags in this case will be set as 5 to avoid overfitting.\n",
    "\n",
    "<br>\n",
    "\"Choosing an appropriate number of lags ensures that the model captures the relevant dependencies in the data without being overly complex. Too few lags might lead to underfitting, while too many lags might lead to overfitting or unnecessary complexity.\"\n",
    "\n"
   ]
  },
  {
   "cell_type": "code",
   "execution_count": null,
   "id": "953117ce",
   "metadata": {},
   "outputs": [],
   "source": [
    "\n",
    "# ACF and PACF plots\n",
    "for column in icip_df.columns:\n",
    "    fig, ax = plt.subplots(2, 1, figsize=(12, 8))\n",
    "    plot_acf(icip_df[column], ax=ax[0], lags=5)\n",
    "    plot_pacf(icip_df[column], ax=ax[1], lags=5)\n",
    "    ax[0].set_title(f'ACF and PACF for {column}')\n",
    "    plt.tight_layout()  # Add this line to adjust subplot parameters\n",
    "    plt.show()"
   ]
  },
  {
   "cell_type": "code",
   "execution_count": null,
   "id": "dc1d1377",
   "metadata": {},
   "outputs": [],
   "source": []
  },
  {
   "cell_type": "markdown",
   "id": "05b17610",
   "metadata": {},
   "source": [
    "## Checking for Stationarity\n",
    "\n",
    "### Augmented Dickey-Fuller test\n",
    "\n",
    "ADF test is conducted with the following assumptions:\n",
    "\n",
    "- Null Hypothesis (HO): Series is non-stationary, or series has a unit root.\n",
    "- Alternate Hypothesis(HA): Series is stationary, or series has no unit root.\n",
    "If the null hypothesis is failed to be rejected, this test may provide evidence that the series is non-stationary. \n",
    "(https://www.analyticsvidhya.com/blog/2021/06/statistical-tests-to-check-stationarity-in-time-series-part-1/)"
   ]
  },
  {
   "cell_type": "code",
   "execution_count": null,
   "id": "1bbe4807",
   "metadata": {},
   "outputs": [],
   "source": [
    "# ADF Test\n",
    "# Function to print out results in customised manner\n",
    "from statsmodels.tsa.stattools import adfuller\n",
    "def adf_test(timeseries):\n",
    "    print ('Results of Dickey-Fuller Test:')\n",
    "    dftest = adfuller(timeseries, autolag='AIC')\n",
    "    dfoutput = pd.Series(dftest[0:4], index=['Test Statistic','p-value','#Lags Used','Number of Observations Used'])\n",
    "    for key,value in dftest[4].items():\n",
    "        dfoutput['Critical Value (%s)'%key] = value\n",
    "    print (dfoutput)\n",
    "    \n",
    "    \n",
    "# Call the function and run the test\n",
    "\n",
    "adf_test(icip_df['I-CIP'])"
   ]
  },
  {
   "cell_type": "markdown",
   "id": "4717c038",
   "metadata": {},
   "source": [
    "The p-value obtained from the test (0.511226) is higher than what is usually considered significant (like 1%, 5%, or 10%). This means we can't confidently say that this data is stationary. So based on this adf results, there is not enough evidence to conclude that the time series is stationary.\n",
    "<br> For this reason, the <b>KPSS</b> test can also be performed in conjunction to the adf test to check for stationarity and trend in data. \n",
    "\n",
    "[The code for both tests were extracted from Kumar (2023)\n",
    "https://www.analyticsvidhya.com/blog/2021/06/statistical-tests-to-check-stationarity-in-time-series-part-1/]\n",
    "\n",
    "The interpretation of the KPSS test is the opposite to the Dickey-Fuller test:\n",
    "\n",
    "If the p-value is less than the significance level (p < 0.05), then we reject the null hypothesis, indicating that the time series is not trend-stationary.\n",
    "If the p-value is greater than the significance level, we fail to reject the null hypothesis, suggesting that the series may be trend-stationary.\n",
    "\n",
    "\n",
    "### KPPS test for stationarity:"
   ]
  },
  {
   "cell_type": "markdown",
   "id": "6797991d",
   "metadata": {},
   "source": [
    "the p-value (0.038146) is less than 0.05, indicating statistical significance. Therefore, we reject the null hypothesis of trend-stationarity. This suggests that the time series may not be trend-stationary. As discussed by Kumar (2023), if both tests conclude the the given series is non-stationary, there is a high indication thart the series is in fact non-stationary. Which is commonly the case for stock prices.  "
   ]
  },
  {
   "cell_type": "code",
   "execution_count": null,
   "id": "c59e1734",
   "metadata": {},
   "outputs": [],
   "source": [
    "# Function to print out results in customised manner\n",
    "from statsmodels.tsa.stattools import kpss\n",
    "def kpss_test(timeseries):\n",
    "    print ('Results of KPSS Test:')\n",
    "    kpsstest = kpss(timeseries, regression='c', nlags=\"auto\")\n",
    "    kpss_output = pd.Series(kpsstest[0:3], index=['Test Statistic','p-value','#Lags Used'])\n",
    "    for key,value in kpsstest[3].items():\n",
    "        kpss_output['Critical Value (%s)'%key] = value\n",
    "    print (kpss_output)\n",
    "\n",
    "# Call the function and run the test\n",
    "\n",
    "kpss_test(icip_df['I-CIP'])"
   ]
  },
  {
   "cell_type": "markdown",
   "id": "855ab779",
   "metadata": {},
   "source": [
    "Things to test out :\n",
    "\n",
    "- inlcuding the us holidays to the original dataset (the index is calculated based on combined values from NYSM and London market so should i include just ny or both. holidays?)\n",
    "- data interpolation using roling avrage to the new data points (once we inlcude the holidays those days will be inicially nan values, so moving average is one of the tecniques that can be used to fill the values. other techniques also can be applied (if theres enough time : Sliding Window, Forward Fill and Linear Interpolation)\n",
    "\n",
    "In an ideal world i would go back and test the data with the holidays and add more years back to further the analysis. At this stage, with the time left to compolete the project this methods above will be kept in a drawer for another moment. \n",
    "\n",
    "- Standardization/Normalization: Use techniques like z-score standardization or min-max scaling to scale the coffee prices to a common range. This  helps to handle features with different scales. It removes the mean and scales the data to have unit variance, which can make it easier for some models to learn the patterns in the data.\n",
    "\n",
    "- Differencing: Compute differences between consecutive stock prices to remove trends and make the data stationary, if necessary, which is often required for time series forecasting or machine learning tasks.\n",
    "\n",
    "\n",
    "- Apply time series analysis techniques beyond autocorrelation and decomposition, as they were already done, and investigate moving averages,to identify further seasonal components, trends, and other patterns in the data."
   ]
  },
  {
   "cell_type": "code",
   "execution_count": null,
   "id": "e65b2b0c",
   "metadata": {},
   "outputs": [],
   "source": [
    "icip_df.head()"
   ]
  },
  {
   "cell_type": "code",
   "execution_count": null,
   "id": "92b2b97f",
   "metadata": {},
   "outputs": [],
   "source": []
  },
  {
   "cell_type": "markdown",
   "id": "318a6411",
   "metadata": {},
   "source": [
    "### <mark> Frequency Analysis <mark/> ????"
   ]
  },
  {
   "cell_type": "code",
   "execution_count": null,
   "id": "d7ee72d9",
   "metadata": {},
   "outputs": [],
   "source": []
  },
  {
   "cell_type": "markdown",
   "id": "1db834a5",
   "metadata": {},
   "source": [
    "#### Holt-Winters’ seasonal method\n",
    "\n",
    "There are two variations to this method that differ in the nature of the seasonal component. \n",
    "- Additive method:  preferred when the seasonal variations are roughly constant through the series,\n",
    "- Multiplicative method: preferred when the seasonal variations are changing proportional to the level of the series. (which seems to be the case for the icip prices)"
   ]
  },
  {
   "cell_type": "code",
   "execution_count": null,
   "id": "31fc975b",
   "metadata": {},
   "outputs": [],
   "source": [
    "# "
   ]
  },
  {
   "cell_type": "code",
   "execution_count": null,
   "id": "cd6b6589",
   "metadata": {},
   "outputs": [],
   "source": []
  },
  {
   "cell_type": "markdown",
   "id": "3bcfedcf",
   "metadata": {},
   "source": [
    "## Copying the datframe to a new variable to test Standartisation and Differentiation techniques \n",
    "\n",
    "This section will focus on experimwenting different data preprocessing to:\n",
    "- obtain a detrended version of the dataset to find more optimal acf/pacf correlation between the values. \n",
    "- using data transformation can help to better visualise the seasonality when compared to the same lags. \n",
    "\n",
    "\n",
    " the decomposition suggests that yes, there is  a repeated pattern, which could be further investigated by analyzing the ACF with a higher number of lags. This could help to confirm whether the seasonal pattern seen in the decomposition plot also appears as periodic spikes in the ACF plot, which is what would be typically expect for seasonal data."
   ]
  },
  {
   "cell_type": "code",
   "execution_count": null,
   "id": "27989d8e",
   "metadata": {},
   "outputs": [],
   "source": []
  },
  {
   "cell_type": "code",
   "execution_count": null,
   "id": "68e73ca9",
   "metadata": {},
   "outputs": [],
   "source": [
    "# copy the dataframe of only icip prices  to a new variable\n",
    "df = icip_df['I-CIP']\n",
    "df = pd.DataFrame(df)\n",
    "df.head()"
   ]
  },
  {
   "cell_type": "code",
   "execution_count": null,
   "id": "f54ede3b",
   "metadata": {},
   "outputs": [],
   "source": [
    "df.describe()"
   ]
  },
  {
   "cell_type": "code",
   "execution_count": null,
   "id": "10bd153b",
   "metadata": {},
   "outputs": [],
   "source": [
    "# Standardization using the mean value\n",
    "mean_price = df['I-CIP'].mean()\n",
    "std_price = df['I-CIP'].std()\n",
    "df['price_standardized'] = (df['I-CIP'] - mean_price) / std_price\n",
    "\n"
   ]
  },
  {
   "cell_type": "code",
   "execution_count": null,
   "id": "cedc4eba",
   "metadata": {},
   "outputs": [],
   "source": [
    "# Normalization using min/max scale\n",
    "min_price = df['I-CIP'].min()\n",
    "max_price = df['I-CIP'].max()\n",
    "df['price_normalized'] = (df['I-CIP'] - min_price) / (max_price - min_price)\n",
    "\n",
    "\n",
    "#Min-max normalisation has one notable drawback: itstruggles to deal with outliers\n",
    "\n",
    "#Source: Binita Kumari and Tripti Swarnkar \n",
    "    ##International Journal of Advanced Technology and Engineering Exploration, Vol 8(83)1339"
   ]
  },
  {
   "cell_type": "code",
   "execution_count": null,
   "id": "d4698d93",
   "metadata": {},
   "outputs": [],
   "source": [
    "# Differencing\n",
    "df['price_diff'] = df['I-CIP'].diff()\n",
    "\n",
    "# Dropping missing values if any\n",
    "df.dropna(inplace=True)\n"
   ]
  },
  {
   "cell_type": "markdown",
   "id": "ad80fac8",
   "metadata": {},
   "source": [
    "When applying differenciation one observation was lost from the original data??? (01.02.23 is not being diplayed anymore?? - first line comes empty because there no value for the frist diff, so all na values are dropped!"
   ]
  },
  {
   "cell_type": "code",
   "execution_count": null,
   "id": "a5c6aa2c",
   "metadata": {},
   "outputs": [],
   "source": [
    "df.head(5)"
   ]
  },
  {
   "cell_type": "code",
   "execution_count": null,
   "id": "38ee2706",
   "metadata": {},
   "outputs": [],
   "source": [
    "df.describe()"
   ]
  },
  {
   "cell_type": "markdown",
   "id": "59dc4a31",
   "metadata": {},
   "source": [
    " scaling tranformations:\n",
    " \n",
    " "
   ]
  },
  {
   "cell_type": "markdown",
   "id": "53a246cb",
   "metadata": {},
   "source": [
    "## Visualising the Standardization and Normalization aplications"
   ]
  },
  {
   "cell_type": "code",
   "execution_count": null,
   "id": "a7e5fc6f",
   "metadata": {
    "scrolled": false
   },
   "outputs": [],
   "source": [
    "# Plot histogram for original data\n",
    "fig_hist_original = px.histogram(df, x='I-CIP', title='Histogram: Original Data')\n",
    "fig_hist_original.show()\n",
    "\n",
    "# Plot histogram for standardized data\n",
    "fig_hist_standardized = px.histogram(df, x='price_standardized', title='Histogram: Standardized Data')\n",
    "fig_hist_standardized.show()\n",
    "\n",
    "# Plot histogram for normalized data\n",
    "fig_hist_normalized = px.histogram(df, x='price_normalized', title='Histogram: Normalized Data')\n",
    "fig_hist_normalized.show()\n",
    "\n",
    "# Plot histogram for diff data\n",
    "fig_hist_normalized = px.histogram(df, x='price_diff', title='Histogram: Diff Data')\n",
    "fig_hist_normalized.show()\n",
    "\n",
    "# Plot line plot for original data vs differenced data\n",
    "fig_line = go.Figure()\n",
    "fig_line.add_trace(go.Scatter(x=df.index, y=df['I-CIP'], mode='lines', name='Original Data'))\n",
    "fig_line.add_trace(go.Scatter(x=df.index, y=df['price_diff'], mode='lines', name='Differenced Data'))\n",
    "fig_line.update_layout(title='Line Plot: Original Data vs Differenced Data', xaxis_title='Date', yaxis_title='Price')\n",
    "fig_line.show()\n",
    "\n"
   ]
  },
  {
   "cell_type": "markdown",
   "id": "641048b2",
   "metadata": {},
   "source": [
    "The first histograms with standardised and normalised values only set the new scales for the prices, but the distribution and overall statistical nature of the data remains the same as the original. However in the diff prices, is clear to see how they change the distribution to a normal dist and reduces the standard deviation from 11 to 2. Below we can also compare the values to see how they behave before and after the first diff. However, to be sure that one diff should be sufficient before moving to modeling, we can check the adf and kpss once again to see the stationarity level. \n",
    "\n",
    "-  Differencing removes the trend component from the data, making it stationary. Real price values may exhibit trends over time, which can make modeling more challenging. These values represent the the changes or fluctuations in the variable from one time point to the next.\n",
    "\n",
    "\n",
    "<i>\" Differenced values are often used in conjunction with autoregressive integrated moving average (ARIMA) models, which are well-suited for stationary time series. Forecasting: Differenced values can lead to forecasts of the changes in the variable rather than the actual values themselves. Forecasts based on real price values predict future levels of the variable directly.\"<i/>"
   ]
  },
  {
   "cell_type": "markdown",
   "id": "d6ee8688",
   "metadata": {},
   "source": [
    "### Boxplot comparing Original Data to Differenciated values"
   ]
  },
  {
   "cell_type": "code",
   "execution_count": null,
   "id": "e19b2f2e",
   "metadata": {},
   "outputs": [],
   "source": [
    "from plotly.subplots import make_subplots\n",
    "\n",
    "# Create traces for box plots\n",
    "trace_original = go.Box(y=df['I-CIP'], name='Original Data', boxmean='sd')\n",
    "trace_standardized = go.Box(y=df['price_standardized'], name='Standardized Data', boxmean='sd')\n",
    "\n",
    "# Create subplot with two vertical axes\n",
    "fig_box_original_vs_standardized = make_subplots(specs=[[{\"secondary_y\": True}]])\n",
    "\n",
    "# Add traces to the subplot\n",
    "fig_box_original_vs_standardized.add_trace(trace_original, secondary_y=False)\n",
    "fig_box_original_vs_standardized.add_trace(trace_standardized, secondary_y=True)\n",
    "\n",
    "# Update layout\n",
    "fig_box_original_vs_standardized.update_layout(title='Box Plot: Original vs Standardized Data',\n",
    "                                               yaxis=dict(title='Original Data', side='left'),\n",
    "                                               yaxis2=dict(title='Standardized Data', side='right'),\n",
    "                                               xaxis=dict(title='Data Type'))\n",
    "\n",
    "# Plot box plot for differenced data\n",
    "fig_box_differenced = px.box(df['price_diff'], title='Box Plot: Differenced Data')\n",
    "\n",
    "# Show plots\n",
    "fig_box_original_vs_standardized.show()\n",
    "fig_box_differenced.show()\n"
   ]
  },
  {
   "cell_type": "code",
   "execution_count": null,
   "id": "44f8084f",
   "metadata": {},
   "outputs": [],
   "source": []
  },
  {
   "cell_type": "markdown",
   "id": "77f63ab2",
   "metadata": {},
   "source": [
    "Worth mentioning that now the differenciated prices show a few outliers at the end, and have a mean of 0.031223, very close to 0.\n",
    "\n",
    "\n",
    "## Differencing \n",
    "can help capture short-term fluctuations and temporal dependencies in the data by removing the trend factor in the series, however, it can lead to information loss, especially if the differencing order is too high. It's important to strike a balance between removing trends and preserving meaningful information in the data.\n",
    "\n",
    "For ARIMA/SARIMA applications, differenciating the data will allow to tranform the dataset to a stationary behaviour, so the respective column it was added in previous sections will be used for this part of experimentation \n"
   ]
  },
  {
   "cell_type": "code",
   "execution_count": null,
   "id": "5d91fb28",
   "metadata": {
    "scrolled": false
   },
   "outputs": [],
   "source": [
    "# Plot scatter plot for original data vs differenced data\n",
    "fig_scatter = go.Figure()\n",
    "fig_scatter.add_trace(go.Scatter(x=df.index, y=df['I-CIP'], mode='markers', name='Original Data'))\n",
    "fig_scatter.add_trace(go.Scatter(x=df.index, y=df['price_diff'], mode='markers', name='Differenced Data'))\n",
    "\n",
    "# Update layout to adjust the date format on x-axis\n",
    "fig_scatter.update_layout(title='Scatter Plot: Original vs Differenced Data', \n",
    "                           xaxis_title='Date', yaxis_title='Price',\n",
    "                           xaxis=dict(tickformat='%b %d, %Y'))  # Specify date format\n",
    "\n",
    "fig_scatter.show()"
   ]
  },
  {
   "cell_type": "markdown",
   "id": "37449af2",
   "metadata": {},
   "source": [
    "## Testing stationarity with DIFF values"
   ]
  },
  {
   "cell_type": "code",
   "execution_count": null,
   "id": "3cc8b4e2",
   "metadata": {},
   "outputs": [],
   "source": [
    "# ADF Test\n",
    "result = adfuller(df['price_diff'], autolag='AIC')\n",
    "print(f'ADF Statistic: {result[0]}')\n",
    "print(f'p-value: {result[1]}')\n",
    "for key, value in result[4].items():\n",
    "    print('Critial Values:')\n",
    "    print(f'   {key}, {value}')\n",
    "\n",
    "# KPSS Test\n",
    "result = kpss(df['price_diff'], regression='c')\n",
    "print('\\nKPSS Statistic: %f' % result[0])\n",
    "print('p-value: %f' % result[1])\n",
    "for key, value in result[3].items():\n",
    "    print('Critial Values:')\n",
    "    print(f'   {key}, {value}')"
   ]
  },
  {
   "cell_type": "markdown",
   "id": "76f6d9da",
   "metadata": {},
   "source": [
    "The idea behind the unit test is that it finds out how\n",
    "strongly a time series is determined by a trend.\n",
    "- Null Hypothesis (H0): The time series can be represented by a unit root that is not stationary.\n",
    "- Alternative Hypothesis (H1): The time series is stationary.\n",
    "\n",
    "<br>\n",
    "Interpretation of the p-value\n",
    "\n",
    "- P-value > 0.05: Accepts the Null Hypothesis\n",
    "- P-value < 0.05: Rejects the Null Hypothesis\n",
    "\n",
    "P. Yamak et al (2019)\n",
    "\n",
    "\n",
    "the <b> ADF test strongly suggests that the differenced data is stationary (p-value: 2.11)</b> \n",
    "<br>\n",
    "<br>\n",
    "while the KPSS test indicates a borderline case for stationarity (p-value: 0.10). It's common to use both tests to test fpr stationarity, and in this case, the ADF test provides more convincing evidence of stationarity compared to the KPSS test."
   ]
  },
  {
   "cell_type": "code",
   "execution_count": null,
   "id": "0625efc6",
   "metadata": {},
   "outputs": [],
   "source": [
    "df"
   ]
  },
  {
   "cell_type": "code",
   "execution_count": null,
   "id": "cface434",
   "metadata": {},
   "outputs": [],
   "source": []
  },
  {
   "cell_type": "markdown",
   "id": "c9ebb8c7",
   "metadata": {},
   "source": [
    "### Checking the correlation between variables in the dataset\n"
   ]
  },
  {
   "cell_type": "code",
   "execution_count": null,
   "id": "2bad126d",
   "metadata": {},
   "outputs": [],
   "source": [
    "# Compute the correlation matrix\n",
    "correlation_matrix = df.corr()\n",
    "plt.figure(figsize=(8, 6))\n",
    "sns.heatmap(correlation_matrix, annot=True, cmap='coolwarm', fmt=\".2f\")\n",
    "plt.title('Correlation Matrix')\n",
    "plt.show()"
   ]
  },
  {
   "cell_type": "code",
   "execution_count": null,
   "id": "69274709",
   "metadata": {},
   "outputs": [],
   "source": [
    "print(correlation_matrix)"
   ]
  },
  {
   "cell_type": "markdown",
   "id": "9614a416",
   "metadata": {},
   "source": [
    "# Decomposing Diff values\n",
    "displaying a decomposition of the prices once they are in their differentiated version ccan help to identify a more pronounced seasonal pattern in the data. \n",
    "\n",
    " -  ARIMA models dont take seasonality in consideration, which is why the forecasting plots from above show a flat line in the majority of cases attempted, no matter how muych the parameters were adjusted. \n",
    " "
   ]
  },
  {
   "cell_type": "code",
   "execution_count": null,
   "id": "60517c94",
   "metadata": {
    "scrolled": false
   },
   "outputs": [],
   "source": [
    "# Plot the data\n",
    "df['price_diff'].plot(figsize=(14, 7))\n",
    "plt.title('Time Series of diff values')\n",
    "plt.show()\n",
    "\n",
    "# Perform a seasonal decomposition to infer potential seasonality\n",
    "result = seasonal_decompose(df['price_diff'], model='additive', period=22) #Multiplicative seasonality is not appropriate for zero and negative values\n",
    " \n",
    "result.seasonal.plot(figsize=(14, 7))\n",
    "plt.title('Seasonal Decomposition of Differentiated values - Seasonality Component')\n",
    "plt.show()\n",
    "\n",
    "# ACF and PACF plots\n",
    "plot_acf(df['price_diff'].dropna(), lags=40)  # Adjust lags as needed\n",
    "plt.title('Autocorrelation Function - diff values')\n",
    "plt.show()\n",
    "\n",
    "plot_pacf(df['price_diff'].dropna(), lags=40, method='ywm')  # Adjust lags as needed and use method='ywm' to avoid statistical issues\n",
    "plt.title('Partial Autocorrelation Function - diff values')\n",
    "plt.show()"
   ]
  },
  {
   "cell_type": "markdown",
   "id": "c4c547c6",
   "metadata": {},
   "source": [
    " - Time series of diff values: variability doesn't seem to have a particular pattern initially, indicating that differencing could  have effectively removed trend  and stabilized the mean.\n",
    " \n",
    " - Seasonality Component: the plot displays what seems to be a regular pattern for montly data, indicating the presence of seasonality. The fact that the pattern seems consistent over time suggests that the seasonal effect is stable.(constant fluctuation in the same pattern = seasonal) The presence of stable seasonality as seen here \n",
    " \n",
    " Seasonality Component plot suggests that a seasonal model might still be appropriate. Given the periodic patterns identified, a **SARIMA** model with an <mark>appropriate seasonal order might capture this seasonality. <mark/>\n",
    " \n",
    "- ACF/PACF: since the data has been differenced, it should have removed any autocorrelation due to trend, thats why there is no aparent spike in the acf plot after the first lag, all the higher correlations are distribuited along the confidece interval, which represents no significant correlations in these lags. As for the pacf it shows a nearly same pattern of lags spikes,  \n",
    "\n",
    "\n",
    "\n",
    "\n"
   ]
  },
  {
   "cell_type": "code",
   "execution_count": null,
   "id": "3432bd7c",
   "metadata": {},
   "outputs": [],
   "source": [
    "icip_df"
   ]
  },
  {
   "cell_type": "code",
   "execution_count": null,
   "id": "b2b8aa65",
   "metadata": {},
   "outputs": [],
   "source": [
    "df"
   ]
  },
  {
   "cell_type": "code",
   "execution_count": null,
   "id": "22bfd49e",
   "metadata": {},
   "outputs": [],
   "source": []
  },
  {
   "cell_type": "code",
   "execution_count": null,
   "id": "e44ad465",
   "metadata": {},
   "outputs": [],
   "source": []
  },
  {
   "cell_type": "markdown",
   "id": "02110ade",
   "metadata": {},
   "source": [
    "## Data preparation for Regression Models (Supervised ML)\n",
    "\n",
    "### Splitting the data (checking the optimal ratio between training and testing)\n",
    "\n",
    "\n",
    "This  time series data has observations recorded only on weekdays (Monday to Friday), so it's important to account for this when splitting the data for training and testing following a sequential splitting (also the data needs to be sorted chronologically by the timestamps). To ensure a proper split for time series data, data scientists typically create a training set to contain observations from the earlier dates and the testing set to contain observations from the later dates. \n",
    "\n",
    "\n",
    "- for this first attemp the diff values will be used for modeling. While real price values capture the actual levels of the variable of interest, differenced values are often preferred for time series analysis when stationarity is desired and when modeling changes or fluctuations in the data\n",
    "\n",
    "On further sections data imputation techniques are planned to be used to fill all dates and have a more complete dataset. using moving average and foward fill techniques. \n",
    "\n"
   ]
  },
  {
   "cell_type": "code",
   "execution_count": null,
   "id": "7cc4d728",
   "metadata": {},
   "outputs": [],
   "source": [
    "# checking the dates range before splitting\n",
    "dates_array = df.index\n",
    "\n",
    "# Print the array of dates\n",
    "print(\"Array of Dates (Index):\")\n",
    "print(dates_array)\n",
    "\n"
   ]
  },
  {
   "cell_type": "markdown",
   "id": "a8288f30",
   "metadata": {},
   "source": [
    "### checking for missing dates for determine the right frequency\n",
    "\n",
    "\n",
    "from ealier sections, it was observed that there were 100 days missing from the 365 window of dates whithin the dataset. However,  since this dataset displays data from monday-friday (business days) it was \"assumed\" (in data science we cant make assumptions but still...) that those 'missing' dates were only referent to weekends and/or holidays. This code below extracs the exact dates missing from the entire range for business days.\n",
    "\n",
    "\n",
    "**Missing dates**  \n",
    "- **'2023-12-25'**: December 25th: Christmas Day\n",
    "- **'2023-12-26'**: December 26th: Often observed as Boxing Day or a Christmas holiday extension\n",
    "- **'2024-01-01'**: New Year's Day\n",
    "\n",
    "From the early eda, it was observed no missing values per se, however, for a timeseries analysis, the date in the index must be following the correct sequence (\"order?\"). it's the main characteristic of modeling this type of data. So eventhough there were no missing values (all dates had values) the date range was incomplete. \n",
    "\n",
    "**\n",
    "Another insight from this is that the composite price is published by the ICO even in regular holidays? \n",
    "The price composite is agregated values from US and EU (germany+france), this could be an indicative of why there are only 3 dates not in their database. \n",
    "\n",
    "For this project, lets add these three dates by chacking the moving average and the foward fill methods.\n",
    "There is also an alternatite to model the holiday effect on trend/seasonality of the data by including special events or dummy variables (but for the purpose of this experimentation, it wont be necessary because only 3 dates are a relatively small number of holidays to be considered in modeling. \n"
   ]
  },
  {
   "cell_type": "code",
   "execution_count": null,
   "id": "04533648",
   "metadata": {},
   "outputs": [],
   "source": [
    "# Generate a date range for 366 days from the start of your data\n",
    "# Adjust the period accordingly if you have data spanning multiple years or a different time frame\n",
    "start_date = df.index.min()\n",
    "end_date = df.index.max()  \n",
    "\n",
    "\n",
    "# Generate a range of business days within this period\n",
    "business_days = pd.bdate_range(start=start_date, end=end_date)\n",
    "\n",
    "# Now compare the business_days with your DataFrame's index to find out missing dates\n",
    "missing_dates = business_days.difference(df.index)\n",
    "\n",
    "print(f\"Total number of expected business days: {len(business_days)}\")\n",
    "print(f\"Total number of actual days in data: {df.shape[0]}\")\n",
    "print(f\"Total number of missing dates: {len(missing_dates)}\")\n",
    "print(\"Missing dates are:\")\n",
    "print(missing_dates)"
   ]
  },
  {
   "cell_type": "markdown",
   "id": "e2fd6ccc",
   "metadata": {},
   "source": [
    "## Including the missing dates to dataframe\n",
    "\n",
    "\n",
    "using a combination of data imputation (foward fill, backward fill and interpolation) will allow to see how the diffent techniques affect the original data \n",
    "\n"
   ]
  },
  {
   "cell_type": "code",
   "execution_count": null,
   "id": "09220876",
   "metadata": {},
   "outputs": [],
   "source": [
    "# Let's recreate the missing dates for demonstration purposes\n",
    "missing_dates = pd.DatetimeIndex(['2023-12-25', '2023-12-26', '2024-01-01'])\n",
    "\n",
    "# Add missing dates to the DataFrame with NaN values\n",
    "df = df.reindex(df.index.union(missing_dates))\n",
    "\n",
    "# Forward Fill\n",
    "df_ffill = df.ffill()\n",
    "\n",
    "# Backward Fill\n",
    "df_bfill = df.bfill()\n",
    "\n",
    "# Interpolation\n",
    "df_interpolate = df.interpolate() #methodstr, default= ‘linear’\n",
    "\n",
    "# Now let's compare the results for a I-CIP column\n",
    "print(\"Forward Fill:\")\n",
    "print(df_ffill['I-CIP'].loc[missing_dates])\n",
    "\n",
    "print(\"\\nBackward Fill:\")\n",
    "print(df_bfill['I-CIP'].loc[missing_dates])\n",
    "\n",
    "print(\"\\nInterpolation:\")\n",
    "print(df_interpolate['I-CIP'].loc[missing_dates])\n",
    "\n",
    "## https://pandas.pydata.org/pandas-docs/stable/reference/api/pandas.DataFrame.interpolate.html"
   ]
  },
  {
   "cell_type": "code",
   "execution_count": null,
   "id": "0f29becb",
   "metadata": {},
   "outputs": [],
   "source": []
  },
  {
   "cell_type": "code",
   "execution_count": null,
   "id": "c3e3281e",
   "metadata": {},
   "outputs": [],
   "source": []
  },
  {
   "cell_type": "code",
   "execution_count": null,
   "id": "5f8af92f",
   "metadata": {},
   "outputs": [],
   "source": [
    "## checking the new missin values.\n",
    "display(df.head())\n",
    "print(df.isnull().sum())"
   ]
  },
  {
   "cell_type": "code",
   "execution_count": null,
   "id": "9c69658d",
   "metadata": {},
   "outputs": [],
   "source": [
    "# Forward fill NaN values in the 'Close' column.\n",
    "df.fillna(method='ffill', inplace=True)\n",
    "\n",
    "# Display the updated DataFrame with forward filled values.\n",
    "display(df)"
   ]
  },
  {
   "cell_type": "code",
   "execution_count": null,
   "id": "a6e2890e",
   "metadata": {},
   "outputs": [],
   "source": [
    "print(df.isnull().sum())"
   ]
  },
  {
   "cell_type": "code",
   "execution_count": null,
   "id": "293b306e",
   "metadata": {},
   "outputs": [],
   "source": [
    "df1 = df.copy()"
   ]
  },
  {
   "cell_type": "code",
   "execution_count": null,
   "id": "f5cb7dfd",
   "metadata": {},
   "outputs": [],
   "source": [
    "# Apply imputation methods\n",
    "df1['price_forward_fill'] = df1['I-CIP'].ffill()\n",
    "df1['price_backward_fill'] = df1['I-CIP'].bfill()\n",
    "df1['price_interpolate'] = df1['I-CIP'].interpolate()\n",
    "\n",
    "# Visual comparison of imputation methods\n",
    "plt.figure(figsize=(15, 7))\n",
    "\n",
    "\n",
    "fig, axes = plt.subplots(4, 1, sharex=True, figsize=(10, 12))\n",
    "plt.rcParams.update({'xtick.bottom' : False})\n",
    "\n",
    "\n",
    "# Original data with missing points\n",
    "\n",
    "\n",
    "\n",
    "\n",
    "axes[0].plot(df.index, df['I-CIP'], label='Original DAta', color='blue', linestyle='-', marker='o')\n",
    "#axes[0].plot(df.index, df1['I-CIP'], label='Actual', color='blue', style=\".-\")\n",
    "axes[0].set_title('Original Data with Missing Points')\n",
    "axes[0].legend([\"Missing Data\", \"Available Data\"])\n",
    "\n",
    "\n",
    "# Forward Fill\n",
    "axes[1].plot(df1.index, df1['price_forward_fill'], label='Forward Fill', color='orange', linestyle='--', marker='x')\n",
    "axes[1].set_title('Forward Fill')\n",
    "axes[1].legend()\n",
    "\n",
    "#\n",
    "# Backward Fill\n",
    "axes[2].plot(df1.index, df1['price_backward_fill'], label='Backward Fill', color='red', linestyle='--', marker='+')\n",
    "axes[2].set_title('Backward Fill')\n",
    "axes[2].legend()\n",
    "\n",
    "\n",
    "# Interpolation\n",
    "axes[3].plot(df1.index, df1['price_interpolate'], label='Interpolation', color='green', linestyle='--', marker='s')\n",
    "axes[3].set_title('Interpolation')\n",
    "axes[3].legend()\n",
    "\n",
    "\n",
    "\n",
    "#plot\n",
    "plt.title('Comparison of Imputation Methods')\n",
    "plt.xlabel('Date')\n",
    "plt.ylabel('Price')\n",
    "plt.legend()\n",
    "plt.show()"
   ]
  },
  {
   "cell_type": "markdown",
   "id": "38146556",
   "metadata": {},
   "source": [
    "visualy there is not that much variation in the imputed values. the timesereis follow the similar pattern as the original valyes. "
   ]
  },
  {
   "cell_type": "code",
   "execution_count": null,
   "id": "7084f149",
   "metadata": {},
   "outputs": [],
   "source": [
    "df1.head()"
   ]
  },
  {
   "cell_type": "code",
   "execution_count": null,
   "id": "a65ecbcb",
   "metadata": {},
   "outputs": [],
   "source": []
  },
  {
   "cell_type": "code",
   "execution_count": null,
   "id": "5b10f54c",
   "metadata": {},
   "outputs": [],
   "source": [
    "# Checkin the total of observations to accurate split\n",
    "total_obs = len(df_interpolate)\n",
    "forecast_horizon = 30  # Define your forecast horizon (e.g., 30 days)\n",
    "\n",
    "# Calculate the size of the training set (e.g., 80%)\n",
    "train_size = int(total_obs * 0.8)\n",
    "\n",
    "# Adjust the split date based on the forecast horizon\n",
    "split_date = df_interpolate.index[forecast_horizon]\n",
    "\n",
    "# Split the data into training and testing sets based on the adjusted split date\n",
    "train = df_interpolate[df_interpolate.index < split_date]\n",
    "test = df_interpolate[df_interpolate.index >= split_date]\n",
    "\n",
    "# Print the size of the training and testing sets\n",
    "print(\"Training Set Size:\", len(train))\n",
    "print(\"Testing Set Size:\", len(test))"
   ]
  },
  {
   "cell_type": "markdown",
   "id": "46ce729a",
   "metadata": {},
   "source": [
    "the first time this code was run, it gave a nonsensical result for trainig/testing \n",
    "Training Set Size: 30\n",
    "Testing Set Size: 248 not at all what was expected\n",
    "\n",
    "So with the adjustments made to the train size, subtracting the total observations for the forecast horizon (in this case 30 days) the result was a bit more plausible with<b> 251 days for training and the remainig 30 for testing as the new dates were imputed \n",
    "    \n",
    "    This restulted in a training set ranging from 2023-02-02 to 2024-01-18 and a testing set ranging from 2024-01-19 to the final observation 2024-02-29. \n",
    "    "
   ]
  },
  {
   "cell_type": "code",
   "execution_count": null,
   "id": "66d91f97",
   "metadata": {},
   "outputs": [],
   "source": [
    "# comparing the total observation with forecast horizon for predictions:\n",
    "total_obs = len(df)\n",
    "forecast_horizon = 30  # Define forecast horizon (e.g., 30 days)\n",
    "\n",
    "# Calculate the size of the training set (e.g., 80%)\n",
    "train_size = total_obs - forecast_horizon\n",
    "\n",
    "# Adjust the split date based on the forecast horizon\n",
    "split_date = df.index[train_size]\n",
    "\n",
    "# Split the data into training and testing sets based on the adjusted split date\n",
    "train = df[df.index < split_date]\n",
    "test = df[df.index >= split_date]\n",
    "\n",
    "# Print the size of the training and testing sets\n",
    "print(\"Training Set Size:\", len(train))\n",
    "print(\"Testing Set Size:\", len(test))"
   ]
  },
  {
   "cell_type": "code",
   "execution_count": null,
   "id": "7387833e",
   "metadata": {},
   "outputs": [],
   "source": [
    "#checking train set range\n",
    "print(train)"
   ]
  },
  {
   "cell_type": "code",
   "execution_count": null,
   "id": "2f77a149",
   "metadata": {},
   "outputs": [],
   "source": [
    "#checking testing set dates range\n",
    "print(test)"
   ]
  },
  {
   "cell_type": "markdown",
   "id": "476533f0",
   "metadata": {},
   "source": [
    "## Feature selection \n",
    "\n",
    "\n",
    "    \n",
    "    \n",
    "For this section , three different approaches to modeling will be explored: using real prices, standardized prices, and differenced prices. When using real prices, the data will be preprocessed to address any trends, seasonality, or non-stationarity, and features such as lagged values of the real prices and other relevant indicators will be engineered. This approach allows for the modeling of the actual levels of the variable and the capturing of any inherent patterns in the data.<br> Alternatively, more experimentation will be conducted by using standardized prices, which have been preprocessed to remove the mean and scale the data to have unit variance. This approach may be beneficial for certain modeling techniques that are sensitive to the scale of the features. Lastly,  experiments using the differenced prices will be applied, by taking the difference between consecutive observations to capture any underlying trends or patterns. <br> By testing these three approaches, the most suitable modeling strategy for the forecasting task will be determined, considering the characteristics of the data and the requirements of the modeling approach.\n",
    "<br>\n",
    "\n",
    "<b> Creating separate dataframes for each column"
   ]
  },
  {
   "cell_type": "code",
   "execution_count": null,
   "id": "b3cd2989",
   "metadata": {},
   "outputs": [],
   "source": [
    "# Separate the 'I-CIP' variable into its own DataFrame\n",
    "prices_df = df[['I-CIP']]\n",
    "\n",
    "# Separate the 'price_standardized' variable into its own DataFrame\n",
    "price_standardized_df = df[['price_standardized']]\n",
    "\n",
    "# Separate the 'price_normalized' variable into its own DataFrame\n",
    "price_normalized_df = df[['price_normalized']]\n",
    "\n",
    "# Separate the 'price_diff' variable into its own DataFrame\n",
    "price_diff_df = df[['price_diff']]"
   ]
  },
  {
   "cell_type": "code",
   "execution_count": null,
   "id": "c4b10361",
   "metadata": {},
   "outputs": [],
   "source": [
    "# checking if all the desired variables are showed correctly \n",
    "prices_df"
   ]
  },
  {
   "cell_type": "code",
   "execution_count": null,
   "id": "da20ca9e",
   "metadata": {},
   "outputs": [],
   "source": [
    "price_diff_df"
   ]
  },
  {
   "cell_type": "markdown",
   "id": "261beac1",
   "metadata": {},
   "source": [
    "# Finding the trend of the original pprices using a regression line?\n",
    "\n",
    "The trend slope in regression tasks is obtainned by taking the **difference between two data points and dividing it by the amount of time between them.**\n",
    "\n",
    "\n",
    "A low drop in the regression line in this case can be influenced by the declining average values as time passes. \n",
    "\n",
    "    (before data imputation techniques the trend was -0.0043, now we added new values for the respective missing dates the new regression line is -0.0030, statistically not vary significant but still worth mentioning, the trend is still slightly negative overall)"
   ]
  },
  {
   "cell_type": "code",
   "execution_count": null,
   "id": "69d4d6af",
   "metadata": {},
   "outputs": [],
   "source": [
    "from sklearn.linear_model import LinearRegression\n",
    "\n",
    "# Extract features (dates) and target variable (prices)\n",
    "X = prices_df.index.to_julian_date().values.reshape(-1, 1)\n",
    "y = prices_df['I-CIP'].values\n",
    "\n",
    "# Fit linear regression model\n",
    "lr_model = LinearRegression()\n",
    "lr_model.fit(X, y)\n",
    "\n",
    "# Get the slope (trend) of the regression line\n",
    "trend = lr_model.coef_[0]\n",
    "print(\"Trend (slope) of the regression line:\", trend)"
   ]
  },
  {
   "cell_type": "code",
   "execution_count": null,
   "id": "1c748c3d",
   "metadata": {},
   "outputs": [],
   "source": [
    "\n",
    "# Plot the original data\n",
    "plt.figure(figsize=(10, 6))\n",
    "plt.plot(prices_df.index, prices_df['I-CIP'], label='Original Data')\n",
    "\n",
    "# Plot the regression line\n",
    "plt.plot(prices_df.index, lr_model.predict(X), color='red', linestyle='--', label='Regression Line')\n",
    "\n",
    "# Add labels and title\n",
    "plt.xlabel('Date')\n",
    "plt.ylabel('I-CIP Price')\n",
    "plt.title('Trend Analysis with Linear Regression')\n",
    "plt.legend()\n",
    "plt.grid(True)\n",
    "\n",
    "# Show plot\n",
    "plt.show()"
   ]
  },
  {
   "cell_type": "markdown",
   "id": "145b4e12",
   "metadata": {},
   "source": [
    "- The original prices (blue line) fluctuate above and below the trend (red/regression) line, which suggests volatility in the prices over time. These fluctuations could be due to seasonal variations (which are heavily present in this context), irregular components, or other cyclical factors not captured by a simple linear trend. \n",
    "\n",
    "- Potential Non-Linearity: While the trend line provides a general direction of movement, there are periods where the actual data deviates significantly from the trend. This could indicate that a linear model may not fully capture the complexity of the data. It’s possible that the series has non-linear patterns, or that different segments of time have different slopes (changing trends).\n",
    "\n",
    "- Use for Forecasting: The trend line can serve as a simple forecast model, it simply projects the general projecting direction of the prices into the future. <br>\n",
    "\n",
    "\n",
    "\n",
    "\"Regression analysis is the process of estimating the relationship between a dependent variable and independent variables\" https://towardsdatascience.com/a-beginners-guide-to-regression-analysis-in-machine-learning-8a828b491bbf\n",
    "\n",
    "\n",
    "\"<i>However, for more accurate forecasting, especially in volatile financial contexts, more sophisticated models might be necessary, potentially ones that can accommodate seasonality, non-linearity, and other characteristics of the data.\"</i>   A single linear fit doesn't respond quickly to changing business realities,( especially if it is operating over a large span of time or sample values."
   ]
  },
  {
   "cell_type": "markdown",
   "id": "0569cd61",
   "metadata": {},
   "source": [
    "## Machine learning baseline Models\n",
    "\n",
    "Characteristcs of the data observed thus far can justify the selection of auto-regressive models such as SARIMA(X) and Support Vector Regressor (SVR):\n",
    "\n",
    "**Decision Tree Regressor** This model uses a decision tree to go from observations about an item  (branches) to conclusions about the item's target value (leaves). It's a simple and interpretable model (can be susceptible to overfitting).\n",
    "\n",
    "**Random Forest Regressor:** An combination of  methods that fits a number of decision tree regressors on various sub-samples of the dataset and uses averaging to improve the predictive accuracy and control over-fitting. It's more robust and accurate than a single decision tree.\n",
    "\n",
    "**SVR (Support Vector Regression):**  uses the principles of support vector machines for regression tasks. It tries to fit the error within a certain threshold and is robust to outliers. <mark> SVR can be used for both linear and non-linear data.<mark/> \n",
    "\n",
    "**Gradient Boosting Regressor:** An ensemble technique that builds models sequentially, each new model correcting errors made by previous models. It combines weak predictive models to create a strong predictor. Gradient boosting can be used for both regression and classification tasks and is known for its effectiveness, especially with non-linear data.\n",
    "\n",
    "**Linear Regression:** The simplest model that assumes a linear relationship between the input variables (x) and the single output variable (y). It finds the line (in two dimensions) that best fits the data points. It's easy to understand and interpret <mark> but can be limited in handling complex data patterns without transformations or additions like polynomial features. <mark/> doesnt consider fluctuations and seasonality\n",
    "\n",
    "https://towardsdatascience.com/a-beginners-guide-to-regression-analysis-in-machine-learning-8a828b491bbf\n",
    "    \n",
    "    \n",
    "https://otexts.com/fpp2/regression.html"
   ]
  },
  {
   "cell_type": "markdown",
   "id": "294dc216",
   "metadata": {},
   "source": [
    "## Splitting train/test data\n",
    "\n",
    "using the last 30 ndays for testing and the remaining 248 as training (80/20)"
   ]
  },
  {
   "cell_type": "markdown",
   "id": "d7cf6dbf",
   "metadata": {},
   "source": [
    "### if there's left\n",
    "\n",
    "Look into timeseries.split from sklearn!\n",
    "\n",
    "Time Series cross-validator\n",
    "\n",
    "\n",
    "https://scikit-learn.org/1.1/modules/generated/sklearn.model_selection.TimeSeriesSplit.html#sklearn.model_selection.TimeSeriesSplit\n",
    "https://scikit-learn.org/1.1/modules/classes.html#module-sklearn.model_selection"
   ]
  },
  {
   "cell_type": "code",
   "execution_count": null,
   "id": "2c139572",
   "metadata": {},
   "outputs": [],
   "source": [
    "# Define the forecast horizon (e.g., 30 days)\n",
    "forecast_horizon = 30  \n",
    "\n",
    "# Calculate the size of the training set\n",
    "train_size = len(prices_df) - forecast_horizon\n",
    "\n",
    "# Split the data into training and testing sets\n",
    "train = prices_df.iloc[:train_size]\n",
    "test = prices_df.iloc[train_size:]\n",
    "\n",
    "# Print the size of the training and testing sets\n",
    "print(\"Training Set Size:\", len(train))\n",
    "print(\"Testing Set Size:\", len(test))"
   ]
  },
  {
   "cell_type": "code",
   "execution_count": null,
   "id": "695844f4",
   "metadata": {},
   "outputs": [],
   "source": [
    "# Prepare the training and testing features and target variable\n",
    "X_train, y_train = train.index.values.reshape(-1, 1), train['I-CIP']\n",
    "X_test, y_test = test.index.values.reshape(-1, 1), test['I-CIP']\n",
    "\n",
    "\n",
    "\n",
    "# reshape to to datetime but then got an error saying my index shold be in numeric values?\n",
    "\n",
    "# Convert the index to numerical representation\n",
    "X_train = pd.to_numeric(train.index.values).reshape(-1, 1)\n",
    "X_test = pd.to_numeric(test.index.values).reshape(-1, 1)\n",
    "\n"
   ]
  },
  {
   "cell_type": "code",
   "execution_count": null,
   "id": "e4bc5077",
   "metadata": {},
   "outputs": [],
   "source": [
    "# Initialize and train the linear regression model\n",
    "model = LinearRegression()\n",
    "model.fit(X_train, y_train)\n"
   ]
  },
  {
   "cell_type": "code",
   "execution_count": null,
   "id": "b5b034c4",
   "metadata": {},
   "outputs": [],
   "source": [
    "# Make predictions on the testing set\n",
    "predictions = model.predict(X_test)\n",
    "\n",
    "# Calculate and print mean squared error\n",
    "mse = mean_squared_error(y_test, predictions)\n",
    "print(\"Mean Squared Error:\", mse)\n",
    "\n",
    "# Calculate Mean Absolute Error (MAE)\n",
    "mae = mean_absolute_error(y_test, predictions)\n",
    "print(\"Mean Absolute Error (MAE):\", mae)\n",
    "\n",
    "# Calculate Root Mean Squared Error (RMSE)\n",
    "rmse = np.sqrt(mse)\n",
    "print(\"Root Mean Squared Error (RMSE):\", rmse)\n",
    "\n",
    "# Calculate Mean Absolute Percentage Error (MAPE)\n",
    "mape = np.mean(np.abs((y_test - predictions) / y_test)) * 100\n",
    "print(\"Mean Absolute Percentage Error (MAPE):\", mape, \"%\")\n",
    "\n",
    "# Plot actual vs. predicted values\n",
    "plt.figure(figsize=(10, 6))\n",
    "plt.plot(test.index, y_test, label='Actual')\n",
    "plt.plot(test.index, predictions, label='Predicted')\n",
    "plt.xlabel('Date')\n",
    "plt.ylabel('I-CIP')\n",
    "plt.title('Actual vs. Predicted Values')\n",
    "plt.legend()\n",
    "plt.show()"
   ]
  },
  {
   "cell_type": "markdown",
   "id": "427c2260",
   "metadata": {},
   "source": [
    "## \n",
    "\n",
    "MSE of 563.60? the predicted values simpluy follow a negative linear behaviour, whihc can be explained by the way the model operates. a linear regression can only follow a straigh line, up or down. \n",
    "\n",
    "One of the disadvantagews of LR is that it assumes the linear relationhip between the dependant (y) and independent (x) variables, which in this case are not entirely reliable due to the high volatiluty in the original values and the lack of linearity. \n",
    "\n",
    "## <mark> OLS Regression: <mark/>\n",
    "\n",
    "\n",
    "\n",
    "        \" the aim of the ordinary least squares method is to minimize the prediction error, between the predicted and real values.It takes into account the sum of squared errors instead of the errors as they are because sometimes they can be negative or positive and they could sum up to a nearly null value.\" \n",
    "        \n",
    "https://www.xlstat.com/en/solutions/features/ordinary-least-squares-regression-ols#:~:text=Ordinary%20Least%20Squares%20regression%20(OLS)%20is%20a%20common%20technique%20for,simple%20or%20multiple%20linear%20regression)."
   ]
  },
  {
   "cell_type": "markdown",
   "id": "dad4f6c9",
   "metadata": {},
   "source": [
    "## Random Forest\n"
   ]
  },
  {
   "cell_type": "code",
   "execution_count": null,
   "id": "c13127a0",
   "metadata": {},
   "outputs": [],
   "source": [
    "# Feature Engineering (adding sequence for dates - day of the week from 0-4, week of the year from 1-52?\n",
    "#month from 1 to 12 and quarter)\n",
    "prices_df['DayOfWeek'] = prices_df.index.dayofweek\n",
    "prices_df['WeekOfYear'] = prices_df.index.week\n",
    "prices_df['Month'] = prices_df.index.month\n",
    "prices_df['Quarter'] = prices_df.index.quarter\n",
    "\n",
    "\n",
    "# Adjusting the Model\n",
    "# Example using Random Forest\n",
    "from sklearn.ensemble import RandomForestRegressor\n",
    "from sklearn.model_selection import train_test_split\n",
    "from sklearn.metrics import mean_squared_error\n",
    "\n",
    "# Define features and target variable\n",
    "features = ['DayOfWeek', 'WeekOfYear', 'Month', 'Quarter']\n",
    "X = prices_df[features]\n",
    "y = prices_df['I-CIP']\n",
    "\n",
    "# Split data into training and testing sets\n",
    "X_train, X_test, y_train, y_test = train_test_split(X, y, test_size=0.2, random_state=42)\n",
    "\n",
    "# Initialize and train the model\n",
    "model = RandomForestRegressor()\n",
    "model.fit(X_train, y_train)\n",
    "\n",
    "# Make predictions on the testing set\n",
    "predictions = model.predict(X_test)\n",
    "\n",
    "# Evaluate the model\n",
    "mse = mean_squared_error(y_test, predictions)\n",
    "print(\"Mean Squared Error:\", mse)\n",
    "\n",
    "# Calculate Mean Absolute Error (MAE)\n",
    "mae = mean_absolute_error(y_test, predictions)\n",
    "print(\"Mean Absolute Error (MAE):\", mae)\n",
    "\n",
    "# Calculate Root Mean Squared Error (RMSE)\n",
    "rmse = np.sqrt(mse)\n",
    "print(\"Root Mean Squared Error (RMSE):\", rmse)\n",
    "\n",
    "# Calculate Mean Absolute Percentage Error (MAPE)\n",
    "mape = np.mean(np.abs((y_test - predictions) / y_test)) * 100\n",
    "print(\"Mean Absolute Percentage Error (MAPE):\", mape, \"%\")\n"
   ]
  },
  {
   "cell_type": "code",
   "execution_count": null,
   "id": "097082ab",
   "metadata": {
    "scrolled": false
   },
   "outputs": [],
   "source": [
    "# Plot actual vs. predicted values\n",
    "plt.figure(figsize=(10, 6))\n",
    "plt.scatter(y_test, predictions, color='blue', alpha=0.5)\n",
    "plt.plot([y_test.min(), y_test.max()], [y_test.min(), y_test.max()], 'k--', lw=2)\n",
    "plt.xlabel('Actual')\n",
    "plt.ylabel('Predicted')\n",
    "plt.title('Actual vs. Predicted Values (Random Forest)')\n",
    "plt.show()"
   ]
  },
  {
   "cell_type": "markdown",
   "id": "769a18f2",
   "metadata": {},
   "source": [
    "Trying these train/test datasets from prices to multiple regressors:"
   ]
  },
  {
   "cell_type": "code",
   "execution_count": null,
   "id": "ac7b1671",
   "metadata": {},
   "outputs": [],
   "source": [
    "\n",
    "\n",
    "# Loop to initialise multiple regression models\n",
    "models = {\n",
    "    'Decision Tree': DecisionTreeRegressor(),\n",
    "    'Random Forest': RandomForestRegressor(),\n",
    "    'SVR': SVR(),\n",
    "    'Gradient Boosting': GradientBoostingRegressor(),\n",
    "    'Linear Regression': LinearRegression()\n",
    "}\n",
    "\n",
    "# Train and evaluate each model\n",
    "for name, model in models.items():\n",
    "    model.fit(X_train, y_train)  # Assuming X_train and y_train are your training features and target\n",
    "    score = model.score(X_test, y_test)  # Evaluate on the test set\n",
    "    print(f'{name} R^2 Score: {score}')"
   ]
  },
  {
   "cell_type": "markdown",
   "id": "f284440e",
   "metadata": {},
   "source": [
    "### Adding more metrics and a cross-validation section to see how it changes the results\n",
    "\n",
    "<span style=\"color: red; font-weight: bold;\">Cross validation for SVR!</span>"
   ]
  },
  {
   "cell_type": "code",
   "execution_count": null,
   "id": "a50608eb",
   "metadata": {},
   "outputs": [],
   "source": [
    "from sklearn.model_selection import cross_val_score\n",
    "\n",
    "# Loop to initialize multiple regression models\n",
    "models = {\n",
    "    'Decision Tree': DecisionTreeRegressor(),\n",
    "    'Random Forest': RandomForestRegressor(),\n",
    "    'SVR': SVR(),\n",
    "    'Gradient Boosting': GradientBoostingRegressor(),\n",
    "    'Linear Regression': LinearRegression()\n",
    "}\n",
    "\n",
    "# Cross-validation\n",
    "n_splits = 5  # Number of folds for cross-validation\n",
    "for name, model in models.items():\n",
    "    scores = cross_val_score(model, X, y, cv=n_splits, scoring='r2')  # Assuming X and y are your features and target\n",
    "    print(f'{name} Average R^2 Score: {np.mean(scores)}')\n",
    "    print(f'{name} R^2 Scores for each fold: {scores}\\n')"
   ]
  },
  {
   "cell_type": "code",
   "execution_count": null,
   "id": "42024e0e",
   "metadata": {},
   "outputs": [],
   "source": []
  },
  {
   "cell_type": "code",
   "execution_count": null,
   "id": "9b769fc8",
   "metadata": {
    "scrolled": false
   },
   "outputs": [],
   "source": [
    "from sklearn.model_selection import cross_val_score\n",
    "from sklearn.tree import DecisionTreeRegressor\n",
    "from sklearn.ensemble import RandomForestRegressor, GradientBoostingRegressor\n",
    "from sklearn.svm import SVR\n",
    "from sklearn.linear_model import LinearRegression\n",
    "import numpy as np\n",
    "\n",
    "# Loop to initialize multiple regression models\n",
    "models = {\n",
    "    'Decision Tree': DecisionTreeRegressor(),\n",
    "    'Random Forest': RandomForestRegressor(),\n",
    "    'SVR': SVR(),\n",
    "    'Gradient Boosting': GradientBoostingRegressor(),\n",
    "    'Linear Regression': LinearRegression()\n",
    "}\n",
    "\n",
    "# Cross-validation\n",
    "n_splits = 5  # Number of folds for cross-validation\n",
    "metrics = ['r2', 'neg_mean_absolute_error', 'neg_mean_squared_error']\n",
    "\n",
    "#  X and y are the features and target variables\n",
    "for name, model in models.items():\n",
    "    print(f'Results for {name}:')\n",
    "    results = {}\n",
    "    for metric in metrics:\n",
    "        scores = cross_val_score(model, X, y, cv=n_splits, scoring=metric)\n",
    "        if metric == 'neg_mean_absolute_error':\n",
    "            scores = -scores  # Convert to positive as the scores are negative\n",
    "            metric_name = 'MAE'\n",
    "        elif metric == 'neg_mean_squared_error':\n",
    "            scores = -scores  # Convert to positive as the scores are negative\n",
    "            metric_name = 'MSE'\n",
    "        else:\n",
    "            metric_name = 'R^2'\n",
    "        \n",
    "        results[metric_name] = scores\n",
    "    \n",
    "    # Print results\n",
    "    for metric, scores in results.items():\n",
    "        if metric == 'MSE':\n",
    "            # Calculate RMSE from MSE\n",
    "            rmse_scores = np.sqrt(scores)\n",
    "            print(f'Average RMSE: {np.mean(rmse_scores)}')\n",
    "            print(f'RMSE for each fold: {rmse_scores}\\n')\n",
    "        else:\n",
    "            print(f'Average {metric}: {np.mean(scores)}')\n",
    "            print(f'{metric} Scores for each fold: {scores}\\n')"
   ]
  },
  {
   "cell_type": "code",
   "execution_count": null,
   "id": "f997da1e",
   "metadata": {},
   "outputs": [],
   "source": [
    "# Initialize regression models\n",
    "models = {\n",
    "    'Decision Tree': DecisionTreeRegressor(),\n",
    "    'Random Forest': RandomForestRegressor(),\n",
    "    'SVR': SVR(),\n",
    "    'Gradient Boosting': GradientBoostingRegressor(),\n",
    "    'Linear Regression': LinearRegression()\n",
    "}\n",
    "\n",
    "# Cross-validation settings\n",
    "n_splits = 5\n",
    "metrics = ['r2', 'neg_mean_absolute_error', 'neg_mean_squared_error']\n",
    "\n",
    "# Data structure to store results\n",
    "results = {name: {'R^2': [], 'MAE': [], 'RMSE': []} for name in models}\n",
    "\n",
    "# Perform cross-validation and collect data\n",
    "for name, model in models.items():\n",
    "    for metric in metrics:\n",
    "        scores = cross_val_score(model, X, y, cv=n_splits, scoring=metric)\n",
    "        if metric.startswith('neg_'):\n",
    "            scores = -scores  # Convert to positive values\n",
    "        \n",
    "        if metric == 'neg_mean_squared_error':\n",
    "            scores = np.sqrt(scores)  # Convert MSE to RMSE\n",
    "            results[name]['RMSE'].append((np.mean(scores), np.std(scores)))\n",
    "        elif metric == 'neg_mean_absolute_error':\n",
    "            results[name]['MAE'].append((np.mean(scores), np.std(scores)))\n",
    "        else:\n",
    "            results[name]['R^2'].append((np.mean(scores), np.std(scores)))\n",
    "\n",
    "# Plotting\n",
    "fig, axs = plt.subplots(1, 3, figsize=(20, 5)) \n",
    "metrics = ['R^2', 'MAE', 'RMSE']\n",
    "for idx, metric in enumerate(metrics):\n",
    "    means = [results[name][metric][0][0] for name in models]\n",
    "    stds = [results[name][metric][0][1] for name in models]\n",
    "    axs[idx].bar(models.keys(), means, yerr=stds, capsize=5)\n",
    "    axs[idx].set_title(metric)\n",
    "    axs[idx].set_ylabel(metric)\n",
    "    axs[idx].set_ylim(bottom=min(means) - max(stds) - 0.1)  # Adjust y-limit for visibility of error bars\n",
    "\n",
    "plt.tight_layout()\n",
    "plt.show()"
   ]
  },
  {
   "cell_type": "markdown",
   "id": "5e147d7b",
   "metadata": {},
   "source": [
    "errors in sahpe of X arrays!\n",
    "\n",
    "*1 fits failed with the following error:\n",
    "Traceback (most recent call last):\n",
    "  File \"/Users/clarissacardoso/anaconda3/lib/python3.10/site-packages/sklearn/model_selection/_validation.py\", line 686, in _fit_and_score\n",
    "    estimator.fit(X_train, y_train, ** fit_params)*\n",
    " \n",
    "**\"Reshape your data either using array.reshape(-1, 1) if your data has a single feature or array.reshape(1, -1) if it contains a single sample.\"**"
   ]
  },
  {
   "cell_type": "code",
   "execution_count": null,
   "id": "5b7ca431",
   "metadata": {},
   "outputs": [],
   "source": []
  },
  {
   "cell_type": "code",
   "execution_count": null,
   "id": "1049b6c4",
   "metadata": {},
   "outputs": [],
   "source": []
  },
  {
   "cell_type": "code",
   "execution_count": null,
   "id": "2e38c82b",
   "metadata": {},
   "outputs": [],
   "source": []
  },
  {
   "cell_type": "code",
   "execution_count": null,
   "id": "ec2333d4",
   "metadata": {},
   "outputs": [],
   "source": [
    "prices_df.head(5)"
   ]
  },
  {
   "cell_type": "markdown",
   "id": "a98e67fc",
   "metadata": {},
   "source": [
    "### Hyperparameter Tuning for Random Forrest \n",
    "Using GridSearchCv\n",
    "\n"
   ]
  },
  {
   "cell_type": "raw",
   "id": "58652b31",
   "metadata": {},
   "source": [
    "results from gridsearch: Best Parameters: {'max_depth': 10, 'max_features': 'auto', 'min_samples_leaf': 2, 'min_samples_split': 5, 'n_estimators': 200}\n",
    "Best Score: 0.8981759161159886"
   ]
  },
  {
   "cell_type": "code",
   "execution_count": null,
   "id": "7d80c467",
   "metadata": {
    "scrolled": true
   },
   "outputs": [],
   "source": [
    "from sklearn.model_selection import GridSearchCV\n",
    "\n",
    "# Define hyperparameters grid for RandomForestRegressor\n",
    "param_grid = {\n",
    "    'n_estimators': [100, 200, 300],\n",
    "    'max_depth': [None, 10, 20],\n",
    "    'min_samples_split': [2, 5, 10],\n",
    "    'min_samples_leaf': [1, 2, 4],\n",
    "    #'max_features': ['auto', 'sqrt', 'log2'] was showing excessive warnings? feature discontinued from sklearn!\n",
    "}\n",
    "\n",
    "# Initialize RandomForestRegressor\n",
    "rf = RandomForestRegressor()\n",
    "\n",
    "# Perform Grid Search Cross-Validation\n",
    "grid_search = GridSearchCV(estimator=rf, param_grid=param_grid, cv=5, n_jobs=-1)\n",
    "grid_search.fit(X_train, y_train)  # Assuming X_train and y_train are your training features and target\n",
    "\n",
    "# Get the best parameters and best score\n",
    "print(\"Best Parameters:\", grid_search.best_params_)\n",
    "print(\"Best Score:\", grid_search.best_score_)"
   ]
  },
  {
   "cell_type": "code",
   "execution_count": null,
   "id": "b367f478",
   "metadata": {},
   "outputs": [],
   "source": []
  },
  {
   "cell_type": "code",
   "execution_count": null,
   "id": "f3cc03b3",
   "metadata": {},
   "outputs": [],
   "source": [
    "# Best parameters from grid search\n",
    "best_params = {\n",
    "    'max_depth': 10,\n",
    "    'max_features': 'auto',\n",
    "    'min_samples_leaf': 2,\n",
    "    'min_samples_split': 5,\n",
    "    'n_estimators': 200\n",
    "}\n",
    "\n",
    "# Initialize the RandomForestRegressor with the best parameters\n",
    "regressor = RandomForestRegressor(**best_params)\n",
    "\n",
    "# Fit the model to your data\n",
    "# X_train and y_train should be your training data\n",
    "regressor.fit(X_train, y_train)\n",
    "\n",
    "# Now the model is ready to make predictions or be evaluated further\n",
    "predictions = regressor.predict(X_test)\n",
    "\n",
    "# Evaluate the model\n",
    "mse = mean_squared_error(y_test, predictions)\n",
    "r2 = r2_score(y_test, predictions)\n",
    "rmse = sqrt(mse)\n",
    "mae = mean_absolute_error(y_test, predictions)\n",
    "\n",
    "print(\"Mean Squared Error:\", mse)\n",
    "print(\"R-squared:\", r2)\n",
    "print(\"Root Mean Squared Error:\", rmse)\n",
    "print(\"Mean Absolute Error:\", mae)"
   ]
  },
  {
   "cell_type": "markdown",
   "id": "431a9e02",
   "metadata": {},
   "source": [
    "### Residuals Analysis: \n",
    "\n",
    "Examining the residuals (the difference between the observed and predicted values) can give insights into the accuracy and bias of the model."
   ]
  },
  {
   "cell_type": "code",
   "execution_count": null,
   "id": "7a68c536",
   "metadata": {},
   "outputs": [],
   "source": [
    "residuals = y_test - predictions\n",
    "plt.hist(residuals, bins=20)\n",
    "plt.title('Histogram of Residuals')\n",
    "plt.show()"
   ]
  },
  {
   "cell_type": "code",
   "execution_count": null,
   "id": "3f762364",
   "metadata": {},
   "outputs": [],
   "source": [
    "from sklearn.model_selection import learning_curve\n",
    "\n",
    "train_sizes, train_scores, validation_scores = learning_curve(\n",
    "    regressor, X_train, y_train, train_sizes=np.linspace(0.1, 1.0, 10), cv=5, scoring='neg_mean_squared_error')\n",
    "\n",
    "train_scores_mean = -train_scores.mean(axis=1)\n",
    "validation_scores_mean = -validation_scores.mean(axis=1)\n",
    "\n",
    "plt.plot(train_sizes, train_scores_mean, 'o-', color=\"r\", label=\"Training score\")\n",
    "plt.plot(train_sizes, validation_scores_mean, 'o-', color=\"g\", label=\"Cross-validation score\")\n",
    "plt.title(\"Learning Curve\")\n",
    "plt.xlabel(\"Training Set Size\")\n",
    "plt.ylabel(\"MSE\")\n",
    "plt.legend(loc=\"best\")\n",
    "plt.show()"
   ]
  },
  {
   "cell_type": "markdown",
   "id": "40ffbee4",
   "metadata": {},
   "source": [
    "-  considerable gap between the training and cross-validation scores, but it narrows as more data is used. This indicates that the model may suffer from a variance problem – it performs well on the training data but less so on data it hasn't seen before, or that it cpuld be slightly overfitter?"
   ]
  },
  {
   "cell_type": "markdown",
   "id": "3174f72e",
   "metadata": {},
   "source": [
    "\n"
   ]
  },
  {
   "cell_type": "code",
   "execution_count": null,
   "id": "0f7d3c6f",
   "metadata": {},
   "outputs": [],
   "source": [
    "\n",
    "#checking if variable is calling the right values\n",
    "df"
   ]
  },
  {
   "cell_type": "markdown",
   "id": "19377818",
   "metadata": {},
   "source": [
    "Comparing Price_diff wiith Standardised values\n"
   ]
  },
  {
   "cell_type": "code",
   "execution_count": null,
   "id": "0f6e89c4",
   "metadata": {},
   "outputs": [],
   "source": [
    "df['price_diff'].plot(title='Differentiated Values')\n",
    "plt.show()\n",
    "df['price_standardized'].plot(title='Standardized Values')\n",
    "plt.show()"
   ]
  },
  {
   "cell_type": "markdown",
   "id": "90671eef",
   "metadata": {},
   "source": [
    "### Checking each column for Stationarity and determine parameters with Correlation plots\n",
    "\n",
    "\n",
    "## 1. Original prices for ICIP values observed in first column (df['I-CIP'])\n"
   ]
  },
  {
   "cell_type": "code",
   "execution_count": null,
   "id": "45ad6eda",
   "metadata": {},
   "outputs": [],
   "source": [
    "# checkin stationarity for original prices\n",
    "def check_stationarity(series):\n",
    "    result = adfuller(series, autolag='AIC')\n",
    "    print(f'ADF Statistic: {result[0]}')\n",
    "    print(f'p-value: {result[1]}')\n",
    "    for key, value in result[4].items():\n",
    "        print(f'Critical Value {key}: {value}')\n",
    "\n",
    "check_stationarity(df['I-CIP'])\n"
   ]
  },
  {
   "cell_type": "markdown",
   "id": "d2fe73f0",
   "metadata": {},
   "source": [
    "a p-value of0.52 ( > 0.05) indicates that the data is non-stationary like it was observed above, this is merely to have all the features and preparation combined in the same section to avoid confusion. \n",
    "\n",
    "Another sign of non-startionary behaviour is the gradual decline in the acf plot below:\n",
    "\n"
   ]
  },
  {
   "cell_type": "markdown",
   "id": "3048d45c",
   "metadata": {},
   "source": [
    "Using ACF and PACF to determine parameters for ARIMA\n",
    "\n",
    "These plots can guide the choice of p and q. A sharp cut-off in the PACF after lag p suggests an AR(p) component, and a similar cut-off in the ACF after lag q suggests an MA(q) component."
   ]
  },
  {
   "cell_type": "code",
   "execution_count": null,
   "id": "4abc3d39",
   "metadata": {},
   "outputs": [],
   "source": [
    "#acf plot for correlation\n",
    "plot_acf(df['I-CIP'].dropna())\n",
    "plt.show()\n",
    "\n",
    "# partial correlation \n",
    "plot_pacf(df['I-CIP'].dropna())\n",
    "plt.show()"
   ]
  },
  {
   "cell_type": "code",
   "execution_count": null,
   "id": "5b22fea7",
   "metadata": {},
   "outputs": [],
   "source": [
    "#train"
   ]
  },
  {
   "cell_type": "code",
   "execution_count": null,
   "id": "be12e980",
   "metadata": {},
   "outputs": [],
   "source": [
    "#test"
   ]
  },
  {
   "cell_type": "code",
   "execution_count": null,
   "id": "11706414",
   "metadata": {},
   "outputs": [],
   "source": [
    "# Define the point at which to split the data. Let's say we keep the last 30 observations for testing\n",
    "split_point = len(df['I-CIP']) - 30\n",
    "train, test = df['I-CIP'][0:split_point], df['I-CIP'][split_point:]\n",
    "\n",
    "print(f\"Training set length: {len(train)}\")\n",
    "print(f\"Test set length: {len(test)}\")"
   ]
  },
  {
   "cell_type": "code",
   "execution_count": null,
   "id": "f70b7e81",
   "metadata": {},
   "outputs": [],
   "source": [
    "#pip install pmdarima"
   ]
  },
  {
   "cell_type": "code",
   "execution_count": null,
   "id": "6e47ae65",
   "metadata": {},
   "outputs": [],
   "source": []
  },
  {
   "cell_type": "markdown",
   "id": "2fe35f36",
   "metadata": {},
   "source": [
    "the residuals plot indicate the amount of white noise left out of the modeling, similarly to the previous aplications, which proves that the model is not taking into consideration the entire pattern extracted from seasonality (?) \n",
    "\n",
    "----analyse white noise? \"If the residuals of the differenced and seasonally adjusted series are not white noise, this indicates that there is still information in the data that your model has not captured.\" (in this case, since arima is agreed to not be the best model for this dataset, this section will be left aside)\n"
   ]
  },
  {
   "cell_type": "markdown",
   "id": "980c1ed5",
   "metadata": {},
   "source": [
    "ValueWarning : https://stackoverflow.com/questions/62682342/valuewarning-no-supported-index-is-available-prediction-results-will-be-give  \n"
   ]
  },
  {
   "cell_type": "markdown",
   "id": "34402011",
   "metadata": {},
   "source": [
    "mean values for forecasting still display a more flat behaviour, this could be because the model is not considering the high volatility in the original values. "
   ]
  },
  {
   "cell_type": "markdown",
   "id": "b7ce548f",
   "metadata": {},
   "source": [
    "## Data preparation for Time Series:\n",
    "\n",
    "\n",
    "*\"Time series forecasting is the task of predicting future values based on historical data. Examples\n",
    "across industries include forecasting of weather, sales numbers and stock prices.*\"for this type of modeling,  the preparation of the feature set (X) is critical, as the prediction for a time point typically depends on values from previous time points\n",
    "\n",
    "\n",
    "We can use the seasonal decompose and acf/pacf plots from previous sectios to estimate some of the parameters to be used for modeling.\n",
    "\n",
    "\n",
    "- For ARIMA: Identify the order of differencing (d), AR terms (p), and MA terms (q) that best fit the series.\n",
    "       - on separate notebook it was possible to identify arima was not really the best model for this dataset, considering the high seasonality inicially observed, causing the forecasts to not be so accurate as initially expected. All the modeleing adjustments had a similar result with the forecasted values folowing a constant or negative linear pattern, whith little to no change in the predicted values' average. \n",
    "\n",
    "\n",
    "- For SARIMA: In addition to ARIMA parameters, identify seasonal components. (testing auto arima for finding best parameters)\n",
    "\n",
    "\n",
    "\n",
    "- For LSTM or other deep learning methods: Reshape data into sequences that can be fed into the neural network, often requiring a three-dimensional array of [samples, time steps, features].\n",
    "\n",
    "\n",
    "\n",
    "\n",
    "                \n",
    "  look more for timeseries cross validation: https://subashpalvel.medium.com/understanding-time-series-cross-validation-1929c543d339#:~:text=The%20most%20common%20time%20series,the%20end%20of%20the%20data.\n"
   ]
  },
  {
   "cell_type": "markdown",
   "id": "cc568f74",
   "metadata": {},
   "source": [
    "## FEature Engeneering for Time series using Autoregressor Model\n",
    "\n",
    "On the separate jupyter it was concluded ARIMA would not be the most apropriate model, even when used first and second differentiations the model still wouldnt considert the seasonal influence for the predictions. This is why in this notebook we'll start with SARIMA applications to add the trend and season variations to the model\n",
    "\n",
    "\n",
    "\n",
    "### Lag Features\n",
    "\n",
    "taking  the past values of the time series,that can be used as predictors for future values.\n",
    "The absence of clear seasonal spikes in the ACF/PACF from above lines suggests that determining the appropriate seasonal orders may rely more on dexternal factors. (ie, season of harvest or even import/export cycles?)\n",
    "\n",
    "Usually the comomn practice is to start with 2, 3 lags and cross validate the results with more to see IF increasing the lags could increase performnce,"
   ]
  },
  {
   "cell_type": "code",
   "execution_count": null,
   "id": "cfb84e4d",
   "metadata": {},
   "outputs": [],
   "source": []
  },
  {
   "cell_type": "code",
   "execution_count": null,
   "id": "2cdf8db4",
   "metadata": {},
   "outputs": [],
   "source": [
    "# Define the number of lag features to be  created\n",
    "n_lags = 3  # For example, create 3 lag features\n",
    "\n",
    "# Now, create lag features\n",
    "for lag in range(1, n_lags + 1):\n",
    "    df[f'lag_{lag}'] = df['I-CIP'].shift(lag)\n",
    "\n",
    "# Check the DataFrame to see the new lag features\n",
    "print(df.head(n_lags + 3))"
   ]
  },
  {
   "cell_type": "markdown",
   "id": "0520af8e",
   "metadata": {},
   "source": [
    "when creating lags, the first value will always be NaN, because it cant take the previous dta to calculate from, the higher the amount of lag values, the more NaN values will be created. 2 lags will start being display from the third line, getting the average from the first 2 original observations. (drop nan values coud be a possibility, or also check the log values from the original price so thst the model performamce  doesnt get influenced by larger scales) "
   ]
  },
  {
   "cell_type": "markdown",
   "id": "09286bc5",
   "metadata": {},
   "source": [
    " \n",
    "\n",
    "\n",
    "### Rolling Window Features\n",
    "Rolling window features capture the rolling mean, sum, or other statistics over a window of past values.\n",
    "\n",
    "           \"One of the more popular rolling statistics is the moving average. This takes a moving window of time and calculates the average or the mean of that time period as the current value. Something pandas provides is a rolling() function that provides rolling window calculations, and it creates a new data structure with the window of values at each timestep. It is then possible to perform statistical functions on the window of values collected for each timestep, such as calculating the mean.\" (Lazzeri, 2021) \n",
    "\n",
    "\n",
    "\n",
    "https://medium.com/data-science-at-microsoft/introduction-to-feature-engineering-for-time-series-forecasting-620aa55fcab0\n",
    "\n",
    "\n",
    "Francesca Lazzeri, Machine Learning for Time Series Forecasting with Python, Wiley, December 2020.\n",
    "\n",
    "Francesca Lazzeri, Automated Machine Learning for time series forecasting, Data Science at Microsoft on Medium, October 2021.\n",
    "\n",
    "Francesca Lazzeri, Python open source libraries for scaling time series forecasting solutions, Data Science at Microsoft on Medium, November 2021.\n",
    "\n",
    "\n",
    "### Expanding Window Features\n",
    "Expanding window features use statistics over all past data up to the current point, such as the expanding mean."
   ]
  },
  {
   "cell_type": "code",
   "execution_count": null,
   "id": "10ae614f",
   "metadata": {},
   "outputs": [],
   "source": []
  },
  {
   "cell_type": "code",
   "execution_count": null,
   "id": "9f31f3db",
   "metadata": {},
   "outputs": [],
   "source": [
    "df['price_diff'].info() #no missing values for diff columnb"
   ]
  },
  {
   "cell_type": "code",
   "execution_count": null,
   "id": "985f7d04",
   "metadata": {},
   "outputs": [],
   "source": [
    "display(df.head())\n",
    "print(df.info())"
   ]
  },
  {
   "cell_type": "code",
   "execution_count": null,
   "id": "794a3f9d",
   "metadata": {},
   "outputs": [],
   "source": [
    "price_diff_df.head()"
   ]
  },
  {
   "cell_type": "markdown",
   "id": "47ad3ec2",
   "metadata": {},
   "source": [
    "### Adf test for stationarity of diff_prices"
   ]
  },
  {
   "cell_type": "code",
   "execution_count": null,
   "id": "c2f8fc81",
   "metadata": {},
   "outputs": [],
   "source": [
    "# checkin stationarity for diff prices\n",
    "def check_stationarity(series):\n",
    "    result = adfuller(series, autolag='AIC')\n",
    "    print(f'ADF Statistic: {result[0]}')\n",
    "    print(f'p-value: {result[1]}')\n",
    "    for key, value in result[4].items():\n",
    "        print(f'Critical Value {key}: {value}')\n",
    "\n",
    "check_stationarity(price_diff_df)\n"
   ]
  },
  {
   "cell_type": "markdown",
   "id": "a0d42642",
   "metadata": {},
   "source": [
    "#### Shapiro-Wilk test for normality of diff_prices"
   ]
  },
  {
   "cell_type": "code",
   "execution_count": null,
   "id": "18a07d78",
   "metadata": {},
   "outputs": [],
   "source": [
    "from scipy.stats import shapiro\n",
    "\n",
    "def check_normality(series):\n",
    "    stat, p_value = shapiro(series)\n",
    "    print(f'Shapiro-Wilk Test Statistic: {stat}')\n",
    "    print(f'p-value: {p_value}')\n",
    "\n",
    "    if p_value < 0.05:\n",
    "        print(\"The data does not appear to be normally distributed.\")\n",
    "    else:\n",
    "        print(\"The data appears to be normally distributed.\")\n",
    "\n",
    "# Example usage:\n",
    "check_normality(price_diff_df)"
   ]
  },
  {
   "cell_type": "code",
   "execution_count": null,
   "id": "065dca44",
   "metadata": {
    "scrolled": false
   },
   "outputs": [],
   "source": [
    "#acf plot for correlation\n",
    "plot_acf(price_diff_df.dropna())\n",
    "plt.show()\n",
    "\n",
    "# partial correlation \n",
    "plot_pacf(price_diff_df.dropna())\n",
    "plt.show()"
   ]
  },
  {
   "cell_type": "markdown",
   "id": "404b9309",
   "metadata": {},
   "source": [
    "**ACF** plot of diff prices shows a significant spike at lag zero and quickly decrease as the lags increase.\" The fact that the autocorrelations at higher lags are within the confidence interval (the blue shaded area) suggests there are no significant correlations at these lags. This is expected since the data has been differenced, which should remove any autocorrelation due to trend\"\n",
    "\n",
    "as for the **pacf** plot, if confirms the lack of correlation between lags as the diff values are displayed in a white-noise kind of new shape, this could be enough reasons to not apply arima given it will not have accurate results (which it was proven to be true - in a separate jupyter notebook  this model was extensively applied and retuned over and over to only give poor results almost every time, with a very flat and not retuning the forecasting expected for this kind of project :)\n",
    "\n",
    "The first notebook is present in the github repository kept for verision control of the entire project, it contains early experimentation as well as the datasets required to intake the taks here displayed. \n",
    "\n",
    "https://github.com/clarissa2020274/2020274_capstone.git"
   ]
  },
  {
   "cell_type": "code",
   "execution_count": null,
   "id": "5ce497cb",
   "metadata": {},
   "outputs": [],
   "source": [
    "\n",
    "from statsmodels.tsa.stattools import adfuller, acf, pacf\n",
    "from statsmodels.tsa.arima.model import ARIMA\n",
    "from statsmodels.graphics.tsaplots import plot_acf, plot_pacf\n",
    "from pmdarima.arima import auto_arima\n",
    "from statsmodels.tsa.statespace.sarimax import SARIMAX"
   ]
  },
  {
   "cell_type": "markdown",
   "id": "68ef283c",
   "metadata": {},
   "source": [
    "### Fitting SSARIMA to weekly seasonality \n",
    "\n",
    "\n",
    "\n"
   ]
  },
  {
   "cell_type": "code",
   "execution_count": null,
   "id": "49cc42db",
   "metadata": {},
   "outputs": [],
   "source": [
    "import matplotlib.pyplot as plt\n",
    "from statsmodels.tsa.statespace.sarimax import SARIMAX\n",
    "import statsmodels.api as sm\n",
    "\n",
    "# Define SARIMA model parameters\n",
    "\n",
    "p = 1  # Non-seasonal AR order\n",
    "d = 1  # Non-seasonal differencing\n",
    "q = 1  # Non-seasonal MA order\n",
    "P = 1  # Seasonal AR order\n",
    "D = 1  # Seasonal differencing\n",
    "Q = 1  # Seasonal MA order\n",
    "m = 5  # Seasonal period (5 for weekly seasonality)\n",
    "\n",
    "# Initialize the model\n",
    "sarima_model = SARIMAX(train,\n",
    "                       order=(p, d, q),\n",
    "                       seasonal_order=(P, D, Q, m),\n",
    "                       enforce_stationarity=False,\n",
    "                       enforce_invertibility=False)\n",
    "\n",
    "# Fit the model\n",
    "sarima_result = sarima_model.fit()\n",
    "\n",
    "# Summary of the model\n",
    "print(sarima_result.summary())\n",
    "\n",
    "# Make predictions on the test set\n",
    "predictions = sarima_result.get_forecast(steps=len(test))\n",
    "predicted_means = predictions.predicted_mean\n",
    "\n",
    "# Plotting the results\n",
    "plt.figure(figsize=(10, 5))\n",
    "plt.plot(train, label='Training Data')\n",
    "plt.plot(test, label='Actual Test Data')\n",
    "plt.plot(test.index, predicted_means, label='SARIMA Predictions')\n",
    "plt.legend()\n",
    "plt.show()\n",
    "\n",
    "# Calculate error metrics\n",
    "mse = mean_squared_error(test, predicted_means)\n",
    "mae = mean_absolute_error(test, predicted_means)\n",
    "rmse = np.sqrt(mse)\n",
    "\n",
    "# Print the error metrics\n",
    "print(f'Mean Squared Error (MSE): {mse}')\n",
    "print(f'Mean Absolute Error (MAE): {mae}')\n",
    "print(f'Root Mean Squared Error (RMSE): {rmse}')"
   ]
  },
  {
   "cell_type": "code",
   "execution_count": null,
   "id": "0db0ba8b",
   "metadata": {},
   "outputs": [],
   "source": []
  },
  {
   "cell_type": "markdown",
   "id": "cfee251e",
   "metadata": {},
   "source": [
    "Monthly seasonality (m= 21)\n",
    "\n",
    "from the get go sarima's results with monthly seasonality are already visibly better as compared to arimas' and arma, even when considered a weekly seasnality still shows a closer to flat line for predicted values. "
   ]
  },
  {
   "cell_type": "code",
   "execution_count": null,
   "id": "99ebde1b",
   "metadata": {},
   "outputs": [],
   "source": [
    "train.tail()"
   ]
  },
  {
   "cell_type": "code",
   "execution_count": null,
   "id": "e26164eb",
   "metadata": {},
   "outputs": [],
   "source": [
    "# Define SARIMA model parameters\n",
    "\n",
    "p = 1  # Non-seasonal AR order\n",
    "d = 1  # Non-seasonal differencing\n",
    "q = 1  # Non-seasonal MA order\n",
    "P = 1  # Seasonal AR order\n",
    "D = 1  # Seasonal differencing\n",
    "Q = 1  # Seasonal MA order\n",
    "m = 21  # Seasonal period ( for monthly seasonality)\n",
    "\n",
    "# Initialize the model\n",
    "sarima_model = SARIMAX(train,\n",
    "                       order=(p, d, q),\n",
    "                       seasonal_order=(P, D, Q, m),\n",
    "                       enforce_stationarity=False,\n",
    "                       enforce_invertibility=False)\n",
    "\n",
    "# Fit the model\n",
    "sarima_result = sarima_model.fit()\n",
    "\n",
    "# Summary of the model\n",
    "print(sarima_result.summary())\n",
    "\n",
    "# Make predictions on the test set\n",
    "predictions = sarima_result.get_forecast(steps=len(test))\n",
    "predicted_means = predictions.predicted_mean\n",
    "\n",
    "# Plotting the results\n",
    "plt.figure(figsize=(10, 5))\n",
    "plt.plot(train, label='Training Data')\n",
    "plt.plot(test, label='Actual Test Data')\n",
    "plt.plot(test.index, predicted_means, label='SARIMA Predictions')\n",
    "plt.legend()\n",
    "plt.show()\n",
    "\n",
    "# Calculate error metrics\n",
    "mse = mean_squared_error(test, predicted_means)\n",
    "mae = mean_absolute_error(test, predicted_means)\n",
    "rmse = np.sqrt(mse)\n",
    "\n",
    "# Print the error metrics\n",
    "print(f'Mean Squared Error (MSE): {mse}')\n",
    "print(f'Mean Absolute Error (MAE): {mae}')\n",
    "print(f'Root Mean Squared Error (RMSE): {rmse}')"
   ]
  },
  {
   "cell_type": "markdown",
   "id": "da7332ec",
   "metadata": {},
   "source": [
    "Only oone parameter was change in this 2 applications: m for seasonality considered <br>\n",
    "The second SARIMA with m=21 for montly showed a significant improvement in terms of error metrics \n",
    "\n",
    "\n",
    "- The MSE has decreased from 94.59 to 53.03, a substantial improvement.\n",
    "- The MAE has reduced from 9.35 to 6.25, indicating that, on average, the model's predictions are closer to the actual values.\n",
    "- The RMSE has also decreased from 9.73 to 7.28, which means the model's predictions have improved in terms of the standard deviation of the prediction errors.\n"
   ]
  },
  {
   "cell_type": "code",
   "execution_count": null,
   "id": "072e4579",
   "metadata": {
    "scrolled": false
   },
   "outputs": [],
   "source": [
    "\n",
    "\n",
    "# SARIMA model and it's stored in 'results'\n",
    "#results = model.fit()\n",
    "\n",
    "# Now you can run diagnostics\n",
    "sarima_result.plot_diagnostics(figsize=(12, 6))\n",
    "\n",
    "plt.show()"
   ]
  },
  {
   "cell_type": "markdown",
   "id": "23c1b3c4",
   "metadata": {},
   "source": [
    "## SARIMA with m=63?\n",
    "error gets bigger as the seasonality increases. "
   ]
  },
  {
   "cell_type": "code",
   "execution_count": null,
   "id": "541ebe99",
   "metadata": {},
   "outputs": [],
   "source": []
  },
  {
   "cell_type": "code",
   "execution_count": null,
   "id": "913266e7",
   "metadata": {},
   "outputs": [],
   "source": [
    "# Define SARIMA model parameters\n",
    "\n",
    "p = 1  # Non-seasonal AR order\n",
    "d = 1  # Non-seasonal differencing\n",
    "q = 1  # Non-seasonal MA order\n",
    "P = 1  # Seasonal AR order\n",
    "D = 1  # Seasonal differencing\n",
    "Q = 1  # Seasonal MA order\n",
    "m = 63  # Seasonal period ( for quarterly seasonality)\n",
    "\n",
    "# Initialize the model\n",
    "sarima_model = SARIMAX(train,\n",
    "                       order=(p, d, q),\n",
    "                       seasonal_order=(P, D, Q, m),\n",
    "                       #enforce_stationarity=False, #\n",
    "                       enforce_invertibility=False)\n",
    "\n",
    "# Fit the model\n",
    "sarima_result = sarima_model.fit()\n",
    "\n",
    "# Summary of the model\n",
    "print(sarima_result.summary())\n",
    "\n",
    "# Make predictions on the test set\n",
    "predictions = sarima_result.get_forecast(steps=len(test))\n",
    "predicted_means = predictions.predicted_mean\n",
    "\n",
    "# Plotting the results\n",
    "plt.figure(figsize=(10, 5))\n",
    "plt.plot(train, label='Training Data')\n",
    "plt.plot(test, label='Actual Test Data')\n",
    "plt.plot(test.index, predicted_means, label='SARIMA Predictions')\n",
    "plt.legend()\n",
    "plt.show()\n",
    "\n",
    "# Calculate error metrics\n",
    "mse = mean_squared_error(test, predicted_means)\n",
    "mae = mean_absolute_error(test, predicted_means)\n",
    "rmse = np.sqrt(mse)\n",
    "\n",
    "# Print the error metrics\n",
    "print(f'Mean Squared Error (MSE): {mse}')\n",
    "print(f'Mean Absolute Error (MAE): {mae}')\n",
    "print(f'Root Mean Squared Error (RMSE): {rmse}')\n",
    "\n",
    "##https://stackoverflow.com/questions/64354366/length-of-endogenous-variable-must-be-larger-the-the-number-of-lags-used"
   ]
  },
  {
   "cell_type": "code",
   "execution_count": null,
   "id": "b6499a3d",
   "metadata": {},
   "outputs": [],
   "source": [
    "#  can run diagnostics\n",
    "sarima_result.plot_diagnostics(figsize=(12, 6))\n",
    "\n",
    "plt.show()\n",
    "#### "
   ]
  },
  {
   "cell_type": "code",
   "execution_count": null,
   "id": "539d4f29",
   "metadata": {},
   "outputs": [],
   "source": [
    "## USING AUTO ARIMA FOR FINDING BEST PARAM\n",
    "\n",
    "\n",
    "# Run auto_arima to search for the best model\n",
    "best_model = auto_arima(train,\n",
    "                        start_p=0, max_p=3,  # Initial and max value for p\n",
    "                        start_q=0, max_q=3,  # Initial and max value for q\n",
    "                        start_P=0, max_P=2,  # Initial and max value for P\n",
    "                        start_Q=0, max_Q=2,  # Initial and max value for Q\n",
    "                        d=1, D=1,            # Non-seasonal and seasonal differencing\n",
    "                        m=21,                # Seasonal period\n",
    "                        seasonal=True,       # Whether to use seasonal ARIMA\n",
    "                        stepwise=True,       # Whether to use stepwise algorithm\n",
    "                        trace=True,          # Whether to print status on the fits\n",
    "                        error_action='ignore',   # Don't want to know if an order does not work\n",
    "                        suppress_warnings=True,  # Don't want convergence warnings\n",
    "                        information_criterion='aic')  # Select best model based on AIC\n",
    "\n",
    "# Summary of the best model\n",
    "print(best_model.summary())\n",
    "\n",
    "\n",
    "# Make predictions on the test set\n",
    "predictions = sarima_result.get_forecast(steps=len(test))\n",
    "predicted_means = predictions.predicted_mean\n",
    "\n",
    "# Plotting the results\n",
    "plt.figure(figsize=(10, 5))\n",
    "plt.plot(train, label='Training Data')\n",
    "plt.plot(test, label='Actual Test Data')\n",
    "plt.plot(test.index, predicted_means, label='SARIMA Predictions')\n",
    "plt.legend()\n",
    "plt.show()\n",
    "\n",
    "# Calculate error metrics\n",
    "mse = mean_squared_error(test, predicted_means)\n",
    "mae = mean_absolute_error(test, predicted_means)\n",
    "rmse = np.sqrt(mse)\n",
    "\n",
    "# Print the error metrics\n",
    "print(f'Mean Squared Error (MSE): {mse}')\n",
    "print(f'Mean Absolute Error (MAE): {mae}')\n",
    "print(f'Root Mean Squared Error (RMSE): {rmse}')"
   ]
  },
  {
   "cell_type": "markdown",
   "id": "d696450c",
   "metadata": {},
   "source": [
    "Best model:  ARIMA(0,1,1)(1,1,1)[21] "
   ]
  },
  {
   "cell_type": "code",
   "execution_count": null,
   "id": "09159da9",
   "metadata": {},
   "outputs": [],
   "source": [
    "# Now you can run diagnostics\n",
    "best_model.plot_diagnostics(figsize=(12, 6))\n",
    "\n",
    "plt.show()"
   ]
  },
  {
   "cell_type": "code",
   "execution_count": null,
   "id": "88483599",
   "metadata": {},
   "outputs": [],
   "source": []
  },
  {
   "cell_type": "markdown",
   "id": "acc43f0c",
   "metadata": {},
   "source": [
    "## Grid Search for best parameters:\n"
   ]
  },
  {
   "cell_type": "code",
   "execution_count": null,
   "id": "be968083",
   "metadata": {},
   "outputs": [],
   "source": [
    "import itertools\n",
    "from statsmodels.tsa.statespace.sarimax import SARIMAX\n",
    "from sklearn.model_selection import TimeSeriesSplit\n",
    "from sklearn.metrics import mean_squared_error\n",
    "\n",
    "# Define the parameter range for grid search\n",
    "p = d = q = range(0, 2)  # Example ranges for p, d, q\n",
    "seasonal_pdq = [(x[0], x[1], x[2], 21) for x in list(itertools.product(p, d, q))]  # Seasonal order with period 1\n",
    "\n",
    "# This will be a list to store the results of each iteration\n",
    "results_summary = []\n",
    "\n",
    "# Define number of splits for cross-validation\n",
    "tscv = TimeSeriesSplit(n_splits=3)\n",
    "\n",
    "# Grid search with cross-validation\n",
    "best_rmse = float('inf')\n",
    "best_order = None\n",
    "best_seasonal_order = None\n",
    "\n",
    "for param in itertools.product(p, d, q):\n",
    "    for seasonal_param in seasonal_pdq:\n",
    "        rmse_scores = []\n",
    "        for train_index, test_index in tscv.split(y_train):\n",
    "            cv_train, cv_test = y.iloc[train_index], y.iloc[test_index]\n",
    "            \n",
    "            try:\n",
    "                model = SARIMAX(cv_train,\n",
    "                                order=param,\n",
    "                                seasonal_order=seasonal_param,\n",
    "                                enforce_stationarity=False,\n",
    "                                enforce_invertibility=False)\n",
    "                result = model.fit(disp=False)\n",
    "                \n",
    "                # Make predictions\n",
    "                predictions = result.get_forecast(steps=len(cv_test))\n",
    "                rmse = np.sqrt(mean_squared_error(cv_test, predictions.predicted_mean))\n",
    "                rmse_scores.append(rmse)\n",
    "            except Exception as e:\n",
    "                print(f\"Error with params {param} and seasonal params {seasonal_param}: {str(e)}\")\n",
    "                rmse_scores.append(np.nan)\n",
    "\n",
    "\n",
    "        avg_rmse = np.nanmean(rmse_scores)  # Compute average RMSE\n",
    "        if avg_rmse < best_rmse:\n",
    "            best_rmse = avg_rmse\n",
    "            best_order = param\n",
    "            best_seasonal_order = seasonal_param\n",
    "\n",
    "print(f'Best SARIMA Order: {best_order}')\n",
    "print(f'Best Seasonal Order: {best_seasonal_order}')\n",
    "print(f'Best RMSE: {best_rmse}')"
   ]
  },
  {
   "cell_type": "markdown",
   "id": "85c2dcb4",
   "metadata": {},
   "source": [
    "SARIMA WITH THE GRID SEARCH PARAM\n",
    "\n",
    "\n",
    "Best SARIMA Order: (1, 0, 1)\n",
    "Best Seasonal Order: (1, 0, 0, 10) - using 10 for seasonal order returned a bad predcited values \n",
    "\n",
    "second run of grid search continuing with monthly seasonality using original train (80)/test(20) datasets \n"
   ]
  },
  {
   "cell_type": "code",
   "execution_count": null,
   "id": "72f04f9a",
   "metadata": {},
   "outputs": [],
   "source": [
    "# Fit the SARIMA model using only the original training set\n",
    "model = SARIMAX(train, order=(1, 0, 1), \n",
    "                seasonal_order=(1,0,0,21), \n",
    "                enforce_stationarity=False, \n",
    "                enforce_invertibility=False)\n",
    "model_fit = model.fit()\n",
    "\n",
    "# Predictions start at the first index of the test set and end at the last index of the test set\n",
    "predictions = model_fit.get_prediction(start=test.index[0], end=test.index[-1], dynamic=False)\n",
    "predictions_mean = predictions.predicted_mean\n",
    "\n",
    "# Convert predictions to the same format as y_test for comparison\n",
    "predictions_series = pd.Series(predictions_mean, index=test.index)\n",
    "\n",
    "# Plot the actual values vs. the predictions\n",
    "plt.figure(figsize=(12, 6))\n",
    "plt.plot(test, label='Actual')\n",
    "plt.plot(predictions_series, label='Predicted')\n",
    "plt.title('SARIMA Model Predictions vs Actual')\n",
    "plt.legend()\n",
    "plt.show()\n",
    "\n",
    "# Calculate and print out the error metrics\n",
    "mse = mean_squared_error(test, predictions_series)\n",
    "rmse = np.sqrt(mse)\n",
    "mae = mean_absolute_error(test, predictions_series)\n",
    "\n",
    "print(f'MSE: {mse}')\n",
    "print(f'RMSE: {rmse}')\n",
    "print(f'MAE: {mae}')"
   ]
  },
  {
   "cell_type": "code",
   "execution_count": null,
   "id": "3febb1e7",
   "metadata": {},
   "outputs": [],
   "source": [
    "# Fit the SARIMA model using only the original training set\n",
    "model = SARIMAX(train, order=(1, 0, 1), \n",
    "                seasonal_order=(1,1,1,10), \n",
    "                enforce_stationarity=False, \n",
    "                enforce_invertibility=False)\n",
    "model_fit = model.fit()\n",
    "\n",
    "# Predictions start at the first index of the test set and end at the last index of the test set\n",
    "predictions = model_fit.get_prediction(start=test.index[0], end=test.index[-1], dynamic=False)\n",
    "predictions_mean = predictions.predicted_mean\n",
    "\n",
    "# Convert predictions to the same format as y_test for comparison\n",
    "predictions_series = pd.Series(predictions_mean, index=test.index)\n",
    "\n",
    "# Plot the actual values vs. the predictions\n",
    "plt.figure(figsize=(12, 6))\n",
    "plt.plot(test, label='Actual')\n",
    "plt.plot(predictions_series, label='Predicted')\n",
    "plt.title('SARIMA Model Predictions vs Actual')\n",
    "plt.legend()\n",
    "plt.show()\n",
    "\n",
    "# Calculate and print out the error metrics\n",
    "mse = mean_squared_error(test, predictions_series)\n",
    "rmse = np.sqrt(mse)\n",
    "mae = mean_absolute_error(test, predictions_series)\n",
    "\n",
    "print(f'MSE: {mse}')\n",
    "print(f'RMSE: {rmse}')\n",
    "print(f'MAE: {mae}')"
   ]
  },
  {
   "cell_type": "markdown",
   "id": "fc789f8a",
   "metadata": {},
   "source": [
    "### SARIMA with optimal parameters using diff_prices and 90/10 train test split"
   ]
  },
  {
   "cell_type": "markdown",
   "id": "772e641a",
   "metadata": {},
   "source": [
    "Splitting into train/test datasets\n",
    "\n",
    "On the first attemp to use ARIMA, it was used a split of **80 >train and 20 >test**. For SARIMA, the first attemp will be with the same split and then compare to a **90/10** split to observe the differece in results. \n",
    "\n",
    "Considering the dataset is relatively small and only covers 1 year of data, would be interesting to see how these slight changes could affect modeling. \n",
    "\n",
    "Also, this model required data to be stationary, that is why the diff values will be used at this stage. "
   ]
  },
  {
   "cell_type": "code",
   "execution_count": null,
   "id": "ec7711fa",
   "metadata": {},
   "outputs": [],
   "source": [
    "from sklearn.model_selection import train_test_split\n",
    "\n",
    "diff = df['price_diff'].copy().to_frame() # Leaving a copy of the original series.\n",
    "\n",
    "# Setting the train and test only with the diff prices as feature. \n",
    "X = diff[['price_diff']]  # Using diff  directly as features\n",
    "y =diff[['price_diff']].shift(-1)  # Predicting the next day's log return\n",
    "\n",
    "y.dropna(inplace=True)\n",
    "X = X.iloc[:-1]  # Align X to the y we just shifted\n",
    "\n",
    "# Splitting the dataset into training and testing sets using 10% to testing \n",
    "X_train, X_test, y_train, y_test = train_test_split(X, y, test_size=0.1, shuffle=False)"
   ]
  },
  {
   "cell_type": "code",
   "execution_count": null,
   "id": "5499ed08",
   "metadata": {},
   "outputs": [],
   "source": [
    "X_train"
   ]
  },
  {
   "cell_type": "code",
   "execution_count": null,
   "id": "85a5ffc3",
   "metadata": {},
   "outputs": [],
   "source": [
    "# Fit the SARIMA model using only the training set\n",
    "model = SARIMAX(X_train, order=(1,0,1), \n",
    "                seasonal_order=(1,0,0,21), \n",
    "                enforce_stationarity=False, \n",
    "                enforce_invertibility=False)\n",
    "model_fit = model.fit()\n",
    "\n",
    "# Predictions start at the first index of the test set and end at the last index of the test set\n",
    "predictions = model_fit.get_prediction(start=X_test.index[0], end=X_test.index[-1], dynamic=False)\n",
    "predictions_mean = predictions.predicted_mean\n",
    "\n",
    "# Convert predictions to the same format as y_test for comparison\n",
    "predictions_series = pd.Series(predictions_mean, index=X_test.index)\n",
    "\n",
    "# Plot the actual values vs. the predictions\n",
    "plt.figure(figsize=(12, 6))\n",
    "plt.plot(y_test, label='Actual')\n",
    "plt.plot(predictions_series, label='Predicted')\n",
    "plt.title('SARIMA Model Predictions vs Actual')\n",
    "plt.legend()\n",
    "plt.show()\n",
    "\n",
    "# Calculate and print out the error metrics\n",
    "mse = mean_squared_error(y_test, predictions_series)\n",
    "rmse = np.sqrt(mse)\n",
    "mae = mean_absolute_error(y_test, predictions_series)\n",
    "\n",
    "print(f'MSE: {mse}')\n",
    "print(f'RMSE: {rmse}')\n",
    "print(f'MAE: {mae}')"
   ]
  },
  {
   "cell_type": "code",
   "execution_count": null,
   "id": "092e8c3a",
   "metadata": {},
   "outputs": [],
   "source": [
    "from statsmodels.tsa.arima.model import ARIMA\n"
   ]
  },
  {
   "cell_type": "code",
   "execution_count": null,
   "id": "2bd9f699",
   "metadata": {},
   "outputs": [],
   "source": [
    "## USING AUTO ARIMA FOR FINDING BEST PARAM for diff prices\n",
    "\n",
    "\n",
    "# Run auto_arima to search for the best model\n",
    "best_model = auto_arima(X_train,\n",
    "                        start_p=0, max_p=3,  # Initial and max value for p\n",
    "                        start_q=0, max_q=3,  # Initial and max value for q\n",
    "                        start_P=0, max_P=2,  # Initial and max value for P\n",
    "                        start_Q=0, max_Q=2,  # Initial and max value for Q\n",
    "                        d=1, D=1,            # Non-seasonal and seasonal differencing\n",
    "                        m=21,                # Seasonal period\n",
    "                        seasonal=True,       # Whether to use seasonal ARIMA\n",
    "                        stepwise=True,       # Whether to use stepwise algorithm\n",
    "                        trace=True,          # Whether to print status on the fits\n",
    "                        error_action='ignore',   # Don't want to know if an order does not work\n",
    "                        suppress_warnings=True,  # Don't want convergence warnings\n",
    "                        information_criterion='aic')  # Select best model based on AIC\n",
    "\n",
    "# Summary of the best model\n",
    "print(best_model.summary())\n",
    "\n",
    "\n",
    "# Make predictions on the test set\n",
    "predictions = best_model.get_forecast(steps=len(X_test))\n",
    "predicted_means = predictions.predicted_mean\n",
    "\n",
    "# Plotting the results\n",
    "plt.figure(figsize=(10, 5))\n",
    "plt.plot(X_train, label='Training Data')\n",
    "plt.plot(y_test, label='Actual Test Data')\n",
    "plt.plot(y_test.index, predicted_means, label='SARIMA Predictions')\n",
    "plt.legend()\n",
    "plt.show()\n",
    "\n",
    "# Calculate error metrics\n",
    "mse = mean_squared_error(y_test, predicted_means)\n",
    "mae = mean_absolute_error(y_test, predicted_means)\n",
    "rmse = np.sqrt(mse)"
   ]
  },
  {
   "cell_type": "code",
   "execution_count": null,
   "id": "243b7ab5",
   "metadata": {},
   "outputs": [],
   "source": []
  },
  {
   "cell_type": "code",
   "execution_count": null,
   "id": "02d94fac",
   "metadata": {},
   "outputs": [],
   "source": [
    "## USING AUTO ARIMA FOR FINDING BEST PARAM for diff prices\n",
    "\n",
    "\n",
    "# Run auto_arima to search for the best model\n",
    "best_model = auto_arima(X_train,\n",
    "                        start_p=0, max_p=3,  # Initial and max value for p\n",
    "                        start_q=0, max_q=3,  # Initial and max value for q\n",
    "                        start_P=0, max_P=2,  # Initial and max value for P\n",
    "                        start_Q=0, max_Q=2,  # Initial and max value for Q\n",
    "                        d=1, D=1,            # Non-seasonal and seasonal differencing\n",
    "                        m=5,                # Seasonal period\n",
    "                        seasonal=True,       # Whether to use seasonal ARIMA\n",
    "                        stepwise=True,       # Whether to use stepwise algorithm\n",
    "                        trace=True,          # Whether to print status on the fits\n",
    "                        error_action='ignore',   # Don't want to know if an order does not work\n",
    "                        suppress_warnings=True,  # Don't want convergence warnings\n",
    "                        information_criterion='aic')  # Select best model based on AIC\n",
    "\n",
    "# Summary of the best model\n",
    "print(best_model.summary())\n",
    "\n",
    "\n",
    "# Make predictions on the test set\n",
    "predictions = sarima_result.get_forecast(steps=len(X_test))\n",
    "predicted_means = predictions.predicted_mean\n",
    "\n",
    "# Plotting the results\n",
    "plt.figure(figsize=(10, 5))\n",
    "plt.plot(X_train, label='Training Data')\n",
    "plt.plot(y_test, label='Actual Test Data')\n",
    "plt.plot(y_test.index, predicted_means, label='SARIMA Predictions')\n",
    "plt.legend()\n",
    "plt.show()\n",
    "\n",
    "# Calculate error metrics\n",
    "mse = mean_squared_error(y_test, predicted_means)\n",
    "mae = mean_absolute_error(y_test, predicted_means)\n",
    "rmse = np.sqrt(mse)\n",
    "\n",
    "# Print the error metrics\n",
    "print(f'Mean Squared Error (MSE): {mse}')\n",
    "print(f'Mean Absolute Error (MAE): {mae}')\n",
    "print(f'Root Mean Squared Error (RMSE): {rmse}')"
   ]
  },
  {
   "cell_type": "markdown",
   "id": "903fb02c",
   "metadata": {},
   "source": [
    "- Best model:  ARIMA(3,1,0)(2,1,0)[5]          \n",
    "- Total fit time: 5.242 seconds\n",
    "- Mean Squared Error (MSE): 29617.12783379852\n",
    "- Mean Absolute Error (MAE): 172.06461307567332\n",
    "- Root Mean Squared Error (RMSE): 172.09627489808872\n"
   ]
  },
  {
   "cell_type": "code",
   "execution_count": null,
   "id": "c3ec6e40",
   "metadata": {},
   "outputs": [],
   "source": []
  },
  {
   "cell_type": "code",
   "execution_count": null,
   "id": "4b3b0aec",
   "metadata": {},
   "outputs": [],
   "source": []
  },
  {
   "cell_type": "code",
   "execution_count": null,
   "id": "fa92bdc0",
   "metadata": {},
   "outputs": [],
   "source": []
  },
  {
   "cell_type": "code",
   "execution_count": null,
   "id": "6bcf2ed2",
   "metadata": {},
   "outputs": [],
   "source": []
  },
  {
   "cell_type": "code",
   "execution_count": null,
   "id": "dae4ce57",
   "metadata": {},
   "outputs": [],
   "source": []
  },
  {
   "cell_type": "code",
   "execution_count": null,
   "id": "7af04ca7",
   "metadata": {},
   "outputs": [],
   "source": []
  },
  {
   "cell_type": "code",
   "execution_count": null,
   "id": "a3a93c29",
   "metadata": {},
   "outputs": [],
   "source": []
  },
  {
   "cell_type": "markdown",
   "id": "9522e7bb",
   "metadata": {},
   "source": [
    "#### random forrest regressor\n",
    "with DIFF_PRICES"
   ]
  },
  {
   "cell_type": "code",
   "execution_count": null,
   "id": "1904a378",
   "metadata": {},
   "outputs": [],
   "source": [
    "# Initialize the model with random parameters.\n",
    "rf_model = RandomForestRegressor(n_estimators=100, random_state=42)\n",
    "\n",
    "# Fits the model.\n",
    "rf_model.fit(X_train, y_train)\n",
    "\n",
    "# Predict on the test set.\n",
    "predictions = rf_model.predict(X_test)\n",
    "\n",
    "# Calculate the metrics to evaluate the model.\n",
    "rmse = sqrt(mean_squared_error(y_test, predictions))\n",
    "mae = mean_absolute_error(y_test, predictions)\n",
    "mape = mean_absolute_percentage_error(y_test, predictions)\n",
    "\n",
    "# Prints the metrics.\n",
    "print(f\"Root Mean Squared Error: {rmse}\")\n",
    "print(f\"Mean Absolute Error: {mae}\")\n",
    "print(f\"Mean Absolute Percentage Error: {mape * 100:.2f}%\")\n",
    "\n",
    "# Plots the predicted and actual from the model. \n",
    "plt.figure(figsize=(15, 5))\n",
    "plt.plot(y_test.index, y_test, label='Actual', alpha=0.7) # Adds the actual line.\n",
    "plt.plot(y_test.index, predictions, label='Predicted', alpha=0.7) # Adds the predictions line.\n",
    "plt.title('Actual vs Predicted') # Sets title.\n",
    "\n",
    "# Adds X and Y label.\n",
    "plt.xlabel('Date')\n",
    "plt.ylabel('I-CIP diff_prices')\n",
    "plt.legend()\n",
    "# Generates the plot.\n",
    "plt.show() "
   ]
  },
  {
   "cell_type": "markdown",
   "id": "1ac6fc53",
   "metadata": {},
   "source": []
  },
  {
   "cell_type": "code",
   "execution_count": null,
   "id": "94fbe8bd",
   "metadata": {},
   "outputs": [],
   "source": []
  },
  {
   "attachments": {},
   "cell_type": "markdown",
   "id": "2fe28f56",
   "metadata": {},
   "source": [
    "## LSTM - Long Term Short Memory\n",
    "\n",
    "\n",
    "\"Neural Networks are very complex machine learning models that pass input data through a network. Each node in the network learns a very simple operation. The neural network consists of many such nodes. The fact that the model can use a large number of simple nodes makes the overall prediction very complex. Neural Networks can therefore fit very complex and nonlinear data sets.  This can be useful for multiple use cases, including understanding time series (which are clearly sequences of values over time), but also text (sentences are sequences of words).\n",
    "\n",
    "LSTMs are a specific type of RNNs. They have proven useful for time series forecasting on multiple occasions. They require some data and are more complicated to learn than supervised models. Once you master them, they can prove to be very powerful depending on your data and your specific use case.\" https://neptune.ai/blog/select-model-for-time-series-prediction-task\n",
    "\n",
    "<i> \"Long Short-Term Memory Networks is a deep learning, sequential neural network that allows information to persist. It is a special type of Recurrent Neural Network which is capable of handling the vanishing gradient problem faced by RNN. LSTM was designed by Hochreiter and Schmidhuber that resolves the problem caused by traditional rnns and machine learning algorithms. LSTM Model can be implemented in Python using the Keras library.\" \n",
    "(Saxena,2024)\n",
    "    \n",
    "    \n",
    "    - ideal for prediction tasks\n",
    "    \n",
    "    \n",
    "    \n",
    "<b>The Logic Behind LSTM</b>\n",
    "    \n",
    "![image.png](attachment:image.png)\n",
    "    \n",
    "    The first part chooses whether the information coming from the previous timestamp is to be remembered or is irrelevant and can be forgotten. In the second part, the cell tries to learn new information from the input to this cell. At last, in the third part, the cell passes the updated information from the current timestamp to the next timestamp. This one cycle of LSTM is considered a single-time step.    \n",
    "    \n",
    "    \n",
    "    . Neural Networks can therefore fit very complex and nonlinear data sets.\n",
    "    \n",
    "https://www.analyticsvidhya.com/blog/2021/03/introduction-to-long-short-term-memory-lstm/"
   ]
  },
  {
   "cell_type": "markdown",
   "id": "548265db",
   "metadata": {},
   "source": [
    "https://av-eks-blogoptimized.s3.amazonaws.com/Screenshot-from-2021-03-16-13-26-39.png"
   ]
  },
  {
   "cell_type": "code",
   "execution_count": null,
   "id": "41bc5828",
   "metadata": {},
   "outputs": [],
   "source": [
    "df\n"
   ]
  },
  {
   "cell_type": "code",
   "execution_count": null,
   "id": "15d9695e",
   "metadata": {},
   "outputs": [],
   "source": [
    "df.info()"
   ]
  },
  {
   "cell_type": "markdown",
   "id": "e3d76c33",
   "metadata": {},
   "source": [
    "### LSTM requires data to be scaled for better performance and avoiding under/overfitting.\n",
    "\n",
    "The normalised prices were calculated with a min max scaler from 0-1, based on the mean and std variance, it is the common practice for this kind of modeling.\n",
    "\n",
    "\n",
    "https://medium.com/@iqra1804/time-series-forecasting-using-lstm-an-introduction-with-code-explanations-c5c2e8ca137d"
   ]
  },
  {
   "cell_type": "code",
   "execution_count": null,
   "id": "9db1ab10",
   "metadata": {},
   "outputs": [],
   "source": [
    "from keras.models import Sequential\n",
    "from keras.layers import LSTM, Dense\n",
    "from sklearn.model_selection import train_test_split\n",
    "from sklearn.preprocessing import MinMaxScaler\n",
    "import numpy as np\n",
    "\n",
    "# Assuming your DataFrame is named df\n",
    "# Using only 'price_normalized' as a feature for simplicity\n",
    "\n",
    "# Reshape the features to [samples, time steps, features]\n",
    "X = np.array(df['price_normalized']).reshape(-1, 1, 1)\n",
    "y = df['price_normalized']\n"
   ]
  },
  {
   "cell_type": "code",
   "execution_count": null,
   "id": "c45f3fbc",
   "metadata": {
    "scrolled": true
   },
   "outputs": [],
   "source": [
    "X"
   ]
  },
  {
   "cell_type": "markdown",
   "id": "806624a8",
   "metadata": {},
   "source": [
    "### Splitting train/test "
   ]
  },
  {
   "cell_type": "code",
   "execution_count": null,
   "id": "3be24bff",
   "metadata": {},
   "outputs": [],
   "source": [
    "# Split the data\n",
    "X_train, X_test, y_train, y_test = train_test_split(X, y, test_size=0.2, shuffle=False)"
   ]
  },
  {
   "cell_type": "markdown",
   "id": "06f708bd",
   "metadata": {},
   "source": [
    "### Building a simple version of the model "
   ]
  },
  {
   "cell_type": "code",
   "execution_count": null,
   "id": "319893d1",
   "metadata": {},
   "outputs": [],
   "source": [
    "# Build the LSTM model\n",
    "model = Sequential()\n",
    "model.add(LSTM(units=50, return_sequences=True, input_shape=(1, 1)))\n",
    "model.add(LSTM(units=50))\n",
    "model.add(Dense(1))\n"
   ]
  },
  {
   "cell_type": "markdown",
   "id": "032c0bbf",
   "metadata": {},
   "source": [
    "### Compiling and training the model\n"
   ]
  },
  {
   "cell_type": "code",
   "execution_count": null,
   "id": "d873d50b",
   "metadata": {
    "scrolled": true
   },
   "outputs": [],
   "source": [
    "# Compile the model\n",
    "model.compile(optimizer='adam', loss='mean_squared_error')\n",
    "\n",
    "# Train the model\n",
    "model.fit(X_train, y_train, epochs=100, batch_size=32, validation_split=0.1)\n"
   ]
  },
  {
   "cell_type": "markdown",
   "id": "2d6182bf",
   "metadata": {},
   "source": [
    "### Plotting predictions"
   ]
  },
  {
   "cell_type": "code",
   "execution_count": null,
   "id": "acf66ecc",
   "metadata": {},
   "outputs": [],
   "source": [
    "# Make predictions\n",
    "predicted = model.predict(X_test)\n",
    "\n",
    "# Plot\n",
    "plt.figure(figsize=(15,5))\n",
    "plt.plot(y_test.values.flatten(), label='True Values')\n",
    "plt.plot(predicted.flatten(), label='Predicted Values')\n",
    "plt.title('LSTM Model Predictions')\n",
    "plt.legend()\n",
    "plt.show()\n",
    "\n",
    "# If scaling was applied, reverse the scaling on predictions\n",
    "\n",
    "\n",
    "# Evaluate\n",
    "mse = mean_squared_error(y_test, predicted)\n",
    "rmse = np.sqrt(mse)\n",
    "mae = mean_absolute_error(y_test, predicted)\n",
    "print(f'MSE: {mse}')\n",
    "print(f'RMSE: {rmse}')\n",
    "print(f'MAE: {mae}')"
   ]
  },
  {
   "cell_type": "code",
   "execution_count": null,
   "id": "9fa7818b",
   "metadata": {},
   "outputs": [],
   "source": []
  },
  {
   "cell_type": "code",
   "execution_count": null,
   "id": "fdc78e6b",
   "metadata": {},
   "outputs": [],
   "source": [
    "# Predict\n",
    "predicted = model.predict(X_test)\n",
    "\n",
    "# Since you can't reverse the scaler, plot the normalized values\n",
    "plt.figure(figsize=(15,5))\n",
    "plt.plot(y_test.reset_index(drop=True), label='True Normalized Values')\n",
    "plt.plot(predicted.flatten(), label='Predicted Normalized Values')\n",
    "plt.title('LSTM Model Predictions (Normalized Scale)')\n",
    "plt.legend()\n",
    "plt.show()\n",
    "\n",
    "# You can still calculate performance metrics on the normalized scale\n",
    "mse = mean_squared_error(y_test, predicted)\n",
    "rmse = np.sqrt(mse)\n",
    "mae = mean_absolute_error(y_test, predicted)\n",
    "print(f'MSE: {mse}')\n",
    "print(f'RMSE: {rmse}')\n",
    "print(f'MAE: {mae}')"
   ]
  },
  {
   "cell_type": "markdown",
   "id": "0132da46",
   "metadata": {},
   "source": [
    "using only the normalised values, the results seem to be significantly better than any of the other models between the actual and predicted values. The error was also close to 0, with mse of  0.00029, "
   ]
  },
  {
   "cell_type": "code",
   "execution_count": null,
   "id": "7de614f8",
   "metadata": {},
   "outputs": [],
   "source": [
    "# Plot training & validation loss values\n",
    "plt.plot(history.history['loss'], label='Training Loss')\n",
    "plt.plot(history.history['val_loss'], label='Validation Loss')\n",
    "plt.title('Model Loss Over Epochs')\n",
    "plt.ylabel('Loss')\n",
    "plt.xlabel('Epoch')\n",
    "plt.legend()\n",
    "plt.show()"
   ]
  },
  {
   "cell_type": "markdown",
   "id": "23826e99",
   "metadata": {},
   "source": [
    "#### LSTM experimentation with keras tuner!\n"
   ]
  },
  {
   "cell_type": "code",
   "execution_count": null,
   "id": "3ecdeade",
   "metadata": {},
   "outputs": [],
   "source": [
    "from sklearn.preprocessing import MinMaxScaler\n",
    "from sklearn.model_selection import train_test_split\n",
    "import numpy as np\n",
    "\n",
    "# Assuming `df` is your DataFrame and you are using 'I-CIP' column\n",
    "data = df['I-CIP'].values.reshape(-1, 1)\n",
    "\n",
    "# Scale the data\n",
    "scaler = MinMaxScaler(feature_range=(0, 1))\n",
    "scaled_data = scaler.fit_transform(data)\n",
    "\n",
    "# Create the LSTM input/output sequences\n",
    "sequence_length = 5  # Number of days you want to use to predict the next day\n",
    "\n",
    "X = []\n",
    "y = []\n",
    "\n",
    "for i in range(sequence_length, len(scaled_data)):\n",
    "    X.append(scaled_data[i-sequence_length:i, 0])\n",
    "    y.append(scaled_data[i, 0])\n",
    "\n",
    "X = np.array(X)\n",
    "y = np.array(y)\n",
    "\n",
    "# Reshape X to be [samples, time steps, features]\n",
    "X = np.reshape(X, (X.shape[0], X.shape[1], 1))"
   ]
  },
  {
   "cell_type": "markdown",
   "id": "cda73a17",
   "metadata": {},
   "source": [
    "### Time series Split\n",
    "time series data, it's important to maintain the sequence of observations when splitting into training, validation, and testing sets. The typical approach is to segment the dataset chronologically. That is, early data for training, followed by the next block for validation, and the last block (more recent data)for testing. \n",
    "\n",
    "\n",
    "This chronological split is crucial for time series forecasting because it mirrors how models are used in the real world, where we train on past data and predict future events.\n",
    "\n",
    "\n",
    "https://medium.com/@iqra1804/time-series-forecasting-using-lstm-an-introduction-with-code-explanations-c5c2e8ca137d"
   ]
  },
  {
   "cell_type": "code",
   "execution_count": null,
   "id": "0ff8fa93",
   "metadata": {},
   "outputs": [],
   "source": [
    "# Define the lengths of the sets. For example, you might want to use 70% of data for training, \n",
    "# 15% for validation, and the remaining 15% for testing.\n",
    "train_size = int(len(X) * 0.7)\n",
    "val_size = int(len(X) * 0.15)\n",
    "\n",
    "# Ensure there is no overlap between training, validation, and testing sets\n",
    "# Calculate indices for the splits\n",
    "val_index = train_size + val_size\n",
    "\n",
    "# Split the data into training, validation, and testing sets using the indices\n",
    "X_train, y_train = X[:train_size], y[:train_size]\n",
    "X_val, y_val = X[train_size:val_index], y[train_size:val_index]\n",
    "X_test, y_test = X[val_index:], y[val_index:]\n",
    "\n",
    "# Make sure to reshape X sets for LSTM input if you haven't already\n",
    "X_train = np.reshape(X_train, (X_train.shape[0], X_train.shape[1], 1))\n",
    "X_val = np.reshape(X_val, (X_val.shape[0], X_val.shape[1], 1))\n",
    "X_test = np.reshape(X_test, (X_test.shape[0], X_test.shape[1], 1))"
   ]
  },
  {
   "cell_type": "markdown",
   "id": "d8a6292d",
   "metadata": {},
   "source": [
    "### Defining the Model"
   ]
  },
  {
   "cell_type": "code",
   "execution_count": null,
   "id": "31320c9c",
   "metadata": {},
   "outputs": [],
   "source": [
    "#pip install keras-tuner"
   ]
  },
  {
   "cell_type": "code",
   "execution_count": null,
   "id": "311c428e",
   "metadata": {},
   "outputs": [],
   "source": [
    "from keras.models import Sequential\n",
    "from keras.layers import LSTM, Dense, Dropout\n",
    "from keras.optimizers import Adam\n",
    "from kerastuner import tuners\n",
    "from keras_tuner import RandomSearch\n",
    "\n",
    "def build_lstm_model(hp):\n",
    "    model = Sequential()\n",
    "    model.add(LSTM(units=hp.Int('units', min_value=32, max_value=512, step=32), \n",
    "                   return_sequences=True, \n",
    "                   input_shape=(X_train.shape[1], 1)))\n",
    "    model.add(Dropout(rate=hp.Float('dropout', min_value=0.0, max_value=0.5, step=0.1)))\n",
    "    model.add(LSTM(units=hp.Int('units', min_value=32, max_value=512, step=32), return_sequences=False))\n",
    "    model.add(Dropout(rate=hp.Float('dropout', min_value=0.0, max_value=0.5, step=0.1)))\n",
    "    model.add(Dense(units=1))\n",
    "    model.compile(optimizer=Adam(hp.Float('learning_rate', min_value=1e-4, max_value=1e-2, sampling='LOG')),\n",
    "                  loss='mean_squared_error')\n",
    "    return model"
   ]
  },
  {
   "cell_type": "markdown",
   "id": "acb243f2",
   "metadata": {},
   "source": [
    "### Seting up keras"
   ]
  },
  {
   "cell_type": "code",
   "execution_count": null,
   "id": "bfec58bc",
   "metadata": {},
   "outputs": [],
   "source": [
    "tuner = RandomSearch(\n",
    "    build_lstm_model,\n",
    "    objective='val_loss',\n",
    "    max_trials=10,\n",
    "    executions_per_trial=1,\n",
    "    directory='my_dir',\n",
    "    project_name='lstm_keras_tuner'\n",
    ")\n",
    "\n",
    "tuner.search_space_summary()"
   ]
  },
  {
   "cell_type": "markdown",
   "id": "dc4d2f37",
   "metadata": {},
   "source": [
    "## Train model\n",
    "\n",
    "\n",
    "Trial 10 Complete [00h 00m 03s]\n",
    "val_loss: 0.03861577808856964\n",
    "\n",
    "Best val_loss So Far: 0.0076590231619775295\n",
    "Total elapsed time: 00h 00m 36s"
   ]
  },
  {
   "cell_type": "code",
   "execution_count": null,
   "id": "3988fcdb",
   "metadata": {},
   "outputs": [],
   "source": [
    "# train model\n",
    "tuner.search(X_train, y_train, epochs=5, batch_size=64, validation_data=(X_val, y_val))\n",
    "\n",
    "# Get the best model\n",
    "best_model = tuner.get_best_models(num_models=1)[0]"
   ]
  },
  {
   "cell_type": "markdown",
   "id": "7802ff35",
   "metadata": {},
   "source": [
    "### Evaluate  model "
   ]
  },
  {
   "cell_type": "code",
   "execution_count": null,
   "id": "9e42696f",
   "metadata": {
    "scrolled": false
   },
   "outputs": [],
   "source": [
    "# Evaluate the model\n",
    "loss = best_model.evaluate(X_test, y_test)\n",
    "\n",
    "# Predict and reverse scaling\n",
    "predictions = best_model.predict(X_test)\n",
    "predictions = scaler.inverse_transform(predictions)\n",
    "actual_prices = scaler.inverse_transform(y_test.reshape(-1, 1))\n",
    "\n",
    "\n",
    "# plot the predictions: \n",
    "\n",
    "# Make sure your actual_prices and predictions are in the correct shape\n",
    "actual_prices = actual_prices.flatten()\n",
    "predictions = predictions.flatten()\n",
    "\n",
    "# Plot the actual prices and predictions\n",
    "plt.figure(figsize=(15, 5))\n",
    "plt.plot(actual_prices, label='Actual Prices')\n",
    "plt.plot(predictions, label='Predicted Prices')\n",
    "plt.title('LSTM Predictions vs Actual Prices')\n",
    "plt.xlabel('Time')\n",
    "plt.ylabel('Price')\n",
    "plt.legend()\n",
    "plt.show()\n",
    "\n",
    "\n",
    "# Calculate performance metrics\n",
    "mse = mean_squared_error(actual_prices, predictions)\n",
    "rmse = np.sqrt(mse)\n",
    "mae = mean_absolute_error(actual_prices, predictions)\n",
    "\n",
    "#print results\n",
    "print(f'MSE: {mse}')\n",
    "print(f'RMSE: {rmse}')\n",
    "print(f'MAE: {mae}')"
   ]
  },
  {
   "cell_type": "code",
   "execution_count": null,
   "id": "a057186d",
   "metadata": {},
   "outputs": [],
   "source": [
    " # Plot training & validation loss values\n",
    "plt.plot(history.history['loss'], label='Training Loss')\n",
    "plt.plot(history.history['val_loss'], label='Validation Loss')\n",
    "plt.title('Model Loss Over Epochs')\n",
    "plt.ylabel('Loss')\n",
    "plt.xlabel('Epoch')\n",
    "plt.legend()\n",
    "plt.show()"
   ]
  },
  {
   "cell_type": "markdown",
   "id": "fe11e874",
   "metadata": {},
   "source": [
    "## Expanding amount of layers and neurons\n"
   ]
  },
  {
   "cell_type": "code",
   "execution_count": null,
   "id": "cba07af8",
   "metadata": {},
   "outputs": [],
   "source": [
    "from keras.layers import LSTM, Dense, Dropout\n",
    "from keras.models import Sequential\n",
    "from keras_tuner import RandomSearch\n",
    "from keras.optimizers import Adam\n",
    "\n",
    "def build_lstm_model(hp):\n",
    "    model = Sequential()\n",
    "    # You can use hp.Int to set a range for the number of layers\n",
    "    for i in range(hp.Int('num_layers', 1, 3)):\n",
    "        model.add(LSTM(units=hp.Int('units_l' + str(i), min_value=32, max_value=256, step=32),\n",
    "                       return_sequences=True if i < hp.Int('num_layers', 1, 3) - 1 else False,\n",
    "                       input_shape=(X_train.shape[1], 1)))\n",
    "        model.add(Dropout(rate=hp.Float('dropout_l' + str(i), min_value=0.0, max_value=0.5, step=0.1)))\n",
    "    model.add(Dense(units=1))\n",
    "    model.compile(optimizer=Adam(hp.Float('learning_rate', min_value=1e-4, max_value=1e-2, sampling='LOG')),\n",
    "                  loss='mean_squared_error')\n",
    "    return model"
   ]
  },
  {
   "cell_type": "code",
   "execution_count": null,
   "id": "cf23dada",
   "metadata": {},
   "outputs": [],
   "source": [
    "# Initialize the tuner\n",
    "tuner = RandomSearch(\n",
    "    build_lstm_model,\n",
    "    objective='val_loss',\n",
    "    max_trials=10,   # Number of variations on the model to evaluate\n",
    "    executions_per_trial=1,   # Number of times to train each model variation\n",
    "    directory='my_dir', # Directory to store logs\n",
    "    project_name='lstm_keras_tuner'\n",
    ")\n",
    "\n",
    "# Execute the search\n",
    "tuner.search(X_train, y_train, epochs=50, validation_data=(X_val, y_val))\n",
    "\n",
    "# Get the optimal hyperparameters\n",
    "best_hps = tuner.get_best_hyperparameters(num_trials=1)[0]"
   ]
  },
  {
   "cell_type": "markdown",
   "id": "7d63429a",
   "metadata": {},
   "source": [
    "### Find the best model and train from that\n"
   ]
  },
  {
   "cell_type": "code",
   "execution_count": null,
   "id": "0c1a32fa",
   "metadata": {
    "scrolled": true
   },
   "outputs": [],
   "source": [
    "# Build the model with the best hyperparameters and train it on the data\n",
    "model = tuner.hypermodel.build(best_hps)\n",
    "history = model.fit(X_train, y_train, epochs=50, validation_data=(X_val, y_val))"
   ]
  },
  {
   "cell_type": "code",
   "execution_count": null,
   "id": "a841ea3c",
   "metadata": {},
   "outputs": [],
   "source": [
    "# Evaluate the model on the test data\n",
    "evaluation = model.evaluate(X_test, y_test)\n",
    "\n",
    "# Predict and reverse scaling\n",
    "predictions = model.predict(X_test)\n",
    "predictions = scaler.inverse_transform(predictions)\n",
    "actual_prices = scaler.inverse_transform(y_test.reshape(-1, 1))\n",
    "\n",
    "# Calculate performance metrics\n",
    "mse = mean_squared_error(actual_prices, predictions)\n",
    "rmse = np.sqrt(mse)\n",
    "mae = mean_absolute_error(actual_prices, predictions)\n",
    "\n",
    "# Print results\n",
    "print(f'Test Loss: {evaluation}')\n",
    "print(f'MSE: {mse}')\n",
    "print(f'RMSE: {rmse}')\n",
    "print(f'MAE: {mae}')"
   ]
  },
  {
   "cell_type": "markdown",
   "id": "2083c561",
   "metadata": {},
   "source": [
    "### Forecasting "
   ]
  },
  {
   "cell_type": "code",
   "execution_count": null,
   "id": "2b6aa704",
   "metadata": {},
   "outputs": [],
   "source": [
    "# Generate future predictions\n",
    "last_sequence = X_test[-1]  # Last sequence of true observations\n",
    "forecast = []\n",
    "\n",
    "# Number of future steps to predict\n",
    "n_future_steps = 10\n",
    "\n",
    "\n",
    "for _ in range(n_future_steps):\n",
    "    # Make a prediction using the last sequence\n",
    "    last_sequence_pred = model.predict(last_sequence[np.newaxis, :, :])\n",
    "    # Append the prediction\n",
    "    forecast.append(last_sequence_pred[0, 0])\n",
    "    # Roll the sequence to be able to insert the last prediction at the end\n",
    "    last_sequence = np.roll(last_sequence, -1)\n",
    "    last_sequence[-1] = last_sequence_pred\n",
    "\n",
    "# Reverse scaling if applied\n",
    "forecast = scaler.inverse_transform(np.array(forecast).reshape(-1, 1)).flatten()"
   ]
  },
  {
   "cell_type": "code",
   "execution_count": null,
   "id": "16cd158e",
   "metadata": {},
   "outputs": [],
   "source": [
    "# Plot actual prices and model predictions\n",
    "plt.plot(actual_prices, label='Actual Prices')\n",
    "plt.plot(predictions, label='Model Predictions')\n",
    "plt.plot(range(len(actual_prices), len(actual_prices) + len(forecast)), forecast, label='Future Forecast')\n",
    "\n",
    "plt.title('Model Predictions vs Actual Prices')\n",
    "plt.xlabel('Time Index')\n",
    "plt.ylabel('Price')\n",
    "plt.legend()\n",
    "plt.show()"
   ]
  },
  {
   "cell_type": "markdown",
   "id": "ed74f0f9",
   "metadata": {},
   "source": [
    "### Diagnostics\n",
    "\n",
    "\n"
   ]
  },
  {
   "cell_type": "code",
   "execution_count": null,
   "id": "ffc86529",
   "metadata": {},
   "outputs": [],
   "source": [
    "# Plot training & validation loss values\n",
    "plt.plot(history.history['loss'], label='Training Loss')\n",
    "plt.plot(history.history['val_loss'], label='Validation Loss')\n",
    "plt.title('Model Loss Over Epochs')\n",
    "plt.ylabel('Loss')\n",
    "plt.xlabel('Epoch')\n",
    "plt.legend()\n",
    "plt.show()"
   ]
  },
  {
   "cell_type": "code",
   "execution_count": null,
   "id": "ad31fb44",
   "metadata": {},
   "outputs": [],
   "source": []
  },
  {
   "cell_type": "code",
   "execution_count": null,
   "id": "60c4a981",
   "metadata": {},
   "outputs": [],
   "source": []
  },
  {
   "cell_type": "code",
   "execution_count": null,
   "id": "25dcc4c7",
   "metadata": {},
   "outputs": [],
   "source": []
  },
  {
   "cell_type": "code",
   "execution_count": null,
   "id": "8fc838ce",
   "metadata": {},
   "outputs": [],
   "source": []
  },
  {
   "cell_type": "code",
   "execution_count": null,
   "id": "ab86a113",
   "metadata": {},
   "outputs": [],
   "source": []
  },
  {
   "cell_type": "code",
   "execution_count": null,
   "id": "e78b418f",
   "metadata": {},
   "outputs": [],
   "source": []
  },
  {
   "cell_type": "markdown",
   "id": "04113652",
   "metadata": {},
   "source": [
    "### Data Smoothing using Moving Average\n",
    "\n",
    "to better understand the undelying trends in a dataset, datascientists can use of smoothing techniques to reduce noise.\n",
    "<br> \n",
    "\"The <b>moving average </b> is one of the simplest and widely used techniques for data smoothing. It involves calculating the average of a subset of adjacent data points, which \"moves\" along the dataset. The size of the subset (window size) determines the level of smoothing. Larger window sizes result in more smoothing, whereas smaller window sizes provide less smoothing \" https://learnpython.com/blog/python-moving-average/\n",
    "\n",
    "For the first experiment, using a window size of 5 will represent theweekly fluctuations in the price.\n",
    "\n",
    "Plotly has a code example to visualise the moving average  available at: \n",
    "https://plotly.com/python/smoothing/"
   ]
  },
  {
   "cell_type": "code",
   "execution_count": null,
   "id": "66d13185",
   "metadata": {},
   "outputs": [],
   "source": [
    "# consider a window size of 5 for weekdays \n",
    "#window_size = 5"
   ]
  },
  {
   "cell_type": "code",
   "execution_count": null,
   "id": "dc82ae38",
   "metadata": {},
   "outputs": [],
   "source": [
    "#icip_df['Moving Average'] = icip_df['I-CIP'].rolling(window=window_size).mean()"
   ]
  },
  {
   "cell_type": "code",
   "execution_count": null,
   "id": "71b2d9b7",
   "metadata": {},
   "outputs": [],
   "source": [
    "#icip_df"
   ]
  },
  {
   "cell_type": "markdown",
   "id": "8c3f08f1",
   "metadata": {},
   "source": []
  },
  {
   "cell_type": "code",
   "execution_count": null,
   "id": "de46bd5f",
   "metadata": {},
   "outputs": [],
   "source": []
  },
  {
   "cell_type": "code",
   "execution_count": null,
   "id": "33ced6da",
   "metadata": {},
   "outputs": [],
   "source": []
  },
  {
   "cell_type": "markdown",
   "id": "55038a9b",
   "metadata": {},
   "source": [
    "## MODEL EVALUATION\n",
    "\n",
    "\n",
    "This section intends to compare different models results based on the metrics selected at the begining of the project: **mae, rmse and mape**. \n",
    "\n",
    "At this stage of the project, the metric for each model tested will be saved in a table to have them organised and easily accecicle for comparing and evaluate them.\n",
    "\n",
    "\n",
    "\n",
    "## ADD SARIMA RESULTS HERE!\n",
    "\n",
    "\n",
    "| Model Name         | Parameters     | MAE   | MAPE   | RMSE(%) |\n",
    "|--------------------|----------------|-------|--------|-------|\n",
    "| Linear regression  |                | 23.592|    12.955    |     23.74  |\n",
    "| Random Forest      |                | 2.766 | 1.607  | 4.015 |\n",
    "| SVU                |                |       |        |       |\n",
    "| ARIMA              | (1,1,1)        |       |        |       |\n",
    "| ARIMA              | (0,2,3)        |       |        |       |\n",
    "| SARIMA             | (p,d,q)(P,D,Q)s|       |        |       |\n",
    "| Neural Network     |                |       |        |       |\n",
    "| Other Model 1      | Params         |       |        |       |\n",
    "| Other Model 2      | Params         |       |        |       |\n",
    "| ARIMA  (diff)| (1,0,1)        |29674.18 |        |       |\n",
    "\n",
    "\n"
   ]
  },
  {
   "cell_type": "code",
   "execution_count": null,
   "id": "502c454f",
   "metadata": {},
   "outputs": [],
   "source": []
  },
  {
   "cell_type": "code",
   "execution_count": null,
   "id": "52d70db2",
   "metadata": {},
   "outputs": [],
   "source": []
  }
 ],
 "metadata": {
  "kernelspec": {
   "display_name": "Python 3 (ipykernel)",
   "language": "python",
   "name": "python3"
  },
  "language_info": {
   "codemirror_mode": {
    "name": "ipython",
    "version": 3
   },
   "file_extension": ".py",
   "mimetype": "text/x-python",
   "name": "python",
   "nbconvert_exporter": "python",
   "pygments_lexer": "ipython3",
   "version": "3.10.9"
  }
 },
 "nbformat": 4,
 "nbformat_minor": 5
}
