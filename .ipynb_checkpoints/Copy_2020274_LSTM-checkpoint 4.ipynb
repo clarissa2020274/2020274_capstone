{
 "cells": [
  {
   "cell_type": "markdown",
   "id": "6d132564",
   "metadata": {},
   "source": [
    "## Predictive Insights in the Coffee Market: Time Series Models for forecasting of coffee in the commodity stock market\n",
    "\n",
    "\n",
    "Student id: 2020274 Clarissa Cardoso\n",
    "\n",
    "\n",
    "\n",
    "## Introduction\n",
    "\n",
    "This notebook will present the data preparation for forecasting models SARIMA and LSTM for the coffee price prediction project based on the ICIP values published by the ICO. \n",
    "\n",
    "### Dataset:\n",
    "\n",
    "The dataset used in this analysis consists of historical coffee price data, with daily observations for business days. Prices are expressed in cents of USD per lb. and stated on a\n",
    "differential basis to the New York and London futures exchanges (https://icocoffee.org/wp-content/uploads/2023/01/icc-105-17-r1e-rules-indicator-prices.pdf)\n",
    "\n",
    "The data utilized in this project is sourced from the International Coffee Organization's (ICO) Public Market Information (https://ico.org/resources/public-market-information/), which provides the I-CIP values free of charge.\n",
    "\n",
    "For the early stages of the experimentation, 1 year worth of data was available to collect, from 01Feb23 to 29Feb24, which is present on a separate notebook (2020274_capstone_EDA_Models 2.ipynb). In the side notebook [2020274_October_24_Data cleaning and EDA_version1] recent data from March to September 2024 were added to expand insights and feed more datapoints to this modelling stage. \n",
    "\n"
   ]
  },
  {
   "cell_type": "code",
   "execution_count": 24,
   "id": "e19d997e",
   "metadata": {},
   "outputs": [],
   "source": [
    "#importing libraries\n",
    "import warnings\n",
    "warnings.filterwarnings(\"ignore\")\n",
    "\n",
    "import pandas as pd #dataframes \n",
    "import numpy as np #linear algebra\n",
    "import seaborn as sns #visualization\n",
    "sns.set(color_codes=True)\n",
    "\n",
    "\n",
    "import plotly.express as px\n",
    "import plotly.graph_objects as go\n",
    "\n",
    "\n",
    "import scipy.stats as stats #statistical resources\n",
    "\n",
    "import matplotlib.pyplot as plt #visualisation \n",
    "%matplotlib inline \n",
    "\n",
    "\n",
    "from matplotlib import colors\n",
    "from matplotlib.ticker import PercentFormatter\n",
    "import matplotlib as mpl\n",
    "\n",
    "from sklearn.model_selection import train_test_split # importing function to split the data training and test.\n",
    "from sklearn.preprocessing import MinMaxScaler # Import the MinMaxScaler module from sklearn.preprocessing library\n",
    "from sklearn.linear_model import LinearRegression # importing to performe linear regression. \n",
    "from sklearn.metrics import make_scorer, r2_score # Importing from Metrics module\n",
    "from sklearn.preprocessing import StandardScaler # standardize the data\n",
    "from sklearn import metrics # Metrics module from scikit-learn\n",
    "from sklearn.model_selection import GridSearchCV # importing for hyperparameter tunning\n",
    "from sklearn.metrics import mean_squared_error # importing mse\n",
    "from scipy.stats import shapiro\n",
    "\n",
    "from sklearn.preprocessing import MinMaxScaler\n",
    "from keras.models import Sequential #last update in python causing dead kernel wehn importing keras functions?\n",
    "from keras.layers import Dense, LSTM, Dropout, GRU, Bidirectional\n",
    "from keras.optimizers import SGD\n",
    "import math\n",
    "from math import sqrt\n",
    "from sklearn.metrics import mean_squared_error,mean_absolute_error\n",
    "from sklearn.metrics import mean_absolute_percentage_error\n",
    "from scipy.interpolate import interp1d\n",
    "\n",
    "from sklearn.tree import DecisionTreeRegressor\n",
    "from sklearn.ensemble import RandomForestRegressor\n",
    "from sklearn.svm import SVR\n",
    "from sklearn.ensemble import GradientBoostingRegressor\n",
    "from sklearn.linear_model import LinearRegression\n",
    "from sklearn.model_selection import TimeSeriesSplit\n",
    "\n",
    "\n",
    "\n",
    "from statsmodels.tsa.stattools import adfuller\n",
    "import statsmodels.api as sm\n",
    "from statsmodels.tsa.seasonal import seasonal_decompose\n",
    "from statsmodels.tsa.stattools import acf, pacf\n",
    "from statsmodels.graphics.tsaplots import plot_acf, plot_pacf\n",
    "\n"
   ]
  },
  {
   "cell_type": "markdown",
   "id": "53a5afa0",
   "metadata": {},
   "source": [
    "## Libraries for Deep Learning"
   ]
  },
  {
   "cell_type": "code",
   "execution_count": 25,
   "id": "f5f22e15",
   "metadata": {},
   "outputs": [],
   "source": [
    "from keras.models import Sequential\n",
    "from keras.layers import Dense, Embedding, LSTM, GRU, Flatten, Dropout, Lambda\n",
    "\n",
    "import tensorflow as tf\n",
    "from keras.models import Sequential\n",
    "from keras.layers import LSTM, Dense\n",
    "from sklearn.model_selection import train_test_split\n",
    "from sklearn.preprocessing import MinMaxScaler\n",
    "\n"
   ]
  },
  {
   "cell_type": "markdown",
   "id": "35f46166",
   "metadata": {},
   "source": [
    "## 1. Loading data\n",
    "Using dataframe with pre-processed data on separate Jupyter Notebook\n",
    "\n",
    "\n",
    "433 rows containing original prices, standardised prices, normalised, differentiated values and 4 time-based features (DayOfWeek\t|WeekOfYear\t|Month\t|Quarter)"
   ]
  },
  {
   "cell_type": "code",
   "execution_count": 26,
   "id": "340ae490",
   "metadata": {},
   "outputs": [],
   "source": [
    "df = pd.read_csv('processed_data.csv', index_col='date', parse_dates=True)"
   ]
  },
  {
   "cell_type": "code",
   "execution_count": 27,
   "id": "460b3467",
   "metadata": {},
   "outputs": [
    {
     "data": {
      "text/html": [
       "<div>\n",
       "<style scoped>\n",
       "    .dataframe tbody tr th:only-of-type {\n",
       "        vertical-align: middle;\n",
       "    }\n",
       "\n",
       "    .dataframe tbody tr th {\n",
       "        vertical-align: top;\n",
       "    }\n",
       "\n",
       "    .dataframe thead th {\n",
       "        text-align: right;\n",
       "    }\n",
       "</style>\n",
       "<table border=\"1\" class=\"dataframe\">\n",
       "  <thead>\n",
       "    <tr style=\"text-align: right;\">\n",
       "      <th></th>\n",
       "      <th>I-CIP</th>\n",
       "      <th>price_standardized</th>\n",
       "      <th>price_normalized</th>\n",
       "      <th>price_diff</th>\n",
       "      <th>I-CIP_Standardised</th>\n",
       "    </tr>\n",
       "    <tr>\n",
       "      <th>date</th>\n",
       "      <th></th>\n",
       "      <th></th>\n",
       "      <th></th>\n",
       "      <th></th>\n",
       "      <th></th>\n",
       "    </tr>\n",
       "  </thead>\n",
       "  <tbody>\n",
       "    <tr>\n",
       "      <th>2023-02-02</th>\n",
       "      <td>172.50</td>\n",
       "      <td>-0.482921</td>\n",
       "      <td>0.209218</td>\n",
       "      <td>1.07</td>\n",
       "      <td>0.209218</td>\n",
       "    </tr>\n",
       "    <tr>\n",
       "      <th>2023-02-03</th>\n",
       "      <td>169.47</td>\n",
       "      <td>-0.578568</td>\n",
       "      <td>0.185305</td>\n",
       "      <td>-3.03</td>\n",
       "      <td>0.185305</td>\n",
       "    </tr>\n",
       "    <tr>\n",
       "      <th>2023-02-06</th>\n",
       "      <td>171.29</td>\n",
       "      <td>-0.521117</td>\n",
       "      <td>0.199669</td>\n",
       "      <td>1.82</td>\n",
       "      <td>0.199669</td>\n",
       "    </tr>\n",
       "    <tr>\n",
       "      <th>2023-02-07</th>\n",
       "      <td>172.14</td>\n",
       "      <td>-0.494285</td>\n",
       "      <td>0.206377</td>\n",
       "      <td>0.85</td>\n",
       "      <td>0.206377</td>\n",
       "    </tr>\n",
       "    <tr>\n",
       "      <th>2023-02-08</th>\n",
       "      <td>171.23</td>\n",
       "      <td>-0.523011</td>\n",
       "      <td>0.199195</td>\n",
       "      <td>-0.91</td>\n",
       "      <td>0.199195</td>\n",
       "    </tr>\n",
       "    <tr>\n",
       "      <th>...</th>\n",
       "      <td>...</td>\n",
       "      <td>...</td>\n",
       "      <td>...</td>\n",
       "      <td>...</td>\n",
       "      <td>...</td>\n",
       "    </tr>\n",
       "    <tr>\n",
       "      <th>2024-09-24</th>\n",
       "      <td>269.83</td>\n",
       "      <td>2.589469</td>\n",
       "      <td>0.977350</td>\n",
       "      <td>3.05</td>\n",
       "      <td>0.977350</td>\n",
       "    </tr>\n",
       "    <tr>\n",
       "      <th>2024-09-25</th>\n",
       "      <td>270.09</td>\n",
       "      <td>2.597677</td>\n",
       "      <td>0.979402</td>\n",
       "      <td>0.26</td>\n",
       "      <td>0.979402</td>\n",
       "    </tr>\n",
       "    <tr>\n",
       "      <th>2024-09-26</th>\n",
       "      <td>272.70</td>\n",
       "      <td>2.680066</td>\n",
       "      <td>1.000000</td>\n",
       "      <td>2.61</td>\n",
       "      <td>1.000000</td>\n",
       "    </tr>\n",
       "    <tr>\n",
       "      <th>2024-09-27</th>\n",
       "      <td>268.97</td>\n",
       "      <td>2.562322</td>\n",
       "      <td>0.970563</td>\n",
       "      <td>-3.73</td>\n",
       "      <td>0.970563</td>\n",
       "    </tr>\n",
       "    <tr>\n",
       "      <th>2024-09-30</th>\n",
       "      <td>270.37</td>\n",
       "      <td>2.606515</td>\n",
       "      <td>0.981612</td>\n",
       "      <td>1.40</td>\n",
       "      <td>0.981612</td>\n",
       "    </tr>\n",
       "  </tbody>\n",
       "</table>\n",
       "<p>433 rows × 5 columns</p>\n",
       "</div>"
      ],
      "text/plain": [
       "             I-CIP  price_standardized  price_normalized  price_diff  \\\n",
       "date                                                                   \n",
       "2023-02-02  172.50           -0.482921          0.209218        1.07   \n",
       "2023-02-03  169.47           -0.578568          0.185305       -3.03   \n",
       "2023-02-06  171.29           -0.521117          0.199669        1.82   \n",
       "2023-02-07  172.14           -0.494285          0.206377        0.85   \n",
       "2023-02-08  171.23           -0.523011          0.199195       -0.91   \n",
       "...            ...                 ...               ...         ...   \n",
       "2024-09-24  269.83            2.589469          0.977350        3.05   \n",
       "2024-09-25  270.09            2.597677          0.979402        0.26   \n",
       "2024-09-26  272.70            2.680066          1.000000        2.61   \n",
       "2024-09-27  268.97            2.562322          0.970563       -3.73   \n",
       "2024-09-30  270.37            2.606515          0.981612        1.40   \n",
       "\n",
       "            I-CIP_Standardised  \n",
       "date                            \n",
       "2023-02-02            0.209218  \n",
       "2023-02-03            0.185305  \n",
       "2023-02-06            0.199669  \n",
       "2023-02-07            0.206377  \n",
       "2023-02-08            0.199195  \n",
       "...                        ...  \n",
       "2024-09-24            0.977350  \n",
       "2024-09-25            0.979402  \n",
       "2024-09-26            1.000000  \n",
       "2024-09-27            0.970563  \n",
       "2024-09-30            0.981612  \n",
       "\n",
       "[433 rows x 5 columns]"
      ]
     },
     "execution_count": 27,
     "metadata": {},
     "output_type": "execute_result"
    }
   ],
   "source": [
    "df"
   ]
  },
  {
   "cell_type": "code",
   "execution_count": 28,
   "id": "e892916f",
   "metadata": {},
   "outputs": [
    {
     "data": {
      "image/png": "[encoded data removed]",
      "text/plain": [
       "<Figure size 1200x600 with 1 Axes>"
      ]
     },
     "metadata": {},
     "output_type": "display_data"
    }
   ],
   "source": [
    "# Select the target column for time series analysis\n",
    "target_col = 'I-CIP'\n",
    "\n",
    "# Plot the time series\n",
    "plt.figure(figsize=(12, 6))\n",
    "plt.plot(df[target_col], label='Composite Inidicator Prices')\n",
    "plt.title('Time Series')\n",
    "plt.xlabel('Date')\n",
    "plt.ylabel('Original Prices from ICO Composite')\n",
    "plt.legend()\n",
    "plt.show()"
   ]
  },
  {
   "cell_type": "markdown",
   "id": "d214b0d3",
   "metadata": {},
   "source": [
    "## 2. Data prep for LSTM\n",
    "\n",
    "\n",
    "### 2.1 Cheking for stationarity\n",
    " for both normalised data (will mantain data structure, but only in a smaller scale from 0 to 1) and diff values"
   ]
  },
  {
   "cell_type": "code",
   "execution_count": 30,
   "id": "2453ded0",
   "metadata": {},
   "outputs": [
    {
     "name": "stdout",
     "output_type": "stream",
     "text": [
      "ADF Test Statistic: 1.659357789393701\n",
      "p-value: 0.9980251657535799\n",
      "Critical Values: {'1%': -3.446205926287236, '5%': -2.8685297226414734, '10%': -2.570493298011322}\n"
     ]
    }
   ],
   "source": [
    "# ADF Test for Stationarity\n",
    "result = adfuller(df[target_col])\n",
    "print(\"ADF Test Statistic:\", result[0])\n",
    "print(\"p-value:\", result[1])\n",
    "print(\"Critical Values:\", result[4])"
   ]
  },
  {
   "cell_type": "code",
   "execution_count": 31,
   "id": "ee3c0c34",
   "metadata": {},
   "outputs": [],
   "source": [
    "# Select the target column for SARIMA using ICIP prices\n",
    "df_sarima = df[['I-CIP']]"
   ]
  },
  {
   "cell_type": "markdown",
   "id": "dccc43e2",
   "metadata": {},
   "source": [
    "#### Shapiro-Wilk test for normality of  icip \n"
   ]
  },
  {
   "cell_type": "code",
   "execution_count": 32,
   "id": "0fa79152",
   "metadata": {},
   "outputs": [
    {
     "name": "stdout",
     "output_type": "stream",
     "text": [
      "Shapiro-Wilk Test Statistic: 0.8879902362823486\n",
      "p-value: 3.189733842585338e-17\n",
      "The data does not appear to be normally distributed.\n"
     ]
    }
   ],
   "source": [
    "from scipy.stats import shapiro\n",
    "\n",
    "def check_normality(series):\n",
    "    stat, p_value = shapiro(series)\n",
    "    print(f'Shapiro-Wilk Test Statistic: {stat}')\n",
    "    print(f'p-value: {p_value}')\n",
    "\n",
    "    if p_value < 0.05:\n",
    "        print(\"The data does not appear to be normally distributed.\")\n",
    "    else:\n",
    "        print(\"The data appears to be normally distributed.\")\n",
    "\n",
    "# check function\n",
    "check_normality(df_sarima)"
   ]
  },
  {
   "cell_type": "code",
   "execution_count": 33,
   "id": "2bdc8093",
   "metadata": {},
   "outputs": [
    {
     "name": "stdout",
     "output_type": "stream",
     "text": [
      "Shapiro-Wilk Test Statistic: 0.9792444109916687\n",
      "p-value: 7.385493972833501e-06\n",
      "The data does not appear to be normally distributed.\n"
     ]
    }
   ],
   "source": [
    "# check function\n",
    "check_normality(df['price_diff'])"
   ]
  },
  {
   "cell_type": "code",
   "execution_count": 35,
   "id": "5b6a4305",
   "metadata": {},
   "outputs": [
    {
     "name": "stdout",
     "output_type": "stream",
     "text": [
      "ADF Statistic: 1.659357789393701\n",
      "p-value: 0.9980251657535799\n",
      "Critical Value 1%: -3.446205926287236\n",
      "Critical Value 5%: -2.8685297226414734\n",
      "Critical Value 10%: -2.570493298011322\n"
     ]
    }
   ],
   "source": [
    "# checkin stationarity for diff prices\n",
    "def check_stationarity(series):\n",
    "    result = adfuller(series, autolag='AIC')\n",
    "    print(f'ADF Statistic: {result[0]}')\n",
    "    print(f'p-value: {result[1]}')\n",
    "    for key, value in result[4].items():\n",
    "        print(f'Critical Value {key}: {value}')\n",
    "\n",
    "check_stationarity(df_sarima)\n"
   ]
  },
  {
   "cell_type": "code",
   "execution_count": 36,
   "id": "bc021c99",
   "metadata": {},
   "outputs": [
    {
     "name": "stdout",
     "output_type": "stream",
     "text": [
      "ADF Statistic: 1.659357789393701\n",
      "p-value: 0.9980251657535799\n",
      "Critical Value 1%: -3.446205926287236\n",
      "Critical Value 5%: -2.8685297226414734\n",
      "Critical Value 10%: -2.570493298011322\n"
     ]
    }
   ],
   "source": [
    "# checkin stationarity for diff prices\n",
    "def check_stationarity(series):\n",
    "    result = adfuller(series, autolag='AIC')\n",
    "    print(f'ADF Statistic: {result[0]}')\n",
    "    print(f'p-value: {result[1]}')\n",
    "    for key, value in result[4].items():\n",
    "        print(f'Critical Value {key}: {value}')\n",
    "\n",
    "check_stationarity(df_sarima)\n"
   ]
  },
  {
   "cell_type": "code",
   "execution_count": 37,
   "id": "55be202e",
   "metadata": {},
   "outputs": [
    {
     "name": "stdout",
     "output_type": "stream",
     "text": [
      "             I-CIP\n",
      "date              \n",
      "2023-02-02  172.50\n",
      "2023-02-03  169.47\n",
      "2023-02-06  171.29\n",
      "2023-02-07  172.14\n",
      "2023-02-08  171.23\n"
     ]
    }
   ],
   "source": [
    "\n",
    "\n",
    "# Drop NaN values caused by differentiation (from 434 to 433 total obs)\n",
    "df_sarima = df_sarima.dropna()\n",
    "\n",
    "# Display the cleaned data\n",
    "print(df_sarima.head())"
   ]
  },
  {
   "cell_type": "code",
   "execution_count": 38,
   "id": "31ef6c10",
   "metadata": {},
   "outputs": [
    {
     "name": "stdout",
     "output_type": "stream",
     "text": [
      "<class 'pandas.core.frame.DataFrame'>\n",
      "DatetimeIndex: 433 entries, 2023-02-02 to 2024-09-30\n",
      "Data columns (total 1 columns):\n",
      " #   Column  Non-Null Count  Dtype  \n",
      "---  ------  --------------  -----  \n",
      " 0   I-CIP   433 non-null    float64\n",
      "dtypes: float64(1)\n",
      "memory usage: 6.8 KB\n"
     ]
    }
   ],
   "source": [
    "df_sarima.info()"
   ]
  },
  {
   "cell_type": "markdown",
   "id": "5750e1b8",
   "metadata": {},
   "source": [
    "Checking Differentiated prices time series shape\n"
   ]
  },
  {
   "cell_type": "code",
   "execution_count": 39,
   "id": "8b6fc27b",
   "metadata": {},
   "outputs": [
    {
     "data": {
      "image/png": "[encoded data removed]",
      "text/plain": [
       "<Figure size 1200x600 with 1 Axes>"
      ]
     },
     "metadata": {},
     "output_type": "display_data"
    }
   ],
   "source": [
    "# Plot the differentiated series\n",
    "plt.figure(figsize=(12, 6))\n",
    "plt.plot(df['price_diff'], label='Differentiated Price')\n",
    "plt.title('Differentiated Time Series')\n",
    "plt.xlabel('Date')\n",
    "plt.ylabel('Price Difference')\n",
    "plt.legend()\n",
    "plt.show()"
   ]
  },
  {
   "cell_type": "code",
   "execution_count": 41,
   "id": "ddd922b7",
   "metadata": {},
   "outputs": [
    {
     "data": {
      "image/png": "[encoded data removed]",
      "text/plain": [
       "<Figure size 640x480 with 1 Axes>"
      ]
     },
     "metadata": {},
     "output_type": "display_data"
    },
    {
     "data": {
      "image/png": "[encoded data removed]",
      "text/plain": [
       "<Figure size 640x480 with 1 Axes>"
      ]
     },
     "metadata": {},
     "output_type": "display_data"
    }
   ],
   "source": [
    "#acf plot for correlation\n",
    "plot_acf(df['price_diff'].dropna())\n",
    "plt.show()\n",
    "\n",
    "# partial correlation \n",
    "plot_pacf(df['price_diff'].dropna())\n",
    "plt.show()"
   ]
  },
  {
   "cell_type": "markdown",
   "id": "46071c60",
   "metadata": {},
   "source": [
    " ## Build dictionary to store all metrics from the modeling"
   ]
  },
  {
   "cell_type": "code",
   "execution_count": 42,
   "id": "cec244d3",
   "metadata": {},
   "outputs": [
    {
     "name": "stdout",
     "output_type": "stream",
     "text": [
      "Initial Model Results:\n",
      "{'Linear Regression': {'MSE': 0.0037, 'MAE': 0.0469, 'RMSE': 0.0612, 'MAPE': 6.25}}\n"
     ]
    }
   ],
   "source": [
    "# Initialise a dictionary to store error metrics\n",
    "model_results = {}\n",
    "\n",
    "# Function to add new results to the dictionary\n",
    "def add_model_results(model_name, mse, mae, rmse, mape):\n",
    "    \"\"\"\n",
    "    Adds model performance metrics to the results dictionary.\n",
    "    \"\"\"\n",
    "    model_results[model_name] = {\n",
    "        'MSE': mse,\n",
    "        'MAE': mae,\n",
    "        'RMSE': rmse,\n",
    "        'MAPE': mape\n",
    "    }\n",
    "\n",
    "# Example: Adding a placeholder for Linear Regression results\n",
    "add_model_results(\"Linear Regression\", mse=0.0037, mae=0.0469, rmse=0.0612, mape=6.25)\n",
    "\n",
    "# Print the initial dictionary\n",
    "print(\"Initial Model Results:\")\n",
    "print(model_results)"
   ]
  },
  {
   "cell_type": "code",
   "execution_count": 16,
   "id": "c032df73",
   "metadata": {},
   "outputs": [
    {
     "data": {
      "text/html": [
       "<div>\n",
       "<style scoped>\n",
       "    .dataframe tbody tr th:only-of-type {\n",
       "        vertical-align: middle;\n",
       "    }\n",
       "\n",
       "    .dataframe tbody tr th {\n",
       "        vertical-align: top;\n",
       "    }\n",
       "\n",
       "    .dataframe thead th {\n",
       "        text-align: right;\n",
       "    }\n",
       "</style>\n",
       "<table border=\"1\" class=\"dataframe\">\n",
       "  <thead>\n",
       "    <tr style=\"text-align: right;\">\n",
       "      <th></th>\n",
       "      <th>I-CIP</th>\n",
       "    </tr>\n",
       "    <tr>\n",
       "      <th>date</th>\n",
       "      <th></th>\n",
       "    </tr>\n",
       "  </thead>\n",
       "  <tbody>\n",
       "    <tr>\n",
       "      <th>2023-02-02</th>\n",
       "      <td>172.50</td>\n",
       "    </tr>\n",
       "    <tr>\n",
       "      <th>2023-02-03</th>\n",
       "      <td>169.47</td>\n",
       "    </tr>\n",
       "    <tr>\n",
       "      <th>2023-02-06</th>\n",
       "      <td>171.29</td>\n",
       "    </tr>\n",
       "    <tr>\n",
       "      <th>2023-02-07</th>\n",
       "      <td>172.14</td>\n",
       "    </tr>\n",
       "    <tr>\n",
       "      <th>2023-02-08</th>\n",
       "      <td>171.23</td>\n",
       "    </tr>\n",
       "    <tr>\n",
       "      <th>...</th>\n",
       "      <td>...</td>\n",
       "    </tr>\n",
       "    <tr>\n",
       "      <th>2024-09-24</th>\n",
       "      <td>269.83</td>\n",
       "    </tr>\n",
       "    <tr>\n",
       "      <th>2024-09-25</th>\n",
       "      <td>270.09</td>\n",
       "    </tr>\n",
       "    <tr>\n",
       "      <th>2024-09-26</th>\n",
       "      <td>272.70</td>\n",
       "    </tr>\n",
       "    <tr>\n",
       "      <th>2024-09-27</th>\n",
       "      <td>268.97</td>\n",
       "    </tr>\n",
       "    <tr>\n",
       "      <th>2024-09-30</th>\n",
       "      <td>270.37</td>\n",
       "    </tr>\n",
       "  </tbody>\n",
       "</table>\n",
       "<p>433 rows × 1 columns</p>\n",
       "</div>"
      ],
      "text/plain": [
       "             I-CIP\n",
       "date              \n",
       "2023-02-02  172.50\n",
       "2023-02-03  169.47\n",
       "2023-02-06  171.29\n",
       "2023-02-07  172.14\n",
       "2023-02-08  171.23\n",
       "...            ...\n",
       "2024-09-24  269.83\n",
       "2024-09-25  270.09\n",
       "2024-09-26  272.70\n",
       "2024-09-27  268.97\n",
       "2024-09-30  270.37\n",
       "\n",
       "[433 rows x 1 columns]"
      ]
     },
     "execution_count": 16,
     "metadata": {},
     "output_type": "execute_result"
    }
   ],
   "source": [
    "df_sarima"
   ]
  },
  {
   "cell_type": "code",
   "execution_count": null,
   "id": "1f9f0d14",
   "metadata": {},
   "outputs": [],
   "source": []
  },
  {
   "cell_type": "code",
   "execution_count": null,
   "id": "d1f2852f",
   "metadata": {},
   "outputs": [],
   "source": []
  },
  {
   "cell_type": "code",
   "execution_count": null,
   "id": "aca530a4",
   "metadata": {},
   "outputs": [],
   "source": [
    "# Ensure your normalised dataset is ready\n",
    "data = df['price_normalized']  # \n",
    "m = 5  # Seasonality (weekly)"
   ]
  },
  {
   "cell_type": "code",
   "execution_count": null,
   "id": "1bbbb176",
   "metadata": {},
   "outputs": [],
   "source": [
    "# Cross-validation using TimeSeriesSplit\n",
    "tscv = TimeSeriesSplit(n_splits=5)\n",
    "\n",
    "# Define SARIMA parameters\n",
    "p, d, q = 1, 1, 1\n",
    "P, D, Q = 1, 1, 1\n",
    "\n",
    "# Initialize lists to store metrics\n",
    "cv_mse, cv_mae, cv_rmse = [], [], []\n",
    "\n",
    "# Perform TimeSeriesSplit cross-validation\n",
    "for train_index, val_index in tscv.split(data):\n",
    "    train_data, val_data = data.iloc[train_index], data.iloc[val_index]\n",
    "\n",
    "    # Fit SARIMA on training set\n",
    "    model = SARIMAX(train_data,\n",
    "                    order=(p, d, q),\n",
    "                    seasonal_order=(P, D, Q, m),\n",
    "                    enforce_stationarity=False,\n",
    "                    enforce_invertibility=False)\n",
    "    sarima_fit = model.fit(disp=False)\n",
    "\n",
    "    # Forecast for validation set\n",
    "    forecast = sarima_fit.forecast(steps=len(val_data))\n",
    "\n",
    "    # Calculate error metrics\n",
    "    mse = mean_squared_error(val_data, forecast)\n",
    "    mae = mean_absolute_error(val_data, forecast)\n",
    "    rmse = np.sqrt(mse)\n",
    "\n",
    "    # Store the metrics\n",
    "    cv_mse.append(mse)\n",
    "    cv_mae.append(mae)\n",
    "    cv_rmse.append(rmse)\n",
    "\n",
    "# Print cross-validation results\n",
    "print(\"Cross-Validation Results:\")\n",
    "print(f\"Mean MSE: {np.mean(cv_mse):.4f} ± {np.std(cv_mse):.4f}\")\n",
    "print(f\"Mean MAE: {np.mean(cv_mae):.4f} ± {np.std(cv_mae):.4f}\")\n",
    "print(f\"Mean RMSE: {np.mean(cv_rmse):.4f} ± {np.std(cv_rmse):.4f}\")\n",
    "\n",
    "# Store cross-validation results in your metrics dictionary\n",
    "add_model_results(\n",
    "    model_name=\"SARIMA (Cross-Validation)\",\n",
    "    mse=np.mean(cv_mse),\n",
    "    mae=np.mean(cv_mae),\n",
    "    rmse=np.mean(cv_rmse),\n",
    "    mape=None  # MAPE can be added if required\n",
    ")"
   ]
  },
  {
   "cell_type": "code",
   "execution_count": null,
   "id": "c59769e8",
   "metadata": {},
   "outputs": [],
   "source": [
    "#  Visualize the last fold's predictions\n",
    "plt.figure(figsize=(10, 6))\n",
    "plt.plot(train_data, label=\"Training Data\")\n",
    "plt.plot(val_data, label=\"Validation Data\")\n",
    "plt.plot(val_data.index, forecast, label=\"SARIMA Predictions\", linestyle=\"--\")\n",
    "plt.title(\"SARIMA Cross-Validation: Last Fold Predictions\")\n",
    "plt.legend()\n",
    "plt.show()"
   ]
  },
  {
   "cell_type": "markdown",
   "id": "05244b19",
   "metadata": {},
   "source": [
    "### 2.5 a) Tuning Parameters for SARIMA"
   ]
  },
  {
   "cell_type": "code",
   "execution_count": null,
   "id": "77016a73",
   "metadata": {},
   "outputs": [],
   "source": []
  },
  {
   "cell_type": "code",
   "execution_count": null,
   "id": "c6ba1435",
   "metadata": {},
   "outputs": [],
   "source": []
  },
  {
   "cell_type": "code",
   "execution_count": null,
   "id": "2a501811",
   "metadata": {},
   "outputs": [],
   "source": []
  },
  {
   "cell_type": "code",
   "execution_count": null,
   "id": "4cf92013",
   "metadata": {},
   "outputs": [],
   "source": []
  },
  {
   "cell_type": "code",
   "execution_count": null,
   "id": "7ee329c5",
   "metadata": {},
   "outputs": [],
   "source": []
  },
  {
   "cell_type": "code",
   "execution_count": null,
   "id": "0742d7cd",
   "metadata": {},
   "outputs": [],
   "source": []
  },
  {
   "cell_type": "code",
   "execution_count": null,
   "id": "34a02254",
   "metadata": {},
   "outputs": [],
   "source": []
  },
  {
   "cell_type": "code",
   "execution_count": null,
   "id": "6470d2ee",
   "metadata": {},
   "outputs": [],
   "source": [
    "# Convert the dictionary into a DataFrame for visualization\n",
    "metrics_df = pd.DataFrame(model_results).T\n",
    "metrics_df.reset_index(inplace=True)\n",
    "metrics_df.rename(columns={'index': 'Model'}, inplace=True)\n",
    "\n",
    "# Define metrics to plot\n",
    "metrics = ['MSE', 'MAE', 'RMSE', 'MAPE']\n",
    "\n",
    "# Initialize the plot\n",
    "plt.figure(figsize=(16, 8))\n",
    "\n",
    "# Plot each metric\n",
    "for i, metric in enumerate(metrics, 1):\n",
    "    plt.subplot(1, len(metrics), i)\n",
    "    sns.barplot(data=metrics_df, x='Model', y=metric, palette='husl')\n",
    "    plt.title(f'{metric} Comparison')\n",
    "    plt.xlabel('Model')\n",
    "    plt.ylabel(metric)\n",
    "    plt.xticks(rotation=45)\n",
    "\n",
    "plt.tight_layout()\n",
    "plt.show()"
   ]
  },
  {
   "cell_type": "code",
   "execution_count": null,
   "id": "19591ee2",
   "metadata": {},
   "outputs": [],
   "source": [
    "metrics_df"
   ]
  },
  {
   "cell_type": "code",
   "execution_count": null,
   "id": "1da5bf5a",
   "metadata": {},
   "outputs": [],
   "source": [
    "import seaborn as sns\n",
    "import matplotlib.pyplot as plt\n",
    "\n",
    "# Filter specific SARIMA models with normalized values\n",
    "models_to_plot = ['AutoARIMA (Normalized)', \n",
    "                  'AutoARIMA (Normalized m=21)', \n",
    "                  'AutoARIMA (Normalized m=63)', \n",
    "                  'SARIMA (Cross-Validation)']\n",
    "\n",
    "filtered_df = metrics_df[metrics_df['Model'].isin(models_to_plot)]\n",
    "\n",
    "# Metrics to plot\n",
    "metrics_to_plot = ['MSE', 'MAE', 'RMSE']\n",
    "\n",
    "# Plot each metric separately\n",
    "fig, axes = plt.subplots(1, len(metrics_to_plot), figsize=(16, 6), sharey=False)\n",
    "\n",
    "for i, metric in enumerate(metrics_to_plot):\n",
    "    sns.barplot(\n",
    "        data=filtered_df,\n",
    "        x='Model',\n",
    "        y=metric,\n",
    "        ax=axes[i],\n",
    "        palette='husl'\n",
    "    )\n",
    "    axes[i].set_title(f'{metric} Comparison')\n",
    "    axes[i].set_xlabel('Model')\n",
    "    axes[i].set_ylabel(metric)\n",
    "    axes[i].tick_params(axis='x', rotation=45)  # Rotate labels\n",
    "\n",
    "# Adjust layout\n",
    "plt.tight_layout()\n",
    "plt.show()\n",
    "\n"
   ]
  },
  {
   "cell_type": "code",
   "execution_count": null,
   "id": "434859c6",
   "metadata": {},
   "outputs": [],
   "source": [
    "df"
   ]
  },
  {
   "cell_type": "code",
   "execution_count": null,
   "id": "dafbc2bb",
   "metadata": {},
   "outputs": [],
   "source": [
    "train"
   ]
  },
  {
   "cell_type": "code",
   "execution_count": null,
   "id": "d33213d7",
   "metadata": {},
   "outputs": [],
   "source": [
    "test"
   ]
  },
  {
   "cell_type": "code",
   "execution_count": null,
   "id": "ef555ce1",
   "metadata": {},
   "outputs": [],
   "source": [
    "import time\n"
   ]
  },
  {
   "cell_type": "code",
   "execution_count": null,
   "id": "cfd82fcc",
   "metadata": {},
   "outputs": [],
   "source": [
    "## USING AUTO ARIMA FOR FINDING BEST PARAM for norm prices\n",
    "\n",
    "# Start timing\n",
    "start_time = time.time()\n",
    "\n",
    "# Run auto_arima to search for the best model\n",
    "best_model = auto_arima(train,\n",
    "                        start_p=0, max_p=3,  # Initial and max value for p\n",
    "                        start_q=0, max_q=3,  # Initial and max value for q\n",
    "                        start_P=0, max_P=2,  # Initial and max value for P\n",
    "                        start_Q=0, max_Q=2,  # Initial and max value for Q\n",
    "                        d=1, D=1,            # Non-seasonal and seasonal differencing\n",
    "                        m=5,                # Seasonal period\n",
    "                        seasonal=True,       # Whether to use seasonal ARIMA\n",
    "                        stepwise=True,       # Whether to use stepwise algorithm\n",
    "                        trace=True,          # Whether to print status on the fits\n",
    "                        error_action='ignore',   # Don't want to know if an order does not work\n",
    "                        suppress_warnings=True,  # Don't want convergence warnings\n",
    "                        information_criterion='aic')  # Select best model based on AIC\n",
    "\n",
    "\n",
    "# End timing\n",
    "end_time = time.time()\n",
    "elapsed_time = end_time - start_time\n",
    "print(f\"auto_arima running time: {elapsed_time:.2f} seconds\")\n",
    "\n",
    "# Summary of the best model\n",
    "print(best_model.summary())\n",
    "\n",
    "\n",
    "# Make predictions on the test set\n",
    "predicted_means = best_model.predict(n_periods=len(test))  # This directly gives you the forecasted values\n",
    "\n",
    "# Plotting the results\n",
    "plt.figure(figsize=(10, 5))\n",
    "plt.plot(train, label='Training Data')  # Make sure 'train' contains the appropriate date index if needed\n",
    "plt.plot(test.index, test, label='Actual Test Data')  # Assuming 'test' is a DataFrame or Series with a date index\n",
    "plt.plot(test.index, predicted_means, label='SARIMA Predictions', color='green')  # Ensure 'test.index' is used correctly\n",
    "plt.legend()\n",
    "plt.show()\n",
    "\n",
    "\n",
    "# Calculate error metrics\n",
    "mse = mean_squared_error(test, predicted_means)\n",
    "mae = mean_absolute_error(test, predicted_means)\n",
    "rmse = np.sqrt(mse)\n",
    "\n",
    "# Print the error metrics\n",
    "print(f'Mean Squared Error (MSE): {mse}')\n",
    "print(f'Mean Absolute Error (MAE): {mae}')\n",
    "print(f'Root Mean Squared Error (RMSE): {rmse}')\n",
    "\n",
    "# Store cross-validation results in your metrics dictionary\n",
    "add_model_results(\n",
    "    model_name=\"SARIMA (AUTO ARIMA m=5)\",\n",
    "    mse=np.mean(mse),\n",
    "    mae=np.mean(mae),\n",
    "    rmse=np.mean(rmse),\n",
    "    mape=None  # MAPE can be added \n",
    ")"
   ]
  },
  {
   "cell_type": "code",
   "execution_count": null,
   "id": "a5d34d30",
   "metadata": {},
   "outputs": [],
   "source": [
    "df"
   ]
  },
  {
   "cell_type": "markdown",
   "id": "a846fd61",
   "metadata": {},
   "source": [
    "## Sarima with second diferentiation\n",
    "using d=2?\n"
   ]
  },
  {
   "cell_type": "code",
   "execution_count": null,
   "id": "3e4a4c09",
   "metadata": {},
   "outputs": [],
   "source": [
    "## USING AUTO ARIMA FOR FINDING BEST PARAM for norm prices\n",
    "\n",
    "# Start timing\n",
    "start_time = time.time()\n",
    "\n",
    "# Run auto_arima to search for the best model\n",
    "best_model = auto_arima(train,\n",
    "                        start_p=0, max_p=3,  # Initial and max value for p\n",
    "                        start_q=0, max_q=3,  # Initial and max value for q\n",
    "                        start_P=0, max_P=2,  # Initial and max value for P\n",
    "                        start_Q=0, max_Q=2,  # Initial and max value for Q\n",
    "                        d=1, D=2,            # Non-seasonal and seasonal differencing\n",
    "                        m=5,                # Seasonal period\n",
    "                        seasonal=True,       # Whether to use seasonal ARIMA\n",
    "                        stepwise=True,       # Whether to use stepwise algorithm\n",
    "                        trace=True,          # Whether to print status on the fits\n",
    "                        error_action='ignore',   # Don't want to know if an order does not work\n",
    "                        suppress_warnings=True,  # Don't want convergence warnings\n",
    "                        information_criterion='aic')  # Select best model based on AIC\n",
    "\n",
    "\n",
    "# End timing\n",
    "end_time = time.time()\n",
    "elapsed_time = end_time - start_time\n",
    "print(f\"auto_arima running time: {elapsed_time:.2f} seconds\")\n",
    "\n",
    "# Summary of the best model\n",
    "print(best_model.summary())\n",
    "\n",
    "\n",
    "# Make predictions on the test set\n",
    "predicted_means = best_model.predict(n_periods=len(test))  # This directly gives you the forecasted values\n",
    "\n",
    "# Plotting the results\n",
    "plt.figure(figsize=(10, 5))\n",
    "plt.plot(train, label='Training Data')  # Make sure 'train' contains the appropriate date index if needed\n",
    "plt.plot(test.index, test, label='Actual Test Data')  # Assuming 'test' is a DataFrame or Series with a date index\n",
    "plt.plot(test.index, predicted_means, label='SARIMA Predictions', color='green')  # Ensure 'test.index' is used correctly\n",
    "plt.legend()\n",
    "plt.show()\n",
    "\n",
    "\n",
    "# Calculate error metrics\n",
    "mse = mean_squared_error(test, predicted_means)\n",
    "mae = mean_absolute_error(test, predicted_means)\n",
    "rmse = np.sqrt(mse)\n",
    "\n",
    "# Print the error metrics\n",
    "print(f'Mean Squared Error (MSE): {mse}')\n",
    "print(f'Mean Absolute Error (MAE): {mae}')\n",
    "print(f'Root Mean Squared Error (RMSE): {rmse}')\n",
    "\n",
    "# Store cross-validation results in your metrics dictionary\n",
    "add_model_results(\n",
    "    model_name=\"SARIMA (AUTO ARIMA d=2 m=5)\",\n",
    "    mse=np.mean(mse),\n",
    "    mae=np.mean(mae),\n",
    "    rmse=np.mean(rmse),\n",
    "    mape=None  # MAPE can be added \n",
    ")"
   ]
  },
  {
   "cell_type": "code",
   "execution_count": null,
   "id": "5fdbedf0",
   "metadata": {},
   "outputs": [],
   "source": [
    "## USING AUTO ARIMA FOR FINDING BEST PARAM for norm prices\n",
    "\n",
    "# Start timing\n",
    "start_time = time.time()\n",
    "\n",
    "# Run auto_arima to search for the best model\n",
    "best_model = auto_arima(train,\n",
    "                        start_p=0, max_p=3,  # Initial and max value for p\n",
    "                        start_q=0, max_q=3,  # Initial and max value for q\n",
    "                        start_P=0, max_P=2,  # Initial and max value for P\n",
    "                        start_Q=0, max_Q=2,  # Initial and max value for Q\n",
    "                        d=0, D=0,            # Non-seasonal and seasonal differencing\n",
    "                        m=5,                # Seasonal period\n",
    "                        seasonal=True,       # Whether to use seasonal ARIMA\n",
    "                        stepwise=True,       # Whether to use stepwise algorithm\n",
    "                        trace=True,          # Whether to print status on the fits\n",
    "                        error_action='ignore',   # Don't want to know if an order does not work\n",
    "                        suppress_warnings=True,  # Don't want convergence warnings\n",
    "                        information_criterion='aic')  # Select best model based on AIC\n",
    "\n",
    "\n",
    "# End timing\n",
    "end_time = time.time()\n",
    "elapsed_time = end_time - start_time\n",
    "print(f\"auto_arima running time: {elapsed_time:.2f} seconds\")\n",
    "\n",
    "# Summary of the best model\n",
    "print(best_model.summary())\n",
    "\n",
    "\n",
    "# Make predictions on the test set\n",
    "predicted_means = best_model.predict(n_periods=len(test))  # This directly gives you the forecasted values\n",
    "\n",
    "# Plotting the results\n",
    "plt.figure(figsize=(10, 5))\n",
    "plt.plot(train, label='Training Data')  # Make sure 'train' contains the appropriate date index if needed\n",
    "plt.plot(test.index, test, label='Actual Test Data')  # Assuming 'test' is a DataFrame or Series with a date index\n",
    "plt.plot(test.index, predicted_means, label='SARIMA Predictions', color='green')  # Ensure 'test.index' is used correctly\n",
    "plt.legend()\n",
    "plt.show()\n",
    "\n",
    "\n",
    "# Calculate error metrics\n",
    "mse = mean_squared_error(test, predicted_means)\n",
    "mae = mean_absolute_error(test, predicted_means)\n",
    "rmse = np.sqrt(mse)\n",
    "\n",
    "# Print the error metrics\n",
    "print(f'Mean Squared Error (MSE): {mse}')\n",
    "print(f'Mean Absolute Error (MAE): {mae}')\n",
    "print(f'Root Mean Squared Error (RMSE): {rmse}')\n",
    "\n",
    "# Store cross-validation results in your metrics dictionary\n",
    "add_model_results(\n",
    "    model_name=\"SARIMA (AUTO ARIMA D=0 m=5)\",\n",
    "    mse=np.mean(mse),\n",
    "    mae=np.mean(mae),\n",
    "    rmse=np.mean(rmse),\n",
    "    mape=None  # MAPE can be added \n",
    ")"
   ]
  },
  {
   "cell_type": "code",
   "execution_count": null,
   "id": "a597a82e",
   "metadata": {},
   "outputs": [],
   "source": []
  },
  {
   "cell_type": "markdown",
   "id": "75c8614a",
   "metadata": {},
   "source": [
    "## LSTM - Long Term Short Memory\n",
    "\n",
    "\n",
    "\"Neural Networks are very complex machine learning models that pass input data through a network. Each node in the network learns a very simple operation. The neural network consists of many such nodes. The fact that the model can use a large number of simple nodes makes the overall prediction very complex. Neural Networks can therefore fit very complex and nonlinear data sets.  This can be useful for multiple use cases, including understanding time series (which are clearly sequences of values over time), but also text (sentences are sequences of words).\n",
    "\n",
    "LSTMs are a specific type of RNNs. They have proven useful for time series forecasting on multiple occasions. They require some data and are more complicated to learn than supervised models. Once you master them, they can prove to be very powerful depending on your data and your specific use case.\" https://neptune.ai/blog/select-model-for-time-series-prediction-task\n",
    "\n",
    "<i> \"Long Short-Term Memory Networks is a deep learning, sequential neural network that allows information to persist. It is a special type of Recurrent Neural Network which is capable of handling the vanishing gradient problem faced by RNN. LSTM was designed by Hochreiter and Schmidhuber that resolves the problem caused by traditional rnns and machine learning algorithms. LSTM Model can be implemented in Python using the Keras library.\" \n",
    "(Saxena,2024)\n",
    "    \n",
    "    \n",
    "    - ideal for prediction tasks\n",
    "    \n",
    "    \n",
    "    \n",
    "<b>The Logic Behind LSTM</b>\n",
    "    \n",
    "![download%20%282%29.png](attachment:download%20%282%29.png)\n",
    "    \n",
    "    \n",
    "    The first part chooses whether the information coming from the previous timestamp is to be remembered or is irrelevant and can be forgotten. In the second part, the cell tries to learn new information from the input to this cell. At last, in the third part, the cell passes the updated information from the current timestamp to the next timestamp. This one cycle of LSTM is considered a single-time step.    \n",
    "    \n",
    "    \n",
    "    . Neural Networks can therefore fit very complex and nonlinear data sets.\n",
    "    \n",
    "https://www.analyticsvidhya.com/blog/2021/03/introduction-to-long-short-term-memory-lstm/"
   ]
  },
  {
   "cell_type": "markdown",
   "id": "7ccdef18",
   "metadata": {},
   "source": [
    "### LSTM requires data to be scaled for better performance and avoiding under/overfitting.\n",
    "\n",
    "The normalised prices were calculated with a min max scaler from 0-1, based on the mean and std variance, it is the common practice for this kind of modeling.\n",
    "\n",
    "\n",
    "https://medium.com/@iqra1804/time-series-forecasting-using-lstm-an-introduction-with-code-explanations-c5c2e8ca137d"
   ]
  },
  {
   "cell_type": "code",
   "execution_count": null,
   "id": "12ef223d",
   "metadata": {},
   "outputs": [],
   "source": [
    "\n",
    "# \n",
    "# Using only 'price_normalized' as a feature for simplicity\n",
    "\n",
    "# Reshape the features to [samples, time steps, features]\n",
    "X = np.array(df['price_normalized']).reshape(-1, 1, 1)\n",
    "y = df['price_normalized']\n"
   ]
  },
  {
   "cell_type": "markdown",
   "id": "e2129d12",
   "metadata": {},
   "source": [
    "## LSTM (1)\n",
    "### Splitting train/test "
   ]
  },
  {
   "cell_type": "code",
   "execution_count": null,
   "id": "1c5bf664",
   "metadata": {},
   "outputs": [],
   "source": [
    "# Split the data\n",
    "X_train, X_test, y_train, y_test = train_test_split(X, y, test_size=0.2, shuffle=False)"
   ]
  },
  {
   "cell_type": "markdown",
   "id": "97230238",
   "metadata": {},
   "source": [
    "### Building a simple version of the model with a single layer"
   ]
  },
  {
   "cell_type": "code",
   "execution_count": null,
   "id": "f7c3f139",
   "metadata": {},
   "outputs": [],
   "source": [
    "# Build the LSTM model\n",
    "model = Sequential()\n",
    "model.add(LSTM(units=50, return_sequences=True, input_shape=(1, 1)))\n",
    "model.add(LSTM(units=50))\n",
    "model.add(Dense(1))"
   ]
  },
  {
   "cell_type": "markdown",
   "id": "a6336752",
   "metadata": {},
   "source": [
    "### Compiling and training the model"
   ]
  },
  {
   "cell_type": "code",
   "execution_count": null,
   "id": "ad4b7bc3",
   "metadata": {
    "scrolled": false
   },
   "outputs": [],
   "source": [
    "\n",
    "# Start timing\n",
    "start_time = time.time()\n",
    "\n",
    "\n",
    "\n",
    "# Compile the model\n",
    "model.compile(optimizer='adam', loss='mean_squared_error')\n",
    "\n",
    "# Train the model\n",
    "history = model.fit(X_train, y_train, epochs=100, batch_size=32, validation_split=0.1)\n",
    "\n",
    "# End timing\n",
    "end_time = time.time()\n",
    "elapsed_time = end_time - start_time\n",
    "print(f\"LSTM running time: {elapsed_time:.2f} seconds\")\n",
    "## https://stackoverflow.com/questions/66576876/nameerror-name-history-is-not-defined"
   ]
  },
  {
   "cell_type": "markdown",
   "id": "bec37e03",
   "metadata": {},
   "source": [
    "### Plotting predictions"
   ]
  },
  {
   "cell_type": "code",
   "execution_count": null,
   "id": "1547449d",
   "metadata": {},
   "outputs": [],
   "source": [
    "# Make predictions\n",
    "predicted = model.predict(X_test)\n",
    "\n",
    "# Plot\n",
    "plt.figure(figsize=(15,5))\n",
    "plt.plot(y_test.values.flatten(), label='True Values')\n",
    "plt.plot(predicted.flatten(), label='Predicted Values')\n",
    "plt.title('LSTM Model Predictions')\n",
    "plt.legend()\n",
    "plt.show()\n",
    "\n",
    "# reverse the scaling on predictions !!\n",
    "\n",
    "\n",
    "# Evaluate\n",
    "mse = mean_squared_error(y_test, predicted)\n",
    "rmse = np.sqrt(mse)\n",
    "mae = mean_absolute_error(y_test, predicted)\n",
    "print(f'MSE: {mse}')\n",
    "print(f'RMSE: {rmse}')\n",
    "print(f'MAE: {mae}')"
   ]
  },
  {
   "cell_type": "markdown",
   "id": "2deaf842",
   "metadata": {},
   "source": [
    "### Learning Curve"
   ]
  },
  {
   "cell_type": "code",
   "execution_count": null,
   "id": "b9593fc0",
   "metadata": {},
   "outputs": [],
   "source": [
    "# Plot the training and validation loss\n",
    "plt.figure(figsize=(14, 7))\n",
    "plt.plot(history.history['loss'], label='Training Loss')\n",
    "plt.plot(history.history['val_loss'], label='Validation Loss')\n",
    "plt.title('Training and Validation Loss Over Epochs')\n",
    "plt.xlabel('Epoch')\n",
    "plt.ylabel('Loss')\n",
    "plt.legend()\n",
    "plt.show()"
   ]
  },
  {
   "cell_type": "code",
   "execution_count": null,
   "id": "1e98531c",
   "metadata": {},
   "outputs": [],
   "source": []
  },
  {
   "cell_type": "code",
   "execution_count": null,
   "id": "eeb4b6f2",
   "metadata": {},
   "outputs": [],
   "source": [
    "\n",
    "# Store results\n",
    "add_model_results('LSTM 1', mse, mae, rmse, mape)\n"
   ]
  },
  {
   "cell_type": "code",
   "execution_count": null,
   "id": "05d4eb1a",
   "metadata": {},
   "outputs": [],
   "source": []
  },
  {
   "cell_type": "code",
   "execution_count": null,
   "id": "4e88d519",
   "metadata": {},
   "outputs": [],
   "source": []
  },
  {
   "cell_type": "code",
   "execution_count": null,
   "id": "f31546ba",
   "metadata": {},
   "outputs": [],
   "source": []
  },
  {
   "cell_type": "code",
   "execution_count": null,
   "id": "7d1783be",
   "metadata": {},
   "outputs": [],
   "source": [
    "# Convert the dictionary into a DataFrame for visualization\n",
    "metrics_df = pd.DataFrame(model_results).T\n",
    "metrics_df.reset_index(inplace=True)\n",
    "metrics_df.rename(columns={'index': 'Model'}, inplace=True)\n",
    "\n",
    "# Define metrics to plot\n",
    "metrics = ['MSE', 'MAE', 'RMSE', 'MAPE']\n",
    "\n",
    "# Initialize the plot\n",
    "plt.figure(figsize=(16, 8))\n",
    "\n",
    "# Plot each metric\n",
    "for i, metric in enumerate(metrics, 1):\n",
    "    plt.subplot(1, len(metrics), i)\n",
    "    sns.barplot(data=metrics_df, x='Model', y=metric, palette='husl')\n",
    "    plt.title(f'{metric} Comparison')\n",
    "    plt.xlabel('Model')\n",
    "    plt.ylabel(metric)\n",
    "    plt.xticks(rotation=45)\n",
    "\n",
    "plt.tight_layout()\n",
    "plt.show()"
   ]
  },
  {
   "cell_type": "code",
   "execution_count": null,
   "id": "7b8558d9",
   "metadata": {},
   "outputs": [],
   "source": [
    "metrics_df"
   ]
  },
  {
   "cell_type": "code",
   "execution_count": null,
   "id": "d51eb18f",
   "metadata": {},
   "outputs": [],
   "source": [
    "# Filter specific SARIMA models with normalized values\n",
    "models_to_plot = ['AutoARIMA (Normalized)', \n",
    "                  'AutoARIMA (Normalized m=63)', \n",
    "                  'SARIMA (Cross-Validation)',\n",
    "                 'SARIMA (AUTO ARIMA m=5)','LSTM 1']\n",
    "\n",
    "filtered_df = metrics_df[metrics_df['Model'].isin(models_to_plot)]\n",
    "\n",
    "# Metrics to plot\n",
    "metrics_to_plot = ['MSE', 'MAE', 'RMSE']\n",
    "\n",
    "# Plot each metric separately\n",
    "fig, axes = plt.subplots(1, len(metrics_to_plot), figsize=(16, 6), sharey=False)\n",
    "\n",
    "for i, metric in enumerate(metrics_to_plot):\n",
    "    sns.barplot(\n",
    "        data=filtered_df,\n",
    "        x='Model',\n",
    "        y=metric,\n",
    "        ax=axes[i],\n",
    "        palette='husl'\n",
    "    )\n",
    "    axes[i].set_title(f'{metric} Comparison')\n",
    "    axes[i].set_xlabel('Model')\n",
    "    axes[i].set_ylabel(metric)\n",
    "    axes[i].tick_params(axis='x', rotation=45)  # Rotate labels\n",
    "\n",
    "# Adjust layout\n",
    "plt.tight_layout()\n",
    "plt.show()"
   ]
  },
  {
   "cell_type": "code",
   "execution_count": null,
   "id": "fa929697",
   "metadata": {},
   "outputs": [],
   "source": []
  },
  {
   "cell_type": "code",
   "execution_count": null,
   "id": "0f87ebcf",
   "metadata": {},
   "outputs": [],
   "source": []
  },
  {
   "cell_type": "markdown",
   "id": "fe5db9e9",
   "metadata": {},
   "source": [
    "## LSTM (2)\n",
    "### Data prep for LSTM \n",
    "\n",
    "**1. Start TIme Series Data = ICIP prices (US$ per pd)**\n"
   ]
  },
  {
   "cell_type": "code",
   "execution_count": null,
   "id": "6c11a6d9",
   "metadata": {},
   "outputs": [],
   "source": [
    "# Extract the 'I-CIP' column as the target variable\n",
    "data = df['I-CIP'].values.reshape(-1, 1)"
   ]
  },
  {
   "cell_type": "markdown",
   "id": "37e365f5",
   "metadata": {},
   "source": [
    "**2. Scale data**\n",
    "\n",
    "LSTM models need normalisation as they are sensitive to scale of input data. These values will be scaled back to their original for plotting results.\n"
   ]
  },
  {
   "cell_type": "code",
   "execution_count": null,
   "id": "9bf29be4",
   "metadata": {},
   "outputs": [],
   "source": [
    "# Normalize data\n",
    "scaler = MinMaxScaler(feature_range=(0, 1))\n",
    "scaled_data = scaler.fit_transform(data)"
   ]
  },
  {
   "cell_type": "markdown",
   "id": "1ed59939",
   "metadata": {},
   "source": [
    "**3. Create Sliding Windows (Sequences)**\n",
    "\n",
    "\n",
    "\n",
    "## window_size = 5\n",
    "\n",
    "To structure the data, inputs(X) and outputs(y) sequences need to be created \n",
    "\n",
    "\n",
    "X: Contains sequences of a fixed length (first 5, then maybe 10 timesteps?).\n",
    "y: The value immediately following each sequence."
   ]
  },
  {
   "cell_type": "code",
   "execution_count": null,
   "id": "ea476228",
   "metadata": {},
   "outputs": [],
   "source": [
    "def create_lstm_sequences(data, window_size):\n",
    "    X, y = [], []\n",
    "    for i in range(len(data) - window_size):\n",
    "        X.append(data[i:i + window_size, 0])  # Past `window_size` values\n",
    "        y.append(data[i + window_size, 0])   # The value after the sequence\n",
    "    return np.array(X), np.array(y)\n",
    "\n",
    "# Define the window size (number of timesteps)\n",
    "window_size = 5\n",
    "\n",
    "# Generate sequences\n",
    "X, y = create_lstm_sequences(scaled_data, window_size)"
   ]
  },
  {
   "cell_type": "markdown",
   "id": "5caffa6d",
   "metadata": {},
   "source": [
    "**4. Reshape Input for LSTM (3 dimensions)**\n",
    "\n",
    "The LSTM layer requires the input in the shape [samples, timesteps, features].\n",
    "\n",
    "samples: Number of sliding windows created.\n",
    "timesteps: Length of each sliding window.\n",
    "features: Number of features (1 for univariate time series).\n"
   ]
  },
  {
   "cell_type": "code",
   "execution_count": null,
   "id": "d593ecc2",
   "metadata": {},
   "outputs": [],
   "source": [
    "# Reshape X for LSTM input\n",
    "X = X.reshape((X.shape[0], X.shape[1], 1))\n"
   ]
  },
  {
   "cell_type": "markdown",
   "id": "e257daf1",
   "metadata": {},
   "source": [
    "**5. Split the Data into Training (80%) and Testing Sets**\n",
    "\n",
    "ensuring that the sequence order is preserved.\n"
   ]
  },
  {
   "cell_type": "code",
   "execution_count": null,
   "id": "ddabbb6d",
   "metadata": {},
   "outputs": [],
   "source": [
    "# Define the training size (80% of the data for training)\n",
    "train_size = int(len(X) * 0.8)\n",
    "\n",
    "# Split into training and testing sets\n",
    "X_train, X_test = X[:train_size], X[train_size:]\n",
    "y_train, y_test = y[:train_size], y[train_size:]\n",
    "\n",
    "# Check the shapes\n",
    "print(f\"X_train shape: {X_train.shape}, y_train shape: {y_train.shape}\")\n",
    "print(f\"X_test shape: {X_test.shape}, y_test shape: {y_test.shape}\")"
   ]
  },
  {
   "cell_type": "code",
   "execution_count": null,
   "id": "1313a828",
   "metadata": {},
   "outputs": [],
   "source": [
    "# Build the LSTM model\n",
    "model = Sequential()\n",
    "model.add(LSTM(units=50, return_sequences=True, input_shape=(1, 1)))\n",
    "model.add(LSTM(units=50))\n",
    "model.add(Dense(1))\n",
    "\n",
    "\n",
    "# Start timing\n",
    "start_time = time.time()\n",
    "\n",
    "\n",
    "\n",
    "# Compile the model\n",
    "model.compile(optimizer='adam', loss='mean_squared_error')\n",
    "\n",
    "# Train the model\n",
    "history = model.fit(X_train, y_train, epochs=50, batch_size=32, validation_split=0.1)\n",
    "\n",
    "# End timing\n",
    "end_time = time.time()\n",
    "elapsed_time = end_time - start_time\n",
    "print(f\"LSTM running time: {elapsed_time:.2f} seconds\")\n",
    "## https://stackoverflow.com/questions/66576876/nameerror-name-history-is-not-defined"
   ]
  },
  {
   "cell_type": "code",
   "execution_count": null,
   "id": "dc52d0b8",
   "metadata": {},
   "outputs": [],
   "source": []
  },
  {
   "cell_type": "code",
   "execution_count": null,
   "id": "cd7556d8",
   "metadata": {},
   "outputs": [],
   "source": [
    "# Evaluate the model\n",
    "loss, mae = model.evaluate(X_test, y_test, verbose=0)\n",
    "print(f\"Test Loss (MSE): {loss:.4f}, Test MAE: {mae:.4f}\")\n",
    "\n",
    "# Make predictions\n",
    "predictions = model.predict(X_test)\n",
    "\n",
    "# Inverse transform the predictions and actual values\n",
    "scaled_predictions = predictions.flatten()\n",
    "original_predictions = scaler.inverse_transform(scaled_predictions.reshape(-1, 1))\n",
    "original_y_test = scaler.inverse_transform(y_test.reshape(-1, 1))\n",
    "\n",
    "# Plot actual vs predicted values\n",
    "plt.figure(figsize=(10, 6))\n",
    "plt.plot(original_y_test, label='Actual Values', color='blue')\n",
    "plt.plot(original_predictions, label='Predicted Values', color='red', linestyle='--')\n",
    "plt.legend()\n",
    "plt.title(\"LSTM: Actual vs Predicted\")\n",
    "plt.show()\n",
    "\n",
    "# Calculate error metrics\n",
    "mse = mean_squared_error(original_y_test, original_predictions)\n",
    "mae = mean_absolute_error(original_y_test, original_predictions)\n",
    "rmse = np.sqrt(mse)\n",
    "print(f\"Performance Metrics:\\nMSE: {mse:.4f}, MAE: {mae:.4f}, RMSE: {rmse:.4f}\")\n"
   ]
  },
  {
   "cell_type": "code",
   "execution_count": null,
   "id": "ee12f56d",
   "metadata": {},
   "outputs": [],
   "source": [
    "# Make predictions\n",
    "predicted = model.predict(X_test)\n",
    "\n",
    "# Plot\n",
    "plt.figure(figsize=(15,5))\n",
    "plt.plot(y_test.values.flatten(), label='True Values')\n",
    "plt.plot(predicted.flatten(), label='Predicted Values')\n",
    "plt.title('LSTM Model Predictions')\n",
    "plt.legend()\n",
    "plt.show()\n",
    "\n",
    "# reverse the scaling on predictions !!\n",
    "\n",
    "\n",
    "# Evaluate\n",
    "mse = mean_squared_error(y_test, predicted)\n",
    "rmse = np.sqrt(mse)\n",
    "mae = mean_absolute_error(y_test, predicted)\n",
    "print(f'MSE: {mse}')\n",
    "print(f'RMSE: {rmse}')\n",
    "print(f'MAE: {mae}')"
   ]
  },
  {
   "cell_type": "code",
   "execution_count": null,
   "id": "86b4b839",
   "metadata": {},
   "outputs": [],
   "source": []
  },
  {
   "cell_type": "code",
   "execution_count": null,
   "id": "c60a06aa",
   "metadata": {},
   "outputs": [],
   "source": []
  },
  {
   "cell_type": "code",
   "execution_count": null,
   "id": "b9c57e7e",
   "metadata": {},
   "outputs": [],
   "source": []
  },
  {
   "cell_type": "markdown",
   "id": "c4bf4726",
   "metadata": {},
   "source": [
    "## 20 epochs "
   ]
  },
  {
   "cell_type": "code",
   "execution_count": null,
   "id": "128b30ab",
   "metadata": {},
   "outputs": [],
   "source": [
    "# Build the LSTM model\n",
    "model = tf.keras.Sequential([\n",
    "    tf.keras.layers.LSTM(50, return_sequences=False, input_shape=(X_train.shape[1], 1)),\n",
    "    tf.keras.layers.Dense(1)\n",
    "])\n",
    "\n",
    "# Compile the model\n",
    "model.compile(optimizer='adam', loss='mse', metrics=['mae'])\n",
    "\n",
    "# Train the model\n",
    "history = model.fit(\n",
    "    X_train, y_train,\n",
    "    epochs=20,\n",
    "    batch_size=32,\n",
    "    validation_data=(X_test, y_test),\n",
    "    verbose=1\n",
    ")\n",
    "\n",
    "# Evaluate the model\n",
    "loss, mae = model.evaluate(X_test, y_test, verbose=0)\n",
    "print(f\"Test Loss (MSE): {loss:.4f}, Test MAE: {mae:.4f}\")\n",
    "\n",
    "# Make predictions\n",
    "predictions = model.predict(X_test)\n",
    "\n",
    "# Inverse transform the predictions and actual values\n",
    "scaled_predictions = predictions.flatten()\n",
    "original_predictions = scaler.inverse_transform(scaled_predictions.reshape(-1, 1))\n",
    "original_y_test = scaler.inverse_transform(y_test.reshape(-1, 1))\n",
    "\n",
    "# Plot actual vs predicted values\n",
    "plt.figure(figsize=(10, 6))\n",
    "plt.plot(original_y_test, label='Actual Values', color='blue')\n",
    "plt.plot(original_predictions, label='Predicted Values', color='red', linestyle='--')\n",
    "plt.legend()\n",
    "plt.title(\"LSTM: Actual vs Predicted\")\n",
    "plt.show()\n",
    "\n",
    "# Calculate error metrics\n",
    "mse = mean_squared_error(original_y_test, original_predictions)\n",
    "mae = mean_absolute_error(original_y_test, original_predictions)\n",
    "rmse = np.sqrt(mse)\n",
    "print(f\"Performance Metrics:\\nMSE: {mse:.4f}, MAE: {mae:.4f}, RMSE: {rmse:.4f}\")\n"
   ]
  },
  {
   "cell_type": "code",
   "execution_count": null,
   "id": "5609eaa2",
   "metadata": {},
   "outputs": [],
   "source": [
    "\n",
    "# Store results\n",
    "add_model_results('LSTM 2 (20epochs)', mse, mae, rmse, mape)\n"
   ]
  },
  {
   "cell_type": "code",
   "execution_count": null,
   "id": "85bb999c",
   "metadata": {},
   "outputs": [],
   "source": [
    "# Plot the training and validation loss\n",
    "plt.figure(figsize=(14, 7))\n",
    "plt.plot(history.history['loss'], label='Training Loss')\n",
    "plt.plot(history.history['val_loss'], label='Validation Loss')\n",
    "plt.title('Training and Validation Loss Over Epochs')\n",
    "plt.xlabel('Epoch')\n",
    "plt.ylabel('Loss')\n",
    "plt.legend()\n",
    "plt.show()"
   ]
  },
  {
   "cell_type": "markdown",
   "id": "6df26a6c",
   "metadata": {},
   "source": [
    "## LSTM (3)\n",
    "### Same code but now with **100** epochs "
   ]
  },
  {
   "cell_type": "code",
   "execution_count": null,
   "id": "54046018",
   "metadata": {
    "scrolled": true
   },
   "outputs": [],
   "source": [
    "# Build the LSTM model\n",
    "model = tf.keras.Sequential([\n",
    "    tf.keras.layers.LSTM(50, return_sequences=False, input_shape=(X_train.shape[1], 1)),\n",
    "    tf.keras.layers.Dense(1)\n",
    "])\n",
    "\n",
    "# Compile the model\n",
    "model.compile(optimizer='adam', loss='mse', metrics=['mae'])\n",
    "\n",
    "# Train the model\n",
    "history = model.fit(\n",
    "    X_train, y_train,\n",
    "    epochs=100,\n",
    "    batch_size=32,\n",
    "    validation_data=(X_test, y_test),\n",
    "    verbose=1\n",
    ")\n",
    "\n",
    "# Evaluate the model\n",
    "loss, mae = model.evaluate(X_test, y_test, verbose=0)\n",
    "print(f\"Test Loss (MSE): {loss:.4f}, Test MAE: {mae:.4f}\")\n",
    "\n",
    "# Make predictions\n",
    "predictions = model.predict(X_test)\n",
    "\n",
    "# Inverse transform the predictions and actual values\n",
    "scaled_predictions = predictions.flatten()\n",
    "original_predictions = scaler.inverse_transform(scaled_predictions.reshape(-1, 1))\n",
    "original_y_test = scaler.inverse_transform(y_test.reshape(-1, 1))\n",
    "\n",
    "# Plot actual vs predicted values\n",
    "plt.figure(figsize=(10, 6))\n",
    "plt.plot(original_y_test, label='Actual Values', color='blue')\n",
    "plt.plot(original_predictions, label='Predicted Values', color='red', linestyle='--')\n",
    "plt.legend()\n",
    "plt.title(\"LSTM: Actual vs Predicted\")\n",
    "plt.show()\n",
    "\n",
    "# Calculate error metrics\n",
    "mse = mean_squared_error(original_y_test, original_predictions)\n",
    "mae = mean_absolute_error(original_y_test, original_predictions)\n",
    "rmse = np.sqrt(mse)\n",
    "print(f\"Performance Metrics:\\nMSE: {mse:.4f}, MAE: {mae:.4f}, RMSE: {rmse:.4f}\")"
   ]
  },
  {
   "cell_type": "code",
   "execution_count": null,
   "id": "9bbda058",
   "metadata": {},
   "outputs": [],
   "source": [
    "# Plot the training and validation loss\n",
    "plt.figure(figsize=(14, 7))\n",
    "plt.plot(history.history['loss'], label='Training Loss')\n",
    "plt.plot(history.history['val_loss'], label='Validation Loss')\n",
    "plt.title('Training and Validation Loss Over Epochs')\n",
    "plt.xlabel('Epoch')\n",
    "plt.ylabel('Loss')\n",
    "plt.legend()\n",
    "plt.show()"
   ]
  },
  {
   "cell_type": "code",
   "execution_count": null,
   "id": "696c968a",
   "metadata": {},
   "outputs": [],
   "source": [
    "\n",
    "# Store results\n",
    "add_model_results('LSTM 3 (100epochs)', mse, mae, rmse, mape)\n"
   ]
  },
  {
   "cell_type": "markdown",
   "id": "ec510e7d",
   "metadata": {},
   "source": [
    "## LSTM (4)\n",
    "## 200 epochs?"
   ]
  },
  {
   "cell_type": "code",
   "execution_count": null,
   "id": "1589dca7",
   "metadata": {
    "scrolled": false
   },
   "outputs": [],
   "source": [
    "# Build the LSTM model\n",
    "model = tf.keras.Sequential([\n",
    "    tf.keras.layers.LSTM(50, return_sequences=False, input_shape=(X_train.shape[1], 1)),\n",
    "    tf.keras.layers.Dense(1)\n",
    "])\n",
    "\n",
    "# Compile the model\n",
    "model.compile(optimizer='adam', loss='mse', metrics=['mae'])\n",
    "\n",
    "# Train the model\n",
    "history = model.fit(\n",
    "    X_train, y_train,\n",
    "    epochs=200,\n",
    "    batch_size=32,\n",
    "    validation_data=(X_test, y_test),\n",
    "    verbose=1\n",
    ")\n",
    "\n",
    "# Evaluate the model\n",
    "loss, mae = model.evaluate(X_test, y_test, verbose=0)\n",
    "print(f\"Test Loss (MSE): {loss:.4f}, Test MAE: {mae:.4f}\")\n",
    "\n",
    "# Make predictions\n",
    "predictions = model.predict(X_test)\n",
    "\n",
    "# Inverse transform the predictions and actual values\n",
    "scaled_predictions = predictions.flatten()\n",
    "original_predictions = scaler.inverse_transform(scaled_predictions.reshape(-1, 1))\n",
    "original_y_test = scaler.inverse_transform(y_test.reshape(-1, 1))\n",
    "\n",
    "# Plot actual vs predicted values\n",
    "plt.figure(figsize=(10, 6))\n",
    "plt.plot(original_y_test, label='Actual Values', color='blue')\n",
    "plt.plot(original_predictions, label='Predicted Values', color='red', linestyle='--')\n",
    "plt.legend()\n",
    "plt.title(\"LSTM: Actual vs Predicted\")\n",
    "plt.show()\n",
    "\n",
    "# Calculate error metrics\n",
    "mse = mean_squared_error(original_y_test, original_predictions)\n",
    "mae = mean_absolute_error(original_y_test, original_predictions)\n",
    "rmse = np.sqrt(mse)\n",
    "print(f\"Performance Metrics:\\nMSE: {mse:.4f}, MAE: {mae:.4f}, RMSE: {rmse:.4f}\")"
   ]
  },
  {
   "cell_type": "code",
   "execution_count": null,
   "id": "18740103",
   "metadata": {},
   "outputs": [],
   "source": [
    "# Plot the training and validation loss\n",
    "plt.figure(figsize=(14, 7))\n",
    "plt.plot(history.history['loss'], label='Training Loss')\n",
    "plt.plot(history.history['val_loss'], label='Validation Loss')\n",
    "plt.title('Training and Validation Loss Over Epochs')\n",
    "plt.xlabel('Epoch')\n",
    "plt.ylabel('Loss')\n",
    "plt.legend()\n",
    "plt.show()"
   ]
  },
  {
   "cell_type": "code",
   "execution_count": null,
   "id": "ddd4731a",
   "metadata": {},
   "outputs": [],
   "source": [
    "\n",
    "# Store results\n",
    "add_model_results('LSTM 4 (200epochs)', mse, mae, rmse, mape)\n"
   ]
  },
  {
   "cell_type": "markdown",
   "id": "8b3bdd92",
   "metadata": {},
   "source": [
    "## LSTM (5)\n",
    "## Testing with window of 10 timesteps to capture long-term dependencies betweeen data \n",
    "\n",
    "with early stopping to stop training once the loss reaches its minimum \n"
   ]
  },
  {
   "cell_type": "code",
   "execution_count": null,
   "id": "587b3db8",
   "metadata": {},
   "outputs": [],
   "source": [
    "from tensorflow.keras.callbacks import EarlyStopping\n",
    "\n",
    "# Window size\n",
    "window_size = 10  # \n",
    "\n",
    "# Recreate sliding windows\n",
    "X, y = create_lstm_sequences(scaled_data, window_size)\n",
    "\n",
    "# Reshape for LSTM\n",
    "X = X.reshape((X.shape[0], X.shape[1], 1))\n",
    "\n",
    "# Split into train and test\n",
    "train_size = int(len(X) * 0.8)\n",
    "X_train, X_test = X[:train_size], X[train_size:]\n",
    "y_train, y_test = y[:train_size], y[train_size:]\n",
    "\n",
    "# Define the model\n",
    "model = tf.keras.Sequential([\n",
    "    tf.keras.layers.LSTM(64, return_sequences=True, input_shape=(window_size, 1)),\n",
    "    tf.keras.layers.LSTM(50, return_sequences=False),\n",
    "    tf.keras.layers.Dense(1)\n",
    "])\n",
    "\n",
    "# Compile the model\n",
    "model.compile(optimizer='adam', loss='mse')\n",
    "\n",
    "# Add early stopping\n",
    "early_stopping = EarlyStopping(monitor='val_loss', patience=10, restore_best_weights=True)\n",
    "\n",
    "# Train the model\n",
    "history = model.fit(\n",
    "    X_train, y_train,\n",
    "    epochs=100, #100 epochs results were MSE: 38/ with \n",
    "    batch_size=32,\n",
    "    validation_data=(X_test, y_test),\n",
    "    callbacks=[early_stopping],\n",
    "    verbose=1\n",
    ")\n",
    "\n",
    "# Evaluate the model\n",
    "loss = model.evaluate(X_test, y_test, verbose=0)\n",
    "predictions = model.predict(X_test)\n",
    "\n",
    "# Inverse transform predictions\n",
    "scaled_predictions = predictions.flatten()\n",
    "original_predictions = scaler.inverse_transform(scaled_predictions.reshape(-1, 1))\n",
    "original_y_test = scaler.inverse_transform(y_test.reshape(-1, 1))\n",
    "\n",
    "# Plot actual vs predicted values\n",
    "plt.figure(figsize=(12, 6))\n",
    "plt.plot(original_y_test, label='True Values', color='blue')\n",
    "plt.plot(original_predictions, label='Predicted Values', color='orange')\n",
    "plt.legend()\n",
    "plt.title(\"LSTM Model Predictions\")\n",
    "plt.show()\n",
    "\n",
    "# Calculate error metrics\n",
    "mse = mean_squared_error(original_y_test, original_predictions)\n",
    "mae = mean_absolute_error(original_y_test, original_predictions)\n",
    "rmse = np.sqrt(mse)\n",
    "print(f\"Performance Metrics:\\nMSE: {mse:.4f}, MAE: {mae:.4f}, RMSE: {rmse:.4f}\")\n"
   ]
  },
  {
   "cell_type": "code",
   "execution_count": null,
   "id": "f0d5674a",
   "metadata": {},
   "outputs": [],
   "source": [
    "# Plot the training and validation loss\n",
    "plt.figure(figsize=(14, 7))\n",
    "plt.plot(history.history['loss'], label='Training Loss')\n",
    "plt.plot(history.history['val_loss'], label='Validation Loss')\n",
    "plt.title('Training and Validation Loss Over Epochs')\n",
    "plt.xlabel('Epoch')\n",
    "plt.ylabel('Loss')\n",
    "plt.legend()\n",
    "plt.show()"
   ]
  },
  {
   "cell_type": "code",
   "execution_count": null,
   "id": "1930d656",
   "metadata": {},
   "outputs": [],
   "source": [
    "\n",
    "# Store results\n",
    "add_model_results('LSTM (5)', mse, mae, rmse, mape)\n"
   ]
  },
  {
   "cell_type": "code",
   "execution_count": null,
   "id": "a4da6e8e",
   "metadata": {},
   "outputs": [],
   "source": [
    "from tensorflow.keras.layers import Dropout, Bidirectional\n",
    "\n",
    "# Define a more complex LSTM model\n",
    "complex_model = tf.keras.Sequential([\n",
    "    Bidirectional(LSTM(64, return_sequences=True, input_shape=(window_size, 1))),\n",
    "    Dropout(0.2),  # Add dropout for regularization\n",
    "    LSTM(128, return_sequences=True),\n",
    "    Dropout(0.2),\n",
    "    LSTM(64, return_sequences=False),\n",
    "    Dense(50, activation='relu'),  # Add a Dense layer with ReLU activation\n",
    "    Dense(1)  # Output layer\n",
    "])\n",
    "\n",
    "# Compile the model\n",
    "complex_model.compile(optimizer='adam', loss='mse')\n",
    "\n",
    "# Train the model\n",
    "history = complex_model.fit(\n",
    "    X_train, y_train,\n",
    "    epochs=100,\n",
    "    batch_size=32,\n",
    "    validation_data=(X_test, y_test),\n",
    "    verbose=1,\n",
    "    callbacks=[early_stopping]\n",
    ")\n",
    "\n",
    "# Evaluate the model\n",
    "complex_loss = complex_model.evaluate(X_test, y_test, verbose=0)\n",
    "complex_predictions = complex_model.predict(X_test)\n",
    "\n",
    "# Inverse transform predictions\n",
    "complex_scaled_predictions = complex_predictions.flatten()\n",
    "complex_original_predictions = scaler.inverse_transform(complex_scaled_predictions.reshape(-1, 1))\n",
    "complex_original_y_test = scaler.inverse_transform(y_test.reshape(-1, 1))\n",
    "\n",
    "# Plot results\n",
    "plt.figure(figsize=(12, 6))\n",
    "plt.plot(complex_original_y_test, label='True Values', color='blue')\n",
    "plt.plot(complex_original_predictions, label='Predicted Values', color='orange')\n",
    "plt.legend()\n",
    "plt.title(\"Complex LSTM Model Predictions\")\n",
    "plt.show()\n",
    "\n",
    "# Calculate error metrics\n",
    "complex_mse = mean_squared_error(complex_original_y_test, complex_original_predictions)\n",
    "complex_mae = mean_absolute_error(complex_original_y_test, complex_original_predictions)\n",
    "complex_rmse = np.sqrt(complex_mse)\n",
    "print(f\"Complex LSTM Model Metrics:\\nMSE: {complex_mse:.4f}, MAE: {complex_mae:.4f}, RMSE: {complex_rmse:.4f}\")\n"
   ]
  },
  {
   "cell_type": "code",
   "execution_count": null,
   "id": "5285c81e",
   "metadata": {},
   "outputs": [],
   "source": [
    "# Plot the training and validation loss\n",
    "plt.figure(figsize=(14, 7))\n",
    "plt.plot(history.history['loss'], label='Training Loss')\n",
    "plt.plot(history.history['val_loss'], label='Validation Loss')\n",
    "plt.title('Training and Validation Loss Over Epochs')\n",
    "plt.xlabel('Epoch')\n",
    "plt.ylabel('Loss')\n",
    "plt.legend()\n",
    "plt.show()"
   ]
  },
  {
   "cell_type": "code",
   "execution_count": null,
   "id": "b90bb666",
   "metadata": {},
   "outputs": [],
   "source": [
    "\n",
    "# Store results\n",
    "add_model_results('Complex LSTM (6)', mse, mae, rmse, mape)\n"
   ]
  },
  {
   "cell_type": "markdown",
   "id": "b4d6fc98",
   "metadata": {},
   "source": [
    "### Compare different scalin techniques for LSTM models \n",
    "\n",
    "# Min-Max Scaling vs Standard Scaling\n",
    "\n",
    "### LSTM (7)\n",
    "\n",
    "Min Max with window of 10 "
   ]
  },
  {
   "cell_type": "code",
   "execution_count": null,
   "id": "7ec86416",
   "metadata": {},
   "outputs": [],
   "source": [
    "# Function to create sequences\n",
    "def create_sequences(data, window_size):\n",
    "    X, y = [], []\n",
    "    for i in range(len(data) - window_size):\n",
    "        X.append(data[i:i + window_size])\n",
    "        y.append(data[i + window_size])\n",
    "    return np.array(X), np.array(y)"
   ]
  },
  {
   "cell_type": "code",
   "execution_count": null,
   "id": "c3a4775f",
   "metadata": {},
   "outputs": [],
   "source": [
    "# Min-Max Scaling\n",
    "min_max_scaler = MinMaxScaler()\n",
    "data_minmax = min_max_scaler.fit_transform(df[['I-CIP']].values)\n",
    "\n",
    "# Create sequences\n",
    "X_minmax, y_minmax = create_sequences(data_minmax, window_size=10)\n",
    "\n",
    "# Reshape for LSTM (samples, timesteps, features)\n",
    "X_minmax = X_minmax.reshape((X_minmax.shape[0], X_minmax.shape[1], 1))\n",
    "\n",
    "# Split into training and testing sets\n",
    "split_index = int(len(X_minmax) * 0.8)\n",
    "X_train_minmax, X_test_minmax = X_minmax[:split_index], X_minmax[split_index:]\n",
    "y_train_minmax, y_test_minmax = y_minmax[:split_index], y_minmax[split_index:]\n",
    "\n",
    "# Build and train the model\n",
    "model_minmax = Sequential([\n",
    "    LSTM(50, return_sequences=False, input_shape=(10, 1)),\n",
    "    Dense(1)\n",
    "])\n",
    "model_minmax.compile(optimizer='adam', loss='mse')\n",
    "\n",
    "history_minmax = model_minmax.fit(\n",
    "    X_train_minmax, y_train_minmax,\n",
    "    epochs=50,\n",
    "    batch_size=32,\n",
    "    validation_data=(X_test_minmax, y_test_minmax),\n",
    "    verbose=1\n",
    ")\n",
    "\n",
    "# Evaluate and inverse transform predictions\n",
    "predictions_minmax = model_minmax.predict(X_test_minmax)\n",
    "predictions_minmax_original = min_max_scaler.inverse_transform(predictions_minmax)\n",
    "y_test_minmax_original = min_max_scaler.inverse_transform(y_test_minmax.reshape(-1, 1))"
   ]
  },
  {
   "cell_type": "code",
   "execution_count": null,
   "id": "722e15d0",
   "metadata": {},
   "outputs": [],
   "source": [
    "# Metrics for Min-Max Scaling\n",
    "mse_minmax = mean_squared_error(y_test_minmax_original, predictions_minmax_original)\n",
    "mae_minmax = mean_absolute_error(y_test_minmax_original, predictions_minmax_original)\n",
    "rmse_minmax = np.sqrt(mse_minmax)\n",
    "\n",
    "print(\"Min-Max Scaling:\")\n",
    "print(f\"MSE: {mse_minmax}, MAE: {mae_minmax}, RMSE: {rmse_minmax}\")\n",
    "\n",
    "\n",
    "# Store results\n",
    "add_model_results('LSTM (7) min-max', mse, mae, rmse, mape)"
   ]
  },
  {
   "cell_type": "code",
   "execution_count": null,
   "id": "b21f11c9",
   "metadata": {},
   "outputs": [],
   "source": [
    "# Min-Max Scaling Plot\n",
    "plt.figure(figsize=(12, 6))\n",
    "plt.plot(y_test_minmax_original, label='True Values (Min-Max)', color='blue')\n",
    "plt.plot(predictions_minmax_original, label='Predicted Values (Min-Max)', color='orange')\n",
    "plt.legend()\n",
    "plt.title(\"Min-Max Scaling: Actual vs Predicted\")\n",
    "plt.show()"
   ]
  },
  {
   "cell_type": "markdown",
   "id": "fff373ad",
   "metadata": {},
   "source": [
    "### LSTM (8)\n",
    "### Standard Scaler uses standard deviation 1 and median 0 for scaling.  "
   ]
  },
  {
   "cell_type": "code",
   "execution_count": null,
   "id": "49fc32a1",
   "metadata": {},
   "outputs": [],
   "source": [
    "# Standard Scaling\n",
    "standard_scaler = StandardScaler()\n",
    "data_standard = standard_scaler.fit_transform(df[['I-CIP']].values)\n",
    "\n",
    "# Create sequences\n",
    "X_standard, y_standard = create_sequences(data_standard, window_size=10)\n",
    "\n",
    "# Reshape for LSTM (samples, timesteps, features)\n",
    "X_standard = X_standard.reshape((X_standard.shape[0], X_standard.shape[1], 1))\n",
    "\n",
    "# Split into training and testing sets\n",
    "split_index = int(len(X_standard) * 0.8)\n",
    "X_train_standard, X_test_standard = X_standard[:split_index], X_standard[split_index:]\n",
    "y_train_standard, y_test_standard = y_standard[:split_index], y_standard[split_index:]\n",
    "\n",
    "# Build and train the model\n",
    "model_standard = Sequential([\n",
    "    LSTM(50, return_sequences=False, input_shape=(10, 1)),\n",
    "    Dense(1)\n",
    "])\n",
    "model_standard.compile(optimizer='adam', loss='mse')\n",
    "\n",
    "history_standard = model_standard.fit(\n",
    "    X_train_standard, y_train_standard,\n",
    "    epochs=50,\n",
    "    batch_size=32,\n",
    "    validation_data=(X_test_standard, y_test_standard),\n",
    "    verbose=1\n",
    ")\n",
    "\n",
    "# Evaluate and inverse transform predictions\n",
    "predictions_standard = model_standard.predict(X_test_standard)\n",
    "predictions_standard_original = standard_scaler.inverse_transform(predictions_standard)\n",
    "y_test_standard_original = standard_scaler.inverse_transform(y_test_standard.reshape(-1, 1))"
   ]
  },
  {
   "cell_type": "code",
   "execution_count": null,
   "id": "75b78ee3",
   "metadata": {},
   "outputs": [],
   "source": [
    "# Metrics for Standard Scaling\n",
    "mse_standard = mean_squared_error(y_test_standard_original, predictions_standard_original)\n",
    "mae_standard = mean_absolute_error(y_test_standard_original, predictions_standard_original)\n",
    "rmse_standard = np.sqrt(mse_standard)\n",
    "\n",
    "\n",
    "print(\"\\nStandard Scaling:\")\n",
    "print(f\"MSE: {mse_standard}, MAE: {mae_standard}, RMSE: {rmse_standard}\")\n",
    "\n",
    "# Store results\n",
    "add_model_results('LSTM (8) std scaler', mse, mae, rmse, mape)"
   ]
  },
  {
   "cell_type": "code",
   "execution_count": null,
   "id": "363aa21b",
   "metadata": {},
   "outputs": [],
   "source": [
    "# Standard Scaling Plot\n",
    "plt.figure(figsize=(12, 6))\n",
    "plt.plot(y_test_standard_original, label='True Values (Standard)', color='blue')\n",
    "plt.plot(predictions_standard_original, label='Predicted Values (Standard)', color='orange')\n",
    "plt.legend()\n",
    "plt.title(\"Standard Scaling: Actual vs Predicted\")\n",
    "plt.show()"
   ]
  },
  {
   "cell_type": "markdown",
   "id": "fd50e55d",
   "metadata": {},
   "source": [
    "## Improving LSTM (7)\n",
    "\n",
    "Using  ***keras tuner***to improve MIN-MAX model\n",
    "\n",
    "also applying ***Cross Validation** using timeseries splits to respect the temporal order from the data\n"
   ]
  },
  {
   "cell_type": "code",
   "execution_count": null,
   "id": "c60a0352",
   "metadata": {},
   "outputs": [],
   "source": [
    "\n",
    "# Define the TimeSeriesSplit object\n",
    "tscv = TimeSeriesSplit(n_splits=5)  # Define the number of splits"
   ]
  },
  {
   "cell_type": "code",
   "execution_count": null,
   "id": "8db0a755",
   "metadata": {},
   "outputs": [],
   "source": [
    "import keras_tuner as kt\n",
    "\n",
    "# Define the model-building function for Keras Tuner\n",
    "def build_model(hp):\n",
    "    model = Sequential()\n",
    "    model.add(LSTM(\n",
    "        units=hp.Int('units', min_value=32, max_value=128, step=32),\n",
    "        return_sequences=True,\n",
    "        input_shape=(X_train_minmax.shape[1], X_train_minmax.shape[2])\n",
    "    ))\n",
    "    model.add(Dropout(hp.Float('dropout', min_value=0.1, max_value=0.5, step=0.1)))\n",
    "    model.add(LSTM(\n",
    "        units=hp.Int('units_2', min_value=32, max_value=128, step=32),\n",
    "        return_sequences=False\n",
    "    ))\n",
    "    model.add(Dense(1))  # Single output\n",
    "    model.compile(\n",
    "        optimizer=tf.keras.optimizers.Adam(\n",
    "            learning_rate=hp.Choice('learning_rate', values=[1e-2, 1e-3, 1e-4])\n",
    "        ),\n",
    "        loss='mse'\n",
    "    )\n",
    "    return model\n",
    "\n",
    "# TimeSeriesSplit for cross-validation\n",
    "tscv = TimeSeriesSplit(n_splits=5)\n",
    "\n",
    "# Define the cross-validation function\n",
    "def cross_validate_tuner(model_builder, X, y, tscv):\n",
    "    val_losses = []\n",
    "    for train_index, val_index in tscv.split(X):\n",
    "        X_train_fold, X_val_fold = X[train_index], X[val_index]\n",
    "        y_train_fold, y_val_fold = y[train_index], y[val_index]\n",
    "        \n",
    "        # Build the model for each fold\n",
    "        model = model_builder()\n",
    "        \n",
    "        # Train the model\n",
    "        model.fit(X_train_fold, y_train_fold, validation_data=(X_val_fold, y_val_fold),\n",
    "                  epochs=50, batch_size=32, verbose=0)\n",
    "        \n",
    "        # Evaluate on the validation set\n",
    "        val_loss = model.evaluate(X_val_fold, y_val_fold, verbose=0)\n",
    "        val_losses.append(val_loss)\n",
    "    \n",
    "    return np.mean(val_losses)\n",
    "\n",
    "# Custom objective for Keras Tuner with TimeSeriesSplit\n",
    "class TimeSeriesObjective(kt.Objective):\n",
    "    def __init__(self, name, direction):\n",
    "        super().__init__(name=name, direction=direction)\n",
    "    \n",
    "    def compute(self, trial):\n",
    "        model_builder = lambda: tuner.hypermodel.build(trial.hyperparameters)\n",
    "        return cross_validate_tuner(model_builder, X_train_minmax, y_train_minmax, tscv)\n",
    "\n",
    "# Initialize the Keras Tuner with cross-validation\n",
    "tuner = kt.Hyperband(\n",
    "    build_model,  # Pass the build_model function\n",
    "    objective=kt.Objective('val_loss', direction='min'),\n",
    "    max_epochs=50,\n",
    "    directory='tuner_results',\n",
    "    project_name='lstm_time_series_cv'\n",
    ")\n",
    "\n",
    "# Run the search\n",
    "tuner.search(X_train_minmax, y_train_minmax, validation_data=(X_test_minmax, y_test_minmax), epochs=50)\n",
    "\n",
    "# Get the best hyperparameters\n",
    "best_hps = tuner.get_best_hyperparameters(num_trials=1)[0]\n",
    "print(f\"Best Hyperparameters: {best_hps.values}\")"
   ]
  },
  {
   "cell_type": "markdown",
   "id": "c8cd79cd",
   "metadata": {},
   "source": [
    "\n",
    "#### Trainning best parameters"
   ]
  },
  {
   "cell_type": "code",
   "execution_count": null,
   "id": "784567f8",
   "metadata": {},
   "outputs": [],
   "source": [
    "# Get the best hyperparameters\n",
    "best_hps = tuner.get_best_hyperparameters(num_trials=1)[0]\n",
    "\n",
    "# Build the model with the best hyperparameters\n",
    "best_model = tuner.hypermodel.build(best_hps)\n",
    "\n",
    "# Train the model on the full training data\n",
    "history = best_model.fit(\n",
    "    X_train_minmax, y_train_minmax,\n",
    "    validation_data=(X_test_minmax, y_test_minmax),\n",
    "    epochs=100,\n",
    "    batch_size=32,\n",
    "    verbose=1,\n",
    "    callbacks=[tf.keras.callbacks.EarlyStopping(monitor='val_loss', patience=5)]\n",
    ")\n",
    "\n",
    "# Plot training and validation loss\n",
    "plt.figure(figsize=(12, 6))\n",
    "plt.plot(history.history['loss'], label='Training Loss', color='blue')\n",
    "plt.plot(history.history['val_loss'], label='Validation Loss', color='orange')\n",
    "plt.title('Training and Validation Loss Over Epochs')\n",
    "plt.xlabel('Epochs')\n",
    "plt.ylabel('Loss (MSE)')\n",
    "plt.legend()\n",
    "plt.show()"
   ]
  },
  {
   "cell_type": "code",
   "execution_count": null,
   "id": "ffc4431d",
   "metadata": {},
   "outputs": [],
   "source": [
    "# Predict on the test set\n",
    "predictions = best_model.predict(X_test_minmax)\n",
    "\n",
    "# Inverse transform predictions and actual values\n",
    "predictions_original = min_max_scaler.inverse_transform(predictions)\n",
    "y_test_original = min_max_scaler.inverse_transform(y_test_minmax.reshape(-1, 1))\n",
    "\n",
    "# Calculate evaluation metrics\n",
    "mse = mean_squared_error(y_test_original, predictions_original)\n",
    "rmse = np.sqrt(mse)\n",
    "mae = mean_absolute_error(y_test_original, predictions_original)\n",
    "\n",
    "print(f\"Evaluation Metrics:\\nMSE: {mse:.4f}, RMSE: {rmse:.4f}, MAE: {mae:.4f}\")"
   ]
  },
  {
   "cell_type": "code",
   "execution_count": null,
   "id": "f2807905",
   "metadata": {},
   "outputs": [],
   "source": [
    "# Plot actual vs predicted values\n",
    "plt.figure(figsize=(12, 6))\n",
    "plt.plot(y_test_original, label='Actual Values', color='blue')\n",
    "plt.plot(predictions_original, label='Predicted Values', color='orange')\n",
    "plt.title('Actual vs Predicted Values')\n",
    "plt.xlabel('Time Steps')\n",
    "plt.ylabel('I-CIP (Original Scale)')\n",
    "plt.legend()\n",
    "plt.show()"
   ]
  },
  {
   "cell_type": "code",
   "execution_count": null,
   "id": "909e56bf",
   "metadata": {},
   "outputs": [],
   "source": [
    "# Print the best trial's cross-validation loss\n",
    "best_trial = tuner.oracle.get_best_trials(num_trials=1)[0]\n",
    "print(f\"Best Cross-Validation Loss: {best_trial.score}\")"
   ]
  },
  {
   "cell_type": "markdown",
   "id": "25dc00d4",
   "metadata": {},
   "source": [
    "## Attempt to forecast "
   ]
  },
  {
   "cell_type": "code",
   "execution_count": null,
   "id": "85ef9fc3",
   "metadata": {},
   "outputs": [],
   "source": [
    "# Use the last sequence of the training data for forecasting\n",
    "last_sequence = X_train_minmax[-1].reshape(1, -1, 1)  # Shape: (1, timesteps, 1)\n",
    "\n",
    "# Forecast for next 1 day, 1 week, and 1 month\n",
    "forecast_steps = [1, 5, 20]\n",
    "forecasts = []\n",
    "\n",
    "for step in range(max(forecast_steps)):\n",
    "    next_pred = best_model.predict(last_sequence)  # Shape: (1, 1)\n",
    "    forecasts.append(next_pred[0][0])  # Append the scalar prediction\n",
    "    next_pred_reshaped = np.reshape(next_pred, (1, 1, 1))  # Reshape to (1, 1, 1)\n",
    "    last_sequence = np.append(last_sequence[:, 1:, :], next_pred_reshaped, axis=1)  # Update sequence\n",
    "\n",
    "# Inverse transform the forecasts\n",
    "forecasts_original = min_max_scaler.inverse_transform(np.array(forecasts).reshape(-1, 1))\n",
    "\n",
    "# Print forecasts\n",
    "print(f\"1-Day Forecast: {forecasts_original[0][0]}\")\n",
    "print(f\"1-Week Forecast: {forecasts_original[:5].flatten()}\")\n",
    "print(f\"1-Month Forecast: {forecasts_original[:20].flatten()}\")"
   ]
  },
  {
   "cell_type": "code",
   "execution_count": null,
   "id": "26f1fe5c",
   "metadata": {},
   "outputs": [],
   "source": [
    "# Prepare forecast dates\n",
    "forecast_dates = pd.date_range(\n",
    "    start=df.index[-1], periods=max(forecast_steps) + 1, freq='B'\n",
    ")[1:]\n",
    "\n",
    "# Plot historical data and forecasts\n",
    "plt.figure(figsize=(12, 6))\n",
    "plt.plot(df.index, df['I-CIP'], label='Historical Data', color='blue')\n",
    "plt.plot(forecast_dates[:1], forecasts_original[:1], 'o', label='1-Day Forecast', color='orange')\n",
    "plt.plot(forecast_dates[:5], forecasts_original[:5], 'o', label='1-Week Forecast', color='green')\n",
    "plt.plot(forecast_dates[:20], forecasts_original[:20], '--', label='1-Month Forecast', color='red')\n",
    "plt.title('Forecast vs Historical Data')\n",
    "plt.xlabel('Date')\n",
    "plt.ylabel('I-CIP (Original Scale)')\n",
    "plt.legend()\n",
    "plt.show()"
   ]
  },
  {
   "cell_type": "code",
   "execution_count": null,
   "id": "1d997c98",
   "metadata": {},
   "outputs": [],
   "source": []
  },
  {
   "cell_type": "code",
   "execution_count": null,
   "id": "3b66c043",
   "metadata": {},
   "outputs": [],
   "source": []
  },
  {
   "cell_type": "markdown",
   "id": "22c826c8",
   "metadata": {},
   "source": [
    "## GRU? "
   ]
  },
  {
   "cell_type": "code",
   "execution_count": null,
   "id": "4809381c",
   "metadata": {},
   "outputs": [],
   "source": [
    "# Define the GRU model\n",
    "gru_model = tf.keras.Sequential([\n",
    "    GRU(64, return_sequences=True, input_shape=(window_size, 1)),\n",
    "    Dropout(0.2),\n",
    "    GRU(128, return_sequences=True),\n",
    "    Dropout(0.2),\n",
    "    GRU(64, return_sequences=False),\n",
    "    Dense(50, activation='relu'),\n",
    "    Dense(1)  # Output layer\n",
    "])\n",
    "\n",
    "# Compile the model\n",
    "gru_model.compile(optimizer='adam', loss='mse')\n",
    "\n",
    "# Train the model\n",
    "gru_history = gru_model.fit(\n",
    "    X_train, y_train,\n",
    "    epochs=100,\n",
    "    batch_size=32,\n",
    "    validation_data=(X_test, y_test),\n",
    "    verbose=1,\n",
    "    callbacks=[early_stopping]\n",
    ")\n",
    "\n",
    "# Evaluate the model\n",
    "gru_loss = gru_model.evaluate(X_test, y_test, verbose=0)\n",
    "gru_predictions = gru_model.predict(X_test)\n",
    "\n",
    "# Inverse transform predictions\n",
    "gru_scaled_predictions = gru_predictions.flatten()\n",
    "gru_original_predictions = scaler.inverse_transform(gru_scaled_predictions.reshape(-1, 1))\n",
    "gru_original_y_test = scaler.inverse_transform(y_test.reshape(-1, 1))\n",
    "\n",
    "# Plot results\n",
    "plt.figure(figsize=(12, 6))\n",
    "plt.plot(gru_original_y_test, label='True Values', color='blue')\n",
    "plt.plot(gru_original_predictions, label='Predicted Values', color='orange')\n",
    "plt.legend()\n",
    "plt.title(\"GRU Model Predictions\")\n",
    "plt.show()\n",
    "\n",
    "# Calculate error metrics\n",
    "gru_mse = mean_squared_error(gru_original_y_test, gru_original_predictions)\n",
    "gru_mae = mean_absolute_error(gru_original_y_test, gru_original_predictions)\n",
    "gru_rmse = np.sqrt(gru_mse)\n",
    "print(f\"GRU Model Metrics:\\nMSE: {gru_mse:.4f}, MAE: {gru_mae:.4f}, RMSE: {gru_rmse:.4f}\")\n"
   ]
  },
  {
   "cell_type": "code",
   "execution_count": null,
   "id": "fc99b855",
   "metadata": {},
   "outputs": [],
   "source": [
    "# Plot the training and validation loss\n",
    "plt.figure(figsize=(14, 7))\n",
    "plt.plot(gru_history.history['loss'], label='Training Loss')\n",
    "plt.plot(gru_history.history['val_loss'], label='Validation Loss')\n",
    "plt.title('Training and Validation Loss Over Epochs')\n",
    "plt.xlabel('Epoch')\n",
    "plt.ylabel('Loss')\n",
    "plt.legend()\n",
    "plt.show()"
   ]
  },
  {
   "cell_type": "code",
   "execution_count": null,
   "id": "ecd39f17",
   "metadata": {},
   "outputs": [],
   "source": [
    "\n",
    "# Store results\n",
    "add_model_results('GRU', mse, mae, rmse, mape)\n"
   ]
  },
  {
   "cell_type": "code",
   "execution_count": null,
   "id": "bebb5a06",
   "metadata": {},
   "outputs": [],
   "source": [
    "# Convert the dictionary into a DataFrame for visualization\n",
    "metrics_df = pd.DataFrame(model_results).T\n",
    "metrics_df.reset_index(inplace=True)\n",
    "metrics_df.rename(columns={'index': 'Model'}, inplace=True)\n",
    "\n",
    "# Define metrics to plot\n",
    "metrics = ['MSE', 'MAE', 'RMSE', 'MAPE']\n",
    "\n",
    "# Initialize the plot\n",
    "plt.figure(figsize=(16, 8))\n",
    "\n",
    "# Plot each metric\n",
    "for i, metric in enumerate(metrics, 1):\n",
    "    plt.subplot(1, len(metrics), i)\n",
    "    sns.barplot(data=metrics_df, x='Model', y=metric, palette='husl')\n",
    "    plt.title(f'{metric} Comparison')\n",
    "    plt.xlabel('Model')\n",
    "    plt.ylabel(metric)\n",
    "    plt.xticks(rotation=45)\n",
    "\n",
    "plt.tight_layout()\n",
    "plt.show()"
   ]
  },
  {
   "cell_type": "code",
   "execution_count": null,
   "id": "30ba6e59",
   "metadata": {},
   "outputs": [],
   "source": [
    "metrics_df"
   ]
  },
  {
   "cell_type": "code",
   "execution_count": null,
   "id": "0cae2ed0",
   "metadata": {},
   "outputs": [],
   "source": []
  },
  {
   "cell_type": "markdown",
   "id": "496006f8",
   "metadata": {},
   "source": [
    "## Plotting LSTM results"
   ]
  },
  {
   "cell_type": "code",
   "execution_count": null,
   "id": "c66aa74a",
   "metadata": {},
   "outputs": [],
   "source": [
    "# Filter specific SARIMA models with normalized values\n",
    "models_to_plot = ['LSTM 1', \n",
    "                  'LSTM 2 (20epochs)', \n",
    "                  'LSTM 3 (100epochs)',\n",
    "                 'LSTM 4 (200epochs)','LSTM (5)']\n",
    "\n",
    "filtered_df = metrics_df[metrics_df['Model'].isin(models_to_plot)]\n",
    "\n",
    "# Metrics to plot\n",
    "metrics_to_plot = ['MSE', 'MAE', 'RMSE']\n",
    "\n",
    "# Plot each metric separately\n",
    "fig, axes = plt.subplots(1, len(metrics_to_plot), figsize=(16, 6), sharey=False)\n",
    "\n",
    "for i, metric in enumerate(metrics_to_plot):\n",
    "    sns.barplot(\n",
    "        data=filtered_df,\n",
    "        x='Model',\n",
    "        y=metric,\n",
    "        ax=axes[i],\n",
    "        palette='husl'\n",
    "    )\n",
    "    axes[i].set_title(f'{metric} Comparison')\n",
    "    axes[i].set_xlabel('Model')\n",
    "    axes[i].set_ylabel(metric)\n",
    "    axes[i].tick_params(axis='x', rotation=45)  # Rotate labels\n",
    "\n",
    "# Adjust layout\n",
    "plt.tight_layout()\n",
    "plt.show()"
   ]
  },
  {
   "cell_type": "code",
   "execution_count": null,
   "id": "bf398325",
   "metadata": {},
   "outputs": [],
   "source": []
  }
 ],
 "metadata": {
  "kernelspec": {
   "display_name": "Python 3 (ipykernel)",
   "language": "python",
   "name": "python3"
  },
  "language_info": {
   "codemirror_mode": {
    "name": "ipython",
    "version": 3
   },
   "file_extension": ".py",
   "mimetype": "text/x-python",
   "name": "python",
   "nbconvert_exporter": "python",
   "pygments_lexer": "ipython3",
   "version": "3.10.9"
  }
 },
 "nbformat": 4,
 "nbformat_minor": 5
}
