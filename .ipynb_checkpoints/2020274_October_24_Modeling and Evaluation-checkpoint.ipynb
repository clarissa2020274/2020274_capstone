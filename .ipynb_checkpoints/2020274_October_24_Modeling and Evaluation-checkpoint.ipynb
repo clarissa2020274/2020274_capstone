{
 "cells": [
  {
   "cell_type": "markdown",
   "id": "6d132564",
   "metadata": {},
   "source": [
    "# Project Title: Coffee Price Prediction Analysis\n",
    "\n",
    "## Introduction\n",
    "This notebook aims to analyze historical coffee price indices and develop a predictive model for future price trends. The focus is on using data from the ICO (International Coffee Organization), particularly indices like I-CIP, Colombian Milds, Other Milds, Brazilian Naturals, and Robustas.\n",
    "\n",
    "### Objectives:\n",
    "1. Clean and preprocess the dataset for missing values and inconsistencies.\n",
    "2. Explore the time-series behavior of coffee prices through visualizations.\n",
    "3. Implement various forecasting models to predict future price trends.\n",
    "4. Compare model performance using key metrics (e.g., RMSE, MAE).\n",
    "\n",
    "### Dataset:\n",
    "The dataset used in this analysis consists of historical coffee price data, with daily observations for business days. Prices are expressed in cents of USD.\n",
    "\n",
    "### Tools & Libraries:\n",
    "- **Python**: For data manipulation and model building.\n",
    "- **Pandas**: For data handling and preprocessing.\n",
    "- **Matplotlib & Plotly**: For visualizations.\n",
    "- **Scikit-learn & Statsmodels**: For predictive modeling.\n",
    "\n",
    "### Expected Outcome:\n",
    "By the end of this notebook, we will identify the best forecasting model for coffee prices and present actionable insights based on the findings."
   ]
  },
  {
   "cell_type": "code",
   "execution_count": null,
   "id": "340ae490",
   "metadata": {},
   "outputs": [],
   "source": []
  }
 ],
 "metadata": {
  "kernelspec": {
   "display_name": "Python 3 (ipykernel)",
   "language": "python",
   "name": "python3"
  },
  "language_info": {
   "codemirror_mode": {
    "name": "ipython",
    "version": 3
   },
   "file_extension": ".py",
   "mimetype": "text/x-python",
   "name": "python",
   "nbconvert_exporter": "python",
   "pygments_lexer": "ipython3",
   "version": "3.10.9"
  }
 },
 "nbformat": 4,
 "nbformat_minor": 5
}
