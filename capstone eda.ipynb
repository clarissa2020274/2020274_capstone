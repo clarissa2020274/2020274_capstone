{
 "cells": [
  {
   "cell_type": "markdown",
   "id": "ed991b0a",
   "metadata": {},
   "source": [
    "## MSc Data Analytics - Capstone Project \n",
    "\n",
    "## Predictive Insights in the Coffee Market: Leveraging Time Series Models for forecasting of coffee in the commodity stock market\n",
    "\n",
    "Student id: 2020274 Clarissa Cardoso\n",
    "\n",
    "\n",
    "\n",
    "This notebook will serve as an experiementation space for using different timeseries models to forecast the prices of coffee in the commodity stock market. The project will use the ICO Composite Indicator Price (I-CIP) of coffee beans available for free in ICO's website under the Public Market Information feature. The ICO Composite Indicator Price serves as a crucial benchmark for understanding the overall trends and movements in the global coffee market, making accurate forecasting essential for stakeholders across the coffee industry.\n",
    "\n",
    "\n",
    "#### Objectives:\n",
    "\n",
    "- Building and evaluating time series forecasting models to predict future I-CIP values.\n",
    "- Assessing the effectiveness and accuracy of different modeling techniques in capturing the dynamics of the coffee market.\n",
    "\n",
    "#### Methodology:\n",
    "\n",
    "\n",
    "Data Collection: gather historical I-CIP data from reliable sources, (spanning multiple years to capture a comprehensive view of market trends. but at least 1 year of data) \n",
    "Data Preprocessing: clean and preprocess the data, handling missing values, outliers, and ensuring consistency for modeling purposes.\n",
    "Exploratory Data Analysis (EDA): conduct exploratory analysis to gain insights into the underlying patterns, seasonality, and trends present in the I-CIP data.\n",
    "Model Development: build and train various time series forecasting models, including traditional statistical models (e.g., ARIMA) and machine learning algorithms (e.g., LSTM neural networks).\n",
    "Model Evaluation: We will evaluate the performance of each model using appropriate metrics, such as mean absolute error (MAE) and root mean squared error (RMSE), to determine their predictive accuracy.\n",
    "Forecasting: We will generate forecasts for future I-CIP values using the best-performing model(s) and visualize the results to facilitate interpretation and decision-making.\n",
    "\n",
    "\n",
    "<br>\n",
    "<br>\n",
    "<br><br>\n",
    "<br>\n",
    "<br>\n",
    "<br>\n",
    "<br>\n",
    "<br>\n",
    "<br>\n",
    "\n",
    "\n",
    "\n",
    "\n",
    "\n",
    "\n",
    "       \n",
    "         considering the I-CIP values are a weighted average of 4 main types of beans commercialised(Colombian Milds,  Other Milds,  Brazilian Naturals, Robustas), how would the diffenret weights present during the eda, and how they could affect the final icip values?\n",
    "\n"
   ]
  },
  {
   "cell_type": "markdown",
   "id": "8323b886",
   "metadata": {},
   "source": [
    "#### Importing required libraries for the project"
   ]
  },
  {
   "cell_type": "code",
   "execution_count": 1,
   "id": "78f7465e",
   "metadata": {},
   "outputs": [],
   "source": [
    "#importing libraries\n",
    "import warnings\n",
    "warnings.filterwarnings(\"ignore\")\n",
    "\n",
    "import pandas as pd #dataframes \n",
    "import numpy as np #linear algebra\n",
    "import seaborn as sns #visualization\n",
    "sns.set(color_codes=True)\n",
    "\n",
    "import scipy.stats as stats #statistical resources\n",
    "\n",
    "import matplotlib.pyplot as plt #visualisation \n",
    "%matplotlib inline \n",
    "import matplotlib.pyplot as plt\n",
    "import numpy as np\n",
    "from matplotlib import colors\n",
    "from matplotlib.ticker import PercentFormatter\n"
   ]
  },
  {
   "cell_type": "code",
   "execution_count": 13,
   "id": "16d89811",
   "metadata": {
    "scrolled": true
   },
   "outputs": [
    {
     "data": {
      "text/plain": [
       "['I-CIP_March2023.csv',\n",
       " 'I-CIP_October2023.csv',\n",
       " 'I-CIP_May2023.csv',\n",
       " 'I-CIP_June2023.csv',\n",
       " '.DS_Store',\n",
       " 'I-CIP_November2023.csv',\n",
       " 'I-CIP_December2023.csv',\n",
       " 'I-CIP_September2023.csv',\n",
       " 'I-CIP_January2024.csv',\n",
       " 'I-CIP_April2023.csv',\n",
       " 'I-CIP_July2023.csv',\n",
       " 'I-CIP_August2023.csv',\n",
       " 'I-CIP_Febuary2023.csv',\n",
       " 'I-CIP_Febuary2024.csv']"
      ]
     },
     "execution_count": 13,
     "metadata": {},
     "output_type": "execute_result"
    }
   ],
   "source": [
    "import os\n",
    "# Listing all the files in the folder\n",
    "os.listdir(\"icip_2023\") \n",
    "\n",
    "## folder contains the free data available in ICO's website, contains data from Feb/23 to Feb/24"
   ]
  },
  {
   "cell_type": "markdown",
   "id": "94f31b2e",
   "metadata": {},
   "source": [
    "Files are not in cronological orders, will affect the loop for calling the separate csv's, and cant import them  at the same time to concat them in one single dataframe?\n"
   ]
  },
  {
   "cell_type": "code",
   "execution_count": 14,
   "id": "d2440c33",
   "metadata": {},
   "outputs": [],
   "source": [
    "#create for loop to import csv files from the folder with less comands.\n",
    "dataframes = []\n",
    "folder_path = \"icip_2023\"\n",
    "\n",
    "for file in os.listdir(folder_path):\n",
    "    if file.endswith(\".csv\"): #consider only csv files, ignore .DS_Store\n",
    "        file_path = os.path.join(folder_path, file)\n",
    "        dataframes.append(pd.read_csv(file_path))"
   ]
  },
  {
   "cell_type": "code",
   "execution_count": 15,
   "id": "4bd445b9",
   "metadata": {},
   "outputs": [
    {
     "data": {
      "text/plain": [
       "13"
      ]
     },
     "execution_count": 15,
     "metadata": {},
     "output_type": "execute_result"
    }
   ],
   "source": [
    "#check the lenght of the directory, how many files exist in the folder\n",
    "len(dataframes)"
   ]
  },
  {
   "cell_type": "code",
   "execution_count": 18,
   "id": "ad6041dd",
   "metadata": {},
   "outputs": [],
   "source": [
    "#define a variable name for each dataset to facilitate data manipulation\n",
    "icip= dataframes[0]"
   ]
  },
  {
   "cell_type": "code",
   "execution_count": 19,
   "id": "b1765cce",
   "metadata": {},
   "outputs": [
    {
     "name": "stdout",
     "output_type": "stream",
     "text": [
      "<class 'pandas.core.frame.DataFrame'>\n",
      "RangeIndex: 25 entries, 0 to 24\n",
      "Data columns (total 6 columns):\n",
      " #   Column         Non-Null Count  Dtype \n",
      "---  ------         --------------  ----- \n",
      " 0   Unnamed: 0     23 non-null     object\n",
      " 1   ICO Composite  24 non-null     object\n",
      " 2   Colombian      24 non-null     object\n",
      " 3   Unnamed: 3     24 non-null     object\n",
      " 4   Brazilian      24 non-null     object\n",
      " 5   Unnamed: 5     24 non-null     object\n",
      "dtypes: object(6)\n",
      "memory usage: 1.3+ KB\n",
      "(25, 6)\n",
      "Unnamed: 0       2\n",
      "ICO Composite    1\n",
      "Colombian        1\n",
      "Unnamed: 3       1\n",
      "Brazilian        1\n",
      "Unnamed: 5       1\n",
      "dtype: int64\n"
     ]
    },
    {
     "data": {
      "text/html": [
       "<div>\n",
       "<style scoped>\n",
       "    .dataframe tbody tr th:only-of-type {\n",
       "        vertical-align: middle;\n",
       "    }\n",
       "\n",
       "    .dataframe tbody tr th {\n",
       "        vertical-align: top;\n",
       "    }\n",
       "\n",
       "    .dataframe thead th {\n",
       "        text-align: right;\n",
       "    }\n",
       "</style>\n",
       "<table border=\"1\" class=\"dataframe\">\n",
       "  <thead>\n",
       "    <tr style=\"text-align: right;\">\n",
       "      <th></th>\n",
       "      <th>Unnamed: 0</th>\n",
       "      <th>ICO Composite</th>\n",
       "      <th>Colombian</th>\n",
       "      <th>Unnamed: 3</th>\n",
       "      <th>Brazilian</th>\n",
       "      <th>Unnamed: 5</th>\n",
       "    </tr>\n",
       "  </thead>\n",
       "  <tbody>\n",
       "    <tr>\n",
       "      <th>0</th>\n",
       "      <td>NaN</td>\n",
       "      <td>NaN</td>\n",
       "      <td>NaN</td>\n",
       "      <td>Other Milds</td>\n",
       "      <td>NaN</td>\n",
       "      <td>Robustas</td>\n",
       "    </tr>\n",
       "    <tr>\n",
       "      <th>1</th>\n",
       "      <td>NaN</td>\n",
       "      <td>Indicator (I-CIP)</td>\n",
       "      <td>Milds</td>\n",
       "      <td>NaN</td>\n",
       "      <td>Naturals</td>\n",
       "      <td>NaN</td>\n",
       "    </tr>\n",
       "    <tr>\n",
       "      <th>2</th>\n",
       "      <td>01-May</td>\n",
       "      <td>177.95</td>\n",
       "      <td>235.04</td>\n",
       "      <td>229.65</td>\n",
       "      <td>191.36</td>\n",
       "      <td>117.23</td>\n",
       "    </tr>\n",
       "    <tr>\n",
       "      <th>3</th>\n",
       "      <td>02-May</td>\n",
       "      <td>175.97</td>\n",
       "      <td>230.40</td>\n",
       "      <td>223.63</td>\n",
       "      <td>188.63</td>\n",
       "      <td>119.11</td>\n",
       "    </tr>\n",
       "    <tr>\n",
       "      <th>4</th>\n",
       "      <td>03-May</td>\n",
       "      <td>175.29</td>\n",
       "      <td>229.69</td>\n",
       "      <td>220.54</td>\n",
       "      <td>189.04</td>\n",
       "      <td>118.92</td>\n",
       "    </tr>\n",
       "  </tbody>\n",
       "</table>\n",
       "</div>"
      ],
      "text/plain": [
       "  Unnamed: 0      ICO Composite Colombian   Unnamed: 3 Brazilian Unnamed: 5\n",
       "0        NaN                NaN       NaN  Other Milds       NaN   Robustas\n",
       "1        NaN  Indicator (I-CIP)     Milds          NaN  Naturals        NaN\n",
       "2     01-May             177.95    235.04       229.65    191.36     117.23\n",
       "3     02-May             175.97    230.40       223.63    188.63     119.11\n",
       "4     03-May             175.29    229.69       220.54    189.04     118.92"
      ]
     },
     "execution_count": 19,
     "metadata": {},
     "output_type": "execute_result"
    }
   ],
   "source": [
    "#cheack first 5 rows of first dataset\n",
    "\n",
    "icipmay.info()\n",
    "print(icipmay.shape)\n",
    "print(icipmay.isnull().sum())\n",
    "icipmay.head()"
   ]
  },
  {
   "cell_type": "markdown",
   "id": "998b2d43",
   "metadata": {},
   "source": [
    "importing a random dataset to see how the columsn are presented: messy header and real data starts fromm third row."
   ]
  },
  {
   "cell_type": "code",
   "execution_count": null,
   "id": "15ae2304",
   "metadata": {},
   "outputs": [],
   "source": []
  },
  {
   "cell_type": "code",
   "execution_count": null,
   "id": "b27ec9b7",
   "metadata": {},
   "outputs": [],
   "source": []
  }
 ],
 "metadata": {
  "kernelspec": {
   "display_name": "Python 3 (ipykernel)",
   "language": "python",
   "name": "python3"
  },
  "language_info": {
   "codemirror_mode": {
    "name": "ipython",
    "version": 3
   },
   "file_extension": ".py",
   "mimetype": "text/x-python",
   "name": "python",
   "nbconvert_exporter": "python",
   "pygments_lexer": "ipython3",
   "version": "3.10.9"
  }
 },
 "nbformat": 4,
 "nbformat_minor": 5
}
